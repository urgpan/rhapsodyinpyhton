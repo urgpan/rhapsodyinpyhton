{
 "cells": [
  {
   "cell_type": "code",
   "execution_count": 1608,
   "metadata": {},
   "outputs": [],
   "source": [
    "import librosa\n",
    "import json\n",
    "import math\n",
    "import scipy\n",
    "import statistics\n",
    "import librosa.display\n",
    "import scipy as sp\n",
    "import IPython.display as ipd\n",
    "import matplotlib.pyplot as plt\n",
    "import numpy as np\n",
    "import pandas as pd\n",
    "\n",
    "import seaborn as sns \n",
    "\n",
    "from sklearn.cluster import DBSCAN, KMeans\n",
    "\n",
    "from sklearn.preprocessing import StandardScaler\n",
    "from sklearn.mixture import GaussianMixture"
   ]
  },
  {
   "cell_type": "markdown",
   "metadata": {},
   "source": [
    "# LOAD SONG"
   ]
  },
  {
   "cell_type": "code",
   "execution_count": 1628,
   "metadata": {},
   "outputs": [],
   "source": [
    "file_dir = \"../resources/saturday_night.wav\"\n",
    "#ipd.Audio(file_dir)"
   ]
  },
  {
   "cell_type": "code",
   "execution_count": 1629,
   "metadata": {},
   "outputs": [],
   "source": [
    "signal, samplerate = librosa.load(file_dir)\n",
    "#print(signal, samplerate)"
   ]
  },
  {
   "cell_type": "markdown",
   "metadata": {},
   "source": [
    "# GET GENERAL SONG FEATURES"
   ]
  },
  {
   "cell_type": "markdown",
   "metadata": {},
   "source": [
    "PREDICT SONG TEMPO"
   ]
  },
  {
   "cell_type": "code",
   "execution_count": 1630,
   "metadata": {},
   "outputs": [
    {
     "name": "stderr",
     "output_type": "stream",
     "text": [
      "C:\\Users\\urgpa\\anaconda3\\lib\\site-packages\\librosa\\filters.py:238: UserWarning: Empty filters detected in mel frequency basis. Some channels will produce empty responses. Try increasing your sampling rate (and fmax) or reducing n_mels.\n",
      "  warnings.warn(\n"
     ]
    },
    {
     "data": {
      "text/plain": [
       "array([130.20833333])"
      ]
     },
     "execution_count": 1630,
     "metadata": {},
     "output_type": "execute_result"
    }
   ],
   "source": [
    "signal_bpm, samplerate_bpm = librosa.load(file_dir, duration = 30, sr = 10000)\n",
    "onset_env = librosa.onset.onset_strength(signal_bpm, sr=samplerate_bpm)\n",
    "tempo = librosa.beat.tempo(onset_envelope=onset_env, sr=samplerate_bpm)\n",
    "tempo"
   ]
  },
  {
   "cell_type": "markdown",
   "metadata": {},
   "source": [
    "# DIVIDE SONG INTO COMPASES"
   ]
  },
  {
   "cell_type": "code",
   "execution_count": 1631,
   "metadata": {},
   "outputs": [],
   "source": [
    "song_duration= librosa.get_duration(y=signal, sr=samplerate) #duration of the song\n",
    "\n",
    "beat_num = 1\n",
    "bpm = tempo\n",
    "vcompas_time = beat_num * 60 / bpm #duration of a compas\n",
    "                                       \n",
    "vcompas_num  = song_duration / vcompas_time                  #number of compases \n",
    "compas_sample_num = vcompas_time * samplerate                #number of samples on each compas\n",
    "song_sample_num = compas_sample_num * vcompas_num            #total number of samples in the song\n",
    "\n",
    "\n",
    "vcompas_data = {} \n",
    "for vcompas_i in range(0,int(vcompas_num)):                                \n",
    "    start = math.floor(compas_sample_num * vcompas_i)          #start sample for the compas\n",
    "    end = math.floor(compas_sample_num * (vcompas_i + 1))      #end sample for the compas\n",
    "    selected_samples = signal[start:end]                       #array with all the compas samples\n",
    "    vcompas_data[vcompas_i] = ([selected_samples],vcompas_time * vcompas_i)\n",
    "\n",
    "df_compas = pd.DataFrame.from_dict(vcompas_data, orient = 'index', columns = ['wform','times'])"
   ]
  },
  {
   "cell_type": "code",
   "execution_count": 1632,
   "metadata": {},
   "outputs": [
    {
     "data": {
      "text/plain": [
       "12418"
      ]
     },
     "execution_count": 1632,
     "metadata": {},
     "output_type": "execute_result"
    }
   ],
   "source": [
    "len(ampl)"
   ]
  },
  {
   "cell_type": "markdown",
   "metadata": {},
   "source": [
    "# GET COMPAS BIGGEST FREQUENCIES"
   ]
  },
  {
   "cell_type": "code",
   "execution_count": 1633,
   "metadata": {},
   "outputs": [],
   "source": [
    "#CREATE A DATA FRAME WITH THE FREQUENCIES ARRAY\n",
    "df_freq = pd.DataFrame(columns = ['mag']) \n",
    "for csignal in df_compas['wform']:\n",
    "    csignal = csignal[0]\n",
    "    X = np.fft.fft(csignal)\n",
    "    X_mag = np.absolute(X)\n",
    "    #print(X_mag[0])\n",
    "    newdf = pd.DataFrame([[X_mag]], columns = ['mag'])\n",
    "    df_freq = pd.concat([df_freq, newdf], axis = 0)\n",
    "\n",
    "df_freq = df_freq.reset_index(drop = True)"
   ]
  },
  {
   "cell_type": "code",
   "execution_count": 1634,
   "metadata": {},
   "outputs": [],
   "source": [
    "#GET MAXIMUS OF THE FREQUENCIES\n",
    "instrument_division = [0,100,300,600,1000,2500,7000,15000]\n",
    "fixed_instrument_div = list(instrument_division)\n",
    "fixed_instrument_div.remove(0)\n",
    "\n",
    "f = np.linspace(0, samplerate, len(X_mag), endpoint = False)\n",
    "df_bin_freq = pd.DataFrame(columns = fixed_instrument_div)\n",
    "\n",
    "for ampl in df_freq.mag: #loop time domain compases\n",
    "    \n",
    "    freq_full = [] #list with al freq list\n",
    "\n",
    "    for i in range(1,len(instrument_division)): #loop through freq domain\n",
    "        \n",
    "        start = instrument_division[i - 1] * len(ampl) / f[len(ampl) - 2] #starting point of the frequency bin\n",
    "        end = instrument_division[i] * len(ampl) / f[len(ampl) - 2] #end point\n",
    "        \n",
    "        freq_bin = ampl[math.floor(start):math.floor(end)] #save magintudes bin\n",
    "        freq_full += [freq_bin]\n",
    "        #print(freq_bin)\n",
    "        #dat_tuple = (list(ampl).index(ampl[start:end].max()),signl[start:end].max())\n",
    "        #print(f[dat_tuple[0]], dat_tuple)\n",
    "\n",
    "    newdf_cluster_freq = pd.DataFrame([freq_full], columns = fixed_instrument_div)\n",
    "    df_bin_freq = pd.concat([df_bin_freq, newdf_cluster_freq])\n",
    "    \n",
    "df_bin_freq = df_bin_freq.reset_index()\n",
    "df_bin_freq.drop(['index'], inplace = True, axis = 1)"
   ]
  },
  {
   "cell_type": "markdown",
   "metadata": {},
   "source": [
    "# LOWER FREQS"
   ]
  },
  {
   "cell_type": "code",
   "execution_count": 1635,
   "metadata": {},
   "outputs": [],
   "source": [
    "df_lower = df_bin_freq.drop(columns = [600,1000,2500,7000,15000])\n",
    "df_lower.columns = list(map(lambda x: str(x), df_lower.columns))"
   ]
  },
  {
   "cell_type": "code",
   "execution_count": 1636,
   "metadata": {},
   "outputs": [],
   "source": [
    "df_lower['100_mean'] = df_lower['100'].apply(lambda x: x.mean())\n",
    "df_lower['100_median'] = df_lower['100'].apply(lambda x: statistics.median(x))\n",
    "df_lower['100_max'] = df_lower['100'].apply(lambda x: x.max())\n",
    "df_lower['300_mean'] = df_lower['300'].apply(lambda x: x.mean())\n",
    "df_lower['300_median'] = df_lower['300'].apply(lambda x: statistics.median(x))\n",
    "df_lower['300_max'] = df_lower['300'].apply(lambda x: x.max())"
   ]
  },
  {
   "cell_type": "code",
   "execution_count": 1637,
   "metadata": {},
   "outputs": [],
   "source": [
    "df_lower_model = df_lower.drop(['100','300'], axis = 1)"
   ]
  },
  {
   "cell_type": "code",
   "execution_count": 1638,
   "metadata": {},
   "outputs": [],
   "source": [
    "scaler = StandardScaler().fit(df_lower_model)\n",
    "X_prep = scaler.transform(df_lower_model)\n",
    "\n",
    "kmeans = GaussianMixture(n_components= 2, covariance_type='diag',max_iter =  100,n_init = 8, random_state = 1234)\n",
    "kmeans.fit(X_prep)\n",
    "\n",
    "yhat = kmeans.predict(X_prep)\n",
    "clusters = np.unique(yhat)"
   ]
  },
  {
   "cell_type": "code",
   "execution_count": 1639,
   "metadata": {},
   "outputs": [
    {
     "data": {
      "text/html": [
       "<div>\n",
       "<style scoped>\n",
       "    .dataframe tbody tr th:only-of-type {\n",
       "        vertical-align: middle;\n",
       "    }\n",
       "\n",
       "    .dataframe tbody tr th {\n",
       "        vertical-align: top;\n",
       "    }\n",
       "\n",
       "    .dataframe thead th {\n",
       "        text-align: right;\n",
       "    }\n",
       "</style>\n",
       "<table border=\"1\" class=\"dataframe\">\n",
       "  <thead>\n",
       "    <tr style=\"text-align: right;\">\n",
       "      <th></th>\n",
       "      <th>times</th>\n",
       "      <th>gnre</th>\n",
       "    </tr>\n",
       "  </thead>\n",
       "  <tbody>\n",
       "    <tr>\n",
       "      <th>0</th>\n",
       "      <td>0.0000</td>\n",
       "      <td>0</td>\n",
       "    </tr>\n",
       "    <tr>\n",
       "      <th>1</th>\n",
       "      <td>0.4608</td>\n",
       "      <td>0</td>\n",
       "    </tr>\n",
       "    <tr>\n",
       "      <th>2</th>\n",
       "      <td>0.9216</td>\n",
       "      <td>0</td>\n",
       "    </tr>\n",
       "    <tr>\n",
       "      <th>3</th>\n",
       "      <td>1.3824</td>\n",
       "      <td>0</td>\n",
       "    </tr>\n",
       "    <tr>\n",
       "      <th>4</th>\n",
       "      <td>1.8432</td>\n",
       "      <td>0</td>\n",
       "    </tr>\n",
       "    <tr>\n",
       "      <th>...</th>\n",
       "      <td>...</td>\n",
       "      <td>...</td>\n",
       "    </tr>\n",
       "    <tr>\n",
       "      <th>511</th>\n",
       "      <td>235.4688</td>\n",
       "      <td>0</td>\n",
       "    </tr>\n",
       "    <tr>\n",
       "      <th>512</th>\n",
       "      <td>235.9296</td>\n",
       "      <td>0</td>\n",
       "    </tr>\n",
       "    <tr>\n",
       "      <th>513</th>\n",
       "      <td>236.3904</td>\n",
       "      <td>0</td>\n",
       "    </tr>\n",
       "    <tr>\n",
       "      <th>514</th>\n",
       "      <td>236.8512</td>\n",
       "      <td>0</td>\n",
       "    </tr>\n",
       "    <tr>\n",
       "      <th>515</th>\n",
       "      <td>237.3120</td>\n",
       "      <td>0</td>\n",
       "    </tr>\n",
       "  </tbody>\n",
       "</table>\n",
       "<p>516 rows × 2 columns</p>\n",
       "</div>"
      ],
      "text/plain": [
       "        times  gnre\n",
       "0      0.0000     0\n",
       "1      0.4608     0\n",
       "2      0.9216     0\n",
       "3      1.3824     0\n",
       "4      1.8432     0\n",
       "..        ...   ...\n",
       "511  235.4688     0\n",
       "512  235.9296     0\n",
       "513  236.3904     0\n",
       "514  236.8512     0\n",
       "515  237.3120     0\n",
       "\n",
       "[516 rows x 2 columns]"
      ]
     },
     "execution_count": 1639,
     "metadata": {},
     "output_type": "execute_result"
    }
   ],
   "source": [
    "df_low_final = df_compas.drop(columns = ['wform'])\n",
    "df_low_final['times'] = df_low_final['times'].apply(lambda x: x[0])\n",
    "df_low_final['gnre'] = yhat\n",
    "df_low_final"
   ]
  },
  {
   "cell_type": "code",
   "execution_count": 1640,
   "metadata": {},
   "outputs": [
    {
     "data": {
      "image/png": "[encoded data removed]",
      "text/plain": [
       "<Figure size 432x288 with 1 Axes>"
      ]
     },
     "metadata": {
      "needs_background": "light"
     },
     "output_type": "display_data"
    }
   ],
   "source": [
    "# create scatter plot for samples from each cluster\n",
    "for cluster in np.unique(yhat):\n",
    "\t# get row indexes for samples with this cluster\n",
    "\trow_ix = np.where(yhat == cluster)\n",
    "\t# create scatter of these samples\n",
    "\tplt.scatter(X_prep[row_ix, 0], X_prep[row_ix, 1])\n",
    "\n",
    "# show the plot\n",
    "plt.title(\"Clusters detected by GMM with a 'full' covariance matrix\")\n",
    "plt.show()"
   ]
  },
  {
   "cell_type": "markdown",
   "metadata": {},
   "source": [
    "# MID FREQS"
   ]
  },
  {
   "cell_type": "code",
   "execution_count": 1641,
   "metadata": {},
   "outputs": [],
   "source": [
    "#get the specific bin frequencies\n",
    "df_mid = df_bin_freq.drop(columns = [100,300,2500,7000,15000])\n",
    "df_mid.columns = list(map(lambda x: str(x), df_mid.columns))"
   ]
  },
  {
   "cell_type": "code",
   "execution_count": 1642,
   "metadata": {},
   "outputs": [],
   "source": [
    "df_mid['600_mean'] = df_mid['600'].apply(lambda x: x.mean())\n",
    "df_mid['600_median'] = df_mid['600'].apply(lambda x: statistics.median(x))\n",
    "df_mid['600_max'] = df_mid['600'].apply(lambda x: x.max())\n",
    "df_mid['1000_mean'] = df_mid['1000'].apply(lambda x: x.mean())\n",
    "df_mid['1000_median'] = df_mid['1000'].apply(lambda x: statistics.median(x))\n",
    "df_mid['1000_max'] = df_mid['1000'].apply(lambda x: x.max())"
   ]
  },
  {
   "cell_type": "code",
   "execution_count": 1643,
   "metadata": {},
   "outputs": [],
   "source": [
    "df_mid_model = df_mid.drop(['600','1000'], axis = 1)"
   ]
  },
  {
   "cell_type": "code",
   "execution_count": 1644,
   "metadata": {},
   "outputs": [],
   "source": [
    "scaler = StandardScaler().fit(df_mid_model)\n",
    "X_prep = scaler.transform(df_mid_model)\n",
    "\n",
    "kmeans = GaussianMixture(n_components= 2, covariance_type='spherical',max_iter = 300,n_init = 8, random_state = 1234, init_params = 'random')\n",
    "#kmeans = KMeans(n_clusters= 2,\n",
    " #               init=\"random\",\n",
    "  #              n_init= 20,  # try with 1, 4, 8, 20, 30, 100...\n",
    "   ##             max_iter= 200,\n",
    "     #           tol= 1e-4,\n",
    "      ##          algorithm=\"auto\",\n",
    "        #        random_state=1234)\n",
    "\n",
    "kmeans.fit(X_prep)\n",
    "\n",
    "yhat = kmeans.predict(X_prep)\n",
    "clusters = np.unique(yhat)"
   ]
  },
  {
   "cell_type": "code",
   "execution_count": 1645,
   "metadata": {},
   "outputs": [
    {
     "data": {
      "image/png": "[encoded data removed]",
      "text/plain": [
       "<Figure size 432x288 with 1 Axes>"
      ]
     },
     "metadata": {
      "needs_background": "light"
     },
     "output_type": "display_data"
    }
   ],
   "source": [
    "# create scatter plot for samples from each cluster\n",
    "for cluster in np.unique(yhat):\n",
    "\t# get row indexes for samples with this cluster\n",
    "\trow_ix = np.where(yhat == cluster)\n",
    "\t# create scatter of these samples\n",
    "\tplt.scatter(X_prep[row_ix, 0], X_prep[row_ix, 1])\n",
    "\n",
    "# show the plot\n",
    "plt.title(\"Clusters detected by GMM with a 'full' covariance matrix\")\n",
    "plt.show()"
   ]
  },
  {
   "cell_type": "code",
   "execution_count": 1646,
   "metadata": {},
   "outputs": [
    {
     "data": {
      "text/html": [
       "<div>\n",
       "<style scoped>\n",
       "    .dataframe tbody tr th:only-of-type {\n",
       "        vertical-align: middle;\n",
       "    }\n",
       "\n",
       "    .dataframe tbody tr th {\n",
       "        vertical-align: top;\n",
       "    }\n",
       "\n",
       "    .dataframe thead th {\n",
       "        text-align: right;\n",
       "    }\n",
       "</style>\n",
       "<table border=\"1\" class=\"dataframe\">\n",
       "  <thead>\n",
       "    <tr style=\"text-align: right;\">\n",
       "      <th></th>\n",
       "      <th>times</th>\n",
       "      <th>gnre</th>\n",
       "    </tr>\n",
       "  </thead>\n",
       "  <tbody>\n",
       "    <tr>\n",
       "      <th>0</th>\n",
       "      <td>0.0000</td>\n",
       "      <td>1</td>\n",
       "    </tr>\n",
       "    <tr>\n",
       "      <th>1</th>\n",
       "      <td>0.4608</td>\n",
       "      <td>1</td>\n",
       "    </tr>\n",
       "    <tr>\n",
       "      <th>2</th>\n",
       "      <td>0.9216</td>\n",
       "      <td>1</td>\n",
       "    </tr>\n",
       "    <tr>\n",
       "      <th>3</th>\n",
       "      <td>1.3824</td>\n",
       "      <td>1</td>\n",
       "    </tr>\n",
       "    <tr>\n",
       "      <th>4</th>\n",
       "      <td>1.8432</td>\n",
       "      <td>1</td>\n",
       "    </tr>\n",
       "    <tr>\n",
       "      <th>...</th>\n",
       "      <td>...</td>\n",
       "      <td>...</td>\n",
       "    </tr>\n",
       "    <tr>\n",
       "      <th>511</th>\n",
       "      <td>235.4688</td>\n",
       "      <td>1</td>\n",
       "    </tr>\n",
       "    <tr>\n",
       "      <th>512</th>\n",
       "      <td>235.9296</td>\n",
       "      <td>1</td>\n",
       "    </tr>\n",
       "    <tr>\n",
       "      <th>513</th>\n",
       "      <td>236.3904</td>\n",
       "      <td>1</td>\n",
       "    </tr>\n",
       "    <tr>\n",
       "      <th>514</th>\n",
       "      <td>236.8512</td>\n",
       "      <td>1</td>\n",
       "    </tr>\n",
       "    <tr>\n",
       "      <th>515</th>\n",
       "      <td>237.3120</td>\n",
       "      <td>1</td>\n",
       "    </tr>\n",
       "  </tbody>\n",
       "</table>\n",
       "<p>516 rows × 2 columns</p>\n",
       "</div>"
      ],
      "text/plain": [
       "        times  gnre\n",
       "0      0.0000     1\n",
       "1      0.4608     1\n",
       "2      0.9216     1\n",
       "3      1.3824     1\n",
       "4      1.8432     1\n",
       "..        ...   ...\n",
       "511  235.4688     1\n",
       "512  235.9296     1\n",
       "513  236.3904     1\n",
       "514  236.8512     1\n",
       "515  237.3120     1\n",
       "\n",
       "[516 rows x 2 columns]"
      ]
     },
     "execution_count": 1646,
     "metadata": {},
     "output_type": "execute_result"
    }
   ],
   "source": [
    "df_mid_final = df_compas.drop(columns = ['wform'])\n",
    "df_mid_final['times'] = df_mid_final['times'].apply(lambda x: x[0])\n",
    "df_mid_final['gnre'] = yhat\n",
    "df_mid_final"
   ]
  },
  {
   "cell_type": "markdown",
   "metadata": {},
   "source": [
    "# HIGH FREQUENCIES"
   ]
  },
  {
   "cell_type": "code",
   "execution_count": 1647,
   "metadata": {},
   "outputs": [],
   "source": [
    "#get the specific bin frequencies\n",
    "df_high = df_bin_freq.drop(columns = [100,300,600,1000])\n",
    "df_high.columns = list(map(lambda x: str(x), df_high.columns))"
   ]
  },
  {
   "cell_type": "code",
   "execution_count": 1648,
   "metadata": {},
   "outputs": [],
   "source": [
    "df_high['2500_mean'] = df_high['2500'].apply(lambda x: x.mean())\n",
    "df_high['2500_median'] = df_high['2500'].apply(lambda x: statistics.median(x))\n",
    "df_high['2500_max'] = df_high['2500'].apply(lambda x: x.max())\n",
    "df_high['7000_mean'] = df_high['7000'].apply(lambda x: x.mean())\n",
    "df_high['7000_median'] = df_high['7000'].apply(lambda x: statistics.median(x))\n",
    "df_high['7000_max'] = df_high['7000'].apply(lambda x: x.max())\n",
    "df_high['15000_mean'] = df_high['15000'].apply(lambda x: x.mean())\n",
    "df_high['15000_median'] = df_high['15000'].apply(lambda x: statistics.median(x))\n",
    "df_high['15000_max'] = df_high['15000'].apply(lambda x: x.max())"
   ]
  },
  {
   "cell_type": "code",
   "execution_count": 1649,
   "metadata": {},
   "outputs": [],
   "source": [
    "df_high_model = df_high.drop(['2500','7000','15000'], axis = 1)"
   ]
  },
  {
   "cell_type": "code",
   "execution_count": 1650,
   "metadata": {},
   "outputs": [],
   "source": [
    "scaler = StandardScaler().fit(df_mid_model)\n",
    "X_prep = scaler.transform(df_mid_model)\n",
    "\n",
    "kmeans = GaussianMixture(n_components= 4, covariance_type='spherical',max_iter = 100,n_init = 20, random_state = 1234, init_params = 'kmeans')\n",
    "\n",
    "#kmeans = KMeans(n_clusters= 2,\n",
    "#               init=\"random\",\n",
    "#               n_init= 1,  # try with 1, 4, 8, 20, 30, 100...\n",
    "#               max_iter= 300,\n",
    "#               tol= 1e-4,\n",
    "#               algorithm=\"elkan\",\n",
    "#               random_state=1234)\n",
    "\n",
    "kmeans.fit(X_prep)\n",
    "\n",
    "yhat = kmeans.predict(X_prep)\n",
    "clusters = np.unique(yhat)"
   ]
  },
  {
   "cell_type": "code",
   "execution_count": 1651,
   "metadata": {},
   "outputs": [
    {
     "data": {
      "image/png": "[encoded data removed]",
      "text/plain": [
       "<Figure size 432x288 with 1 Axes>"
      ]
     },
     "metadata": {
      "needs_background": "light"
     },
     "output_type": "display_data"
    }
   ],
   "source": [
    "for cluster in np.unique(yhat):\n",
    "\t# get row indexes for samples with this cluster\n",
    "\trow_ix = np.where(yhat == cluster)\n",
    "\t# create scatter of these samples\n",
    "\tplt.scatter(X_prep[row_ix, 0], X_prep[row_ix, 1])\n",
    "\n",
    "# show the plot\n",
    "plt.title(\"Clusters detected by GMM with a 'full' covariance matrix\")\n",
    "plt.show()"
   ]
  },
  {
   "cell_type": "code",
   "execution_count": 1652,
   "metadata": {},
   "outputs": [
    {
     "data": {
      "text/html": [
       "<div>\n",
       "<style scoped>\n",
       "    .dataframe tbody tr th:only-of-type {\n",
       "        vertical-align: middle;\n",
       "    }\n",
       "\n",
       "    .dataframe tbody tr th {\n",
       "        vertical-align: top;\n",
       "    }\n",
       "\n",
       "    .dataframe thead th {\n",
       "        text-align: right;\n",
       "    }\n",
       "</style>\n",
       "<table border=\"1\" class=\"dataframe\">\n",
       "  <thead>\n",
       "    <tr style=\"text-align: right;\">\n",
       "      <th></th>\n",
       "      <th>times</th>\n",
       "      <th>gnre</th>\n",
       "    </tr>\n",
       "  </thead>\n",
       "  <tbody>\n",
       "    <tr>\n",
       "      <th>0</th>\n",
       "      <td>0.0000</td>\n",
       "      <td>2</td>\n",
       "    </tr>\n",
       "    <tr>\n",
       "      <th>1</th>\n",
       "      <td>0.4608</td>\n",
       "      <td>2</td>\n",
       "    </tr>\n",
       "    <tr>\n",
       "      <th>2</th>\n",
       "      <td>0.9216</td>\n",
       "      <td>2</td>\n",
       "    </tr>\n",
       "    <tr>\n",
       "      <th>3</th>\n",
       "      <td>1.3824</td>\n",
       "      <td>2</td>\n",
       "    </tr>\n",
       "    <tr>\n",
       "      <th>4</th>\n",
       "      <td>1.8432</td>\n",
       "      <td>2</td>\n",
       "    </tr>\n",
       "    <tr>\n",
       "      <th>...</th>\n",
       "      <td>...</td>\n",
       "      <td>...</td>\n",
       "    </tr>\n",
       "    <tr>\n",
       "      <th>511</th>\n",
       "      <td>235.4688</td>\n",
       "      <td>2</td>\n",
       "    </tr>\n",
       "    <tr>\n",
       "      <th>512</th>\n",
       "      <td>235.9296</td>\n",
       "      <td>2</td>\n",
       "    </tr>\n",
       "    <tr>\n",
       "      <th>513</th>\n",
       "      <td>236.3904</td>\n",
       "      <td>2</td>\n",
       "    </tr>\n",
       "    <tr>\n",
       "      <th>514</th>\n",
       "      <td>236.8512</td>\n",
       "      <td>2</td>\n",
       "    </tr>\n",
       "    <tr>\n",
       "      <th>515</th>\n",
       "      <td>237.3120</td>\n",
       "      <td>2</td>\n",
       "    </tr>\n",
       "  </tbody>\n",
       "</table>\n",
       "<p>516 rows × 2 columns</p>\n",
       "</div>"
      ],
      "text/plain": [
       "        times  gnre\n",
       "0      0.0000     2\n",
       "1      0.4608     2\n",
       "2      0.9216     2\n",
       "3      1.3824     2\n",
       "4      1.8432     2\n",
       "..        ...   ...\n",
       "511  235.4688     2\n",
       "512  235.9296     2\n",
       "513  236.3904     2\n",
       "514  236.8512     2\n",
       "515  237.3120     2\n",
       "\n",
       "[516 rows x 2 columns]"
      ]
     },
     "execution_count": 1652,
     "metadata": {},
     "output_type": "execute_result"
    }
   ],
   "source": [
    "df_high_final = df_compas.drop(columns = ['wform'])\n",
    "df_high_final['times'] = df_high_final['times'].apply(lambda x: x[0])\n",
    "df_high_final['gnre'] = yhat\n",
    "df_high_final"
   ]
  },
  {
   "cell_type": "markdown",
   "metadata": {},
   "source": [
    "# FULL SONG VALUES"
   ]
  },
  {
   "cell_type": "code",
   "execution_count": 1653,
   "metadata": {},
   "outputs": [],
   "source": [
    "full_freq = pd.concat([df_high_model, df_mid_model, df_lower_model], axis = 1)"
   ]
  },
  {
   "cell_type": "code",
   "execution_count": 1654,
   "metadata": {},
   "outputs": [],
   "source": [
    "scaler = StandardScaler().fit(full_freq)\n",
    "X_prep = scaler.transform(full_freq)\n",
    "\n",
    "#kmeans = GaussianMixture(n_components= 3, covariance_type='spherical',max_iter = 100,n_init = 10, random_state = 1234, init_params = 'random')\n",
    "\n",
    "kmeans = KMeans(n_clusters= 3,\n",
    "               init=\"random\",\n",
    "               n_init= 2,  # try with 1, 4, 8, 20, 30, 100...\n",
    "               max_iter= 300,\n",
    "               tol= 1e-4,\n",
    "               algorithm=\"auto\",\n",
    "               random_state=1234)\n",
    "\n",
    "kmeans.fit(X_prep)\n",
    "\n",
    "yhat = kmeans.predict(X_prep)\n",
    "clusters = np.unique(yhat)"
   ]
  },
  {
   "cell_type": "code",
   "execution_count": 1655,
   "metadata": {},
   "outputs": [
    {
     "data": {
      "image/png": "[encoded data removed]",
      "text/plain": [
       "<Figure size 432x288 with 1 Axes>"
      ]
     },
     "metadata": {
      "needs_background": "light"
     },
     "output_type": "display_data"
    }
   ],
   "source": [
    "for cluster in np.unique(yhat):\n",
    "\t# get row indexes for samples with this cluster\n",
    "\trow_ix = np.where(yhat == cluster)\n",
    "\t# create scatter of these samples\n",
    "\tplt.scatter(X_prep[row_ix, 0], X_prep[row_ix, 1])\n",
    "\n",
    "# show the plot\n",
    "plt.title(\"Clusters detected by GMM with a 'full' covariance matrix\")\n",
    "plt.show()"
   ]
  },
  {
   "cell_type": "code",
   "execution_count": 1656,
   "metadata": {},
   "outputs": [
    {
     "data": {
      "text/html": [
       "<div>\n",
       "<style scoped>\n",
       "    .dataframe tbody tr th:only-of-type {\n",
       "        vertical-align: middle;\n",
       "    }\n",
       "\n",
       "    .dataframe tbody tr th {\n",
       "        vertical-align: top;\n",
       "    }\n",
       "\n",
       "    .dataframe thead th {\n",
       "        text-align: right;\n",
       "    }\n",
       "</style>\n",
       "<table border=\"1\" class=\"dataframe\">\n",
       "  <thead>\n",
       "    <tr style=\"text-align: right;\">\n",
       "      <th></th>\n",
       "      <th>times</th>\n",
       "      <th>gnre</th>\n",
       "    </tr>\n",
       "  </thead>\n",
       "  <tbody>\n",
       "    <tr>\n",
       "      <th>0</th>\n",
       "      <td>0.0000</td>\n",
       "      <td>2</td>\n",
       "    </tr>\n",
       "    <tr>\n",
       "      <th>1</th>\n",
       "      <td>0.4608</td>\n",
       "      <td>2</td>\n",
       "    </tr>\n",
       "    <tr>\n",
       "      <th>2</th>\n",
       "      <td>0.9216</td>\n",
       "      <td>2</td>\n",
       "    </tr>\n",
       "    <tr>\n",
       "      <th>3</th>\n",
       "      <td>1.3824</td>\n",
       "      <td>2</td>\n",
       "    </tr>\n",
       "    <tr>\n",
       "      <th>4</th>\n",
       "      <td>1.8432</td>\n",
       "      <td>2</td>\n",
       "    </tr>\n",
       "    <tr>\n",
       "      <th>...</th>\n",
       "      <td>...</td>\n",
       "      <td>...</td>\n",
       "    </tr>\n",
       "    <tr>\n",
       "      <th>511</th>\n",
       "      <td>235.4688</td>\n",
       "      <td>2</td>\n",
       "    </tr>\n",
       "    <tr>\n",
       "      <th>512</th>\n",
       "      <td>235.9296</td>\n",
       "      <td>2</td>\n",
       "    </tr>\n",
       "    <tr>\n",
       "      <th>513</th>\n",
       "      <td>236.3904</td>\n",
       "      <td>2</td>\n",
       "    </tr>\n",
       "    <tr>\n",
       "      <th>514</th>\n",
       "      <td>236.8512</td>\n",
       "      <td>2</td>\n",
       "    </tr>\n",
       "    <tr>\n",
       "      <th>515</th>\n",
       "      <td>237.3120</td>\n",
       "      <td>2</td>\n",
       "    </tr>\n",
       "  </tbody>\n",
       "</table>\n",
       "<p>516 rows × 2 columns</p>\n",
       "</div>"
      ],
      "text/plain": [
       "        times  gnre\n",
       "0      0.0000     2\n",
       "1      0.4608     2\n",
       "2      0.9216     2\n",
       "3      1.3824     2\n",
       "4      1.8432     2\n",
       "..        ...   ...\n",
       "511  235.4688     2\n",
       "512  235.9296     2\n",
       "513  236.3904     2\n",
       "514  236.8512     2\n",
       "515  237.3120     2\n",
       "\n",
       "[516 rows x 2 columns]"
      ]
     },
     "execution_count": 1656,
     "metadata": {},
     "output_type": "execute_result"
    }
   ],
   "source": [
    "df_full_final = df_compas.drop(columns = ['wform'])\n",
    "df_full_final['times'] = df_full_final['times'].apply(lambda x: x[0])\n",
    "df_full_final['gnre'] = yhat\n",
    "df_full_final"
   ]
  },
  {
   "cell_type": "markdown",
   "metadata": {},
   "source": [
    "# SONG FEATURES"
   ]
  },
  {
   "cell_type": "code",
   "execution_count": 1657,
   "metadata": {},
   "outputs": [],
   "source": [
    "#menas = []\n",
    "#for index in range(len(df_compas.wform)):\n",
    "#    y_harm, y_perc = librosa.effects.hpss(df_compas.wform[index][0])\n",
    "#    if len(y_harm[y_perc > 0.1]) > 0:\n",
    "#        menas += [(y_harm[y_perc > 0.1].max() * len(y_harm[y_perc > 0.1]))]\n",
    "#df = pd.DataFrame(menas).dropna()"
   ]
  },
  {
   "cell_type": "code",
   "execution_count": 1658,
   "metadata": {},
   "outputs": [],
   "source": [
    "#mean_harm = df[0].mean()"
   ]
  },
  {
   "cell_type": "code",
   "execution_count": 1659,
   "metadata": {},
   "outputs": [],
   "source": [
    "step_freq = 1/(vcompas_time * 2)\n",
    "noise_freq = 1/(vcompas_time * 2)\n",
    "#constant_noise_rot = 0.16688923225825697\n",
    "#constant_noise_pos = 0.0018604045563215532\n",
    "\n",
    "#noise_pos = constant_noise_pos * mean_harm\n",
    "#noise_rot = constant_noise_rot * mean_harm\n",
    "#print(noise_pos,noise_rot)"
   ]
  },
  {
   "cell_type": "markdown",
   "metadata": {},
   "source": [
    "# SAVING DATA INTO JSON"
   ]
  },
  {
   "cell_type": "code",
   "execution_count": 1660,
   "metadata": {},
   "outputs": [],
   "source": [
    "dict_full = {}\n",
    "dict_low = {}\n",
    "dict_mid = {}\n",
    "dict_high = {}\n",
    "dict_legs = {}\n",
    "\n",
    "for i in range(0,len(df_low_final.times)):\n",
    "    dict_low[str(df_low_final.times[i])] = str(df_low_final.gnre[i])\n",
    "    dict_mid[str(df_mid_final.times[i])] = str(df_mid_final.gnre[i])\n",
    "    dict_high[str(df_high_final.times[i])] = str(df_high_final.gnre[i])\n",
    "    dict_legs[str(df_full_final.times[i])] = str(df_full_final.gnre[i])\n",
    "\n",
    "dict_full['low'] = str(dict_low)\n",
    "dict_full['mid'] = str(dict_mid)\n",
    "dict_full['high'] = str(dict_high)\n",
    "dict_full['legs'] = str(dict_legs)\n",
    "dict_full['freqs'] = str(step_freq[0])"
   ]
  },
  {
   "cell_type": "code",
   "execution_count": 1661,
   "metadata": {},
   "outputs": [
    {
     "name": "stdout",
     "output_type": "stream",
     "text": [
      "{\"low\": \"{'0.0': '0', '0.4608': '0', '0.9216': '0', '1.3824': '0', '1.8432': '0', '2.304': '0', '2.7648': '0', '3.2256': '0', '3.6864': '0', '4.1472': '0', '4.608': '0', '5.0687999999999995': '0', '5.5296': '0', '5.9904': '0', '6.4512': '0', '6.912': '0', '7.3728': '0', '7.8336': '0', '8.2944': '0', '8.7552': '0', '9.216': '0', '9.6768': '0', '10.137599999999999': '0', '10.5984': '0', '11.0592': '0', '11.52': '0', '11.9808': '0', '12.4416': '0', '12.9024': '0', '13.363199999999999': '0', '13.824': '0', '14.284799999999999': '0', '14.7456': '0', '15.2064': '0', '15.6672': '0', '16.128': '0', '16.5888': '0', '17.049599999999998': '0', '17.5104': '0', '17.9712': '0', '18.432': '0', '18.8928': '0', '19.3536': '0', '19.8144': '0', '20.275199999999998': '0', '20.736': '0', '21.1968': '0', '21.6576': '0', '22.1184': '0', '22.5792': '0', '23.04': '0', '23.500799999999998': '0', '23.9616': '0', '24.4224': '0', '24.8832': '0', '25.343999999999998': '0', '25.8048': '0', '26.2656': '0', '26.726399999999998': '0', '27.1872': '0', '27.648': '0', '28.1088': '0', '28.569599999999998': '0', '29.0304': '0', '29.4912': '0', '29.951999999999998': '0', '30.4128': '0', '30.8736': '0', '31.3344': '0', '31.795199999999998': '0', '32.256': '0', '32.7168': '0', '33.1776': '0', '33.6384': '0', '34.099199999999996': '0', '34.56': '0', '35.0208': '0', '35.4816': '0', '35.9424': '0', '36.4032': '0', '36.864': '0', '37.324799999999996': '0', '37.7856': '0', '38.2464': '0', '38.7072': '0', '39.168': '0', '39.6288': '0', '40.0896': '0', '40.550399999999996': '0', '41.0112': '0', '41.472': '0', '41.9328': '0', '42.3936': '0', '42.8544': '0', '43.3152': '0', '43.775999999999996': '0', '44.2368': '0', '44.6976': '0', '45.1584': '0', '45.6192': '0', '46.08': '0', '46.5408': '0', '47.001599999999996': '0', '47.462399999999995': '0', '47.9232': '0', '48.384': '0', '48.8448': '0', '49.3056': '0', '49.7664': '1', '50.227199999999996': '1', '50.687999999999995': '1', '51.1488': '1', '51.6096': '1', '52.0704': '1', '52.5312': '1', '52.992': '1', '53.452799999999996': '1', '53.913599999999995': '1', '54.3744': '1', '54.8352': '1', '55.296': '1', '55.7568': '1', '56.2176': '1', '56.678399999999996': '1', '57.139199999999995': '1', '57.6': '1', '58.0608': '1', '58.5216': '1', '58.9824': '1', '59.4432': '1', '59.903999999999996': '1', '60.364799999999995': '1', '60.8256': '1', '61.2864': '1', '61.7472': '1', '62.208': '1', '62.6688': '1', '63.129599999999996': '1', '63.590399999999995': '1', '64.0512': '1', '64.512': '1', '64.97279999999999': '1', '65.4336': '1', '65.8944': '1', '66.3552': '1', '66.816': '1', '67.2768': '1', '67.7376': '1', '68.19839999999999': '1', '68.6592': '1', '69.12': '1', '69.5808': '1', '70.0416': '1', '70.5024': '1', '70.9632': '1', '71.42399999999999': '1', '71.8848': '1', '72.3456': '1', '72.8064': '1', '73.2672': '1', '73.728': '1', '74.1888': '1', '74.64959999999999': '1', '75.1104': '1', '75.5712': '1', '76.032': '1', '76.4928': '1', '76.9536': '1', '77.4144': '1', '77.87519999999999': '1', '78.336': '1', '78.7968': '1', '79.2576': '0', '79.7184': '0', '80.1792': '0', '80.64': '0', '81.10079999999999': '0', '81.5616': '0', '82.0224': '0', '82.4832': '0', '82.944': '0', '83.4048': '0', '83.8656': '0', '84.32639999999999': '0', '84.7872': '0', '85.248': '0', '85.7088': '0', '86.1696': '0', '86.6304': '0', '87.0912': '0', '87.55199999999999': '0', '88.0128': '0', '88.4736': '0', '88.9344': '0', '89.3952': '0', '89.856': '0', '90.3168': '0', '90.77759999999999': '0', '91.2384': '0', '91.69919999999999': '0', '92.16': '0', '92.6208': '0', '93.0816': '0', '93.5424': '0', '94.00319999999999': '1', '94.464': '1', '94.92479999999999': '1', '95.3856': '1', '95.8464': '1', '96.3072': '1', '96.768': '1', '97.22879999999999': '1', '97.6896': '1', '98.15039999999999': '1', '98.6112': '1', '99.072': '1', '99.5328': '1', '99.9936': '1', '100.45439999999999': '1', '100.9152': '1', '101.37599999999999': '1', '101.8368': '1', '102.2976': '1', '102.7584': '1', '103.2192': '1', '103.67999999999999': '1', '104.1408': '1', '104.60159999999999': '1', '105.0624': '1', '105.5232': '1', '105.984': '1', '106.4448': '1', '106.90559999999999': '1', '107.3664': '1', '107.82719999999999': '1', '108.288': '1', '108.7488': '1', '109.2096': '1', '109.6704': '1', '110.13119999999999': '1', '110.592': '1', '111.05279999999999': '1', '111.5136': '1', '111.9744': '1', '112.4352': '1', '112.896': '1', '113.35679999999999': '1', '113.8176': '1', '114.27839999999999': '1', '114.7392': '1', '115.2': '1', '115.6608': '1', '116.1216': '1', '116.58239999999999': '1', '117.0432': '1', '117.50399999999999': '1', '117.9648': '1', '118.4256': '1', '118.8864': '1', '119.3472': '1', '119.80799999999999': '1', '120.2688': '1', '120.72959999999999': '1', '121.1904': '1', '121.6512': '1', '122.112': '1', '122.5728': '1', '123.03359999999999': '1', '123.4944': '0', '123.95519999999999': '0', '124.416': '0', '124.8768': '0', '125.3376': '0', '125.7984': '0', '126.25919999999999': '0', '126.72': '0', '127.18079999999999': '0', '127.6416': '0', '128.1024': '0', '128.5632': '0', '129.024': '0', '129.4848': '0', '129.94559999999998': '0', '130.4064': '0', '130.8672': '0', '131.328': '0', '131.7888': '0', '132.2496': '0', '132.7104': '0', '133.1712': '0', '133.632': '0', '134.09279999999998': '0', '134.5536': '0', '135.0144': '0', '135.4752': '0', '135.936': '0', '136.39679999999998': '0', '136.8576': '0', '137.3184': '0', '137.7792': '0', '138.24': '1', '138.7008': '1', '139.1616': '1', '139.6224': '1', '140.0832': '1', '140.54399999999998': '1', '141.0048': '1', '141.4656': '1', '141.9264': '1', '142.3872': '1', '142.84799999999998': '1', '143.3088': '1', '143.7696': '1', '144.2304': '1', '144.6912': '1', '145.152': '1', '145.6128': '1', '146.0736': '1', '146.5344': '1', '146.99519999999998': '1', '147.456': '1', '147.9168': '1', '148.3776': '1', '148.8384': '1', '149.29919999999998': '1', '149.76': '1', '150.2208': '1', '150.6816': '1', '151.1424': '1', '151.6032': '1', '152.064': '1', '152.5248': '1', '152.9856': '1', '153.44639999999998': '1', '153.9072': '1', '154.368': '1', '154.8288': '1', '155.2896': '1', '155.75039999999998': '1', '156.2112': '1', '156.672': '1', '157.1328': '1', '157.5936': '1', '158.0544': '1', '158.5152': '1', '158.976': '1', '159.4368': '1', '159.89759999999998': '1', '160.3584': '1', '160.8192': '1', '161.28': '1', '161.7408': '1', '162.20159999999998': '1', '162.6624': '1', '163.1232': '1', '163.584': '1', '164.0448': '1', '164.5056': '1', '164.9664': '1', '165.4272': '1', '165.888': '1', '166.34879999999998': '1', '166.8096': '1', '167.2704': '1', '167.7312': '0', '168.192': '0', '168.65279999999998': '0', '169.1136': '0', '169.5744': '0', '170.0352': '0', '170.496': '0', '170.9568': '0', '171.4176': '0', '171.8784': '0', '172.3392': '0', '172.79999999999998': '0', '173.2608': '0', '173.7216': '0', '174.1824': '0', '174.6432': '0', '175.10399999999998': '1', '175.5648': '1', '176.0256': '1', '176.4864': '1', '176.9472': '1', '177.408': '1', '177.8688': '1', '178.3296': '1', '178.7904': '1', '179.25119999999998': '1', '179.712': '1', '180.1728': '1', '180.6336': '1', '181.0944': '1', '181.55519999999999': '1', '182.016': '1', '182.4768': '1', '182.9376': '1', '183.39839999999998': '1', '183.8592': '1', '184.32': '1', '184.7808': '1', '185.2416': '1', '185.70239999999998': '1', '186.1632': '1', '186.624': '1', '187.0848': '1', '187.5456': '1', '188.00639999999999': '1', '188.4672': '1', '188.928': '1', '189.3888': '1', '189.84959999999998': '1', '190.3104': '1', '190.7712': '1', '191.232': '1', '191.6928': '1', '192.15359999999998': '1', '192.6144': '1', '193.0752': '1', '193.536': '1', '193.9968': '1', '194.45759999999999': '1', '194.9184': '1', '195.3792': '1', '195.84': '1', '196.30079999999998': '1', '196.7616': '1', '197.2224': '1', '197.6832': '1', '198.144': '1', '198.60479999999998': '1', '199.0656': '1', '199.5264': '1', '199.9872': '1', '200.448': '1', '200.90879999999999': '1', '201.3696': '1', '201.8304': '1', '202.2912': '1', '202.75199999999998': '1', '203.2128': '1', '203.6736': '1', '204.1344': '1', '204.5952': '1', '205.05599999999998': '1', '205.5168': '1', '205.9776': '1', '206.4384': '1', '206.8992': '1', '207.35999999999999': '1', '207.8208': '1', '208.2816': '1', '208.7424': '1', '209.20319999999998': '1', '209.664': '1', '210.1248': '1', '210.5856': '1', '211.0464': '1', '211.50719999999998': '1', '211.968': '1', '212.4288': '1', '212.8896': '1', '213.3504': '1', '213.81119999999999': '1', '214.272': '1', '214.7328': '1', '215.1936': '1', '215.65439999999998': '1', '216.1152': '1', '216.576': '1', '217.0368': '1', '217.4976': '1', '217.95839999999998': '1', '218.4192': '1', '218.88': '1', '219.3408': '1', '219.8016': '1', '220.26239999999999': '1', '220.7232': '1', '221.184': '1', '221.6448': '1', '222.10559999999998': '1', '222.5664': '1', '223.0272': '1', '223.488': '1', '223.9488': '1', '224.40959999999998': '1', '224.8704': '1', '225.3312': '1', '225.792': '1', '226.2528': '1', '226.71359999999999': '1', '227.1744': '1', '227.6352': '1', '228.096': '1', '228.55679999999998': '1', '229.0176': '1', '229.4784': '1', '229.9392': '0', '230.4': '0', '230.86079999999998': '0', '231.3216': '0', '231.7824': '0', '232.2432': '0', '232.704': '0', '233.16479999999999': '0', '233.6256': '0', '234.0864': '0', '234.5472': '0', '235.00799999999998': '0', '235.4688': '0', '235.9296': '0', '236.3904': '0', '236.8512': '0', '237.31199999999998': '0'}\", \"mid\": \"{'0.0': '1', '0.4608': '1', '0.9216': '1', '1.3824': '1', '1.8432': '1', '2.304': '1', '2.7648': '1', '3.2256': '1', '3.6864': '1', '4.1472': '1', '4.608': '1', '5.0687999999999995': '1', '5.5296': '1', '5.9904': '1', '6.4512': '1', '6.912': '1', '7.3728': '1', '7.8336': '1', '8.2944': '1', '8.7552': '1', '9.216': '1', '9.6768': '1', '10.137599999999999': '1', '10.5984': '1', '11.0592': '1', '11.52': '1', '11.9808': '1', '12.4416': '1', '12.9024': '1', '13.363199999999999': '1', '13.824': '1', '14.284799999999999': '1', '14.7456': '1', '15.2064': '1', '15.6672': '1', '16.128': '1', '16.5888': '1', '17.049599999999998': '1', '17.5104': '1', '17.9712': '1', '18.432': '1', '18.8928': '1', '19.3536': '1', '19.8144': '1', '20.275199999999998': '0', '20.736': '0', '21.1968': '0', '21.6576': '0', '22.1184': '0', '22.5792': '0', '23.04': '1', '23.500799999999998': '1', '23.9616': '1', '24.4224': '1', '24.8832': '0', '25.343999999999998': '0', '25.8048': '0', '26.2656': '1', '26.726399999999998': '1', '27.1872': '1', '27.648': '1', '28.1088': '1', '28.569599999999998': '0', '29.0304': '0', '29.4912': '0', '29.951999999999998': '1', '30.4128': '1', '30.8736': '1', '31.3344': '1', '31.795199999999998': '1', '32.256': '0', '32.7168': '0', '33.1776': '0', '33.6384': '1', '34.099199999999996': '1', '34.56': '1', '35.0208': '0', '35.4816': '1', '35.9424': '0', '36.4032': '0', '36.864': '0', '37.324799999999996': '0', '37.7856': '0', '38.2464': '1', '38.7072': '1', '39.168': '1', '39.6288': '1', '40.0896': '0', '40.550399999999996': '1', '41.0112': '1', '41.472': '1', '41.9328': '1', '42.3936': '0', '42.8544': '0', '43.3152': '0', '43.775999999999996': '0', '44.2368': '0', '44.6976': '0', '45.1584': '0', '45.6192': '1', '46.08': '1', '46.5408': '1', '47.001599999999996': '1', '47.462399999999995': '0', '47.9232': '0', '48.384': '1', '48.8448': '1', '49.3056': '0', '49.7664': '0', '50.227199999999996': '0', '50.687999999999995': '0', '51.1488': '0', '51.6096': '0', '52.0704': '0', '52.5312': '0', '52.992': '0', '53.452799999999996': '1', '53.913599999999995': '1', '54.3744': '0', '54.8352': '0', '55.296': '0', '55.7568': '0', '56.2176': '0', '56.678399999999996': '0', '57.139199999999995': '0', '57.6': '0', '58.0608': '0', '58.5216': '0', '58.9824': '0', '59.4432': '0', '59.903999999999996': '0', '60.364799999999995': '0', '60.8256': '1', '61.2864': '1', '61.7472': '0', '62.208': '0', '62.6688': '0', '63.129599999999996': '0', '63.590399999999995': '0', '64.0512': '0', '64.512': '0', '64.97279999999999': '0', '65.4336': '0', '65.8944': '0', '66.3552': '0', '66.816': '0', '67.2768': '0', '67.7376': '0', '68.19839999999999': '0', '68.6592': '0', '69.12': '0', '69.5808': '0', '70.0416': '0', '70.5024': '0', '70.9632': '0', '71.42399999999999': '0', '71.8848': '0', '72.3456': '0', '72.8064': '0', '73.2672': '0', '73.728': '0', '74.1888': '0', '74.64959999999999': '0', '75.1104': '0', '75.5712': '0', '76.032': '0', '76.4928': '0', '76.9536': '0', '77.4144': '0', '77.87519999999999': '0', '78.336': '0', '78.7968': '0', '79.2576': '0', '79.7184': '0', '80.1792': '0', '80.64': '0', '81.10079999999999': '0', '81.5616': '0', '82.0224': '0', '82.4832': '0', '82.944': '0', '83.4048': '0', '83.8656': '0', '84.32639999999999': '0', '84.7872': '0', '85.248': '0', '85.7088': '0', '86.1696': '0', '86.6304': '0', '87.0912': '0', '87.55199999999999': '0', '88.0128': '0', '88.4736': '0', '88.9344': '0', '89.3952': '0', '89.856': '0', '90.3168': '0', '90.77759999999999': '0', '91.2384': '0', '91.69919999999999': '0', '92.16': '0', '92.6208': '0', '93.0816': '0', '93.5424': '0', '94.00319999999999': '0', '94.464': '0', '94.92479999999999': '0', '95.3856': '0', '95.8464': '0', '96.3072': '0', '96.768': '0', '97.22879999999999': '0', '97.6896': '0', '98.15039999999999': '0', '98.6112': '0', '99.072': '0', '99.5328': '0', '99.9936': '0', '100.45439999999999': '0', '100.9152': '0', '101.37599999999999': '0', '101.8368': '0', '102.2976': '0', '102.7584': '0', '103.2192': '0', '103.67999999999999': '0', '104.1408': '0', '104.60159999999999': '0', '105.0624': '0', '105.5232': '0', '105.984': '0', '106.4448': '0', '106.90559999999999': '0', '107.3664': '0', '107.82719999999999': '0', '108.288': '0', '108.7488': '0', '109.2096': '0', '109.6704': '0', '110.13119999999999': '0', '110.592': '0', '111.05279999999999': '0', '111.5136': '0', '111.9744': '0', '112.4352': '0', '112.896': '0', '113.35679999999999': '0', '113.8176': '0', '114.27839999999999': '0', '114.7392': '0', '115.2': '0', '115.6608': '0', '116.1216': '0', '116.58239999999999': '0', '117.0432': '0', '117.50399999999999': '0', '117.9648': '0', '118.4256': '0', '118.8864': '0', '119.3472': '0', '119.80799999999999': '0', '120.2688': '0', '120.72959999999999': '0', '121.1904': '0', '121.6512': '0', '122.112': '0', '122.5728': '0', '123.03359999999999': '0', '123.4944': '0', '123.95519999999999': '0', '124.416': '0', '124.8768': '0', '125.3376': '0', '125.7984': '0', '126.25919999999999': '0', '126.72': '0', '127.18079999999999': '0', '127.6416': '1', '128.1024': '0', '128.5632': '0', '129.024': '0', '129.4848': '0', '129.94559999999998': '0', '130.4064': '0', '130.8672': '0', '131.328': '0', '131.7888': '0', '132.2496': '0', '132.7104': '0', '133.1712': '0', '133.632': '0', '134.09279999999998': '0', '134.5536': '0', '135.0144': '0', '135.4752': '0', '135.936': '0', '136.39679999999998': '0', '136.8576': '0', '137.3184': '0', '137.7792': '0', '138.24': '0', '138.7008': '0', '139.1616': '0', '139.6224': '0', '140.0832': '0', '140.54399999999998': '0', '141.0048': '0', '141.4656': '0', '141.9264': '0', '142.3872': '0', '142.84799999999998': '0', '143.3088': '0', '143.7696': '0', '144.2304': '0', '144.6912': '0', '145.152': '0', '145.6128': '0', '146.0736': '0', '146.5344': '0', '146.99519999999998': '0', '147.456': '0', '147.9168': '0', '148.3776': '0', '148.8384': '0', '149.29919999999998': '0', '149.76': '0', '150.2208': '0', '150.6816': '0', '151.1424': '0', '151.6032': '0', '152.064': '0', '152.5248': '0', '152.9856': '0', '153.44639999999998': '0', '153.9072': '0', '154.368': '0', '154.8288': '0', '155.2896': '0', '155.75039999999998': '0', '156.2112': '0', '156.672': '0', '157.1328': '0', '157.5936': '0', '158.0544': '0', '158.5152': '0', '158.976': '0', '159.4368': '0', '159.89759999999998': '0', '160.3584': '0', '160.8192': '0', '161.28': '0', '161.7408': '0', '162.20159999999998': '0', '162.6624': '0', '163.1232': '0', '163.584': '0', '164.0448': '0', '164.5056': '0', '164.9664': '0', '165.4272': '0', '165.888': '0', '166.34879999999998': '0', '166.8096': '0', '167.2704': '0', '167.7312': '0', '168.192': '0', '168.65279999999998': '0', '169.1136': '0', '169.5744': '0', '170.0352': '0', '170.496': '0', '170.9568': '0', '171.4176': '0', '171.8784': '0', '172.3392': '0', '172.79999999999998': '0', '173.2608': '0', '173.7216': '0', '174.1824': '0', '174.6432': '0', '175.10399999999998': '0', '175.5648': '0', '176.0256': '0', '176.4864': '0', '176.9472': '0', '177.408': '0', '177.8688': '0', '178.3296': '0', '178.7904': '0', '179.25119999999998': '0', '179.712': '0', '180.1728': '0', '180.6336': '0', '181.0944': '0', '181.55519999999999': '0', '182.016': '0', '182.4768': '0', '182.9376': '0', '183.39839999999998': '0', '183.8592': '0', '184.32': '0', '184.7808': '0', '185.2416': '0', '185.70239999999998': '0', '186.1632': '0', '186.624': '0', '187.0848': '0', '187.5456': '0', '188.00639999999999': '0', '188.4672': '0', '188.928': '0', '189.3888': '0', '189.84959999999998': '0', '190.3104': '0', '190.7712': '0', '191.232': '0', '191.6928': '0', '192.15359999999998': '0', '192.6144': '0', '193.0752': '0', '193.536': '0', '193.9968': '0', '194.45759999999999': '0', '194.9184': '0', '195.3792': '0', '195.84': '0', '196.30079999999998': '0', '196.7616': '0', '197.2224': '0', '197.6832': '0', '198.144': '0', '198.60479999999998': '0', '199.0656': '0', '199.5264': '0', '199.9872': '0', '200.448': '0', '200.90879999999999': '0', '201.3696': '0', '201.8304': '0', '202.2912': '0', '202.75199999999998': '0', '203.2128': '0', '203.6736': '0', '204.1344': '0', '204.5952': '0', '205.05599999999998': '0', '205.5168': '0', '205.9776': '0', '206.4384': '0', '206.8992': '0', '207.35999999999999': '0', '207.8208': '0', '208.2816': '0', '208.7424': '0', '209.20319999999998': '0', '209.664': '0', '210.1248': '0', '210.5856': '0', '211.0464': '0', '211.50719999999998': '0', '211.968': '0', '212.4288': '0', '212.8896': '0', '213.3504': '0', '213.81119999999999': '0', '214.272': '0', '214.7328': '0', '215.1936': '0', '215.65439999999998': '0', '216.1152': '0', '216.576': '0', '217.0368': '0', '217.4976': '0', '217.95839999999998': '0', '218.4192': '0', '218.88': '0', '219.3408': '0', '219.8016': '0', '220.26239999999999': '0', '220.7232': '0', '221.184': '0', '221.6448': '0', '222.10559999999998': '0', '222.5664': '0', '223.0272': '0', '223.488': '0', '223.9488': '0', '224.40959999999998': '0', '224.8704': '0', '225.3312': '0', '225.792': '0', '226.2528': '0', '226.71359999999999': '0', '227.1744': '0', '227.6352': '0', '228.096': '0', '228.55679999999998': '0', '229.0176': '0', '229.4784': '0', '229.9392': '0', '230.4': '0', '230.86079999999998': '0', '231.3216': '1', '231.7824': '1', '232.2432': '1', '232.704': '1', '233.16479999999999': '1', '233.6256': '1', '234.0864': '1', '234.5472': '1', '235.00799999999998': '1', '235.4688': '1', '235.9296': '1', '236.3904': '1', '236.8512': '1', '237.31199999999998': '1'}\", \"high\": \"{'0.0': '2', '0.4608': '2', '0.9216': '2', '1.3824': '2', '1.8432': '2', '2.304': '2', '2.7648': '2', '3.2256': '2', '3.6864': '2', '4.1472': '2', '4.608': '1', '5.0687999999999995': '1', '5.5296': '1', '5.9904': '1', '6.4512': '1', '6.912': '1', '7.3728': '1', '7.8336': '1', '8.2944': '1', '8.7552': '1', '9.216': '1', '9.6768': '1', '10.137599999999999': '1', '10.5984': '1', '11.0592': '1', '11.52': '1', '11.9808': '1', '12.4416': '1', '12.9024': '1', '13.363199999999999': '1', '13.824': '1', '14.284799999999999': '1', '14.7456': '1', '15.2064': '1', '15.6672': '1', '16.128': '1', '16.5888': '1', '17.049599999999998': '1', '17.5104': '1', '17.9712': '1', '18.432': '1', '18.8928': '1', '19.3536': '1', '19.8144': '1', '20.275199999999998': '1', '20.736': '1', '21.1968': '0', '21.6576': '1', '22.1184': '3', '22.5792': '3', '23.04': '1', '23.500799999999998': '1', '23.9616': '1', '24.4224': '1', '24.8832': '1', '25.343999999999998': '0', '25.8048': '1', '26.2656': '1', '26.726399999999998': '1', '27.1872': '1', '27.648': '1', '28.1088': '1', '28.569599999999998': '3', '29.0304': '3', '29.4912': '3', '29.951999999999998': '1', '30.4128': '1', '30.8736': '1', '31.3344': '1', '31.795199999999998': '1', '32.256': '0', '32.7168': '1', '33.1776': '1', '33.6384': '1', '34.099199999999996': '1', '34.56': '1', '35.0208': '1', '35.4816': '1', '35.9424': '1', '36.4032': '1', '36.864': '1', '37.324799999999996': '3', '37.7856': '3', '38.2464': '1', '38.7072': '1', '39.168': '1', '39.6288': '1', '40.0896': '3', '40.550399999999996': '1', '41.0112': '1', '41.472': '1', '41.9328': '1', '42.3936': '1', '42.8544': '1', '43.3152': '3', '43.775999999999996': '1', '44.2368': '3', '44.6976': '1', '45.1584': '3', '45.6192': '1', '46.08': '1', '46.5408': '1', '47.001599999999996': '1', '47.462399999999995': '0', '47.9232': '1', '48.384': '1', '48.8448': '1', '49.3056': '1', '49.7664': '3', '50.227199999999996': '0', '50.687999999999995': '3', '51.1488': '3', '51.6096': '3', '52.0704': '0', '52.5312': '3', '52.992': '1', '53.452799999999996': '1', '53.913599999999995': '1', '54.3744': '3', '54.8352': '0', '55.296': '3', '55.7568': '3', '56.2176': '1', '56.678399999999996': '1', '57.139199999999995': '0', '57.6': '0', '58.0608': '3', '58.5216': '3', '58.9824': '3', '59.4432': '0', '59.903999999999996': '3', '60.364799999999995': '1', '60.8256': '1', '61.2864': '1', '61.7472': '1', '62.208': '3', '62.6688': '3', '63.129599999999996': '3', '63.590399999999995': '1', '64.0512': '3', '64.512': '1', '64.97279999999999': '3', '65.4336': '3', '65.8944': '3', '66.3552': '3', '66.816': '3', '67.2768': '3', '67.7376': '3', '68.19839999999999': '3', '68.6592': '3', '69.12': '3', '69.5808': '3', '70.0416': '3', '70.5024': '3', '70.9632': '3', '71.42399999999999': '3', '71.8848': '3', '72.3456': '3', '72.8064': '3', '73.2672': '3', '73.728': '3', '74.1888': '3', '74.64959999999999': '3', '75.1104': '3', '75.5712': '3', '76.032': '3', '76.4928': '3', '76.9536': '3', '77.4144': '3', '77.87519999999999': '3', '78.336': '3', '78.7968': '3', '79.2576': '0', '79.7184': '0', '80.1792': '0', '80.64': '3', '81.10079999999999': '3', '81.5616': '3', '82.0224': '3', '82.4832': '3', '82.944': '3', '83.4048': '3', '83.8656': '3', '84.32639999999999': '0', '84.7872': '3', '85.248': '3', '85.7088': '3', '86.1696': '3', '86.6304': '3', '87.0912': '3', '87.55199999999999': '3', '88.0128': '0', '88.4736': '0', '88.9344': '3', '89.3952': '3', '89.856': '3', '90.3168': '3', '90.77759999999999': '3', '91.2384': '0', '91.69919999999999': '0', '92.16': '3', '92.6208': '3', '93.0816': '3', '93.5424': '3', '94.00319999999999': '3', '94.464': '0', '94.92479999999999': '0', '95.3856': '3', '95.8464': '3', '96.3072': '3', '96.768': '0', '97.22879999999999': '3', '97.6896': '3', '98.15039999999999': '3', '98.6112': '3', '99.072': '3', '99.5328': '3', '99.9936': '3', '100.45439999999999': '3', '100.9152': '3', '101.37599999999999': '3', '101.8368': '0', '102.2976': '0', '102.7584': '3', '103.2192': '0', '103.67999999999999': '3', '104.1408': '3', '104.60159999999999': '3', '105.0624': '3', '105.5232': '3', '105.984': '3', '106.4448': '0', '106.90559999999999': '3', '107.3664': '3', '107.82719999999999': '3', '108.288': '3', '108.7488': '3', '109.2096': '3', '109.6704': '3', '110.13119999999999': '3', '110.592': '3', '111.05279999999999': '3', '111.5136': '3', '111.9744': '3', '112.4352': '3', '112.896': '3', '113.35679999999999': '3', '113.8176': '3', '114.27839999999999': '3', '114.7392': '3', '115.2': '3', '115.6608': '3', '116.1216': '3', '116.58239999999999': '3', '117.0432': '3', '117.50399999999999': '3', '117.9648': '3', '118.4256': '3', '118.8864': '3', '119.3472': '3', '119.80799999999999': '3', '120.2688': '3', '120.72959999999999': '3', '121.1904': '3', '121.6512': '3', '122.112': '3', '122.5728': '3', '123.03359999999999': '3', '123.4944': '0', '123.95519999999999': '3', '124.416': '3', '124.8768': '3', '125.3376': '3', '125.7984': '3', '126.25919999999999': '3', '126.72': '3', '127.18079999999999': '3', '127.6416': '1', '128.1024': '3', '128.5632': '3', '129.024': '0', '129.4848': '3', '129.94559999999998': '3', '130.4064': '3', '130.8672': '3', '131.328': '0', '131.7888': '0', '132.2496': '3', '132.7104': '0', '133.1712': '3', '133.632': '3', '134.09279999999998': '3', '134.5536': '3', '135.0144': '1', '135.4752': '3', '135.936': '0', '136.39679999999998': '0', '136.8576': '0', '137.3184': '3', '137.7792': '3', '138.24': '3', '138.7008': '3', '139.1616': '3', '139.6224': '3', '140.0832': '3', '140.54399999999998': '3', '141.0048': '3', '141.4656': '3', '141.9264': '3', '142.3872': '3', '142.84799999999998': '3', '143.3088': '3', '143.7696': '3', '144.2304': '3', '144.6912': '3', '145.152': '3', '145.6128': '3', '146.0736': '3', '146.5344': '3', '146.99519999999998': '3', '147.456': '3', '147.9168': '3', '148.3776': '3', '148.8384': '3', '149.29919999999998': '3', '149.76': '3', '150.2208': '3', '150.6816': '3', '151.1424': '3', '151.6032': '3', '152.064': '3', '152.5248': '3', '152.9856': '3', '153.44639999999998': '3', '153.9072': '3', '154.368': '3', '154.8288': '3', '155.2896': '3', '155.75039999999998': '3', '156.2112': '3', '156.672': '3', '157.1328': '3', '157.5936': '3', '158.0544': '3', '158.5152': '3', '158.976': '3', '159.4368': '3', '159.89759999999998': '3', '160.3584': '3', '160.8192': '3', '161.28': '3', '161.7408': '3', '162.20159999999998': '3', '162.6624': '3', '163.1232': '3', '163.584': '3', '164.0448': '3', '164.5056': '3', '164.9664': '3', '165.4272': '3', '165.888': '3', '166.34879999999998': '3', '166.8096': '3', '167.2704': '3', '167.7312': '3', '168.192': '1', '168.65279999999998': '3', '169.1136': '3', '169.5744': '3', '170.0352': '3', '170.496': '3', '170.9568': '3', '171.4176': '3', '171.8784': '1', '172.3392': '3', '172.79999999999998': '3', '173.2608': '3', '173.7216': '3', '174.1824': '3', '174.6432': '3', '175.10399999999998': '3', '175.5648': '3', '176.0256': '3', '176.4864': '3', '176.9472': '0', '177.408': '3', '177.8688': '3', '178.3296': '3', '178.7904': '3', '179.25119999999998': '3', '179.712': '3', '180.1728': '3', '180.6336': '3', '181.0944': '3', '181.55519999999999': '3', '182.016': '3', '182.4768': '3', '182.9376': '3', '183.39839999999998': '3', '183.8592': '3', '184.32': '3', '184.7808': '3', '185.2416': '3', '185.70239999999998': '3', '186.1632': '3', '186.624': '3', '187.0848': '3', '187.5456': '3', '188.00639999999999': '3', '188.4672': '3', '188.928': '3', '189.3888': '3', '189.84959999999998': '3', '190.3104': '0', '190.7712': '0', '191.232': '3', '191.6928': '0', '192.15359999999998': '0', '192.6144': '3', '193.0752': '3', '193.536': '3', '193.9968': '3', '194.45759999999999': '3', '194.9184': '3', '195.3792': '3', '195.84': '3', '196.30079999999998': '3', '196.7616': '3', '197.2224': '3', '197.6832': '0', '198.144': '0', '198.60479999999998': '3', '199.0656': '0', '199.5264': '0', '199.9872': '3', '200.448': '3', '200.90879999999999': '3', '201.3696': '3', '201.8304': '3', '202.2912': '3', '202.75199999999998': '3', '203.2128': '3', '203.6736': '3', '204.1344': '3', '204.5952': '3', '205.05599999999998': '3', '205.5168': '3', '205.9776': '3', '206.4384': '0', '206.8992': '3', '207.35999999999999': '3', '207.8208': '3', '208.2816': '0', '208.7424': '3', '209.20319999999998': '0', '209.664': '0', '210.1248': '0', '210.5856': '0', '211.0464': '3', '211.50719999999998': '3', '211.968': '3', '212.4288': '0', '212.8896': '3', '213.3504': '0', '213.81119999999999': '0', '214.272': '0', '214.7328': '3', '215.1936': '0', '215.65439999999998': '0', '216.1152': '0', '216.576': '3', '217.0368': '3', '217.4976': '3', '217.95839999999998': '3', '218.4192': '3', '218.88': '3', '219.3408': '3', '219.8016': '3', '220.26239999999999': '3', '220.7232': '3', '221.184': '3', '221.6448': '3', '222.10559999999998': '3', '222.5664': '3', '223.0272': '3', '223.488': '3', '223.9488': '0', '224.40959999999998': '0', '224.8704': '0', '225.3312': '0', '225.792': '3', '226.2528': '3', '226.71359999999999': '3', '227.1744': '0', '227.6352': '3', '228.096': '0', '228.55679999999998': '0', '229.0176': '0', '229.4784': '3', '229.9392': '0', '230.4': '0', '230.86079999999998': '1', '231.3216': '1', '231.7824': '1', '232.2432': '1', '232.704': '1', '233.16479999999999': '1', '233.6256': '1', '234.0864': '1', '234.5472': '1', '235.00799999999998': '2', '235.4688': '2', '235.9296': '2', '236.3904': '2', '236.8512': '2', '237.31199999999998': '2'}\", \"legs\": \"{'0.0': '2', '0.4608': '2', '0.9216': '2', '1.3824': '2', '1.8432': '2', '2.304': '2', '2.7648': '2', '3.2256': '2', '3.6864': '2', '4.1472': '2', '4.608': '2', '5.0687999999999995': '2', '5.5296': '2', '5.9904': '2', '6.4512': '2', '6.912': '2', '7.3728': '2', '7.8336': '2', '8.2944': '2', '8.7552': '2', '9.216': '2', '9.6768': '2', '10.137599999999999': '2', '10.5984': '2', '11.0592': '2', '11.52': '2', '11.9808': '2', '12.4416': '2', '12.9024': '2', '13.363199999999999': '2', '13.824': '2', '14.284799999999999': '2', '14.7456': '2', '15.2064': '2', '15.6672': '2', '16.128': '2', '16.5888': '2', '17.049599999999998': '2', '17.5104': '2', '17.9712': '2', '18.432': '2', '18.8928': '2', '19.3536': '2', '19.8144': '1', '20.275199999999998': '1', '20.736': '1', '21.1968': '1', '21.6576': '1', '22.1184': '1', '22.5792': '1', '23.04': '2', '23.500799999999998': '2', '23.9616': '2', '24.4224': '2', '24.8832': '2', '25.343999999999998': '1', '25.8048': '2', '26.2656': '2', '26.726399999999998': '2', '27.1872': '2', '27.648': '2', '28.1088': '2', '28.569599999999998': '1', '29.0304': '1', '29.4912': '2', '29.951999999999998': '1', '30.4128': '1', '30.8736': '2', '31.3344': '2', '31.795199999999998': '2', '32.256': '1', '32.7168': '1', '33.1776': '2', '33.6384': '2', '34.099199999999996': '2', '34.56': '1', '35.0208': '1', '35.4816': '1', '35.9424': '2', '36.4032': '1', '36.864': '2', '37.324799999999996': '1', '37.7856': '2', '38.2464': '2', '38.7072': '2', '39.168': '2', '39.6288': '2', '40.0896': '1', '40.550399999999996': '2', '41.0112': '2', '41.472': '2', '41.9328': '2', '42.3936': '2', '42.8544': '1', '43.3152': '1', '43.775999999999996': '1', '44.2368': '2', '44.6976': '2', '45.1584': '2', '45.6192': '1', '46.08': '2', '46.5408': '2', '47.001599999999996': '2', '47.462399999999995': '1', '47.9232': '2', '48.384': '2', '48.8448': '2', '49.3056': '1', '49.7664': '1', '50.227199999999996': '1', '50.687999999999995': '0', '51.1488': '0', '51.6096': '1', '52.0704': '1', '52.5312': '1', '52.992': '0', '53.452799999999996': '2', '53.913599999999995': '0', '54.3744': '0', '54.8352': '1', '55.296': '0', '55.7568': '0', '56.2176': '0', '56.678399999999996': '0', '57.139199999999995': '0', '57.6': '1', '58.0608': '0', '58.5216': '1', '58.9824': '1', '59.4432': '1', '59.903999999999996': '1', '60.364799999999995': '0', '60.8256': '2', '61.2864': '0', '61.7472': '0', '62.208': '1', '62.6688': '0', '63.129599999999996': '0', '63.590399999999995': '0', '64.0512': '0', '64.512': '0', '64.97279999999999': '0', '65.4336': '0', '65.8944': '0', '66.3552': '0', '66.816': '0', '67.2768': '0', '67.7376': '0', '68.19839999999999': '0', '68.6592': '0', '69.12': '0', '69.5808': '0', '70.0416': '0', '70.5024': '0', '70.9632': '0', '71.42399999999999': '0', '71.8848': '0', '72.3456': '0', '72.8064': '0', '73.2672': '0', '73.728': '0', '74.1888': '0', '74.64959999999999': '0', '75.1104': '0', '75.5712': '0', '76.032': '0', '76.4928': '0', '76.9536': '0', '77.4144': '0', '77.87519999999999': '0', '78.336': '0', '78.7968': '0', '79.2576': '1', '79.7184': '1', '80.1792': '1', '80.64': '1', '81.10079999999999': '1', '81.5616': '1', '82.0224': '2', '82.4832': '1', '82.944': '2', '83.4048': '2', '83.8656': '2', '84.32639999999999': '1', '84.7872': '1', '85.248': '1', '85.7088': '2', '86.1696': '0', '86.6304': '2', '87.0912': '1', '87.55199999999999': '1', '88.0128': '1', '88.4736': '1', '88.9344': '1', '89.3952': '1', '89.856': '1', '90.3168': '2', '90.77759999999999': '2', '91.2384': '1', '91.69919999999999': '1', '92.16': '0', '92.6208': '1', '93.0816': '2', '93.5424': '0', '94.00319999999999': '1', '94.464': '1', '94.92479999999999': '0', '95.3856': '1', '95.8464': '0', '96.3072': '0', '96.768': '0', '97.22879999999999': '0', '97.6896': '0', '98.15039999999999': '0', '98.6112': '0', '99.072': '0', '99.5328': '0', '99.9936': '0', '100.45439999999999': '0', '100.9152': '0', '101.37599999999999': '0', '101.8368': '1', '102.2976': '1', '102.7584': '0', '103.2192': '0', '103.67999999999999': '0', '104.1408': '0', '104.60159999999999': '1', '105.0624': '0', '105.5232': '0', '105.984': '0', '106.4448': '1', '106.90559999999999': '0', '107.3664': '0', '107.82719999999999': '0', '108.288': '0', '108.7488': '0', '109.2096': '0', '109.6704': '0', '110.13119999999999': '0', '110.592': '0', '111.05279999999999': '0', '111.5136': '0', '111.9744': '0', '112.4352': '0', '112.896': '0', '113.35679999999999': '0', '113.8176': '0', '114.27839999999999': '0', '114.7392': '0', '115.2': '0', '115.6608': '0', '116.1216': '0', '116.58239999999999': '0', '117.0432': '0', '117.50399999999999': '0', '117.9648': '0', '118.4256': '0', '118.8864': '0', '119.3472': '0', '119.80799999999999': '0', '120.2688': '0', '120.72959999999999': '0', '121.1904': '0', '121.6512': '0', '122.112': '0', '122.5728': '0', '123.03359999999999': '0', '123.4944': '1', '123.95519999999999': '2', '124.416': '2', '124.8768': '2', '125.3376': '0', '125.7984': '2', '126.25919999999999': '2', '126.72': '2', '127.18079999999999': '2', '127.6416': '2', '128.1024': '2', '128.5632': '2', '129.024': '1', '129.4848': '2', '129.94559999999998': '2', '130.4064': '2', '130.8672': '2', '131.328': '2', '131.7888': '1', '132.2496': '2', '132.7104': '1', '133.1712': '2', '133.632': '2', '134.09279999999998': '1', '134.5536': '2', '135.0144': '2', '135.4752': '2', '135.936': '1', '136.39679999999998': '1', '136.8576': '1', '137.3184': '2', '137.7792': '2', '138.24': '0', '138.7008': '1', '139.1616': '0', '139.6224': '0', '140.0832': '0', '140.54399999999998': '0', '141.0048': '0', '141.4656': '0', '141.9264': '0', '142.3872': '0', '142.84799999999998': '0', '143.3088': '0', '143.7696': '0', '144.2304': '0', '144.6912': '0', '145.152': '0', '145.6128': '0', '146.0736': '0', '146.5344': '0', '146.99519999999998': '0', '147.456': '0', '147.9168': '0', '148.3776': '0', '148.8384': '0', '149.29919999999998': '0', '149.76': '0', '150.2208': '0', '150.6816': '0', '151.1424': '0', '151.6032': '0', '152.064': '0', '152.5248': '0', '152.9856': '0', '153.44639999999998': '0', '153.9072': '0', '154.368': '0', '154.8288': '0', '155.2896': '0', '155.75039999999998': '0', '156.2112': '0', '156.672': '0', '157.1328': '0', '157.5936': '0', '158.0544': '0', '158.5152': '0', '158.976': '0', '159.4368': '0', '159.89759999999998': '0', '160.3584': '0', '160.8192': '0', '161.28': '0', '161.7408': '0', '162.20159999999998': '0', '162.6624': '0', '163.1232': '0', '163.584': '0', '164.0448': '0', '164.5056': '0', '164.9664': '0', '165.4272': '0', '165.888': '0', '166.34879999999998': '0', '166.8096': '0', '167.2704': '0', '167.7312': '2', '168.192': '2', '168.65279999999998': '2', '169.1136': '2', '169.5744': '2', '170.0352': '2', '170.496': '2', '170.9568': '2', '171.4176': '2', '171.8784': '2', '172.3392': '2', '172.79999999999998': '2', '173.2608': '2', '173.7216': '2', '174.1824': '2', '174.6432': '2', '175.10399999999998': '1', '175.5648': '1', '176.0256': '0', '176.4864': '0', '176.9472': '1', '177.408': '1', '177.8688': '0', '178.3296': '0', '178.7904': '1', '179.25119999999998': '1', '179.712': '0', '180.1728': '0', '180.6336': '1', '181.0944': '0', '181.55519999999999': '0', '182.016': '0', '182.4768': '1', '182.9376': '1', '183.39839999999998': '0', '183.8592': '0', '184.32': '1', '184.7808': '1', '185.2416': '0', '185.70239999999998': '0', '186.1632': '1', '186.624': '0', '187.0848': '0', '187.5456': '0', '188.00639999999999': '1', '188.4672': '0', '188.928': '0', '189.3888': '0', '189.84959999999998': '1', '190.3104': '1', '190.7712': '0', '191.232': '1', '191.6928': '1', '192.15359999999998': '1', '192.6144': '0', '193.0752': '1', '193.536': '1', '193.9968': '1', '194.45759999999999': '1', '194.9184': '0', '195.3792': '1', '195.84': '0', '196.30079999999998': '0', '196.7616': '0', '197.2224': '1', '197.6832': '1', '198.144': '1', '198.60479999999998': '1', '199.0656': '1', '199.5264': '1', '199.9872': '0', '200.448': '1', '200.90879999999999': '1', '201.3696': '0', '201.8304': '0', '202.2912': '0', '202.75199999999998': '1', '203.2128': '1', '203.6736': '0', '204.1344': '0', '204.5952': '1', '205.05599999999998': '1', '205.5168': '0', '205.9776': '0', '206.4384': '1', '206.8992': '1', '207.35999999999999': '0', '207.8208': '0', '208.2816': '1', '208.7424': '1', '209.20319999999998': '1', '209.664': '1', '210.1248': '1', '210.5856': '1', '211.0464': '0', '211.50719999999998': '0', '211.968': '1', '212.4288': '1', '212.8896': '1', '213.3504': '1', '213.81119999999999': '1', '214.272': '1', '214.7328': '1', '215.1936': '1', '215.65439999999998': '1', '216.1152': '1', '216.576': '1', '217.0368': '0', '217.4976': '1', '217.95839999999998': '0', '218.4192': '0', '218.88': '1', '219.3408': '1', '219.8016': '1', '220.26239999999999': '0', '220.7232': '0', '221.184': '1', '221.6448': '1', '222.10559999999998': '0', '222.5664': '0', '223.0272': '1', '223.488': '1', '223.9488': '1', '224.40959999999998': '1', '224.8704': '1', '225.3312': '1', '225.792': '0', '226.2528': '0', '226.71359999999999': '1', '227.1744': '1', '227.6352': '1', '228.096': '1', '228.55679999999998': '1', '229.0176': '1', '229.4784': '1', '229.9392': '1', '230.4': '1', '230.86079999999998': '2', '231.3216': '2', '231.7824': '2', '232.2432': '2', '232.704': '2', '233.16479999999999': '2', '233.6256': '2', '234.0864': '2', '234.5472': '2', '235.00799999999998': '2', '235.4688': '2', '235.9296': '2', '236.3904': '2', '236.8512': '2', '237.31199999999998': '2'}\", \"freqs\": \"1.0850694444444444\"}\n"
     ]
    }
   ],
   "source": [
    "json_dump = json.dumps(dict_full)\n",
    "\n",
    "print(json_dump)"
   ]
  },
  {
   "cell_type": "code",
   "execution_count": 1662,
   "metadata": {},
   "outputs": [],
   "source": [
    "with open('../json/poses.json', 'w') as f:\n",
    "    f.write(json_dump)\n",
    "with open(r'C:\\Users\\urgpa\\OneDrive\\Escritorio\\Unity\\PuppetTest\\Assets\\_Scripts\\Poses\\poses.json', 'w') as f:\n",
    "    f.write(json_dump)"
   ]
  },
  {
   "cell_type": "markdown",
   "metadata": {},
   "source": [
    "# PLOTTING"
   ]
  },
  {
   "cell_type": "code",
   "execution_count": 1467,
   "metadata": {},
   "outputs": [
    {
     "name": "stdout",
     "output_type": "stream",
     "text": [
      "10\n"
     ]
    },
    {
     "ename": "ZeroDivisionError",
     "evalue": "division by zero",
     "output_type": "error",
     "traceback": [
      "\u001b[1;31m---------------------------------------------------------------------------\u001b[0m",
      "\u001b[1;31mZeroDivisionError\u001b[0m                         Traceback (most recent call last)",
      "\u001b[1;32m<ipython-input-1467-7a32bd6fb0d5>\u001b[0m in \u001b[0;36m<module>\u001b[1;34m\u001b[0m\n\u001b[0;32m     15\u001b[0m     \u001b[0max\u001b[0m\u001b[1;33m[\u001b[0m\u001b[1;36m1\u001b[0m\u001b[1;33m]\u001b[0m\u001b[1;33m.\u001b[0m\u001b[0mset\u001b[0m\u001b[1;33m(\u001b[0m\u001b[0mtitle\u001b[0m\u001b[1;33m=\u001b[0m\u001b[1;34m'Harmonic + Percussive'\u001b[0m\u001b[1;33m)\u001b[0m\u001b[1;33m\u001b[0m\u001b[1;33m\u001b[0m\u001b[0m\n\u001b[0;32m     16\u001b[0m \u001b[1;33m\u001b[0m\u001b[0m\n\u001b[1;32m---> 17\u001b[1;33m \u001b[0mplot_mono_ham_perc\u001b[0m\u001b[1;33m(\u001b[0m\u001b[1;33m)\u001b[0m\u001b[1;33m\u001b[0m\u001b[1;33m\u001b[0m\u001b[0m\n\u001b[0m",
      "\u001b[1;32m<ipython-input-1467-7a32bd6fb0d5>\u001b[0m in \u001b[0;36mplot_mono_ham_perc\u001b[1;34m()\u001b[0m\n\u001b[0;32m      1\u001b[0m \u001b[1;32mdef\u001b[0m \u001b[0mplot_mono_ham_perc\u001b[0m\u001b[1;33m(\u001b[0m\u001b[1;33m)\u001b[0m\u001b[1;33m:\u001b[0m\u001b[1;33m\u001b[0m\u001b[1;33m\u001b[0m\u001b[0m\n\u001b[0;32m      2\u001b[0m     \u001b[0minp\u001b[0m \u001b[1;33m=\u001b[0m \u001b[0mint\u001b[0m\u001b[1;33m(\u001b[0m\u001b[0minput\u001b[0m\u001b[1;33m(\u001b[0m\u001b[1;33m)\u001b[0m\u001b[1;33m)\u001b[0m\u001b[1;33m\u001b[0m\u001b[1;33m\u001b[0m\u001b[0m\n\u001b[1;32m----> 3\u001b[1;33m     \u001b[0mindex\u001b[0m \u001b[1;33m=\u001b[0m \u001b[0minp\u001b[0m \u001b[1;33m/\u001b[0m \u001b[0mint\u001b[0m\u001b[1;33m(\u001b[0m\u001b[0mvcompas_time\u001b[0m\u001b[1;33m)\u001b[0m\u001b[1;33m\u001b[0m\u001b[1;33m\u001b[0m\u001b[0m\n\u001b[0m\u001b[0;32m      4\u001b[0m \u001b[1;33m\u001b[0m\u001b[0m\n\u001b[0;32m      5\u001b[0m     \u001b[0mfig\u001b[0m\u001b[1;33m,\u001b[0m \u001b[0max\u001b[0m \u001b[1;33m=\u001b[0m \u001b[0mplt\u001b[0m\u001b[1;33m.\u001b[0m\u001b[0msubplots\u001b[0m\u001b[1;33m(\u001b[0m\u001b[0mnrows\u001b[0m\u001b[1;33m=\u001b[0m\u001b[1;36m2\u001b[0m\u001b[1;33m,\u001b[0m \u001b[0msharex\u001b[0m\u001b[1;33m=\u001b[0m\u001b[1;32mTrue\u001b[0m\u001b[1;33m,\u001b[0m \u001b[0msharey\u001b[0m\u001b[1;33m=\u001b[0m\u001b[1;32mTrue\u001b[0m\u001b[1;33m)\u001b[0m\u001b[1;33m\u001b[0m\u001b[1;33m\u001b[0m\u001b[0m\n",
      "\u001b[1;31mZeroDivisionError\u001b[0m: division by zero"
     ]
    }
   ],
   "source": [
    "def plot_mono_ham_perc():\n",
    "    inp = int(input())\n",
    "    index = inp / int(vcompas_time)\n",
    "    \n",
    "    fig, ax = plt.subplots(nrows=2, sharex=True, sharey=True)\n",
    "\n",
    "    librosa.display.waveplot(df_compas.wform[index][0], sr=samplerate, ax=ax[0])\n",
    "    ax[0].set(title='Monophonic')\n",
    "    ax[0].label_outer()\n",
    "\n",
    "    y_harm, y_perc = librosa.effects.hpss(df_compas.wform[index][0])\n",
    "    print(y_harm[y_perc > 0.1].mean() * len(y_harm[y_perc > 0.1]))\n",
    "    librosa.display.waveplot(y_harm, sr=samplerate, alpha=0.25, ax=ax[1])\n",
    "    librosa.display.waveplot(y_perc, sr=samplerate, color='r', alpha=0.5, ax=ax[1])\n",
    "    ax[1].set(title='Harmonic + Percussive')\n",
    "\n",
    "plot_mono_ham_perc()"
   ]
  },
  {
   "cell_type": "code",
   "execution_count": 16,
   "metadata": {},
   "outputs": [
    {
     "name": "stdout",
     "output_type": "stream",
     "text": [
      "10\n"
     ]
    },
    {
     "data": {
      "image/png": "[encoded data removed]",
      "text/plain": [
       "<Figure size 1296x360 with 1 Axes>"
      ]
     },
     "metadata": {
      "needs_background": "light"
     },
     "output_type": "display_data"
    }
   ],
   "source": [
    "def plot_magnitude_spectrum(sr, title, f_ratio=0.5):\n",
    "    index = int(input())\n",
    "    #index = inp / vcompas_time\n",
    "    signal = df_compas.wform[index][0]\n",
    "    \n",
    "    y_harm, y_perc = librosa.effects.hpss(signal)\n",
    "    \n",
    "    psignal = np.array(0)\n",
    "    if title[0].lower() == 'h':\n",
    "        psignal = y_harm\n",
    "    elif title[0].lower() == 'p':\n",
    "        psignal = y_perc\n",
    "    else:\n",
    "        psignal = signal\n",
    "    \n",
    "    X = np.fft.fft(psignal)\n",
    "    X_mag = np.absolute(X)\n",
    "    \n",
    "    plt.figure(figsize=(18, 5))\n",
    "    \n",
    "    f = np.linspace(0, samplerate, len(X_mag), endpoint = False)\n",
    "    f_bins = int(len(X_mag)*f_ratio)  \n",
    "    \n",
    "    plt.plot(f[:f_bins], X_mag[:f_bins])\n",
    "    plt.xlabel('Frequency (Hz)')\n",
    "    plt.title(title)\n",
    "\n",
    "plot_magnitude_spectrum(samplerate, 'p', 0.5)"
   ]
  },
  {
   "cell_type": "code",
   "execution_count": 22,
   "metadata": {},
   "outputs": [],
   "source": [
    "f = np.linspace(0, samplerate, len(X_mag), endpoint = False)"
   ]
  },
  {
   "cell_type": "code",
   "execution_count": 28,
   "metadata": {},
   "outputs": [
    {
     "data": {
      "text/plain": [
       "30000"
      ]
     },
     "execution_count": 28,
     "metadata": {},
     "output_type": "execute_result"
    }
   ],
   "source": [
    "list(f).index(1000)"
   ]
  },
  {
   "cell_type": "code",
   "execution_count": 24,
   "metadata": {},
   "outputs": [
    {
     "data": {
      "text/plain": [
       "44100"
      ]
     },
     "execution_count": 24,
     "metadata": {},
     "output_type": "execute_result"
    }
   ],
   "source": [
    "len(f)"
   ]
  },
  {
   "cell_type": "code",
   "execution_count": 34,
   "metadata": {},
   "outputs": [
    {
     "ename": "ValueError",
     "evalue": "22050 is not in list",
     "output_type": "error",
     "traceback": [
      "\u001b[1;31m---------------------------------------------------------------------------\u001b[0m",
      "\u001b[1;31mValueError\u001b[0m                                Traceback (most recent call last)",
      "\u001b[1;32m<ipython-input-34-31bb45008b40>\u001b[0m in \u001b[0;36m<module>\u001b[1;34m\u001b[0m\n\u001b[1;32m----> 1\u001b[1;33m \u001b[0mlist\u001b[0m\u001b[1;33m(\u001b[0m\u001b[0mf\u001b[0m\u001b[1;33m)\u001b[0m\u001b[1;33m.\u001b[0m\u001b[0mindex\u001b[0m\u001b[1;33m(\u001b[0m\u001b[0msamplerate\u001b[0m\u001b[1;33m)\u001b[0m\u001b[1;33m\u001b[0m\u001b[1;33m\u001b[0m\u001b[0m\n\u001b[0m",
      "\u001b[1;31mValueError\u001b[0m: 22050 is not in list"
     ]
    }
   ],
   "source": [
    "list(f).index(samplerate)"
   ]
  },
  {
   "cell_type": "code",
   "execution_count": 35,
   "metadata": {},
   "outputs": [
    {
     "ename": "IndexError",
     "evalue": "index 44100 is out of bounds for axis 0 with size 44100",
     "output_type": "error",
     "traceback": [
      "\u001b[1;31m---------------------------------------------------------------------------\u001b[0m",
      "\u001b[1;31mIndexError\u001b[0m                                Traceback (most recent call last)",
      "\u001b[1;32m<ipython-input-35-41fe3913e365>\u001b[0m in \u001b[0;36m<module>\u001b[1;34m\u001b[0m\n\u001b[1;32m----> 1\u001b[1;33m \u001b[0mf\u001b[0m\u001b[1;33m[\u001b[0m\u001b[0mlen\u001b[0m\u001b[1;33m(\u001b[0m\u001b[0msignl\u001b[0m\u001b[1;33m)\u001b[0m\u001b[1;33m]\u001b[0m\u001b[1;33m\u001b[0m\u001b[1;33m\u001b[0m\u001b[0m\n\u001b[0m",
      "\u001b[1;31mIndexError\u001b[0m: index 44100 is out of bounds for axis 0 with size 44100"
     ]
    }
   ],
   "source": [
    "f[len(signl)]"
   ]
  },
  {
   "cell_type": "code",
   "execution_count": null,
   "metadata": {},
   "outputs": [],
   "source": []
  }
 ],
 "metadata": {
  "kernelspec": {
   "display_name": "Python 3",
   "language": "python",
   "name": "python3"
  },
  "language_info": {
   "codemirror_mode": {
    "name": "ipython",
    "version": 3
   },
   "file_extension": ".py",
   "mimetype": "text/x-python",
   "name": "python",
   "nbconvert_exporter": "python",
   "pygments_lexer": "ipython3",
   "version": "3.8.5"
  }
 },
 "nbformat": 4,
 "nbformat_minor": 4
}
