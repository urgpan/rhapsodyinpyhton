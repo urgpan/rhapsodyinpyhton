{
 "cells": [
  {
   "cell_type": "code",
   "execution_count": 2,
   "metadata": {},
   "outputs": [],
   "source": [
    "import librosa\n",
    "import json\n",
    "import math\n",
    "import scipy\n",
    "import statistics\n",
    "import librosa.display\n",
    "import scipy as sp\n",
    "import IPython.display as ipd\n",
    "import matplotlib.pyplot as plt\n",
    "import numpy as np\n",
    "import pandas as pd\n",
    "\n",
    "import seaborn as sns \n",
    "\n",
    "from sklearn.cluster import DBSCAN, KMeans\n",
    "\n",
    "from sklearn.preprocessing import StandardScaler\n",
    "from sklearn.mixture import GaussianMixture"
   ]
  },
  {
   "cell_type": "code",
   "execution_count": null,
   "metadata": {},
   "outputs": [],
   "source": [
    "from tkinter import Tk     # from tkinter import Tk for Python 3.x\n",
    "from tkinter.filedialog import askopenfilename"
   ]
  },
  {
   "cell_type": "code",
   "execution_count": 7,
   "metadata": {},
   "outputs": [
    {
     "name": "stdout",
     "output_type": "stream",
     "text": [
      "C:/Users/urgpa/OneDrive/Escritorio/Unity/PuppetTest/Assets/_Sonidos/pana_miguel.wav\n"
     ]
    }
   ],
   "source": [
    "\n",
    "\n",
    "Tk().withdraw() # we don't want a full GUI, so keep the root window from appearing\n",
    "filename = askopenfilename() # show an \"Open\" dialog box and return the path to the selected file\n",
    "print(filename)"
   ]
  },
  {
   "cell_type": "markdown",
   "metadata": {},
   "source": [
    "# LOAD SONG"
   ]
  },
  {
   "cell_type": "code",
   "execution_count": 3,
   "metadata": {},
   "outputs": [],
   "source": [
    "file_dir = r\"C:\\Users\\urgpa\\OneDrive\\Escritorio\\Unity\\PuppetTest\\Assets\\_Sonidos\\warni.wav\"\n",
    "#ipd.Audio(file_dir)"
   ]
  },
  {
   "cell_type": "code",
   "execution_count": 4,
   "metadata": {},
   "outputs": [],
   "source": [
    "signal, samplerate = librosa.load(file_dir)\n",
    "#print(signal, samplerate)"
   ]
  },
  {
   "cell_type": "markdown",
   "metadata": {},
   "source": [
    "# GET GENERAL SONG FEATURES"
   ]
  },
  {
   "cell_type": "markdown",
   "metadata": {},
   "source": [
    "PREDICT SONG TEMPO"
   ]
  },
  {
   "cell_type": "code",
   "execution_count": 5,
   "metadata": {},
   "outputs": [
    {
     "name": "stderr",
     "output_type": "stream",
     "text": [
      "C:\\Users\\urgpa\\anaconda3\\lib\\site-packages\\librosa\\filters.py:238: UserWarning: Empty filters detected in mel frequency basis. Some channels will produce empty responses. Try increasing your sampling rate (and fmax) or reducing n_mels.\n",
      "  warnings.warn(\n"
     ]
    },
    {
     "data": {
      "text/plain": [
       "array([146.484375])"
      ]
     },
     "execution_count": 5,
     "metadata": {},
     "output_type": "execute_result"
    }
   ],
   "source": [
    "signal_bpm, samplerate_bpm = librosa.load(file_dir, duration = 30, sr = 10000)\n",
    "onset_env = librosa.onset.onset_strength(signal_bpm, sr=samplerate_bpm)\n",
    "tempo = librosa.beat.tempo(onset_envelope=onset_env, sr=samplerate_bpm)\n",
    "tempo"
   ]
  },
  {
   "cell_type": "markdown",
   "metadata": {},
   "source": [
    "# DIVIDE SONG INTO COMPASES"
   ]
  },
  {
   "cell_type": "code",
   "execution_count": 6,
   "metadata": {},
   "outputs": [],
   "source": [
    "song_duration= librosa.get_duration(y=signal, sr=samplerate) #duration of the song\n",
    "\n",
    "beat_num = 1\n",
    "bpm = tempo\n",
    "vcompas_time = beat_num * 60 / bpm #duration of a compas\n",
    "                                       \n",
    "vcompas_num  = song_duration / vcompas_time                  #number of compases \n",
    "compas_sample_num = vcompas_time * samplerate                #number of samples on each compas\n",
    "song_sample_num = compas_sample_num * vcompas_num            #total number of samples in the song\n",
    "\n",
    "\n",
    "vcompas_data = {} \n",
    "for vcompas_i in range(0,int(vcompas_num)):                                \n",
    "    start = math.floor(compas_sample_num * vcompas_i)          #start sample for the compas\n",
    "    end = math.floor(compas_sample_num * (vcompas_i + 1))      #end sample for the compas\n",
    "    selected_samples = signal[start:end]                       #array with all the compas samples\n",
    "    vcompas_data[vcompas_i] = ([selected_samples],vcompas_time * vcompas_i)\n",
    "\n",
    "df_compas = pd.DataFrame.from_dict(vcompas_data, orient = 'index', columns = ['wform','times'])"
   ]
  },
  {
   "cell_type": "markdown",
   "metadata": {},
   "source": [
    "# GET COMPAS BIGGEST FREQUENCIES"
   ]
  },
  {
   "cell_type": "code",
   "execution_count": 7,
   "metadata": {},
   "outputs": [],
   "source": [
    "#CREATE A DATA FRAME WITH THE FREQUENCIES ARRAY\n",
    "df_freq = pd.DataFrame(columns = ['mag']) \n",
    "for csignal in df_compas['wform']:\n",
    "    csignal = csignal[0]\n",
    "    X = np.fft.fft(csignal)\n",
    "    X_mag = np.absolute(X)\n",
    "    #print(X_mag[0])\n",
    "    newdf = pd.DataFrame([[X_mag]], columns = ['mag'])\n",
    "    df_freq = pd.concat([df_freq, newdf], axis = 0)\n",
    "\n",
    "df_freq = df_freq.reset_index(drop = True)"
   ]
  },
  {
   "cell_type": "code",
   "execution_count": 8,
   "metadata": {},
   "outputs": [],
   "source": [
    "#GET MAXIMUS OF THE FREQUENCIES\n",
    "instrument_division = [0,100,300,600,1000,2500,7000,15000]\n",
    "fixed_instrument_div = list(instrument_division)\n",
    "fixed_instrument_div.remove(0)\n",
    "\n",
    "f = np.linspace(0, samplerate, len(X_mag), endpoint = False)\n",
    "df_bin_freq = pd.DataFrame(columns = fixed_instrument_div)\n",
    "\n",
    "for ampl in df_freq.mag: #loop time domain compases\n",
    "    \n",
    "    freq_full = [] #list with al freq list\n",
    "\n",
    "    for i in range(1,len(instrument_division)): #loop through freq domain\n",
    "        \n",
    "        start = instrument_division[i - 1] * len(ampl) / f[len(ampl) - 2] #starting point of the frequency bin\n",
    "        end = instrument_division[i] * len(ampl) / f[len(ampl) - 2] #end point\n",
    "        \n",
    "        freq_bin = ampl[math.floor(start):math.floor(end)] #save magintudes bin\n",
    "        freq_full += [freq_bin]\n",
    "        #print(freq_bin)\n",
    "        #dat_tuple = (list(ampl).index(ampl[start:end].max()),signl[start:end].max())\n",
    "        #print(f[dat_tuple[0]], dat_tuple)\n",
    "\n",
    "    newdf_cluster_freq = pd.DataFrame([freq_full], columns = fixed_instrument_div)\n",
    "    df_bin_freq = pd.concat([df_bin_freq, newdf_cluster_freq])\n",
    "    \n",
    "df_bin_freq = df_bin_freq.reset_index()\n",
    "df_bin_freq.drop(['index'], inplace = True, axis = 1)"
   ]
  },
  {
   "cell_type": "markdown",
   "metadata": {},
   "source": [
    "# LOWER FREQS"
   ]
  },
  {
   "cell_type": "code",
   "execution_count": 9,
   "metadata": {},
   "outputs": [],
   "source": [
    "df_lower = df_bin_freq.drop(columns = [600,1000,2500,7000,15000])\n",
    "df_lower.columns = list(map(lambda x: str(x), df_lower.columns))"
   ]
  },
  {
   "cell_type": "code",
   "execution_count": 10,
   "metadata": {},
   "outputs": [],
   "source": [
    "df_lower['100_mean'] = df_lower['100'].apply(lambda x: x.mean())\n",
    "df_lower['100_median'] = df_lower['100'].apply(lambda x: statistics.median(x))\n",
    "df_lower['100_max'] = df_lower['100'].apply(lambda x: x.max())\n",
    "df_lower['300_mean'] = df_lower['300'].apply(lambda x: x.mean())\n",
    "df_lower['300_median'] = df_lower['300'].apply(lambda x: statistics.median(x))\n",
    "df_lower['300_max'] = df_lower['300'].apply(lambda x: x.max())"
   ]
  },
  {
   "cell_type": "code",
   "execution_count": 11,
   "metadata": {},
   "outputs": [],
   "source": [
    "df_lower_model = df_lower.drop(['100','300'], axis = 1)"
   ]
  },
  {
   "cell_type": "code",
   "execution_count": 12,
   "metadata": {},
   "outputs": [],
   "source": [
    "scaler = StandardScaler().fit(df_lower_model)\n",
    "X_prep = scaler.transform(df_lower_model)\n",
    "\n",
    "kmeans = GaussianMixture(n_components= 2, covariance_type='diag',max_iter =  100,n_init = 8, random_state = 1234)\n",
    "kmeans.fit(X_prep)\n",
    "\n",
    "yhat = kmeans.predict(X_prep)\n",
    "clusters = np.unique(yhat)"
   ]
  },
  {
   "cell_type": "code",
   "execution_count": 13,
   "metadata": {},
   "outputs": [
    {
     "data": {
      "text/html": [
       "<div>\n",
       "<style scoped>\n",
       "    .dataframe tbody tr th:only-of-type {\n",
       "        vertical-align: middle;\n",
       "    }\n",
       "\n",
       "    .dataframe tbody tr th {\n",
       "        vertical-align: top;\n",
       "    }\n",
       "\n",
       "    .dataframe thead th {\n",
       "        text-align: right;\n",
       "    }\n",
       "</style>\n",
       "<table border=\"1\" class=\"dataframe\">\n",
       "  <thead>\n",
       "    <tr style=\"text-align: right;\">\n",
       "      <th></th>\n",
       "      <th>times</th>\n",
       "      <th>gnre</th>\n",
       "    </tr>\n",
       "  </thead>\n",
       "  <tbody>\n",
       "    <tr>\n",
       "      <th>0</th>\n",
       "      <td>0.0000</td>\n",
       "      <td>1</td>\n",
       "    </tr>\n",
       "    <tr>\n",
       "      <th>1</th>\n",
       "      <td>0.4096</td>\n",
       "      <td>1</td>\n",
       "    </tr>\n",
       "    <tr>\n",
       "      <th>2</th>\n",
       "      <td>0.8192</td>\n",
       "      <td>1</td>\n",
       "    </tr>\n",
       "    <tr>\n",
       "      <th>3</th>\n",
       "      <td>1.2288</td>\n",
       "      <td>1</td>\n",
       "    </tr>\n",
       "    <tr>\n",
       "      <th>4</th>\n",
       "      <td>1.6384</td>\n",
       "      <td>1</td>\n",
       "    </tr>\n",
       "    <tr>\n",
       "      <th>...</th>\n",
       "      <td>...</td>\n",
       "      <td>...</td>\n",
       "    </tr>\n",
       "    <tr>\n",
       "      <th>1043</th>\n",
       "      <td>427.2128</td>\n",
       "      <td>1</td>\n",
       "    </tr>\n",
       "    <tr>\n",
       "      <th>1044</th>\n",
       "      <td>427.6224</td>\n",
       "      <td>1</td>\n",
       "    </tr>\n",
       "    <tr>\n",
       "      <th>1045</th>\n",
       "      <td>428.0320</td>\n",
       "      <td>1</td>\n",
       "    </tr>\n",
       "    <tr>\n",
       "      <th>1046</th>\n",
       "      <td>428.4416</td>\n",
       "      <td>1</td>\n",
       "    </tr>\n",
       "    <tr>\n",
       "      <th>1047</th>\n",
       "      <td>428.8512</td>\n",
       "      <td>1</td>\n",
       "    </tr>\n",
       "  </tbody>\n",
       "</table>\n",
       "<p>1048 rows × 2 columns</p>\n",
       "</div>"
      ],
      "text/plain": [
       "         times  gnre\n",
       "0       0.0000     1\n",
       "1       0.4096     1\n",
       "2       0.8192     1\n",
       "3       1.2288     1\n",
       "4       1.6384     1\n",
       "...        ...   ...\n",
       "1043  427.2128     1\n",
       "1044  427.6224     1\n",
       "1045  428.0320     1\n",
       "1046  428.4416     1\n",
       "1047  428.8512     1\n",
       "\n",
       "[1048 rows x 2 columns]"
      ]
     },
     "execution_count": 13,
     "metadata": {},
     "output_type": "execute_result"
    }
   ],
   "source": [
    "df_low_final = df_compas.drop(columns = ['wform'])\n",
    "df_low_final['times'] = df_low_final['times'].apply(lambda x: x[0])\n",
    "df_low_final['gnre'] = yhat\n",
    "df_low_final"
   ]
  },
  {
   "cell_type": "code",
   "execution_count": 14,
   "metadata": {},
   "outputs": [
    {
     "data": {
      "image/png": "[encoded data removed]",
      "text/plain": [
       "<Figure size 432x288 with 1 Axes>"
      ]
     },
     "metadata": {
      "needs_background": "light"
     },
     "output_type": "display_data"
    }
   ],
   "source": [
    "# create scatter plot for samples from each cluster\n",
    "for cluster in np.unique(yhat):\n",
    "\t# get row indexes for samples with this cluster\n",
    "\trow_ix = np.where(yhat == cluster)\n",
    "\t# create scatter of these samples\n",
    "\tplt.scatter(X_prep[row_ix, 0], X_prep[row_ix, 1])\n",
    "\n",
    "# show the plot\n",
    "plt.title(\"Clusters detected by GMM with a 'full' covariance matrix\")\n",
    "plt.show()"
   ]
  },
  {
   "cell_type": "markdown",
   "metadata": {},
   "source": [
    "# MID FREQS"
   ]
  },
  {
   "cell_type": "code",
   "execution_count": 15,
   "metadata": {},
   "outputs": [],
   "source": [
    "#get the specific bin frequencies\n",
    "df_mid = df_bin_freq.drop(columns = [100,300,2500,7000,15000])\n",
    "df_mid.columns = list(map(lambda x: str(x), df_mid.columns))"
   ]
  },
  {
   "cell_type": "code",
   "execution_count": 16,
   "metadata": {},
   "outputs": [],
   "source": [
    "df_mid['600_mean'] = df_mid['600'].apply(lambda x: x.mean())\n",
    "df_mid['600_median'] = df_mid['600'].apply(lambda x: statistics.median(x))\n",
    "df_mid['600_max'] = df_mid['600'].apply(lambda x: x.max())\n",
    "df_mid['1000_mean'] = df_mid['1000'].apply(lambda x: x.mean())\n",
    "df_mid['1000_median'] = df_mid['1000'].apply(lambda x: statistics.median(x))\n",
    "df_mid['1000_max'] = df_mid['1000'].apply(lambda x: x.max())"
   ]
  },
  {
   "cell_type": "code",
   "execution_count": 17,
   "metadata": {},
   "outputs": [],
   "source": [
    "df_mid_model = df_mid.drop(['600','1000'], axis = 1)"
   ]
  },
  {
   "cell_type": "code",
   "execution_count": 18,
   "metadata": {},
   "outputs": [],
   "source": [
    "scaler = StandardScaler().fit(df_mid_model)\n",
    "X_prep = scaler.transform(df_mid_model)\n",
    "\n",
    "kmeans = GaussianMixture(n_components= 2, covariance_type='spherical',max_iter = 300,n_init = 8, random_state = 1234, init_params = 'random')\n",
    "#kmeans = KMeans(n_clusters= 2,\n",
    " #               init=\"random\",\n",
    "  #              n_init= 20,  # try with 1, 4, 8, 20, 30, 100...\n",
    "   ##             max_iter= 200,\n",
    "     #           tol= 1e-4,\n",
    "      ##          algorithm=\"auto\",\n",
    "        #        random_state=1234)\n",
    "\n",
    "kmeans.fit(X_prep)\n",
    "\n",
    "yhat = kmeans.predict(X_prep)\n",
    "clusters = np.unique(yhat)"
   ]
  },
  {
   "cell_type": "code",
   "execution_count": 19,
   "metadata": {},
   "outputs": [
    {
     "data": {
      "image/png": "[encoded data removed]",
      "text/plain": [
       "<Figure size 432x288 with 1 Axes>"
      ]
     },
     "metadata": {
      "needs_background": "light"
     },
     "output_type": "display_data"
    }
   ],
   "source": [
    "# create scatter plot for samples from each cluster\n",
    "for cluster in np.unique(yhat):\n",
    "\t# get row indexes for samples with this cluster\n",
    "\trow_ix = np.where(yhat == cluster)\n",
    "\t# create scatter of these samples\n",
    "\tplt.scatter(X_prep[row_ix, 0], X_prep[row_ix, 1])\n",
    "\n",
    "# show the plot\n",
    "plt.title(\"Clusters detected by GMM with a 'full' covariance matrix\")\n",
    "plt.show()"
   ]
  },
  {
   "cell_type": "code",
   "execution_count": 20,
   "metadata": {},
   "outputs": [
    {
     "data": {
      "text/html": [
       "<div>\n",
       "<style scoped>\n",
       "    .dataframe tbody tr th:only-of-type {\n",
       "        vertical-align: middle;\n",
       "    }\n",
       "\n",
       "    .dataframe tbody tr th {\n",
       "        vertical-align: top;\n",
       "    }\n",
       "\n",
       "    .dataframe thead th {\n",
       "        text-align: right;\n",
       "    }\n",
       "</style>\n",
       "<table border=\"1\" class=\"dataframe\">\n",
       "  <thead>\n",
       "    <tr style=\"text-align: right;\">\n",
       "      <th></th>\n",
       "      <th>times</th>\n",
       "      <th>gnre</th>\n",
       "    </tr>\n",
       "  </thead>\n",
       "  <tbody>\n",
       "    <tr>\n",
       "      <th>0</th>\n",
       "      <td>0.0000</td>\n",
       "      <td>0</td>\n",
       "    </tr>\n",
       "    <tr>\n",
       "      <th>1</th>\n",
       "      <td>0.4096</td>\n",
       "      <td>0</td>\n",
       "    </tr>\n",
       "    <tr>\n",
       "      <th>2</th>\n",
       "      <td>0.8192</td>\n",
       "      <td>0</td>\n",
       "    </tr>\n",
       "    <tr>\n",
       "      <th>3</th>\n",
       "      <td>1.2288</td>\n",
       "      <td>0</td>\n",
       "    </tr>\n",
       "    <tr>\n",
       "      <th>4</th>\n",
       "      <td>1.6384</td>\n",
       "      <td>0</td>\n",
       "    </tr>\n",
       "    <tr>\n",
       "      <th>...</th>\n",
       "      <td>...</td>\n",
       "      <td>...</td>\n",
       "    </tr>\n",
       "    <tr>\n",
       "      <th>1043</th>\n",
       "      <td>427.2128</td>\n",
       "      <td>0</td>\n",
       "    </tr>\n",
       "    <tr>\n",
       "      <th>1044</th>\n",
       "      <td>427.6224</td>\n",
       "      <td>0</td>\n",
       "    </tr>\n",
       "    <tr>\n",
       "      <th>1045</th>\n",
       "      <td>428.0320</td>\n",
       "      <td>0</td>\n",
       "    </tr>\n",
       "    <tr>\n",
       "      <th>1046</th>\n",
       "      <td>428.4416</td>\n",
       "      <td>0</td>\n",
       "    </tr>\n",
       "    <tr>\n",
       "      <th>1047</th>\n",
       "      <td>428.8512</td>\n",
       "      <td>0</td>\n",
       "    </tr>\n",
       "  </tbody>\n",
       "</table>\n",
       "<p>1048 rows × 2 columns</p>\n",
       "</div>"
      ],
      "text/plain": [
       "         times  gnre\n",
       "0       0.0000     0\n",
       "1       0.4096     0\n",
       "2       0.8192     0\n",
       "3       1.2288     0\n",
       "4       1.6384     0\n",
       "...        ...   ...\n",
       "1043  427.2128     0\n",
       "1044  427.6224     0\n",
       "1045  428.0320     0\n",
       "1046  428.4416     0\n",
       "1047  428.8512     0\n",
       "\n",
       "[1048 rows x 2 columns]"
      ]
     },
     "execution_count": 20,
     "metadata": {},
     "output_type": "execute_result"
    }
   ],
   "source": [
    "df_mid_final = df_compas.drop(columns = ['wform'])\n",
    "df_mid_final['times'] = df_mid_final['times'].apply(lambda x: x[0])\n",
    "df_mid_final['gnre'] = yhat\n",
    "df_mid_final"
   ]
  },
  {
   "cell_type": "markdown",
   "metadata": {},
   "source": [
    "# HIGH FREQUENCIES"
   ]
  },
  {
   "cell_type": "code",
   "execution_count": 21,
   "metadata": {},
   "outputs": [],
   "source": [
    "#get the specific bin frequencies\n",
    "df_high = df_bin_freq.drop(columns = [100,300,600,1000])\n",
    "df_high.columns = list(map(lambda x: str(x), df_high.columns))"
   ]
  },
  {
   "cell_type": "code",
   "execution_count": 22,
   "metadata": {},
   "outputs": [],
   "source": [
    "df_high['2500_mean'] = df_high['2500'].apply(lambda x: x.mean())\n",
    "df_high['2500_median'] = df_high['2500'].apply(lambda x: statistics.median(x))\n",
    "df_high['2500_max'] = df_high['2500'].apply(lambda x: x.max())\n",
    "df_high['7000_mean'] = df_high['7000'].apply(lambda x: x.mean())\n",
    "df_high['7000_median'] = df_high['7000'].apply(lambda x: statistics.median(x))\n",
    "df_high['7000_max'] = df_high['7000'].apply(lambda x: x.max())\n",
    "df_high['15000_mean'] = df_high['15000'].apply(lambda x: x.mean())\n",
    "df_high['15000_median'] = df_high['15000'].apply(lambda x: statistics.median(x))\n",
    "df_high['15000_max'] = df_high['15000'].apply(lambda x: x.max())"
   ]
  },
  {
   "cell_type": "code",
   "execution_count": 23,
   "metadata": {},
   "outputs": [],
   "source": [
    "df_high_model = df_high.drop(['2500','7000','15000'], axis = 1)"
   ]
  },
  {
   "cell_type": "code",
   "execution_count": 24,
   "metadata": {},
   "outputs": [],
   "source": [
    "scaler = StandardScaler().fit(df_mid_model)\n",
    "X_prep = scaler.transform(df_mid_model)\n",
    "\n",
    "kmeans = GaussianMixture(n_components= 4, covariance_type='spherical',max_iter = 100,n_init = 20, random_state = 1234, init_params = 'kmeans')\n",
    "\n",
    "#kmeans = KMeans(n_clusters= 2,\n",
    "#               init=\"random\",\n",
    "#               n_init= 1,  # try with 1, 4, 8, 20, 30, 100...\n",
    "#               max_iter= 300,\n",
    "#               tol= 1e-4,\n",
    "#               algorithm=\"elkan\",\n",
    "#               random_state=1234)\n",
    "\n",
    "kmeans.fit(X_prep)\n",
    "\n",
    "yhat = kmeans.predict(X_prep)\n",
    "clusters = np.unique(yhat)"
   ]
  },
  {
   "cell_type": "code",
   "execution_count": 25,
   "metadata": {},
   "outputs": [
    {
     "data": {
      "image/png": "[encoded data removed]",
      "text/plain": [
       "<Figure size 432x288 with 1 Axes>"
      ]
     },
     "metadata": {
      "needs_background": "light"
     },
     "output_type": "display_data"
    }
   ],
   "source": [
    "for cluster in np.unique(yhat):\n",
    "\t# get row indexes for samples with this cluster\n",
    "\trow_ix = np.where(yhat == cluster)\n",
    "\t# create scatter of these samples\n",
    "\tplt.scatter(X_prep[row_ix, 0], X_prep[row_ix, 1])\n",
    "\n",
    "# show the plot\n",
    "plt.title(\"Clusters detected by GMM with a 'full' covariance matrix\")\n",
    "plt.show()"
   ]
  },
  {
   "cell_type": "code",
   "execution_count": 26,
   "metadata": {},
   "outputs": [
    {
     "data": {
      "text/html": [
       "<div>\n",
       "<style scoped>\n",
       "    .dataframe tbody tr th:only-of-type {\n",
       "        vertical-align: middle;\n",
       "    }\n",
       "\n",
       "    .dataframe tbody tr th {\n",
       "        vertical-align: top;\n",
       "    }\n",
       "\n",
       "    .dataframe thead th {\n",
       "        text-align: right;\n",
       "    }\n",
       "</style>\n",
       "<table border=\"1\" class=\"dataframe\">\n",
       "  <thead>\n",
       "    <tr style=\"text-align: right;\">\n",
       "      <th></th>\n",
       "      <th>times</th>\n",
       "      <th>gnre</th>\n",
       "    </tr>\n",
       "  </thead>\n",
       "  <tbody>\n",
       "    <tr>\n",
       "      <th>0</th>\n",
       "      <td>0.0000</td>\n",
       "      <td>3</td>\n",
       "    </tr>\n",
       "    <tr>\n",
       "      <th>1</th>\n",
       "      <td>0.4096</td>\n",
       "      <td>3</td>\n",
       "    </tr>\n",
       "    <tr>\n",
       "      <th>2</th>\n",
       "      <td>0.8192</td>\n",
       "      <td>3</td>\n",
       "    </tr>\n",
       "    <tr>\n",
       "      <th>3</th>\n",
       "      <td>1.2288</td>\n",
       "      <td>2</td>\n",
       "    </tr>\n",
       "    <tr>\n",
       "      <th>4</th>\n",
       "      <td>1.6384</td>\n",
       "      <td>2</td>\n",
       "    </tr>\n",
       "    <tr>\n",
       "      <th>...</th>\n",
       "      <td>...</td>\n",
       "      <td>...</td>\n",
       "    </tr>\n",
       "    <tr>\n",
       "      <th>1043</th>\n",
       "      <td>427.2128</td>\n",
       "      <td>3</td>\n",
       "    </tr>\n",
       "    <tr>\n",
       "      <th>1044</th>\n",
       "      <td>427.6224</td>\n",
       "      <td>3</td>\n",
       "    </tr>\n",
       "    <tr>\n",
       "      <th>1045</th>\n",
       "      <td>428.0320</td>\n",
       "      <td>3</td>\n",
       "    </tr>\n",
       "    <tr>\n",
       "      <th>1046</th>\n",
       "      <td>428.4416</td>\n",
       "      <td>3</td>\n",
       "    </tr>\n",
       "    <tr>\n",
       "      <th>1047</th>\n",
       "      <td>428.8512</td>\n",
       "      <td>3</td>\n",
       "    </tr>\n",
       "  </tbody>\n",
       "</table>\n",
       "<p>1048 rows × 2 columns</p>\n",
       "</div>"
      ],
      "text/plain": [
       "         times  gnre\n",
       "0       0.0000     3\n",
       "1       0.4096     3\n",
       "2       0.8192     3\n",
       "3       1.2288     2\n",
       "4       1.6384     2\n",
       "...        ...   ...\n",
       "1043  427.2128     3\n",
       "1044  427.6224     3\n",
       "1045  428.0320     3\n",
       "1046  428.4416     3\n",
       "1047  428.8512     3\n",
       "\n",
       "[1048 rows x 2 columns]"
      ]
     },
     "execution_count": 26,
     "metadata": {},
     "output_type": "execute_result"
    }
   ],
   "source": [
    "df_high_final = df_compas.drop(columns = ['wform'])\n",
    "df_high_final['times'] = df_high_final['times'].apply(lambda x: x[0])\n",
    "df_high_final['gnre'] = yhat\n",
    "df_high_final"
   ]
  },
  {
   "cell_type": "markdown",
   "metadata": {},
   "source": [
    "# FULL SONG VALUES"
   ]
  },
  {
   "cell_type": "code",
   "execution_count": 27,
   "metadata": {},
   "outputs": [],
   "source": [
    "full_freq = pd.concat([df_high_model, df_mid_model, df_lower_model], axis = 1)"
   ]
  },
  {
   "cell_type": "code",
   "execution_count": 28,
   "metadata": {},
   "outputs": [],
   "source": [
    "scaler = StandardScaler().fit(full_freq)\n",
    "X_prep = scaler.transform(full_freq)\n",
    "\n",
    "#kmeans = GaussianMixture(n_components= 3, covariance_type='spherical',max_iter = 100,n_init = 10, random_state = 1234, init_params = 'random')\n",
    "\n",
    "kmeans = KMeans(n_clusters= 3,\n",
    "               init=\"random\",\n",
    "               n_init= 2,  # try with 1, 4, 8, 20, 30, 100...\n",
    "               max_iter= 300,\n",
    "               tol= 1e-4,\n",
    "               algorithm=\"auto\",\n",
    "               random_state=1234)\n",
    "\n",
    "kmeans.fit(X_prep)\n",
    "\n",
    "yhat = kmeans.predict(X_prep)\n",
    "clusters = np.unique(yhat)"
   ]
  },
  {
   "cell_type": "code",
   "execution_count": 29,
   "metadata": {},
   "outputs": [
    {
     "data": {
      "image/png": "[encoded data removed]",
      "text/plain": [
       "<Figure size 432x288 with 1 Axes>"
      ]
     },
     "metadata": {
      "needs_background": "light"
     },
     "output_type": "display_data"
    }
   ],
   "source": [
    "for cluster in np.unique(yhat):\n",
    "\t# get row indexes for samples with this cluster\n",
    "\trow_ix = np.where(yhat == cluster)\n",
    "\t# create scatter of these samples\n",
    "\tplt.scatter(X_prep[row_ix, 0], X_prep[row_ix, 1])\n",
    "\n",
    "# show the plot\n",
    "plt.title(\"Clusters detected by GMM with a 'full' covariance matrix\")\n",
    "plt.show()"
   ]
  },
  {
   "cell_type": "code",
   "execution_count": 30,
   "metadata": {},
   "outputs": [
    {
     "data": {
      "text/html": [
       "<div>\n",
       "<style scoped>\n",
       "    .dataframe tbody tr th:only-of-type {\n",
       "        vertical-align: middle;\n",
       "    }\n",
       "\n",
       "    .dataframe tbody tr th {\n",
       "        vertical-align: top;\n",
       "    }\n",
       "\n",
       "    .dataframe thead th {\n",
       "        text-align: right;\n",
       "    }\n",
       "</style>\n",
       "<table border=\"1\" class=\"dataframe\">\n",
       "  <thead>\n",
       "    <tr style=\"text-align: right;\">\n",
       "      <th></th>\n",
       "      <th>times</th>\n",
       "      <th>gnre</th>\n",
       "    </tr>\n",
       "  </thead>\n",
       "  <tbody>\n",
       "    <tr>\n",
       "      <th>0</th>\n",
       "      <td>0.0000</td>\n",
       "      <td>0</td>\n",
       "    </tr>\n",
       "    <tr>\n",
       "      <th>1</th>\n",
       "      <td>0.4096</td>\n",
       "      <td>0</td>\n",
       "    </tr>\n",
       "    <tr>\n",
       "      <th>2</th>\n",
       "      <td>0.8192</td>\n",
       "      <td>0</td>\n",
       "    </tr>\n",
       "    <tr>\n",
       "      <th>3</th>\n",
       "      <td>1.2288</td>\n",
       "      <td>0</td>\n",
       "    </tr>\n",
       "    <tr>\n",
       "      <th>4</th>\n",
       "      <td>1.6384</td>\n",
       "      <td>0</td>\n",
       "    </tr>\n",
       "    <tr>\n",
       "      <th>...</th>\n",
       "      <td>...</td>\n",
       "      <td>...</td>\n",
       "    </tr>\n",
       "    <tr>\n",
       "      <th>1043</th>\n",
       "      <td>427.2128</td>\n",
       "      <td>0</td>\n",
       "    </tr>\n",
       "    <tr>\n",
       "      <th>1044</th>\n",
       "      <td>427.6224</td>\n",
       "      <td>0</td>\n",
       "    </tr>\n",
       "    <tr>\n",
       "      <th>1045</th>\n",
       "      <td>428.0320</td>\n",
       "      <td>0</td>\n",
       "    </tr>\n",
       "    <tr>\n",
       "      <th>1046</th>\n",
       "      <td>428.4416</td>\n",
       "      <td>0</td>\n",
       "    </tr>\n",
       "    <tr>\n",
       "      <th>1047</th>\n",
       "      <td>428.8512</td>\n",
       "      <td>0</td>\n",
       "    </tr>\n",
       "  </tbody>\n",
       "</table>\n",
       "<p>1048 rows × 2 columns</p>\n",
       "</div>"
      ],
      "text/plain": [
       "         times  gnre\n",
       "0       0.0000     0\n",
       "1       0.4096     0\n",
       "2       0.8192     0\n",
       "3       1.2288     0\n",
       "4       1.6384     0\n",
       "...        ...   ...\n",
       "1043  427.2128     0\n",
       "1044  427.6224     0\n",
       "1045  428.0320     0\n",
       "1046  428.4416     0\n",
       "1047  428.8512     0\n",
       "\n",
       "[1048 rows x 2 columns]"
      ]
     },
     "execution_count": 30,
     "metadata": {},
     "output_type": "execute_result"
    }
   ],
   "source": [
    "df_full_final = df_compas.drop(columns = ['wform'])\n",
    "df_full_final['times'] = df_full_final['times'].apply(lambda x: x[0])\n",
    "df_full_final['gnre'] = yhat\n",
    "df_full_final"
   ]
  },
  {
   "cell_type": "markdown",
   "metadata": {},
   "source": [
    "# SONG FEATURES"
   ]
  },
  {
   "cell_type": "code",
   "execution_count": 31,
   "metadata": {},
   "outputs": [],
   "source": [
    "#menas = []\n",
    "#for index in range(len(df_compas.wform)):\n",
    "#    y_harm, y_perc = librosa.effects.hpss(df_compas.wform[index][0])\n",
    "#    if len(y_harm[y_perc > 0.1]) > 0:\n",
    "#        menas += [(y_harm[y_perc > 0.1].max() * len(y_harm[y_perc > 0.1]))]\n",
    "#df = pd.DataFrame(menas).dropna()"
   ]
  },
  {
   "cell_type": "code",
   "execution_count": 32,
   "metadata": {},
   "outputs": [],
   "source": [
    "#mean_harm = df[0].mean()"
   ]
  },
  {
   "cell_type": "code",
   "execution_count": 33,
   "metadata": {},
   "outputs": [],
   "source": [
    "step_freq = 1/(vcompas_time * 2)\n",
    "noise_freq = 1/(vcompas_time * 2)\n",
    "#constant_noise_rot = 0.16688923225825697\n",
    "#constant_noise_pos = 0.0018604045563215532\n",
    "\n",
    "#noise_pos = constant_noise_pos * mean_harm\n",
    "#noise_rot = constant_noise_rot * mean_harm\n",
    "#print(noise_pos,noise_rot)"
   ]
  },
  {
   "cell_type": "markdown",
   "metadata": {},
   "source": [
    "# SAVING DATA INTO JSON"
   ]
  },
  {
   "cell_type": "code",
   "execution_count": 34,
   "metadata": {},
   "outputs": [],
   "source": [
    "dict_full = {}\n",
    "dict_low = {}\n",
    "dict_mid = {}\n",
    "dict_high = {}\n",
    "dict_legs = {}\n",
    "\n",
    "for i in range(0,len(df_low_final.times)):\n",
    "    dict_low[str(df_low_final.times[i])] = str(df_low_final.gnre[i])\n",
    "    dict_mid[str(df_mid_final.times[i])] = str(df_mid_final.gnre[i])\n",
    "    dict_high[str(df_high_final.times[i])] = str(df_high_final.gnre[i])\n",
    "    dict_legs[str(df_full_final.times[i])] = str(df_full_final.gnre[i])\n",
    "\n",
    "dict_full['low'] = str(dict_low)\n",
    "dict_full['mid'] = str(dict_mid)\n",
    "dict_full['high'] = str(dict_high)\n",
    "dict_full['legs'] = str(dict_legs)\n",
    "dict_full['freqs'] = str(step_freq[0])"
   ]
  },
  {
   "cell_type": "code",
   "execution_count": 35,
   "metadata": {},
   "outputs": [
    {
     "name": "stdout",
     "output_type": "stream",
     "text": [
      "{\"low\": \"{'0.0': '1', '0.4096': '1', '0.8192': '1', '1.2288000000000001': '1', '1.6384': '1', '2.048': '1', '2.4576000000000002': '1', '2.8672': '1', '3.2768': '1', '3.6864000000000003': '1', '4.096': '1', '4.5056': '1', '4.9152000000000005': '1', '5.324800000000001': '1', '5.7344': '1', '6.144': '1', '6.5536': '1', '6.9632000000000005': '1', '7.372800000000001': '0', '7.7824': '1', '8.192': '1', '8.601600000000001': '1', '9.0112': '0', '9.4208': '0', '9.830400000000001': '1', '10.24': '1', '10.649600000000001': '1', '11.0592': '0', '11.4688': '1', '11.878400000000001': '1', '12.288': '1', '12.697600000000001': '0', '13.1072': '1', '13.5168': '1', '13.926400000000001': '1', '14.336': '0', '14.745600000000001': '0', '15.1552': '0', '15.5648': '0', '15.974400000000001': '0', '16.384': '0', '16.7936': '0', '17.203200000000002': '0', '17.6128': '0', '18.0224': '0', '18.432000000000002': '0', '18.8416': '0', '19.2512': '0', '19.660800000000002': '0', '20.0704': '0', '20.48': '0', '20.8896': '0', '21.299200000000003': '0', '21.7088': '0', '22.1184': '0', '22.528000000000002': '0', '22.9376': '0', '23.3472': '0', '23.756800000000002': '0', '24.1664': '0', '24.576': '0', '24.9856': '0', '25.395200000000003': '0', '25.8048': '0', '26.2144': '0', '26.624000000000002': '0', '27.0336': '0', '27.4432': '0', '27.852800000000002': '0', '28.262400000000003': '0', '28.672': '0', '29.0816': '0', '29.491200000000003': '0', '29.9008': '0', '30.3104': '0', '30.720000000000002': '0', '31.1296': '0', '31.5392': '0', '31.948800000000002': '0', '32.3584': '0', '32.768': '0', '33.1776': '0', '33.5872': '0', '33.9968': '0', '34.406400000000005': '0', '34.816': '0', '35.2256': '0', '35.635200000000005': '0', '36.0448': '0', '36.4544': '0', '36.864000000000004': '0', '37.2736': '0', '37.6832': '0', '38.092800000000004': '0', '38.5024': '0', '38.912': '0', '39.321600000000004': '0', '39.7312': '0', '40.1408': '0', '40.5504': '0', '40.96': '0', '41.369600000000005': '0', '41.7792': '0', '42.1888': '0', '42.598400000000005': '0', '43.008': '0', '43.4176': '0', '43.827200000000005': '0', '44.2368': '0', '44.6464': '0', '45.056000000000004': '0', '45.4656': '0', '45.8752': '0', '46.284800000000004': '0', '46.6944': '0', '47.104': '0', '47.513600000000004': '0', '47.9232': '0', '48.3328': '0', '48.7424': '0', '49.152': '0', '49.561600000000006': '0', '49.9712': '0', '50.3808': '0', '50.790400000000005': '0', '51.2': '0', '51.6096': '0', '52.019200000000005': '0', '52.4288': '0', '52.8384': '0', '53.248000000000005': '0', '53.6576': '0', '54.0672': '0', '54.476800000000004': '0', '54.8864': '0', '55.296': '0', '55.705600000000004': '0', '56.1152': '0', '56.524800000000006': '0', '56.934400000000004': '0', '57.344': '0', '57.753600000000006': '0', '58.1632': '0', '58.5728': '0', '58.982400000000005': '0', '59.392': '0', '59.8016': '0', '60.211200000000005': '0', '60.6208': '0', '61.0304': '0', '61.440000000000005': '0', '61.8496': '0', '62.2592': '0', '62.668800000000005': '0', '63.0784': '0', '63.488': '0', '63.897600000000004': '0', '64.30720000000001': '0', '64.7168': '0', '65.1264': '0', '65.536': '0', '65.9456': '0', '66.3552': '0', '66.76480000000001': '0', '67.1744': '0', '67.584': '0', '67.9936': '0', '68.4032': '0', '68.81280000000001': '0', '69.22240000000001': '0', '69.632': '0', '70.0416': '0', '70.4512': '0', '70.8608': '0', '71.27040000000001': '0', '71.68': '0', '72.0896': '0', '72.4992': '0', '72.9088': '0', '73.3184': '0', '73.72800000000001': '0', '74.1376': '0', '74.5472': '0', '74.9568': '0', '75.3664': '0', '75.77600000000001': '0', '76.18560000000001': '0', '76.5952': '0', '77.0048': '0', '77.4144': '0', '77.824': '0', '78.23360000000001': '0', '78.64320000000001': '0', '79.0528': '0', '79.4624': '0', '79.872': '0', '80.2816': '0', '80.69120000000001': '0', '81.1008': '0', '81.5104': '0', '81.92': '0', '82.3296': '0', '82.73920000000001': '0', '83.14880000000001': '0', '83.5584': '0', '83.968': '0', '84.3776': '0', '84.7872': '0', '85.19680000000001': '0', '85.60640000000001': '0', '86.016': '0', '86.4256': '0', '86.8352': '0', '87.2448': '0', '87.65440000000001': '0', '88.06400000000001': '0', '88.4736': '0', '88.8832': '0', '89.2928': '0', '89.7024': '0', '90.11200000000001': '0', '90.5216': '0', '90.9312': '0', '91.3408': '0', '91.7504': '0', '92.16000000000001': '0', '92.56960000000001': '0', '92.9792': '0', '93.3888': '0', '93.7984': '0', '94.208': '0', '94.61760000000001': '0', '95.02720000000001': '0', '95.4368': '0', '95.8464': '0', '96.256': '0', '96.6656': '0', '97.07520000000001': '0', '97.4848': '0', '97.8944': '0', '98.304': '0', '98.7136': '0', '99.12320000000001': '0', '99.53280000000001': '0', '99.9424': '0', '100.352': '0', '100.7616': '0', '101.1712': '0', '101.58080000000001': '0', '101.99040000000001': '0', '102.4': '0', '102.8096': '0', '103.2192': '0', '103.6288': '0', '104.03840000000001': '1', '104.44800000000001': '1', '104.8576': '1', '105.2672': '0', '105.6768': '1', '106.08640000000001': '1', '106.49600000000001': '1', '106.9056': '0', '107.3152': '1', '107.7248': '1', '108.1344': '1', '108.54400000000001': '0', '108.95360000000001': '0', '109.3632': '1', '109.7728': '1', '110.1824': '1', '110.592': '0', '111.00160000000001': '1', '111.41120000000001': '1', '111.8208': '1', '112.2304': '0', '112.64': '1', '113.04960000000001': '1', '113.45920000000001': '1', '113.86880000000001': '0', '114.2784': '0', '114.688': '0', '115.0976': '0', '115.50720000000001': '0', '115.91680000000001': '0', '116.3264': '0', '116.736': '0', '117.1456': '0', '117.5552': '0', '117.96480000000001': '0', '118.37440000000001': '0', '118.784': '0', '119.1936': '0', '119.6032': '0', '120.01280000000001': '0', '120.42240000000001': '1', '120.83200000000001': '0', '121.2416': '1', '121.6512': '1', '122.0608': '1', '122.47040000000001': '0', '122.88000000000001': '1', '123.28960000000001': '1', '123.6992': '1', '124.1088': '0', '124.5184': '1', '124.92800000000001': '1', '125.33760000000001': '1', '125.7472': '0', '126.1568': '1', '126.5664': '1', '126.976': '1', '127.38560000000001': '0', '127.79520000000001': '0', '128.2048': '0', '128.61440000000002': '0', '129.024': '0', '129.4336': '0', '129.8432': '0', '130.2528': '0', '130.66240000000002': '0', '131.072': '0', '131.48160000000001': '0', '131.8912': '0', '132.3008': '0', '132.7104': '0', '133.12': '0', '133.52960000000002': '0', '133.9392': '1', '134.3488': '0', '134.7584': '1', '135.168': '1', '135.57760000000002': '1', '135.9872': '0', '136.3968': '0', '136.8064': '0', '137.216': '0', '137.62560000000002': '0', '138.0352': '0', '138.44480000000001': '1', '138.8544': '1', '139.264': '1', '139.6736': '0', '140.0832': '1', '140.49280000000002': '1', '140.9024': '1', '141.312': '0', '141.7216': '0', '142.1312': '0', '142.54080000000002': '0', '142.9504': '0', '143.36': '0', '143.7696': '0', '144.1792': '0', '144.58880000000002': '0', '144.9984': '0', '145.40800000000002': '0', '145.8176': '0', '146.2272': '0', '146.6368': '0', '147.0464': '0', '147.45600000000002': '0', '147.8656': '0', '148.2752': '0', '148.6848': '0', '149.0944': '0', '149.50400000000002': '0', '149.9136': '0', '150.3232': '0', '150.7328': '0', '151.1424': '0', '151.55200000000002': '0', '151.9616': '0', '152.37120000000002': '0', '152.7808': '0', '153.1904': '0', '153.6': '0', '154.0096': '0', '154.41920000000002': '0', '154.8288': '0', '155.2384': '0', '155.648': '0', '156.0576': '0', '156.46720000000002': '0', '156.8768': '0', '157.28640000000001': '0', '157.696': '0', '158.1056': '0', '158.51520000000002': '0', '158.9248': '0', '159.33440000000002': '0', '159.744': '0', '160.1536': '0', '160.5632': '0', '160.9728': '0', '161.38240000000002': '0', '161.792': '0', '162.2016': '0', '162.6112': '0', '163.0208': '0', '163.43040000000002': '0', '163.84': '0', '164.24960000000002': '0', '164.6592': '0', '165.0688': '0', '165.47840000000002': '0', '165.888': '0', '166.29760000000002': '0', '166.7072': '0', '167.1168': '0', '167.5264': '0', '167.936': '0', '168.34560000000002': '0', '168.7552': '0', '169.1648': '0', '169.5744': '0', '169.984': '0', '170.39360000000002': '0', '170.8032': '0', '171.21280000000002': '0', '171.6224': '0', '172.032': '0', '172.44160000000002': '0', '172.8512': '0', '173.26080000000002': '0', '173.6704': '0', '174.08': '0', '174.4896': '0', '174.8992': '0', '175.30880000000002': '0', '175.7184': '0', '176.12800000000001': '0', '176.5376': '0', '176.9472': '0', '177.35680000000002': '0', '177.7664': '0', '178.17600000000002': '0', '178.5856': '0', '178.9952': '0', '179.4048': '0', '179.8144': '0', '180.22400000000002': '0', '180.6336': '0', '181.0432': '0', '181.4528': '0', '181.8624': '0', '182.27200000000002': '0', '182.6816': '0', '183.09120000000001': '0', '183.5008': '0', '183.9104': '0', '184.32000000000002': '0', '184.7296': '0', '185.13920000000002': '0', '185.5488': '0', '185.9584': '0', '186.368': '0', '186.7776': '0', '187.18720000000002': '0', '187.5968': '0', '188.0064': '0', '188.416': '0', '188.8256': '0', '189.23520000000002': '0', '189.6448': '0', '190.05440000000002': '0', '190.464': '0', '190.8736': '0', '191.28320000000002': '0', '191.6928': '0', '192.10240000000002': '0', '192.512': '0', '192.9216': '0', '193.3312': '0', '193.7408': '0', '194.15040000000002': '0', '194.56': '0', '194.9696': '0', '195.3792': '0', '195.7888': '0', '196.19840000000002': '0', '196.608': '0', '197.01760000000002': '0', '197.4272': '0', '197.8368': '0', '198.24640000000002': '0', '198.656': '0', '199.06560000000002': '0', '199.4752': '0', '199.8848': '0', '200.2944': '0', '200.704': '0', '201.11360000000002': '0', '201.5232': '0', '201.93280000000001': '0', '202.3424': '0', '202.752': '0', '203.16160000000002': '0', '203.5712': '0', '203.98080000000002': '0', '204.3904': '0', '204.8': '0', '205.20960000000002': '0', '205.6192': '0', '206.02880000000002': '0', '206.4384': '0', '206.848': '0', '207.2576': '0', '207.6672': '0', '208.07680000000002': '0', '208.4864': '0', '208.89600000000002': '0', '209.3056': '0', '209.7152': '0', '210.12480000000002': '0', '210.5344': '0', '210.94400000000002': '0', '211.3536': '0', '211.7632': '0', '212.17280000000002': '0', '212.5824': '0', '212.99200000000002': '0', '213.4016': '0', '213.8112': '0', '214.2208': '0', '214.6304': '0', '215.04000000000002': '0', '215.4496': '0', '215.85920000000002': '0', '216.2688': '0', '216.6784': '0', '217.08800000000002': '0', '217.4976': '0', '217.90720000000002': '0', '218.3168': '0', '218.7264': '0', '219.13600000000002': '0', '219.5456': '1', '219.95520000000002': '1', '220.3648': '0', '220.7744': '1', '221.184': '1', '221.5936': '1', '222.00320000000002': '0', '222.4128': '1', '222.82240000000002': '1', '223.232': '1', '223.6416': '0', '224.05120000000002': '1', '224.4608': '1', '224.87040000000002': '1', '225.28': '0', '225.6896': '1', '226.09920000000002': '1', '226.5088': '1', '226.91840000000002': '0', '227.328': '0', '227.73760000000001': '1', '228.1472': '1', '228.5568': '0', '228.96640000000002': '0', '229.376': '1', '229.78560000000002': '1', '230.1952': '1', '230.6048': '0', '231.01440000000002': '1', '231.424': '1', '231.83360000000002': '1', '232.2432': '0', '232.6528': '0', '233.06240000000003': '0', '233.472': '0', '233.88160000000002': '0', '234.2912': '0', '234.70080000000002': '0', '235.1104': '0', '235.52': '0', '235.92960000000002': '0', '236.3392': '0', '236.74880000000002': '0', '237.1584': '0', '237.568': '0', '237.97760000000002': '0', '238.3872': '0', '238.79680000000002': '1', '239.2064': '0', '239.616': '1', '240.02560000000003': '1', '240.4352': '1', '240.84480000000002': '0', '241.2544': '1', '241.66400000000002': '1', '242.0736': '1', '242.4832': '0', '242.89280000000002': '1', '243.3024': '1', '243.71200000000002': '1', '244.1216': '0', '244.5312': '1', '244.94080000000002': '1', '245.3504': '1', '245.76000000000002': '0', '246.1696': '0', '246.57920000000001': '1', '246.9888': '1', '247.3984': '1', '247.80800000000002': '0', '248.2176': '1', '248.62720000000002': '1', '249.0368': '1', '249.4464': '0', '249.85600000000002': '0', '250.2656': '0', '250.67520000000002': '0', '251.0848': '0', '251.4944': '0', '251.90400000000002': '0', '252.3136': '0', '252.72320000000002': '0', '253.1328': '0', '253.54240000000001': '0', '253.952': '0', '254.3616': '0', '254.77120000000002': '0', '255.1808': '0', '255.59040000000002': '0', '256.0': '0', '256.4096': '0', '256.8192': '1', '257.22880000000004': '1', '257.6384': '1', '258.048': '0', '258.4576': '1', '258.8672': '1', '259.27680000000004': '1', '259.6864': '0', '260.096': '1', '260.5056': '1', '260.9152': '1', '261.32480000000004': '0', '261.7344': '1', '262.144': '1', '262.5536': '1', '262.96320000000003': '0', '263.37280000000004': '0', '263.7824': '1', '264.192': '1', '264.6016': '0', '265.01120000000003': '0', '265.4208': '1', '265.8304': '1', '266.24': '1', '266.6496': '0', '267.05920000000003': '0', '267.4688': '0', '267.8784': '0', '268.288': '0', '268.6976': '0', '269.10720000000003': '0', '269.5168': '0', '269.9264': '0', '270.336': '0', '270.7456': '0', '271.15520000000004': '0', '271.5648': '0', '271.9744': '0', '272.384': '0', '272.7936': '0', '273.20320000000004': '0', '273.6128': '0', '274.0224': '1', '274.432': '1', '274.8416': '1', '275.25120000000004': '0', '275.6608': '1', '276.0704': '1', '276.48': '1', '276.88960000000003': '0', '277.29920000000004': '1', '277.7088': '1', '278.1184': '1', '278.528': '0', '278.93760000000003': '1', '279.3472': '1', '279.7568': '1', '280.1664': '0', '280.576': '0', '280.98560000000003': '0', '281.3952': '0', '281.8048': '0', '282.2144': '0', '282.624': '0', '283.03360000000004': '0', '283.4432': '0', '283.8528': '0', '284.2624': '0', '284.672': '0', '285.08160000000004': '0', '285.4912': '0', '285.9008': '0', '286.3104': '0', '286.72': '0', '287.12960000000004': '0', '287.5392': '1', '287.9488': '1', '288.3584': '1', '288.76800000000003': '0', '289.17760000000004': '1', '289.5872': '1', '289.9968': '1', '290.4064': '0', '290.81600000000003': '0', '291.2256': '1', '291.6352': '1', '292.0448': '0', '292.4544': '0', '292.86400000000003': '1', '293.2736': '1', '293.6832': '1', '294.0928': '0', '294.5024': '0', '294.91200000000003': '0', '295.3216': '0', '295.7312': '0', '296.1408': '0', '296.5504': '0', '296.96000000000004': '0', '297.3696': '0', '297.7792': '0', '298.1888': '0', '298.5984': '0', '299.00800000000004': '0', '299.4176': '0', '299.8272': '0', '300.2368': '0', '300.6464': '0', '301.05600000000004': '0', '301.4656': '0', '301.8752': '0', '302.2848': '0', '302.69440000000003': '0', '303.10400000000004': '0', '303.5136': '0', '303.9232': '0', '304.3328': '0', '304.74240000000003': '0', '305.152': '0', '305.5616': '0', '305.9712': '0', '306.3808': '0', '306.79040000000003': '0', '307.2': '0', '307.6096': '0', '308.0192': '0', '308.4288': '0', '308.83840000000004': '0', '309.248': '0', '309.6576': '0', '310.0672': '0', '310.4768': '0', '310.88640000000004': '0', '311.296': '0', '311.7056': '0', '312.1152': '0', '312.5248': '0', '312.93440000000004': '0', '313.344': '0', '313.7536': '0', '314.1632': '0', '314.57280000000003': '0', '314.98240000000004': '0', '315.392': '0', '315.8016': '0', '316.2112': '0', '316.62080000000003': '0', '317.03040000000004': '0', '317.44': '0', '317.8496': '0', '318.2592': '0', '318.66880000000003': '0', '319.0784': '0', '319.488': '0', '319.8976': '0', '320.3072': '0', '320.71680000000003': '0', '321.1264': '1', '321.536': '0', '321.9456': '1', '322.3552': '1', '322.76480000000004': '1', '323.1744': '0', '323.584': '1', '323.9936': '1', '324.4032': '1', '324.81280000000004': '0', '325.2224': '1', '325.632': '1', '326.0416': '1', '326.45120000000003': '0', '326.86080000000004': '1', '327.2704': '1', '327.68': '1', '328.0896': '0', '328.49920000000003': '0', '328.90880000000004': '1', '329.3184': '1', '329.728': '1', '330.1376': '0', '330.54720000000003': '1', '330.95680000000004': '1', '331.3664': '1', '331.776': '0', '332.1856': '1', '332.59520000000003': '1', '333.0048': '1', '333.4144': '0', '333.824': '0', '334.2336': '0', '334.64320000000004': '0', '335.0528': '0', '335.4624': '0', '335.872': '0', '336.2816': '0', '336.69120000000004': '0', '337.1008': '0', '337.5104': '0', '337.92': '0', '338.3296': '0', '338.73920000000004': '0', '339.1488': '0', '339.5584': '0', '339.968': '0', '340.37760000000003': '0', '340.78720000000004': '0', '341.1968': '1', '341.6064': '1', '342.016': '0', '342.42560000000003': '1', '342.83520000000004': '1', '343.2448': '1', '343.6544': '0', '344.064': '1', '344.47360000000003': '1', '344.88320000000004': '1', '345.2928': '0', '345.7024': '0', '346.112': '1', '346.52160000000003': '1', '346.9312': '1', '347.3408': '0', '347.7504': '0', '348.16': '0', '348.56960000000004': '0', '348.9792': '0', '349.3888': '0', '349.7984': '0', '350.208': '0', '350.61760000000004': '0', '351.0272': '0', '351.4368': '0', '351.8464': '0', '352.25600000000003': '0', '352.66560000000004': '0', '353.0752': '0', '353.4848': '0', '353.8944': '0', '354.30400000000003': '0', '354.71360000000004': '1', '355.1232': '1', '355.5328': '0', '355.9424': '0', '356.35200000000003': '1', '356.76160000000004': '1', '357.1712': '1', '357.5808': '0', '357.9904': '1', '358.40000000000003': '1', '358.8096': '1', '359.2192': '0', '359.6288': '1', '360.0384': '1', '360.44800000000004': '1', '360.8576': '0', '361.2672': '1', '361.6768': '1', '362.0864': '1', '362.49600000000004': '0', '362.9056': '1', '363.3152': '1', '363.7248': '1', '364.1344': '0', '364.54400000000004': '0', '364.9536': '0', '365.3632': '0', '365.7728': '0', '366.18240000000003': '0', '366.59200000000004': '0', '367.0016': '0', '367.4112': '0', '367.8208': '0', '368.23040000000003': '0', '368.64000000000004': '0', '369.0496': '0', '369.4592': '0', '369.8688': '0', '370.27840000000003': '0', '370.68800000000005': '0', '371.0976': '0', '371.5072': '0', '371.9168': '0', '372.32640000000004': '0', '372.736': '0', '373.1456': '0', '373.5552': '0', '373.9648': '0', '374.37440000000004': '0', '374.784': '0', '375.1936': '0', '375.6032': '0', '376.0128': '0', '376.42240000000004': '0', '376.832': '0', '377.2416': '0', '377.6512': '0', '378.06080000000003': '0', '378.47040000000004': '0', '378.88': '0', '379.2896': '0', '379.6992': '0', '380.10880000000003': '0', '380.51840000000004': '0', '380.928': '0', '381.3376': '0', '381.7472': '0', '382.15680000000003': '0', '382.56640000000004': '0', '382.976': '0', '383.3856': '0', '383.7952': '0', '384.20480000000003': '0', '384.61440000000005': '0', '385.024': '0', '385.4336': '0', '385.8432': '0', '386.25280000000004': '0', '386.6624': '0', '387.072': '0', '387.4816': '0', '387.8912': '0', '388.30080000000004': '0', '388.7104': '0', '389.12': '0', '389.5296': '0', '389.9392': '0', '390.34880000000004': '0', '390.7584': '0', '391.168': '0', '391.5776': '0', '391.98720000000003': '0', '392.39680000000004': '0', '392.8064': '0', '393.216': '0', '393.6256': '0', '394.03520000000003': '0', '394.44480000000004': '0', '394.8544': '0', '395.264': '0', '395.6736': '0', '396.08320000000003': '0', '396.49280000000005': '0', '396.9024': '0', '397.312': '0', '397.7216': '0', '398.13120000000004': '0', '398.54080000000005': '0', '398.9504': '0', '399.36': '0', '399.7696': '0', '400.17920000000004': '0', '400.5888': '0', '400.9984': '0', '401.408': '0', '401.8176': '0', '402.22720000000004': '0', '402.6368': '0', '403.0464': '0', '403.456': '1', '403.86560000000003': '1', '404.27520000000004': '1', '404.6848': '1', '405.0944': '1', '405.504': '1', '405.91360000000003': '1', '406.32320000000004': '1', '406.7328': '1', '407.1424': '0', '407.552': '1', '407.96160000000003': '1', '408.37120000000004': '0', '408.7808': '1', '409.1904': '1', '409.6': '0', '410.00960000000003': '0', '410.41920000000005': '1', '410.8288': '0', '411.2384': '0', '411.648': '1', '412.05760000000004': '0', '412.46720000000005': '0', '412.8768': '0', '413.2864': '1', '413.696': '0', '414.10560000000004': '0', '414.5152': '1', '414.9248': '0', '415.3344': '0', '415.744': '1', '416.15360000000004': '0', '416.5632': '0', '416.9728': '0', '417.3824': '0', '417.79200000000003': '0', '418.20160000000004': '1', '418.6112': '0', '419.0208': '0', '419.4304': '0', '419.84000000000003': '1', '420.24960000000004': '0', '420.6592': '0', '421.0688': '1', '421.4784': '0', '421.88800000000003': '0', '422.29760000000005': '1', '422.7072': '0', '423.1168': '0', '423.5264': '1', '423.93600000000004': '0', '424.34560000000005': '0', '424.7552': '1', '425.1648': '0', '425.5744': '0', '425.98400000000004': '1', '426.3936': '1', '426.8032': '0', '427.2128': '1', '427.6224': '1', '428.03200000000004': '1', '428.4416': '1', '428.8512': '1'}\", \"mid\": \"{'0.0': '0', '0.4096': '0', '0.8192': '0', '1.2288000000000001': '0', '1.6384': '0', '2.048': '0', '2.4576000000000002': '0', '2.8672': '0', '3.2768': '0', '3.6864000000000003': '0', '4.096': '0', '4.5056': '0', '4.9152000000000005': '0', '5.324800000000001': '0', '5.7344': '0', '6.144': '0', '6.5536': '0', '6.9632000000000005': '0', '7.372800000000001': '0', '7.7824': '0', '8.192': '0', '8.601600000000001': '0', '9.0112': '0', '9.4208': '0', '9.830400000000001': '0', '10.24': '0', '10.649600000000001': '0', '11.0592': '0', '11.4688': '0', '11.878400000000001': '0', '12.288': '0', '12.697600000000001': '0', '13.1072': '0', '13.5168': '0', '13.926400000000001': '0', '14.336': '0', '14.745600000000001': '1', '15.1552': '1', '15.5648': '1', '15.974400000000001': '1', '16.384': '1', '16.7936': '1', '17.203200000000002': '1', '17.6128': '1', '18.0224': '1', '18.432000000000002': '1', '18.8416': '1', '19.2512': '1', '19.660800000000002': '1', '20.0704': '1', '20.48': '1', '20.8896': '1', '21.299200000000003': '1', '21.7088': '1', '22.1184': '1', '22.528000000000002': '1', '22.9376': '1', '23.3472': '1', '23.756800000000002': '1', '24.1664': '1', '24.576': '1', '24.9856': '1', '25.395200000000003': '1', '25.8048': '1', '26.2144': '1', '26.624000000000002': '1', '27.0336': '1', '27.4432': '1', '27.852800000000002': '1', '28.262400000000003': '1', '28.672': '1', '29.0816': '1', '29.491200000000003': '1', '29.9008': '1', '30.3104': '1', '30.720000000000002': '1', '31.1296': '1', '31.5392': '1', '31.948800000000002': '1', '32.3584': '1', '32.768': '1', '33.1776': '1', '33.5872': '1', '33.9968': '1', '34.406400000000005': '1', '34.816': '1', '35.2256': '1', '35.635200000000005': '1', '36.0448': '1', '36.4544': '1', '36.864000000000004': '1', '37.2736': '1', '37.6832': '1', '38.092800000000004': '1', '38.5024': '1', '38.912': '1', '39.321600000000004': '1', '39.7312': '1', '40.1408': '1', '40.5504': '1', '40.96': '1', '41.369600000000005': '1', '41.7792': '1', '42.1888': '1', '42.598400000000005': '1', '43.008': '1', '43.4176': '1', '43.827200000000005': '1', '44.2368': '1', '44.6464': '1', '45.056000000000004': '1', '45.4656': '1', '45.8752': '1', '46.284800000000004': '1', '46.6944': '0', '47.104': '1', '47.513600000000004': '1', '47.9232': '1', '48.3328': '1', '48.7424': '0', '49.152': '1', '49.561600000000006': '1', '49.9712': '1', '50.3808': '0', '50.790400000000005': '1', '51.2': '0', '51.6096': '1', '52.019200000000005': '1', '52.4288': '1', '52.8384': '1', '53.248000000000005': '1', '53.6576': '0', '54.0672': '1', '54.476800000000004': '1', '54.8864': '1', '55.296': '1', '55.705600000000004': '1', '56.1152': '1', '56.524800000000006': '1', '56.934400000000004': '1', '57.344': '1', '57.753600000000006': '1', '58.1632': '0', '58.5728': '0', '58.982400000000005': '0', '59.392': '1', '59.8016': '0', '60.211200000000005': '1', '60.6208': '1', '61.0304': '1', '61.440000000000005': '1', '61.8496': '1', '62.2592': '1', '62.668800000000005': '1', '63.0784': '1', '63.488': '1', '63.897600000000004': '1', '64.30720000000001': '1', '64.7168': '1', '65.1264': '1', '65.536': '1', '65.9456': '1', '66.3552': '1', '66.76480000000001': '1', '67.1744': '1', '67.584': '1', '67.9936': '0', '68.4032': '1', '68.81280000000001': '1', '69.22240000000001': '1', '69.632': '0', '70.0416': '1', '70.4512': '1', '70.8608': '1', '71.27040000000001': '1', '71.68': '1', '72.0896': '1', '72.4992': '1', '72.9088': '1', '73.3184': '1', '73.72800000000001': '1', '74.1376': '1', '74.5472': '1', '74.9568': '1', '75.3664': '1', '75.77600000000001': '1', '76.18560000000001': '1', '76.5952': '1', '77.0048': '1', '77.4144': '1', '77.824': '1', '78.23360000000001': '1', '78.64320000000001': '1', '79.0528': '1', '79.4624': '1', '79.872': '1', '80.2816': '1', '80.69120000000001': '1', '81.1008': '1', '81.5104': '1', '81.92': '1', '82.3296': '1', '82.73920000000001': '1', '83.14880000000001': '1', '83.5584': '1', '83.968': '1', '84.3776': '1', '84.7872': '1', '85.19680000000001': '1', '85.60640000000001': '1', '86.016': '1', '86.4256': '1', '86.8352': '1', '87.2448': '1', '87.65440000000001': '1', '88.06400000000001': '1', '88.4736': '1', '88.8832': '1', '89.2928': '1', '89.7024': '1', '90.11200000000001': '1', '90.5216': '1', '90.9312': '1', '91.3408': '1', '91.7504': '1', '92.16000000000001': '1', '92.56960000000001': '1', '92.9792': '1', '93.3888': '1', '93.7984': '1', '94.208': '1', '94.61760000000001': '1', '95.02720000000001': '1', '95.4368': '1', '95.8464': '1', '96.256': '1', '96.6656': '1', '97.07520000000001': '1', '97.4848': '1', '97.8944': '1', '98.304': '1', '98.7136': '1', '99.12320000000001': '1', '99.53280000000001': '1', '99.9424': '1', '100.352': '1', '100.7616': '1', '101.1712': '1', '101.58080000000001': '1', '101.99040000000001': '1', '102.4': '1', '102.8096': '1', '103.2192': '0', '103.6288': '0', '104.03840000000001': '0', '104.44800000000001': '0', '104.8576': '0', '105.2672': '0', '105.6768': '0', '106.08640000000001': '0', '106.49600000000001': '0', '106.9056': '0', '107.3152': '0', '107.7248': '1', '108.1344': '1', '108.54400000000001': '1', '108.95360000000001': '1', '109.3632': '0', '109.7728': '0', '110.1824': '1', '110.592': '0', '111.00160000000001': '1', '111.41120000000001': '0', '111.8208': '0', '112.2304': '0', '112.64': '1', '113.04960000000001': '1', '113.45920000000001': '1', '113.86880000000001': '1', '114.2784': '1', '114.688': '1', '115.0976': '1', '115.50720000000001': '1', '115.91680000000001': '1', '116.3264': '1', '116.736': '1', '117.1456': '1', '117.5552': '1', '117.96480000000001': '1', '118.37440000000001': '1', '118.784': '1', '119.1936': '1', '119.6032': '1', '120.01280000000001': '0', '120.42240000000001': '1', '120.83200000000001': '1', '121.2416': '1', '121.6512': '1', '122.0608': '1', '122.47040000000001': '1', '122.88000000000001': '0', '123.28960000000001': '1', '123.6992': '1', '124.1088': '1', '124.5184': '0', '124.92800000000001': '0', '125.33760000000001': '0', '125.7472': '1', '126.1568': '1', '126.5664': '1', '126.976': '1', '127.38560000000001': '1', '127.79520000000001': '1', '128.2048': '1', '128.61440000000002': '1', '129.024': '1', '129.4336': '1', '129.8432': '1', '130.2528': '1', '130.66240000000002': '1', '131.072': '1', '131.48160000000001': '1', '131.8912': '1', '132.3008': '1', '132.7104': '1', '133.12': '1', '133.52960000000002': '1', '133.9392': '1', '134.3488': '0', '134.7584': '0', '135.168': '1', '135.57760000000002': '1', '135.9872': '1', '136.3968': '1', '136.8064': '0', '137.216': '1', '137.62560000000002': '1', '138.0352': '0', '138.44480000000001': '1', '138.8544': '0', '139.264': '0', '139.6736': '0', '140.0832': '1', '140.49280000000002': '1', '140.9024': '0', '141.312': '1', '141.7216': '1', '142.1312': '1', '142.54080000000002': '1', '142.9504': '1', '143.36': '1', '143.7696': '1', '144.1792': '1', '144.58880000000002': '1', '144.9984': '1', '145.40800000000002': '0', '145.8176': '1', '146.2272': '1', '146.6368': '1', '147.0464': '1', '147.45600000000002': '1', '147.8656': '1', '148.2752': '1', '148.6848': '1', '149.0944': '1', '149.50400000000002': '1', '149.9136': '0', '150.3232': '1', '150.7328': '0', '151.1424': '1', '151.55200000000002': '1', '151.9616': '0', '152.37120000000002': '0', '152.7808': '0', '153.1904': '1', '153.6': '1', '154.0096': '0', '154.41920000000002': '1', '154.8288': '0', '155.2384': '1', '155.648': '0', '156.0576': '1', '156.46720000000002': '0', '156.8768': '0', '157.28640000000001': '1', '157.696': '1', '158.1056': '1', '158.51520000000002': '1', '158.9248': '1', '159.33440000000002': '0', '159.744': '1', '160.1536': '1', '160.5632': '0', '160.9728': '0', '161.38240000000002': '1', '161.792': '1', '162.2016': '1', '162.6112': '1', '163.0208': '1', '163.43040000000002': '1', '163.84': '0', '164.24960000000002': '0', '164.6592': '0', '165.0688': '1', '165.47840000000002': '0', '165.888': '1', '166.29760000000002': '0', '166.7072': '1', '167.1168': '1', '167.5264': '0', '167.936': '0', '168.34560000000002': '1', '168.7552': '0', '169.1648': '0', '169.5744': '0', '169.984': '0', '170.39360000000002': '1', '170.8032': '0', '171.21280000000002': '1', '171.6224': '1', '172.032': '1', '172.44160000000002': '0', '172.8512': '0', '173.26080000000002': '1', '173.6704': '1', '174.08': '0', '174.4896': '1', '174.8992': '0', '175.30880000000002': '0', '175.7184': '0', '176.12800000000001': '1', '176.5376': '0', '176.9472': '1', '177.35680000000002': '0', '177.7664': '1', '178.17600000000002': '0', '178.5856': '1', '178.9952': '0', '179.4048': '0', '179.8144': '1', '180.22400000000002': '1', '180.6336': '1', '181.0432': '0', '181.4528': '1', '181.8624': '1', '182.27200000000002': '1', '182.6816': '1', '183.09120000000001': '1', '183.5008': '1', '183.9104': '1', '184.32000000000002': '1', '184.7296': '1', '185.13920000000002': '1', '185.5488': '0', '185.9584': '1', '186.368': '0', '186.7776': '0', '187.18720000000002': '1', '187.5968': '0', '188.0064': '1', '188.416': '1', '188.8256': '1', '189.23520000000002': '1', '189.6448': '1', '190.05440000000002': '0', '190.464': '0', '190.8736': '0', '191.28320000000002': '0', '191.6928': '1', '192.10240000000002': '1', '192.512': '1', '192.9216': '1', '193.3312': '0', '193.7408': '1', '194.15040000000002': '1', '194.56': '1', '194.9696': '1', '195.3792': '0', '195.7888': '0', '196.19840000000002': '0', '196.608': '1', '197.01760000000002': '1', '197.4272': '1', '197.8368': '1', '198.24640000000002': '1', '198.656': '1', '199.06560000000002': '1', '199.4752': '1', '199.8848': '1', '200.2944': '0', '200.704': '0', '201.11360000000002': '0', '201.5232': '1', '201.93280000000001': '1', '202.3424': '1', '202.752': '1', '203.16160000000002': '0', '203.5712': '1', '203.98080000000002': '0', '204.3904': '1', '204.8': '0', '205.20960000000002': '0', '205.6192': '1', '206.02880000000002': '1', '206.4384': '1', '206.848': '1', '207.2576': '1', '207.6672': '1', '208.07680000000002': '1', '208.4864': '1', '208.89600000000002': '1', '209.3056': '1', '209.7152': '1', '210.12480000000002': '0', '210.5344': '0', '210.94400000000002': '0', '211.3536': '0', '211.7632': '1', '212.17280000000002': '1', '212.5824': '1', '212.99200000000002': '0', '213.4016': '0', '213.8112': '1', '214.2208': '1', '214.6304': '1', '215.04000000000002': '1', '215.4496': '0', '215.85920000000002': '1', '216.2688': '0', '216.6784': '1', '217.08800000000002': '1', '217.4976': '1', '217.90720000000002': '0', '218.3168': '0', '218.7264': '0', '219.13600000000002': '0', '219.5456': '0', '219.95520000000002': '0', '220.3648': '0', '220.7744': '0', '221.184': '1', '221.5936': '0', '222.00320000000002': '1', '222.4128': '1', '222.82240000000002': '1', '223.232': '0', '223.6416': '1', '224.05120000000002': '0', '224.4608': '1', '224.87040000000002': '1', '225.28': '1', '225.6896': '1', '226.09920000000002': '1', '226.5088': '0', '226.91840000000002': '1', '227.328': '0', '227.73760000000001': '1', '228.1472': '1', '228.5568': '0', '228.96640000000002': '1', '229.376': '1', '229.78560000000002': '1', '230.1952': '0', '230.6048': '1', '231.01440000000002': '0', '231.424': '1', '231.83360000000002': '1', '232.2432': '1', '232.6528': '1', '233.06240000000003': '1', '233.472': '1', '233.88160000000002': '1', '234.2912': '1', '234.70080000000002': '1', '235.1104': '1', '235.52': '1', '235.92960000000002': '1', '236.3392': '1', '236.74880000000002': '1', '237.1584': '1', '237.568': '1', '237.97760000000002': '1', '238.3872': '0', '238.79680000000002': '0', '239.2064': '1', '239.616': '1', '240.02560000000003': '1', '240.4352': '0', '240.84480000000002': '1', '241.2544': '0', '241.66400000000002': '1', '242.0736': '1', '242.4832': '1', '242.89280000000002': '1', '243.3024': '1', '243.71200000000002': '0', '244.1216': '1', '244.5312': '0', '244.94080000000002': '1', '245.3504': '1', '245.76000000000002': '1', '246.1696': '1', '246.57920000000001': '0', '246.9888': '0', '247.3984': '0', '247.80800000000002': '1', '248.2176': '1', '248.62720000000002': '0', '249.0368': '0', '249.4464': '1', '249.85600000000002': '1', '250.2656': '1', '250.67520000000002': '1', '251.0848': '1', '251.4944': '1', '251.90400000000002': '1', '252.3136': '1', '252.72320000000002': '1', '253.1328': '1', '253.54240000000001': '1', '253.952': '1', '254.3616': '1', '254.77120000000002': '1', '255.1808': '1', '255.59040000000002': '1', '256.0': '1', '256.4096': '0', '256.8192': '0', '257.22880000000004': '1', '257.6384': '1', '258.048': '1', '258.4576': '0', '258.8672': '1', '259.27680000000004': '0', '259.6864': '1', '260.096': '1', '260.5056': '1', '260.9152': '1', '261.32480000000004': '1', '261.7344': '1', '262.144': '1', '262.5536': '0', '262.96320000000003': '1', '263.37280000000004': '1', '263.7824': '0', '264.192': '1', '264.6016': '1', '265.01120000000003': '1', '265.4208': '0', '265.8304': '0', '266.24': '0', '266.6496': '1', '267.05920000000003': '1', '267.4688': '1', '267.8784': '1', '268.288': '1', '268.6976': '1', '269.10720000000003': '1', '269.5168': '1', '269.9264': '1', '270.336': '1', '270.7456': '1', '271.15520000000004': '1', '271.5648': '1', '271.9744': '1', '272.384': '1', '272.7936': '1', '273.20320000000004': '1', '273.6128': '0', '274.0224': '0', '274.432': '0', '274.8416': '1', '275.25120000000004': '0', '275.6608': '0', '276.0704': '1', '276.48': '0', '276.88960000000003': '0', '277.29920000000004': '1', '277.7088': '1', '278.1184': '1', '278.528': '1', '278.93760000000003': '0', '279.3472': '1', '279.7568': '1', '280.1664': '1', '280.576': '1', '280.98560000000003': '1', '281.3952': '1', '281.8048': '1', '282.2144': '1', '282.624': '1', '283.03360000000004': '1', '283.4432': '1', '283.8528': '1', '284.2624': '1', '284.672': '1', '285.08160000000004': '1', '285.4912': '1', '285.9008': '1', '286.3104': '1', '286.72': '1', '287.12960000000004': '0', '287.5392': '1', '287.9488': '1', '288.3584': '1', '288.76800000000003': '1', '289.17760000000004': '1', '289.5872': '1', '289.9968': '1', '290.4064': '0', '290.81600000000003': '1', '291.2256': '1', '291.6352': '0', '292.0448': '1', '292.4544': '0', '292.86400000000003': '0', '293.2736': '1', '293.6832': '1', '294.0928': '1', '294.5024': '1', '294.91200000000003': '1', '295.3216': '1', '295.7312': '1', '296.1408': '1', '296.5504': '1', '296.96000000000004': '0', '297.3696': '0', '297.7792': '0', '298.1888': '0', '298.5984': '0', '299.00800000000004': '1', '299.4176': '1', '299.8272': '1', '300.2368': '1', '300.6464': '1', '301.05600000000004': '1', '301.4656': '1', '301.8752': '1', '302.2848': '1', '302.69440000000003': '1', '303.10400000000004': '1', '303.5136': '1', '303.9232': '1', '304.3328': '1', '304.74240000000003': '1', '305.152': '1', '305.5616': '1', '305.9712': '1', '306.3808': '1', '306.79040000000003': '1', '307.2': '1', '307.6096': '1', '308.0192': '1', '308.4288': '1', '308.83840000000004': '1', '309.248': '1', '309.6576': '0', '310.0672': '1', '310.4768': '1', '310.88640000000004': '1', '311.296': '1', '311.7056': '1', '312.1152': '1', '312.5248': '1', '312.93440000000004': '1', '313.344': '1', '313.7536': '0', '314.1632': '1', '314.57280000000003': '1', '314.98240000000004': '1', '315.392': '1', '315.8016': '1', '316.2112': '1', '316.62080000000003': '1', '317.03040000000004': '1', '317.44': '1', '317.8496': '1', '318.2592': '1', '318.66880000000003': '1', '319.0784': '1', '319.488': '1', '319.8976': '0', '320.3072': '0', '320.71680000000003': '0', '321.1264': '0', '321.536': '0', '321.9456': '0', '322.3552': '0', '322.76480000000004': '0', '323.1744': '0', '323.584': '0', '323.9936': '0', '324.4032': '1', '324.81280000000004': '1', '325.2224': '1', '325.632': '1', '326.0416': '1', '326.45120000000003': '1', '326.86080000000004': '1', '327.2704': '1', '327.68': '1', '328.0896': '1', '328.49920000000003': '1', '328.90880000000004': '1', '329.3184': '1', '329.728': '1', '330.1376': '0', '330.54720000000003': '1', '330.95680000000004': '1', '331.3664': '1', '331.776': '1', '332.1856': '0', '332.59520000000003': '1', '333.0048': '1', '333.4144': '1', '333.824': '1', '334.2336': '1', '334.64320000000004': '1', '335.0528': '1', '335.4624': '1', '335.872': '1', '336.2816': '1', '336.69120000000004': '1', '337.1008': '1', '337.5104': '1', '337.92': '1', '338.3296': '1', '338.73920000000004': '1', '339.1488': '1', '339.5584': '1', '339.968': '1', '340.37760000000003': '1', '340.78720000000004': '0', '341.1968': '1', '341.6064': '1', '342.016': '0', '342.42560000000003': '1', '342.83520000000004': '1', '343.2448': '1', '343.6544': '0', '344.064': '1', '344.47360000000003': '1', '344.88320000000004': '0', '345.2928': '1', '345.7024': '0', '346.112': '1', '346.52160000000003': '1', '346.9312': '1', '347.3408': '1', '347.7504': '1', '348.16': '1', '348.56960000000004': '1', '348.9792': '0', '349.3888': '0', '349.7984': '1', '350.208': '0', '350.61760000000004': '0', '351.0272': '1', '351.4368': '0', '351.8464': '1', '352.25600000000003': '1', '352.66560000000004': '0', '353.0752': '1', '353.4848': '1', '353.8944': '0', '354.30400000000003': '1', '354.71360000000004': '1', '355.1232': '0', '355.5328': '0', '355.9424': '0', '356.35200000000003': '0', '356.76160000000004': '0', '357.1712': '1', '357.5808': '1', '357.9904': '1', '358.40000000000003': '0', '358.8096': '1', '359.2192': '0', '359.6288': '0', '360.0384': '1', '360.44800000000004': '0', '360.8576': '1', '361.2672': '1', '361.6768': '0', '362.0864': '0', '362.49600000000004': '0', '362.9056': '0', '363.3152': '1', '363.7248': '0', '364.1344': '1', '364.54400000000004': '0', '364.9536': '0', '365.3632': '0', '365.7728': '1', '366.18240000000003': '1', '366.59200000000004': '1', '367.0016': '1', '367.4112': '0', '367.8208': '1', '368.23040000000003': '1', '368.64000000000004': '1', '369.0496': '1', '369.4592': '0', '369.8688': '0', '370.27840000000003': '0', '370.68800000000005': '1', '371.0976': '1', '371.5072': '1', '371.9168': '1', '372.32640000000004': '1', '372.736': '1', '373.1456': '1', '373.5552': '1', '373.9648': '1', '374.37440000000004': '0', '374.784': '0', '375.1936': '0', '375.6032': '0', '376.0128': '1', '376.42240000000004': '1', '376.832': '1', '377.2416': '1', '377.6512': '0', '378.06080000000003': '1', '378.47040000000004': '1', '378.88': '1', '379.2896': '0', '379.6992': '1', '380.10880000000003': '0', '380.51840000000004': '0', '380.928': '1', '381.3376': '1', '381.7472': '1', '382.15680000000003': '1', '382.56640000000004': '1', '382.976': '1', '383.3856': '1', '383.7952': '0', '384.20480000000003': '1', '384.61440000000005': '1', '385.024': '1', '385.4336': '1', '385.8432': '1', '386.25280000000004': '1', '386.6624': '1', '387.072': '0', '387.4816': '1', '387.8912': '1', '388.30080000000004': '1', '388.7104': '0', '389.12': '1', '389.5296': '1', '389.9392': '0', '390.34880000000004': '0', '390.7584': '1', '391.168': '1', '391.5776': '1', '391.98720000000003': '1', '392.39680000000004': '0', '392.8064': '1', '393.216': '1', '393.6256': '1', '394.03520000000003': '1', '394.44480000000004': '0', '394.8544': '0', '395.264': '0', '395.6736': '1', '396.08320000000003': '0', '396.49280000000005': '1', '396.9024': '0', '397.312': '0', '397.7216': '1', '398.13120000000004': '1', '398.54080000000005': '1', '398.9504': '1', '399.36': '0', '399.7696': '1', '400.17920000000004': '0', '400.5888': '1', '400.9984': '1', '401.408': '1', '401.8176': '1', '402.22720000000004': '1', '402.6368': '1', '403.0464': '0', '403.456': '0', '403.86560000000003': '0', '404.27520000000004': '0', '404.6848': '0', '405.0944': '0', '405.504': '0', '405.91360000000003': '0', '406.32320000000004': '0', '406.7328': '0', '407.1424': '0', '407.552': '0', '407.96160000000003': '0', '408.37120000000004': '0', '408.7808': '0', '409.1904': '0', '409.6': '0', '410.00960000000003': '0', '410.41920000000005': '0', '410.8288': '0', '411.2384': '0', '411.648': '0', '412.05760000000004': '0', '412.46720000000005': '0', '412.8768': '0', '413.2864': '0', '413.696': '0', '414.10560000000004': '0', '414.5152': '0', '414.9248': '0', '415.3344': '0', '415.744': '0', '416.15360000000004': '0', '416.5632': '0', '416.9728': '0', '417.3824': '0', '417.79200000000003': '0', '418.20160000000004': '0', '418.6112': '0', '419.0208': '0', '419.4304': '0', '419.84000000000003': '0', '420.24960000000004': '0', '420.6592': '0', '421.0688': '0', '421.4784': '0', '421.88800000000003': '0', '422.29760000000005': '0', '422.7072': '0', '423.1168': '0', '423.5264': '0', '423.93600000000004': '0', '424.34560000000005': '0', '424.7552': '0', '425.1648': '0', '425.5744': '0', '425.98400000000004': '0', '426.3936': '0', '426.8032': '0', '427.2128': '0', '427.6224': '0', '428.03200000000004': '0', '428.4416': '0', '428.8512': '0'}\", \"high\": \"{'0.0': '3', '0.4096': '3', '0.8192': '3', '1.2288000000000001': '2', '1.6384': '2', '2.048': '2', '2.4576000000000002': '3', '2.8672': '3', '3.2768': '2', '3.6864000000000003': '3', '4.096': '3', '4.5056': '1', '4.9152000000000005': '3', '5.324800000000001': '1', '5.7344': '1', '6.144': '2', '6.5536': '1', '6.9632000000000005': '3', '7.372800000000001': '3', '7.7824': '1', '8.192': '1', '8.601600000000001': '1', '9.0112': '1', '9.4208': '1', '9.830400000000001': '1', '10.24': '1', '10.649600000000001': '1', '11.0592': '1', '11.4688': '1', '11.878400000000001': '1', '12.288': '1', '12.697600000000001': '3', '13.1072': '1', '13.5168': '1', '13.926400000000001': '1', '14.336': '1', '14.745600000000001': '0', '15.1552': '0', '15.5648': '0', '15.974400000000001': '0', '16.384': '0', '16.7936': '0', '17.203200000000002': '0', '17.6128': '1', '18.0224': '0', '18.432000000000002': '0', '18.8416': '0', '19.2512': '0', '19.660800000000002': '0', '20.0704': '0', '20.48': '0', '20.8896': '0', '21.299200000000003': '0', '21.7088': '0', '22.1184': '1', '22.528000000000002': '0', '22.9376': '0', '23.3472': '0', '23.756800000000002': '0', '24.1664': '0', '24.576': '0', '24.9856': '0', '25.395200000000003': '0', '25.8048': '0', '26.2144': '0', '26.624000000000002': '0', '27.0336': '0', '27.4432': '0', '27.852800000000002': '0', '28.262400000000003': '0', '28.672': '0', '29.0816': '0', '29.491200000000003': '0', '29.9008': '0', '30.3104': '0', '30.720000000000002': '0', '31.1296': '1', '31.5392': '1', '31.948800000000002': '0', '32.3584': '1', '32.768': '0', '33.1776': '0', '33.5872': '0', '33.9968': '0', '34.406400000000005': '0', '34.816': '0', '35.2256': '0', '35.635200000000005': '0', '36.0448': '0', '36.4544': '0', '36.864000000000004': '0', '37.2736': '0', '37.6832': '0', '38.092800000000004': '0', '38.5024': '0', '38.912': '0', '39.321600000000004': '0', '39.7312': '0', '40.1408': '0', '40.5504': '2', '40.96': '0', '41.369600000000005': '0', '41.7792': '0', '42.1888': '0', '42.598400000000005': '0', '43.008': '0', '43.4176': '0', '43.827200000000005': '0', '44.2368': '0', '44.6464': '0', '45.056000000000004': '0', '45.4656': '0', '45.8752': '0', '46.284800000000004': '0', '46.6944': '2', '47.104': '0', '47.513600000000004': '1', '47.9232': '1', '48.3328': '2', '48.7424': '2', '49.152': '1', '49.561600000000006': '1', '49.9712': '1', '50.3808': '1', '50.790400000000005': '1', '51.2': '1', '51.6096': '1', '52.019200000000005': '1', '52.4288': '1', '52.8384': '1', '53.248000000000005': '1', '53.6576': '1', '54.0672': '1', '54.476800000000004': '1', '54.8864': '1', '55.296': '1', '55.705600000000004': '1', '56.1152': '1', '56.524800000000006': '2', '56.934400000000004': '1', '57.344': '1', '57.753600000000006': '1', '58.1632': '1', '58.5728': '2', '58.982400000000005': '1', '59.392': '0', '59.8016': '1', '60.211200000000005': '1', '60.6208': '2', '61.0304': '0', '61.440000000000005': '1', '61.8496': '1', '62.2592': '2', '62.668800000000005': '1', '63.0784': '0', '63.488': '1', '63.897600000000004': '1', '64.30720000000001': '1', '64.7168': '1', '65.1264': '1', '65.536': '1', '65.9456': '1', '66.3552': '2', '66.76480000000001': '1', '67.1744': '2', '67.584': '1', '67.9936': '1', '68.4032': '1', '68.81280000000001': '1', '69.22240000000001': '1', '69.632': '1', '70.0416': '0', '70.4512': '1', '70.8608': '2', '71.27040000000001': '1', '71.68': '0', '72.0896': '1', '72.4992': '0', '72.9088': '0', '73.3184': '0', '73.72800000000001': '0', '74.1376': '0', '74.5472': '0', '74.9568': '0', '75.3664': '0', '75.77600000000001': '0', '76.18560000000001': '1', '76.5952': '1', '77.0048': '2', '77.4144': '0', '77.824': '1', '78.23360000000001': '0', '78.64320000000001': '0', '79.0528': '0', '79.4624': '1', '79.872': '0', '80.2816': '1', '80.69120000000001': '0', '81.1008': '1', '81.5104': '0', '81.92': '0', '82.3296': '0', '82.73920000000001': '0', '83.14880000000001': '0', '83.5584': '0', '83.968': '0', '84.3776': '0', '84.7872': '0', '85.19680000000001': '0', '85.60640000000001': '1', '86.016': '0', '86.4256': '0', '86.8352': '0', '87.2448': '0', '87.65440000000001': '0', '88.06400000000001': '0', '88.4736': '0', '88.8832': '0', '89.2928': '0', '89.7024': '0', '90.11200000000001': '0', '90.5216': '0', '90.9312': '0', '91.3408': '0', '91.7504': '0', '92.16000000000001': '0', '92.56960000000001': '1', '92.9792': '0', '93.3888': '0', '93.7984': '0', '94.208': '0', '94.61760000000001': '0', '95.02720000000001': '0', '95.4368': '2', '95.8464': '0', '96.256': '0', '96.6656': '0', '97.07520000000001': '0', '97.4848': '0', '97.8944': '0', '98.304': '0', '98.7136': '0', '99.12320000000001': '0', '99.53280000000001': '0', '99.9424': '0', '100.352': '0', '100.7616': '0', '101.1712': '0', '101.58080000000001': '0', '101.99040000000001': '0', '102.4': '0', '102.8096': '0', '103.2192': '2', '103.6288': '2', '104.03840000000001': '2', '104.44800000000001': '2', '104.8576': '2', '105.2672': '2', '105.6768': '2', '106.08640000000001': '1', '106.49600000000001': '2', '106.9056': '2', '107.3152': '2', '107.7248': '1', '108.1344': '2', '108.54400000000001': '1', '108.95360000000001': '1', '109.3632': '1', '109.7728': '1', '110.1824': '1', '110.592': '2', '111.00160000000001': '1', '111.41120000000001': '2', '111.8208': '1', '112.2304': '2', '112.64': '0', '113.04960000000001': '0', '113.45920000000001': '1', '113.86880000000001': '1', '114.2784': '1', '114.688': '0', '115.0976': '1', '115.50720000000001': '1', '115.91680000000001': '1', '116.3264': '1', '116.736': '1', '117.1456': '1', '117.5552': '1', '117.96480000000001': '1', '118.37440000000001': '1', '118.784': '0', '119.1936': '1', '119.6032': '1', '120.01280000000001': '1', '120.42240000000001': '1', '120.83200000000001': '2', '121.2416': '1', '121.6512': '2', '122.0608': '1', '122.47040000000001': '1', '122.88000000000001': '2', '123.28960000000001': '1', '123.6992': '1', '124.1088': '2', '124.5184': '2', '124.92800000000001': '2', '125.33760000000001': '2', '125.7472': '1', '126.1568': '1', '126.5664': '0', '126.976': '0', '127.38560000000001': '0', '127.79520000000001': '0', '128.2048': '0', '128.61440000000002': '0', '129.024': '0', '129.4336': '0', '129.8432': '0', '130.2528': '0', '130.66240000000002': '0', '131.072': '0', '131.48160000000001': '0', '131.8912': '0', '132.3008': '0', '132.7104': '0', '133.12': '0', '133.52960000000002': '0', '133.9392': '0', '134.3488': '2', '134.7584': '2', '135.168': '1', '135.57760000000002': '1', '135.9872': '1', '136.3968': '2', '136.8064': '2', '137.216': '1', '137.62560000000002': '1', '138.0352': '2', '138.44480000000001': '1', '138.8544': '2', '139.264': '1', '139.6736': '2', '140.0832': '0', '140.49280000000002': '0', '140.9024': '2', '141.312': '1', '141.7216': '1', '142.1312': '1', '142.54080000000002': '0', '142.9504': '1', '143.36': '1', '143.7696': '1', '144.1792': '0', '144.58880000000002': '1', '144.9984': '1', '145.40800000000002': '2', '145.8176': '0', '146.2272': '2', '146.6368': '1', '147.0464': '1', '147.45600000000002': '0', '147.8656': '0', '148.2752': '1', '148.6848': '0', '149.0944': '0', '149.50400000000002': '1', '149.9136': '1', '150.3232': '2', '150.7328': '2', '151.1424': '0', '151.55200000000002': '1', '151.9616': '1', '152.37120000000002': '2', '152.7808': '1', '153.1904': '1', '153.6': '1', '154.0096': '1', '154.41920000000002': '0', '154.8288': '1', '155.2384': '1', '155.648': '2', '156.0576': '0', '156.46720000000002': '1', '156.8768': '1', '157.28640000000001': '0', '157.696': '0', '158.1056': '1', '158.51520000000002': '1', '158.9248': '0', '159.33440000000002': '1', '159.744': '1', '160.1536': '0', '160.5632': '2', '160.9728': '2', '161.38240000000002': '1', '161.792': '1', '162.2016': '1', '162.6112': '1', '163.0208': '1', '163.43040000000002': '1', '163.84': '1', '164.24960000000002': '1', '164.6592': '1', '165.0688': '1', '165.47840000000002': '2', '165.888': '2', '166.29760000000002': '2', '166.7072': '1', '167.1168': '0', '167.5264': '2', '167.936': '1', '168.34560000000002': '1', '168.7552': '1', '169.1648': '2', '169.5744': '1', '169.984': '1', '170.39360000000002': '0', '170.8032': '2', '171.21280000000002': '0', '171.6224': '1', '172.032': '1', '172.44160000000002': '1', '172.8512': '2', '173.26080000000002': '1', '173.6704': '0', '174.08': '2', '174.4896': '1', '174.8992': '1', '175.30880000000002': '2', '175.7184': '2', '176.12800000000001': '0', '176.5376': '1', '176.9472': '0', '177.35680000000002': '2', '177.7664': '1', '178.17600000000002': '1', '178.5856': '1', '178.9952': '2', '179.4048': '2', '179.8144': '1', '180.22400000000002': '2', '180.6336': '2', '181.0432': '2', '181.4528': '1', '181.8624': '1', '182.27200000000002': '0', '182.6816': '0', '183.09120000000001': '1', '183.5008': '1', '183.9104': '0', '184.32000000000002': '0', '184.7296': '1', '185.13920000000002': '2', '185.5488': '2', '185.9584': '2', '186.368': '2', '186.7776': '1', '187.18720000000002': '0', '187.5968': '2', '188.0064': '2', '188.416': '2', '188.8256': '0', '189.23520000000002': '2', '189.6448': '1', '190.05440000000002': '2', '190.464': '2', '190.8736': '2', '191.28320000000002': '1', '191.6928': '1', '192.10240000000002': '0', '192.512': '0', '192.9216': '1', '193.3312': '2', '193.7408': '1', '194.15040000000002': '2', '194.56': '1', '194.9696': '1', '195.3792': '2', '195.7888': '2', '196.19840000000002': '2', '196.608': '1', '197.01760000000002': '0', '197.4272': '0', '197.8368': '1', '198.24640000000002': '2', '198.656': '1', '199.06560000000002': '0', '199.4752': '0', '199.8848': '1', '200.2944': '2', '200.704': '2', '201.11360000000002': '2', '201.5232': '1', '201.93280000000001': '1', '202.3424': '0', '202.752': '0', '203.16160000000002': '2', '203.5712': '1', '203.98080000000002': '2', '204.3904': '0', '204.8': '1', '205.20960000000002': '2', '205.6192': '2', '206.02880000000002': '2', '206.4384': '1', '206.848': '1', '207.2576': '0', '207.6672': '0', '208.07680000000002': '2', '208.4864': '1', '208.89600000000002': '0', '209.3056': '0', '209.7152': '1', '210.12480000000002': '2', '210.5344': '2', '210.94400000000002': '2', '211.3536': '2', '211.7632': '1', '212.17280000000002': '0', '212.5824': '0', '212.99200000000002': '2', '213.4016': '2', '213.8112': '1', '214.2208': '1', '214.6304': '1', '215.04000000000002': '1', '215.4496': '2', '215.85920000000002': '2', '216.2688': '2', '216.6784': '1', '217.08800000000002': '0', '217.4976': '0', '217.90720000000002': '2', '218.3168': '2', '218.7264': '2', '219.13600000000002': '2', '219.5456': '2', '219.95520000000002': '2', '220.3648': '2', '220.7744': '1', '221.184': '0', '221.5936': '2', '222.00320000000002': '1', '222.4128': '2', '222.82240000000002': '1', '223.232': '2', '223.6416': '0', '224.05120000000002': '2', '224.4608': '1', '224.87040000000002': '0', '225.28': '1', '225.6896': '1', '226.09920000000002': '1', '226.5088': '2', '226.91840000000002': '2', '227.328': '2', '227.73760000000001': '1', '228.1472': '1', '228.5568': '2', '228.96640000000002': '0', '229.376': '1', '229.78560000000002': '1', '230.1952': '1', '230.6048': '1', '231.01440000000002': '2', '231.424': '0', '231.83360000000002': '0', '232.2432': '0', '232.6528': '0', '233.06240000000003': '0', '233.472': '0', '233.88160000000002': '0', '234.2912': '0', '234.70080000000002': '0', '235.1104': '0', '235.52': '2', '235.92960000000002': '0', '236.3392': '0', '236.74880000000002': '0', '237.1584': '0', '237.568': '0', '237.97760000000002': '0', '238.3872': '2', '238.79680000000002': '2', '239.2064': '1', '239.616': '2', '240.02560000000003': '2', '240.4352': '2', '240.84480000000002': '0', '241.2544': '2', '241.66400000000002': '0', '242.0736': '2', '242.4832': '1', '242.89280000000002': '1', '243.3024': '1', '243.71200000000002': '2', '244.1216': '0', '244.5312': '2', '244.94080000000002': '0', '245.3504': '1', '245.76000000000002': '1', '246.1696': '1', '246.57920000000001': '2', '246.9888': '2', '247.3984': '2', '247.80800000000002': '2', '248.2176': '1', '248.62720000000002': '2', '249.0368': '2', '249.4464': '0', '249.85600000000002': '0', '250.2656': '0', '250.67520000000002': '0', '251.0848': '0', '251.4944': '2', '251.90400000000002': '0', '252.3136': '0', '252.72320000000002': '0', '253.1328': '0', '253.54240000000001': '0', '253.952': '0', '254.3616': '0', '254.77120000000002': '0', '255.1808': '0', '255.59040000000002': '0', '256.0': '0', '256.4096': '2', '256.8192': '2', '257.22880000000004': '1', '257.6384': '2', '258.048': '1', '258.4576': '1', '258.8672': '1', '259.27680000000004': '2', '259.6864': '1', '260.096': '2', '260.5056': '1', '260.9152': '0', '261.32480000000004': '1', '261.7344': '1', '262.144': '1', '262.5536': '2', '262.96320000000003': '1', '263.37280000000004': '1', '263.7824': '2', '264.192': '2', '264.6016': '0', '265.01120000000003': '2', '265.4208': '2', '265.8304': '2', '266.24': '2', '266.6496': '0', '267.05920000000003': '0', '267.4688': '0', '267.8784': '0', '268.288': '0', '268.6976': '0', '269.10720000000003': '0', '269.5168': '0', '269.9264': '1', '270.336': '0', '270.7456': '0', '271.15520000000004': '0', '271.5648': '0', '271.9744': '0', '272.384': '0', '272.7936': '0', '273.20320000000004': '0', '273.6128': '2', '274.0224': '2', '274.432': '2', '274.8416': '1', '275.25120000000004': '2', '275.6608': '1', '276.0704': '1', '276.48': '2', '276.88960000000003': '1', '277.29920000000004': '2', '277.7088': '1', '278.1184': '2', '278.528': '2', '278.93760000000003': '1', '279.3472': '1', '279.7568': '2', '280.1664': '0', '280.576': '0', '280.98560000000003': '0', '281.3952': '0', '281.8048': '0', '282.2144': '0', '282.624': '0', '283.03360000000004': '0', '283.4432': '0', '283.8528': '0', '284.2624': '0', '284.672': '0', '285.08160000000004': '0', '285.4912': '0', '285.9008': '0', '286.3104': '0', '286.72': '0', '287.12960000000004': '2', '287.5392': '1', '287.9488': '1', '288.3584': '1', '288.76800000000003': '1', '289.17760000000004': '1', '289.5872': '1', '289.9968': '2', '290.4064': '1', '290.81600000000003': '1', '291.2256': '1', '291.6352': '2', '292.0448': '1', '292.4544': '1', '292.86400000000003': '1', '293.2736': '2', '293.6832': '0', '294.0928': '0', '294.5024': '0', '294.91200000000003': '0', '295.3216': '0', '295.7312': '0', '296.1408': '2', '296.5504': '2', '296.96000000000004': '2', '297.3696': '2', '297.7792': '2', '298.1888': '2', '298.5984': '2', '299.00800000000004': '0', '299.4176': '0', '299.8272': '0', '300.2368': '0', '300.6464': '0', '301.05600000000004': '0', '301.4656': '0', '301.8752': '0', '302.2848': '0', '302.69440000000003': '0', '303.10400000000004': '0', '303.5136': '0', '303.9232': '0', '304.3328': '0', '304.74240000000003': '0', '305.152': '0', '305.5616': '0', '305.9712': '0', '306.3808': '0', '306.79040000000003': '1', '307.2': '0', '307.6096': '0', '308.0192': '1', '308.4288': '1', '308.83840000000004': '0', '309.248': '0', '309.6576': '2', '310.0672': '1', '310.4768': '1', '310.88640000000004': '0', '311.296': '1', '311.7056': '1', '312.1152': '1', '312.5248': '0', '312.93440000000004': '2', '313.344': '1', '313.7536': '1', '314.1632': '0', '314.57280000000003': '0', '314.98240000000004': '1', '315.392': '1', '315.8016': '0', '316.2112': '0', '316.62080000000003': '0', '317.03040000000004': '0', '317.44': '0', '317.8496': '0', '318.2592': '0', '318.66880000000003': '0', '319.0784': '0', '319.488': '0', '319.8976': '2', '320.3072': '2', '320.71680000000003': '2', '321.1264': '2', '321.536': '2', '321.9456': '2', '322.3552': '2', '322.76480000000004': '2', '323.1744': '1', '323.584': '2', '323.9936': '2', '324.4032': '2', '324.81280000000004': '2', '325.2224': '2', '325.632': '1', '326.0416': '1', '326.45120000000003': '1', '326.86080000000004': '0', '327.2704': '2', '327.68': '1', '328.0896': '1', '328.49920000000003': '1', '328.90880000000004': '1', '329.3184': '1', '329.728': '1', '330.1376': '1', '330.54720000000003': '1', '330.95680000000004': '1', '331.3664': '1', '331.776': '1', '332.1856': '1', '332.59520000000003': '1', '333.0048': '0', '333.4144': '1', '333.824': '0', '334.2336': '0', '334.64320000000004': '0', '335.0528': '0', '335.4624': '0', '335.872': '0', '336.2816': '0', '336.69120000000004': '1', '337.1008': '0', '337.5104': '0', '337.92': '0', '338.3296': '0', '338.73920000000004': '0', '339.1488': '0', '339.5584': '0', '339.968': '0', '340.37760000000003': '0', '340.78720000000004': '2', '341.1968': '0', '341.6064': '2', '342.016': '2', '342.42560000000003': '1', '342.83520000000004': '1', '343.2448': '1', '343.6544': '1', '344.064': '1', '344.47360000000003': '2', '344.88320000000004': '2', '345.2928': '2', '345.7024': '1', '346.112': '1', '346.52160000000003': '1', '346.9312': '0', '347.3408': '2', '347.7504': '1', '348.16': '0', '348.56960000000004': '1', '348.9792': '1', '349.3888': '1', '349.7984': '2', '350.208': '2', '350.61760000000004': '1', '351.0272': '1', '351.4368': '1', '351.8464': '0', '352.25600000000003': '1', '352.66560000000004': '2', '353.0752': '1', '353.4848': '1', '353.8944': '1', '354.30400000000003': '1', '354.71360000000004': '0', '355.1232': '2', '355.5328': '2', '355.9424': '2', '356.35200000000003': '2', '356.76160000000004': '2', '357.1712': '1', '357.5808': '1', '357.9904': '1', '358.40000000000003': '2', '358.8096': '1', '359.2192': '1', '359.6288': '1', '360.0384': '1', '360.44800000000004': '2', '360.8576': '1', '361.2672': '2', '361.6768': '2', '362.0864': '2', '362.49600000000004': '2', '362.9056': '1', '363.3152': '1', '363.7248': '2', '364.1344': '0', '364.54400000000004': '2', '364.9536': '2', '365.3632': '2', '365.7728': '1', '366.18240000000003': '0', '366.59200000000004': '0', '367.0016': '1', '367.4112': '2', '367.8208': '1', '368.23040000000003': '0', '368.64000000000004': '1', '369.0496': '1', '369.4592': '2', '369.8688': '2', '370.27840000000003': '2', '370.68800000000005': '1', '371.0976': '1', '371.5072': '0', '371.9168': '0', '372.32640000000004': '2', '372.736': '1', '373.1456': '0', '373.5552': '0', '373.9648': '1', '374.37440000000004': '2', '374.784': '2', '375.1936': '2', '375.6032': '2', '376.0128': '1', '376.42240000000004': '1', '376.832': '1', '377.2416': '1', '377.6512': '2', '378.06080000000003': '0', '378.47040000000004': '0', '378.88': '1', '379.2896': '2', '379.6992': '2', '380.10880000000003': '2', '380.51840000000004': '2', '380.928': '1', '381.3376': '0', '381.7472': '0', '382.15680000000003': '1', '382.56640000000004': '1', '382.976': '2', '383.3856': '0', '383.7952': '1', '384.20480000000003': '1', '384.61440000000005': '2', '385.024': '0', '385.4336': '2', '385.8432': '1', '386.25280000000004': '1', '386.6624': '1', '387.072': '1', '387.4816': '1', '387.8912': '0', '388.30080000000004': '0', '388.7104': '1', '389.12': '1', '389.5296': '2', '389.9392': '2', '390.34880000000004': '2', '390.7584': '1', '391.168': '1', '391.5776': '0', '391.98720000000003': '1', '392.39680000000004': '2', '392.8064': '1', '393.216': '0', '393.6256': '1', '394.03520000000003': '1', '394.44480000000004': '2', '394.8544': '2', '395.264': '2', '395.6736': '1', '396.08320000000003': '1', '396.49280000000005': '1', '396.9024': '1', '397.312': '2', '397.7216': '1', '398.13120000000004': '0', '398.54080000000005': '0', '398.9504': '1', '399.36': '2', '399.7696': '2', '400.17920000000004': '2', '400.5888': '2', '400.9984': '1', '401.408': '0', '401.8176': '0', '402.22720000000004': '1', '402.6368': '1', '403.0464': '1', '403.456': '3', '403.86560000000003': '3', '404.27520000000004': '3', '404.6848': '3', '405.0944': '3', '405.504': '3', '405.91360000000003': '3', '406.32320000000004': '3', '406.7328': '3', '407.1424': '3', '407.552': '3', '407.96160000000003': '3', '408.37120000000004': '3', '408.7808': '3', '409.1904': '3', '409.6': '3', '410.00960000000003': '3', '410.41920000000005': '3', '410.8288': '3', '411.2384': '3', '411.648': '3', '412.05760000000004': '3', '412.46720000000005': '3', '412.8768': '3', '413.2864': '3', '413.696': '3', '414.10560000000004': '3', '414.5152': '3', '414.9248': '3', '415.3344': '3', '415.744': '3', '416.15360000000004': '3', '416.5632': '3', '416.9728': '3', '417.3824': '3', '417.79200000000003': '3', '418.20160000000004': '3', '418.6112': '3', '419.0208': '3', '419.4304': '3', '419.84000000000003': '3', '420.24960000000004': '3', '420.6592': '3', '421.0688': '3', '421.4784': '3', '421.88800000000003': '3', '422.29760000000005': '3', '422.7072': '3', '423.1168': '3', '423.5264': '3', '423.93600000000004': '3', '424.34560000000005': '3', '424.7552': '3', '425.1648': '3', '425.5744': '3', '425.98400000000004': '3', '426.3936': '3', '426.8032': '3', '427.2128': '3', '427.6224': '3', '428.03200000000004': '3', '428.4416': '3', '428.8512': '3'}\", \"legs\": \"{'0.0': '0', '0.4096': '0', '0.8192': '0', '1.2288000000000001': '0', '1.6384': '0', '2.048': '0', '2.4576000000000002': '0', '2.8672': '0', '3.2768': '0', '3.6864000000000003': '0', '4.096': '0', '4.5056': '0', '4.9152000000000005': '0', '5.324800000000001': '0', '5.7344': '0', '6.144': '0', '6.5536': '0', '6.9632000000000005': '0', '7.372800000000001': '0', '7.7824': '1', '8.192': '1', '8.601600000000001': '1', '9.0112': '2', '9.4208': '2', '9.830400000000001': '1', '10.24': '1', '10.649600000000001': '1', '11.0592': '2', '11.4688': '1', '11.878400000000001': '0', '12.288': '1', '12.697600000000001': '0', '13.1072': '1', '13.5168': '0', '13.926400000000001': '1', '14.336': '0', '14.745600000000001': '2', '15.1552': '2', '15.5648': '2', '15.974400000000001': '2', '16.384': '2', '16.7936': '2', '17.203200000000002': '2', '17.6128': '2', '18.0224': '2', '18.432000000000002': '2', '18.8416': '2', '19.2512': '2', '19.660800000000002': '2', '20.0704': '2', '20.48': '2', '20.8896': '2', '21.299200000000003': '2', '21.7088': '2', '22.1184': '2', '22.528000000000002': '2', '22.9376': '2', '23.3472': '2', '23.756800000000002': '2', '24.1664': '2', '24.576': '2', '24.9856': '2', '25.395200000000003': '2', '25.8048': '2', '26.2144': '2', '26.624000000000002': '2', '27.0336': '2', '27.4432': '2', '27.852800000000002': '2', '28.262400000000003': '2', '28.672': '2', '29.0816': '2', '29.491200000000003': '2', '29.9008': '2', '30.3104': '2', '30.720000000000002': '2', '31.1296': '2', '31.5392': '2', '31.948800000000002': '2', '32.3584': '2', '32.768': '2', '33.1776': '2', '33.5872': '2', '33.9968': '2', '34.406400000000005': '2', '34.816': '2', '35.2256': '2', '35.635200000000005': '2', '36.0448': '2', '36.4544': '2', '36.864000000000004': '2', '37.2736': '2', '37.6832': '2', '38.092800000000004': '2', '38.5024': '2', '38.912': '2', '39.321600000000004': '2', '39.7312': '2', '40.1408': '2', '40.5504': '2', '40.96': '2', '41.369600000000005': '2', '41.7792': '2', '42.1888': '2', '42.598400000000005': '2', '43.008': '2', '43.4176': '2', '43.827200000000005': '2', '44.2368': '2', '44.6464': '2', '45.056000000000004': '2', '45.4656': '2', '45.8752': '2', '46.284800000000004': '2', '46.6944': '2', '47.104': '2', '47.513600000000004': '2', '47.9232': '2', '48.3328': '2', '48.7424': '2', '49.152': '2', '49.561600000000006': '2', '49.9712': '2', '50.3808': '2', '50.790400000000005': '2', '51.2': '2', '51.6096': '2', '52.019200000000005': '2', '52.4288': '2', '52.8384': '2', '53.248000000000005': '2', '53.6576': '2', '54.0672': '2', '54.476800000000004': '2', '54.8864': '2', '55.296': '2', '55.705600000000004': '2', '56.1152': '2', '56.524800000000006': '2', '56.934400000000004': '2', '57.344': '2', '57.753600000000006': '2', '58.1632': '2', '58.5728': '2', '58.982400000000005': '2', '59.392': '2', '59.8016': '2', '60.211200000000005': '2', '60.6208': '2', '61.0304': '2', '61.440000000000005': '2', '61.8496': '2', '62.2592': '2', '62.668800000000005': '2', '63.0784': '2', '63.488': '2', '63.897600000000004': '2', '64.30720000000001': '2', '64.7168': '2', '65.1264': '2', '65.536': '2', '65.9456': '2', '66.3552': '2', '66.76480000000001': '2', '67.1744': '2', '67.584': '2', '67.9936': '2', '68.4032': '2', '68.81280000000001': '2', '69.22240000000001': '2', '69.632': '2', '70.0416': '2', '70.4512': '2', '70.8608': '2', '71.27040000000001': '2', '71.68': '2', '72.0896': '2', '72.4992': '2', '72.9088': '2', '73.3184': '2', '73.72800000000001': '2', '74.1376': '2', '74.5472': '2', '74.9568': '2', '75.3664': '2', '75.77600000000001': '2', '76.18560000000001': '2', '76.5952': '2', '77.0048': '2', '77.4144': '2', '77.824': '2', '78.23360000000001': '2', '78.64320000000001': '2', '79.0528': '2', '79.4624': '2', '79.872': '2', '80.2816': '2', '80.69120000000001': '2', '81.1008': '2', '81.5104': '2', '81.92': '2', '82.3296': '2', '82.73920000000001': '2', '83.14880000000001': '2', '83.5584': '2', '83.968': '2', '84.3776': '2', '84.7872': '2', '85.19680000000001': '2', '85.60640000000001': '2', '86.016': '2', '86.4256': '2', '86.8352': '2', '87.2448': '2', '87.65440000000001': '2', '88.06400000000001': '2', '88.4736': '2', '88.8832': '2', '89.2928': '2', '89.7024': '2', '90.11200000000001': '2', '90.5216': '2', '90.9312': '2', '91.3408': '2', '91.7504': '2', '92.16000000000001': '2', '92.56960000000001': '2', '92.9792': '2', '93.3888': '2', '93.7984': '2', '94.208': '2', '94.61760000000001': '2', '95.02720000000001': '2', '95.4368': '2', '95.8464': '2', '96.256': '2', '96.6656': '2', '97.07520000000001': '2', '97.4848': '2', '97.8944': '2', '98.304': '2', '98.7136': '2', '99.12320000000001': '2', '99.53280000000001': '2', '99.9424': '2', '100.352': '2', '100.7616': '2', '101.1712': '2', '101.58080000000001': '2', '101.99040000000001': '2', '102.4': '2', '102.8096': '2', '103.2192': '2', '103.6288': '2', '104.03840000000001': '1', '104.44800000000001': '1', '104.8576': '1', '105.2672': '2', '105.6768': '1', '106.08640000000001': '1', '106.49600000000001': '1', '106.9056': '2', '107.3152': '1', '107.7248': '1', '108.1344': '1', '108.54400000000001': '2', '108.95360000000001': '1', '109.3632': '1', '109.7728': '1', '110.1824': '1', '110.592': '2', '111.00160000000001': '1', '111.41120000000001': '1', '111.8208': '1', '112.2304': '2', '112.64': '1', '113.04960000000001': '1', '113.45920000000001': '1', '113.86880000000001': '2', '114.2784': '2', '114.688': '2', '115.0976': '2', '115.50720000000001': '2', '115.91680000000001': '2', '116.3264': '2', '116.736': '2', '117.1456': '2', '117.5552': '2', '117.96480000000001': '2', '118.37440000000001': '2', '118.784': '2', '119.1936': '2', '119.6032': '2', '120.01280000000001': '2', '120.42240000000001': '1', '120.83200000000001': '2', '121.2416': '1', '121.6512': '1', '122.0608': '1', '122.47040000000001': '2', '122.88000000000001': '1', '123.28960000000001': '1', '123.6992': '1', '124.1088': '2', '124.5184': '1', '124.92800000000001': '1', '125.33760000000001': '1', '125.7472': '2', '126.1568': '1', '126.5664': '1', '126.976': '1', '127.38560000000001': '2', '127.79520000000001': '2', '128.2048': '2', '128.61440000000002': '2', '129.024': '2', '129.4336': '2', '129.8432': '2', '130.2528': '2', '130.66240000000002': '2', '131.072': '2', '131.48160000000001': '2', '131.8912': '2', '132.3008': '2', '132.7104': '2', '133.12': '2', '133.52960000000002': '2', '133.9392': '1', '134.3488': '2', '134.7584': '1', '135.168': '1', '135.57760000000002': '1', '135.9872': '2', '136.3968': '2', '136.8064': '2', '137.216': '2', '137.62560000000002': '2', '138.0352': '2', '138.44480000000001': '1', '138.8544': '1', '139.264': '1', '139.6736': '2', '140.0832': '1', '140.49280000000002': '1', '140.9024': '1', '141.312': '2', '141.7216': '2', '142.1312': '2', '142.54080000000002': '2', '142.9504': '2', '143.36': '2', '143.7696': '2', '144.1792': '2', '144.58880000000002': '2', '144.9984': '2', '145.40800000000002': '2', '145.8176': '2', '146.2272': '2', '146.6368': '2', '147.0464': '2', '147.45600000000002': '2', '147.8656': '2', '148.2752': '2', '148.6848': '2', '149.0944': '2', '149.50400000000002': '2', '149.9136': '2', '150.3232': '2', '150.7328': '2', '151.1424': '2', '151.55200000000002': '2', '151.9616': '2', '152.37120000000002': '2', '152.7808': '2', '153.1904': '2', '153.6': '2', '154.0096': '2', '154.41920000000002': '2', '154.8288': '2', '155.2384': '2', '155.648': '2', '156.0576': '2', '156.46720000000002': '2', '156.8768': '2', '157.28640000000001': '2', '157.696': '2', '158.1056': '2', '158.51520000000002': '2', '158.9248': '2', '159.33440000000002': '2', '159.744': '2', '160.1536': '2', '160.5632': '2', '160.9728': '2', '161.38240000000002': '2', '161.792': '2', '162.2016': '2', '162.6112': '2', '163.0208': '2', '163.43040000000002': '2', '163.84': '2', '164.24960000000002': '2', '164.6592': '2', '165.0688': '2', '165.47840000000002': '2', '165.888': '2', '166.29760000000002': '2', '166.7072': '2', '167.1168': '2', '167.5264': '2', '167.936': '2', '168.34560000000002': '2', '168.7552': '2', '169.1648': '2', '169.5744': '2', '169.984': '2', '170.39360000000002': '2', '170.8032': '2', '171.21280000000002': '2', '171.6224': '2', '172.032': '2', '172.44160000000002': '2', '172.8512': '2', '173.26080000000002': '2', '173.6704': '2', '174.08': '2', '174.4896': '2', '174.8992': '2', '175.30880000000002': '2', '175.7184': '2', '176.12800000000001': '2', '176.5376': '2', '176.9472': '2', '177.35680000000002': '2', '177.7664': '2', '178.17600000000002': '2', '178.5856': '2', '178.9952': '2', '179.4048': '2', '179.8144': '2', '180.22400000000002': '2', '180.6336': '2', '181.0432': '2', '181.4528': '2', '181.8624': '2', '182.27200000000002': '2', '182.6816': '2', '183.09120000000001': '2', '183.5008': '2', '183.9104': '2', '184.32000000000002': '2', '184.7296': '2', '185.13920000000002': '2', '185.5488': '2', '185.9584': '2', '186.368': '2', '186.7776': '2', '187.18720000000002': '2', '187.5968': '2', '188.0064': '2', '188.416': '2', '188.8256': '2', '189.23520000000002': '2', '189.6448': '2', '190.05440000000002': '2', '190.464': '2', '190.8736': '2', '191.28320000000002': '2', '191.6928': '2', '192.10240000000002': '2', '192.512': '2', '192.9216': '2', '193.3312': '2', '193.7408': '2', '194.15040000000002': '2', '194.56': '2', '194.9696': '2', '195.3792': '2', '195.7888': '2', '196.19840000000002': '2', '196.608': '2', '197.01760000000002': '2', '197.4272': '2', '197.8368': '2', '198.24640000000002': '2', '198.656': '2', '199.06560000000002': '2', '199.4752': '2', '199.8848': '2', '200.2944': '2', '200.704': '2', '201.11360000000002': '2', '201.5232': '1', '201.93280000000001': '2', '202.3424': '2', '202.752': '2', '203.16160000000002': '2', '203.5712': '2', '203.98080000000002': '2', '204.3904': '2', '204.8': '2', '205.20960000000002': '2', '205.6192': '2', '206.02880000000002': '2', '206.4384': '2', '206.848': '2', '207.2576': '2', '207.6672': '2', '208.07680000000002': '2', '208.4864': '2', '208.89600000000002': '2', '209.3056': '2', '209.7152': '2', '210.12480000000002': '2', '210.5344': '2', '210.94400000000002': '2', '211.3536': '2', '211.7632': '2', '212.17280000000002': '2', '212.5824': '2', '212.99200000000002': '2', '213.4016': '2', '213.8112': '2', '214.2208': '2', '214.6304': '2', '215.04000000000002': '2', '215.4496': '2', '215.85920000000002': '2', '216.2688': '2', '216.6784': '2', '217.08800000000002': '2', '217.4976': '2', '217.90720000000002': '2', '218.3168': '1', '218.7264': '2', '219.13600000000002': '1', '219.5456': '1', '219.95520000000002': '1', '220.3648': '2', '220.7744': '1', '221.184': '1', '221.5936': '1', '222.00320000000002': '2', '222.4128': '1', '222.82240000000002': '1', '223.232': '1', '223.6416': '2', '224.05120000000002': '1', '224.4608': '1', '224.87040000000002': '1', '225.28': '2', '225.6896': '1', '226.09920000000002': '1', '226.5088': '1', '226.91840000000002': '2', '227.328': '1', '227.73760000000001': '1', '228.1472': '1', '228.5568': '1', '228.96640000000002': '2', '229.376': '1', '229.78560000000002': '1', '230.1952': '1', '230.6048': '2', '231.01440000000002': '1', '231.424': '1', '231.83360000000002': '1', '232.2432': '2', '232.6528': '2', '233.06240000000003': '2', '233.472': '2', '233.88160000000002': '2', '234.2912': '2', '234.70080000000002': '2', '235.1104': '2', '235.52': '2', '235.92960000000002': '2', '236.3392': '2', '236.74880000000002': '2', '237.1584': '2', '237.568': '2', '237.97760000000002': '2', '238.3872': '2', '238.79680000000002': '1', '239.2064': '2', '239.616': '1', '240.02560000000003': '1', '240.4352': '1', '240.84480000000002': '2', '241.2544': '1', '241.66400000000002': '1', '242.0736': '1', '242.4832': '2', '242.89280000000002': '1', '243.3024': '1', '243.71200000000002': '1', '244.1216': '2', '244.5312': '1', '244.94080000000002': '1', '245.3504': '1', '245.76000000000002': '2', '246.1696': '1', '246.57920000000001': '1', '246.9888': '1', '247.3984': '1', '247.80800000000002': '2', '248.2176': '1', '248.62720000000002': '1', '249.0368': '1', '249.4464': '2', '249.85600000000002': '2', '250.2656': '2', '250.67520000000002': '2', '251.0848': '2', '251.4944': '2', '251.90400000000002': '2', '252.3136': '2', '252.72320000000002': '2', '253.1328': '2', '253.54240000000001': '2', '253.952': '2', '254.3616': '2', '254.77120000000002': '2', '255.1808': '2', '255.59040000000002': '2', '256.0': '2', '256.4096': '2', '256.8192': '1', '257.22880000000004': '1', '257.6384': '1', '258.048': '2', '258.4576': '1', '258.8672': '1', '259.27680000000004': '1', '259.6864': '2', '260.096': '1', '260.5056': '1', '260.9152': '1', '261.32480000000004': '2', '261.7344': '1', '262.144': '1', '262.5536': '1', '262.96320000000003': '2', '263.37280000000004': '1', '263.7824': '1', '264.192': '1', '264.6016': '2', '265.01120000000003': '2', '265.4208': '1', '265.8304': '1', '266.24': '1', '266.6496': '2', '267.05920000000003': '2', '267.4688': '2', '267.8784': '2', '268.288': '2', '268.6976': '2', '269.10720000000003': '2', '269.5168': '2', '269.9264': '2', '270.336': '2', '270.7456': '2', '271.15520000000004': '2', '271.5648': '2', '271.9744': '2', '272.384': '2', '272.7936': '2', '273.20320000000004': '2', '273.6128': '2', '274.0224': '1', '274.432': '1', '274.8416': '1', '275.25120000000004': '2', '275.6608': '1', '276.0704': '1', '276.48': '1', '276.88960000000003': '2', '277.29920000000004': '1', '277.7088': '1', '278.1184': '1', '278.528': '2', '278.93760000000003': '1', '279.3472': '1', '279.7568': '1', '280.1664': '2', '280.576': '2', '280.98560000000003': '2', '281.3952': '2', '281.8048': '2', '282.2144': '2', '282.624': '2', '283.03360000000004': '2', '283.4432': '2', '283.8528': '2', '284.2624': '2', '284.672': '2', '285.08160000000004': '2', '285.4912': '2', '285.9008': '2', '286.3104': '2', '286.72': '2', '287.12960000000004': '2', '287.5392': '1', '287.9488': '1', '288.3584': '1', '288.76800000000003': '2', '289.17760000000004': '1', '289.5872': '1', '289.9968': '1', '290.4064': '2', '290.81600000000003': '1', '291.2256': '1', '291.6352': '1', '292.0448': '1', '292.4544': '2', '292.86400000000003': '1', '293.2736': '1', '293.6832': '1', '294.0928': '2', '294.5024': '2', '294.91200000000003': '2', '295.3216': '2', '295.7312': '2', '296.1408': '2', '296.5504': '2', '296.96000000000004': '2', '297.3696': '2', '297.7792': '2', '298.1888': '2', '298.5984': '2', '299.00800000000004': '2', '299.4176': '2', '299.8272': '2', '300.2368': '2', '300.6464': '2', '301.05600000000004': '2', '301.4656': '2', '301.8752': '2', '302.2848': '2', '302.69440000000003': '2', '303.10400000000004': '2', '303.5136': '2', '303.9232': '2', '304.3328': '2', '304.74240000000003': '2', '305.152': '2', '305.5616': '2', '305.9712': '2', '306.3808': '2', '306.79040000000003': '2', '307.2': '2', '307.6096': '2', '308.0192': '2', '308.4288': '2', '308.83840000000004': '2', '309.248': '2', '309.6576': '2', '310.0672': '2', '310.4768': '2', '310.88640000000004': '2', '311.296': '2', '311.7056': '2', '312.1152': '2', '312.5248': '2', '312.93440000000004': '2', '313.344': '2', '313.7536': '2', '314.1632': '2', '314.57280000000003': '2', '314.98240000000004': '2', '315.392': '2', '315.8016': '2', '316.2112': '2', '316.62080000000003': '2', '317.03040000000004': '2', '317.44': '2', '317.8496': '2', '318.2592': '2', '318.66880000000003': '2', '319.0784': '2', '319.488': '2', '319.8976': '2', '320.3072': '2', '320.71680000000003': '2', '321.1264': '1', '321.536': '2', '321.9456': '1', '322.3552': '1', '322.76480000000004': '1', '323.1744': '2', '323.584': '1', '323.9936': '1', '324.4032': '1', '324.81280000000004': '2', '325.2224': '1', '325.632': '1', '326.0416': '1', '326.45120000000003': '2', '326.86080000000004': '1', '327.2704': '1', '327.68': '1', '328.0896': '2', '328.49920000000003': '2', '328.90880000000004': '1', '329.3184': '1', '329.728': '1', '330.1376': '2', '330.54720000000003': '1', '330.95680000000004': '1', '331.3664': '1', '331.776': '2', '332.1856': '1', '332.59520000000003': '1', '333.0048': '1', '333.4144': '2', '333.824': '2', '334.2336': '2', '334.64320000000004': '2', '335.0528': '2', '335.4624': '2', '335.872': '2', '336.2816': '2', '336.69120000000004': '2', '337.1008': '2', '337.5104': '2', '337.92': '2', '338.3296': '2', '338.73920000000004': '2', '339.1488': '2', '339.5584': '2', '339.968': '2', '340.37760000000003': '2', '340.78720000000004': '2', '341.1968': '1', '341.6064': '1', '342.016': '2', '342.42560000000003': '1', '342.83520000000004': '1', '343.2448': '1', '343.6544': '2', '344.064': '1', '344.47360000000003': '1', '344.88320000000004': '1', '345.2928': '2', '345.7024': '1', '346.112': '1', '346.52160000000003': '1', '346.9312': '1', '347.3408': '1', '347.7504': '2', '348.16': '2', '348.56960000000004': '2', '348.9792': '2', '349.3888': '2', '349.7984': '2', '350.208': '2', '350.61760000000004': '2', '351.0272': '2', '351.4368': '2', '351.8464': '2', '352.25600000000003': '2', '352.66560000000004': '2', '353.0752': '2', '353.4848': '2', '353.8944': '2', '354.30400000000003': '1', '354.71360000000004': '1', '355.1232': '1', '355.5328': '1', '355.9424': '2', '356.35200000000003': '1', '356.76160000000004': '1', '357.1712': '1', '357.5808': '2', '357.9904': '1', '358.40000000000003': '1', '358.8096': '1', '359.2192': '2', '359.6288': '1', '360.0384': '1', '360.44800000000004': '1', '360.8576': '2', '361.2672': '1', '361.6768': '1', '362.0864': '1', '362.49600000000004': '2', '362.9056': '1', '363.3152': '1', '363.7248': '1', '364.1344': '2', '364.54400000000004': '2', '364.9536': '2', '365.3632': '2', '365.7728': '2', '366.18240000000003': '2', '366.59200000000004': '2', '367.0016': '2', '367.4112': '2', '367.8208': '2', '368.23040000000003': '2', '368.64000000000004': '2', '369.0496': '2', '369.4592': '2', '369.8688': '2', '370.27840000000003': '2', '370.68800000000005': '2', '371.0976': '2', '371.5072': '2', '371.9168': '2', '372.32640000000004': '2', '372.736': '2', '373.1456': '2', '373.5552': '2', '373.9648': '2', '374.37440000000004': '2', '374.784': '2', '375.1936': '2', '375.6032': '2', '376.0128': '2', '376.42240000000004': '2', '376.832': '2', '377.2416': '2', '377.6512': '2', '378.06080000000003': '2', '378.47040000000004': '2', '378.88': '2', '379.2896': '2', '379.6992': '2', '380.10880000000003': '2', '380.51840000000004': '2', '380.928': '2', '381.3376': '2', '381.7472': '2', '382.15680000000003': '2', '382.56640000000004': '2', '382.976': '2', '383.3856': '2', '383.7952': '2', '384.20480000000003': '2', '384.61440000000005': '2', '385.024': '2', '385.4336': '2', '385.8432': '2', '386.25280000000004': '2', '386.6624': '2', '387.072': '2', '387.4816': '2', '387.8912': '2', '388.30080000000004': '2', '388.7104': '2', '389.12': '2', '389.5296': '2', '389.9392': '2', '390.34880000000004': '2', '390.7584': '2', '391.168': '2', '391.5776': '2', '391.98720000000003': '2', '392.39680000000004': '2', '392.8064': '2', '393.216': '2', '393.6256': '2', '394.03520000000003': '2', '394.44480000000004': '2', '394.8544': '2', '395.264': '2', '395.6736': '2', '396.08320000000003': '2', '396.49280000000005': '2', '396.9024': '2', '397.312': '2', '397.7216': '2', '398.13120000000004': '2', '398.54080000000005': '2', '398.9504': '2', '399.36': '2', '399.7696': '2', '400.17920000000004': '2', '400.5888': '2', '400.9984': '2', '401.408': '2', '401.8176': '2', '402.22720000000004': '2', '402.6368': '2', '403.0464': '2', '403.456': '0', '403.86560000000003': '0', '404.27520000000004': '0', '404.6848': '0', '405.0944': '0', '405.504': '0', '405.91360000000003': '0', '406.32320000000004': '0', '406.7328': '0', '407.1424': '0', '407.552': '0', '407.96160000000003': '0', '408.37120000000004': '0', '408.7808': '0', '409.1904': '0', '409.6': '0', '410.00960000000003': '0', '410.41920000000005': '0', '410.8288': '0', '411.2384': '0', '411.648': '0', '412.05760000000004': '0', '412.46720000000005': '0', '412.8768': '0', '413.2864': '0', '413.696': '0', '414.10560000000004': '0', '414.5152': '0', '414.9248': '0', '415.3344': '0', '415.744': '0', '416.15360000000004': '0', '416.5632': '0', '416.9728': '0', '417.3824': '0', '417.79200000000003': '0', '418.20160000000004': '0', '418.6112': '0', '419.0208': '0', '419.4304': '0', '419.84000000000003': '0', '420.24960000000004': '0', '420.6592': '0', '421.0688': '0', '421.4784': '0', '421.88800000000003': '0', '422.29760000000005': '0', '422.7072': '0', '423.1168': '0', '423.5264': '0', '423.93600000000004': '0', '424.34560000000005': '0', '424.7552': '0', '425.1648': '0', '425.5744': '0', '425.98400000000004': '0', '426.3936': '0', '426.8032': '0', '427.2128': '0', '427.6224': '0', '428.03200000000004': '0', '428.4416': '0', '428.8512': '0'}\", \"freqs\": \"1.220703125\"}\n"
     ]
    }
   ],
   "source": [
    "json_dump = json.dumps(dict_full)\n",
    "\n",
    "print(json_dump)"
   ]
  },
  {
   "cell_type": "code",
   "execution_count": 36,
   "metadata": {},
   "outputs": [],
   "source": [
    "with open('../json/poses.json', 'w') as f:\n",
    "    f.write(json_dump)\n",
    "with open(r'C:\\Users\\urgpa\\OneDrive\\Escritorio\\Unity\\PuppetTest\\Assets\\_Scripts\\Poses\\poses.json', 'w') as f:\n",
    "    f.write(json_dump)"
   ]
  },
  {
   "cell_type": "markdown",
   "metadata": {},
   "source": [
    "# PLOTTING"
   ]
  },
  {
   "cell_type": "code",
   "execution_count": 1467,
   "metadata": {},
   "outputs": [
    {
     "name": "stdout",
     "output_type": "stream",
     "text": [
      "10\n"
     ]
    },
    {
     "ename": "ZeroDivisionError",
     "evalue": "division by zero",
     "output_type": "error",
     "traceback": [
      "\u001b[1;31m---------------------------------------------------------------------------\u001b[0m",
      "\u001b[1;31mZeroDivisionError\u001b[0m                         Traceback (most recent call last)",
      "\u001b[1;32m<ipython-input-1467-7a32bd6fb0d5>\u001b[0m in \u001b[0;36m<module>\u001b[1;34m\u001b[0m\n\u001b[0;32m     15\u001b[0m     \u001b[0max\u001b[0m\u001b[1;33m[\u001b[0m\u001b[1;36m1\u001b[0m\u001b[1;33m]\u001b[0m\u001b[1;33m.\u001b[0m\u001b[0mset\u001b[0m\u001b[1;33m(\u001b[0m\u001b[0mtitle\u001b[0m\u001b[1;33m=\u001b[0m\u001b[1;34m'Harmonic + Percussive'\u001b[0m\u001b[1;33m)\u001b[0m\u001b[1;33m\u001b[0m\u001b[1;33m\u001b[0m\u001b[0m\n\u001b[0;32m     16\u001b[0m \u001b[1;33m\u001b[0m\u001b[0m\n\u001b[1;32m---> 17\u001b[1;33m \u001b[0mplot_mono_ham_perc\u001b[0m\u001b[1;33m(\u001b[0m\u001b[1;33m)\u001b[0m\u001b[1;33m\u001b[0m\u001b[1;33m\u001b[0m\u001b[0m\n\u001b[0m",
      "\u001b[1;32m<ipython-input-1467-7a32bd6fb0d5>\u001b[0m in \u001b[0;36mplot_mono_ham_perc\u001b[1;34m()\u001b[0m\n\u001b[0;32m      1\u001b[0m \u001b[1;32mdef\u001b[0m \u001b[0mplot_mono_ham_perc\u001b[0m\u001b[1;33m(\u001b[0m\u001b[1;33m)\u001b[0m\u001b[1;33m:\u001b[0m\u001b[1;33m\u001b[0m\u001b[1;33m\u001b[0m\u001b[0m\n\u001b[0;32m      2\u001b[0m     \u001b[0minp\u001b[0m \u001b[1;33m=\u001b[0m \u001b[0mint\u001b[0m\u001b[1;33m(\u001b[0m\u001b[0minput\u001b[0m\u001b[1;33m(\u001b[0m\u001b[1;33m)\u001b[0m\u001b[1;33m)\u001b[0m\u001b[1;33m\u001b[0m\u001b[1;33m\u001b[0m\u001b[0m\n\u001b[1;32m----> 3\u001b[1;33m     \u001b[0mindex\u001b[0m \u001b[1;33m=\u001b[0m \u001b[0minp\u001b[0m \u001b[1;33m/\u001b[0m \u001b[0mint\u001b[0m\u001b[1;33m(\u001b[0m\u001b[0mvcompas_time\u001b[0m\u001b[1;33m)\u001b[0m\u001b[1;33m\u001b[0m\u001b[1;33m\u001b[0m\u001b[0m\n\u001b[0m\u001b[0;32m      4\u001b[0m \u001b[1;33m\u001b[0m\u001b[0m\n\u001b[0;32m      5\u001b[0m     \u001b[0mfig\u001b[0m\u001b[1;33m,\u001b[0m \u001b[0max\u001b[0m \u001b[1;33m=\u001b[0m \u001b[0mplt\u001b[0m\u001b[1;33m.\u001b[0m\u001b[0msubplots\u001b[0m\u001b[1;33m(\u001b[0m\u001b[0mnrows\u001b[0m\u001b[1;33m=\u001b[0m\u001b[1;36m2\u001b[0m\u001b[1;33m,\u001b[0m \u001b[0msharex\u001b[0m\u001b[1;33m=\u001b[0m\u001b[1;32mTrue\u001b[0m\u001b[1;33m,\u001b[0m \u001b[0msharey\u001b[0m\u001b[1;33m=\u001b[0m\u001b[1;32mTrue\u001b[0m\u001b[1;33m)\u001b[0m\u001b[1;33m\u001b[0m\u001b[1;33m\u001b[0m\u001b[0m\n",
      "\u001b[1;31mZeroDivisionError\u001b[0m: division by zero"
     ]
    }
   ],
   "source": [
    "def plot_mono_ham_perc():\n",
    "    inp = int(input())\n",
    "    index = inp / int(vcompas_time)\n",
    "    \n",
    "    fig, ax = plt.subplots(nrows=2, sharex=True, sharey=True)\n",
    "\n",
    "    librosa.display.waveplot(df_compas.wform[index][0], sr=samplerate, ax=ax[0])\n",
    "    ax[0].set(title='Monophonic')\n",
    "    ax[0].label_outer()\n",
    "\n",
    "    y_harm, y_perc = librosa.effects.hpss(df_compas.wform[index][0])\n",
    "    print(y_harm[y_perc > 0.1].mean() * len(y_harm[y_perc > 0.1]))\n",
    "    librosa.display.waveplot(y_harm, sr=samplerate, alpha=0.25, ax=ax[1])\n",
    "    librosa.display.waveplot(y_perc, sr=samplerate, color='r', alpha=0.5, ax=ax[1])\n",
    "    ax[1].set(title='Harmonic + Percussive')\n",
    "\n",
    "plot_mono_ham_perc()"
   ]
  },
  {
   "cell_type": "code",
   "execution_count": 16,
   "metadata": {},
   "outputs": [
    {
     "name": "stdout",
     "output_type": "stream",
     "text": [
      "10\n"
     ]
    },
    {
     "data": {
      "image/png": "[encoded data removed]",
      "text/plain": [
       "<Figure size 1296x360 with 1 Axes>"
      ]
     },
     "metadata": {
      "needs_background": "light"
     },
     "output_type": "display_data"
    }
   ],
   "source": [
    "def plot_magnitude_spectrum(sr, title, f_ratio=0.5):\n",
    "    index = int(input())\n",
    "    #index = inp / vcompas_time\n",
    "    signal = df_compas.wform[index][0]\n",
    "    \n",
    "    y_harm, y_perc = librosa.effects.hpss(signal)\n",
    "    \n",
    "    psignal = np.array(0)\n",
    "    if title[0].lower() == 'h':\n",
    "        psignal = y_harm\n",
    "    elif title[0].lower() == 'p':\n",
    "        psignal = y_perc\n",
    "    else:\n",
    "        psignal = signal\n",
    "    \n",
    "    X = np.fft.fft(psignal)\n",
    "    X_mag = np.absolute(X)\n",
    "    \n",
    "    plt.figure(figsize=(18, 5))\n",
    "    \n",
    "    f = np.linspace(0, samplerate, len(X_mag), endpoint = False)\n",
    "    f_bins = int(len(X_mag)*f_ratio)  \n",
    "    \n",
    "    plt.plot(f[:f_bins], X_mag[:f_bins])\n",
    "    plt.xlabel('Frequency (Hz)')\n",
    "    plt.title(title)\n",
    "\n",
    "plot_magnitude_spectrum(samplerate, 'p', 0.5)"
   ]
  },
  {
   "cell_type": "code",
   "execution_count": 22,
   "metadata": {},
   "outputs": [],
   "source": [
    "f = np.linspace(0, samplerate, len(X_mag), endpoint = False)"
   ]
  },
  {
   "cell_type": "code",
   "execution_count": 28,
   "metadata": {},
   "outputs": [
    {
     "data": {
      "text/plain": [
       "30000"
      ]
     },
     "execution_count": 28,
     "metadata": {},
     "output_type": "execute_result"
    }
   ],
   "source": [
    "list(f).index(1000)"
   ]
  },
  {
   "cell_type": "code",
   "execution_count": 24,
   "metadata": {},
   "outputs": [
    {
     "data": {
      "text/plain": [
       "44100"
      ]
     },
     "execution_count": 24,
     "metadata": {},
     "output_type": "execute_result"
    }
   ],
   "source": [
    "len(f)"
   ]
  },
  {
   "cell_type": "code",
   "execution_count": 34,
   "metadata": {},
   "outputs": [
    {
     "ename": "ValueError",
     "evalue": "22050 is not in list",
     "output_type": "error",
     "traceback": [
      "\u001b[1;31m---------------------------------------------------------------------------\u001b[0m",
      "\u001b[1;31mValueError\u001b[0m                                Traceback (most recent call last)",
      "\u001b[1;32m<ipython-input-34-31bb45008b40>\u001b[0m in \u001b[0;36m<module>\u001b[1;34m\u001b[0m\n\u001b[1;32m----> 1\u001b[1;33m \u001b[0mlist\u001b[0m\u001b[1;33m(\u001b[0m\u001b[0mf\u001b[0m\u001b[1;33m)\u001b[0m\u001b[1;33m.\u001b[0m\u001b[0mindex\u001b[0m\u001b[1;33m(\u001b[0m\u001b[0msamplerate\u001b[0m\u001b[1;33m)\u001b[0m\u001b[1;33m\u001b[0m\u001b[1;33m\u001b[0m\u001b[0m\n\u001b[0m",
      "\u001b[1;31mValueError\u001b[0m: 22050 is not in list"
     ]
    }
   ],
   "source": [
    "list(f).index(samplerate)"
   ]
  },
  {
   "cell_type": "code",
   "execution_count": 35,
   "metadata": {},
   "outputs": [
    {
     "ename": "IndexError",
     "evalue": "index 44100 is out of bounds for axis 0 with size 44100",
     "output_type": "error",
     "traceback": [
      "\u001b[1;31m---------------------------------------------------------------------------\u001b[0m",
      "\u001b[1;31mIndexError\u001b[0m                                Traceback (most recent call last)",
      "\u001b[1;32m<ipython-input-35-41fe3913e365>\u001b[0m in \u001b[0;36m<module>\u001b[1;34m\u001b[0m\n\u001b[1;32m----> 1\u001b[1;33m \u001b[0mf\u001b[0m\u001b[1;33m[\u001b[0m\u001b[0mlen\u001b[0m\u001b[1;33m(\u001b[0m\u001b[0msignl\u001b[0m\u001b[1;33m)\u001b[0m\u001b[1;33m]\u001b[0m\u001b[1;33m\u001b[0m\u001b[1;33m\u001b[0m\u001b[0m\n\u001b[0m",
      "\u001b[1;31mIndexError\u001b[0m: index 44100 is out of bounds for axis 0 with size 44100"
     ]
    }
   ],
   "source": [
    "f[len(signl)]"
   ]
  },
  {
   "cell_type": "code",
   "execution_count": null,
   "metadata": {},
   "outputs": [],
   "source": []
  }
 ],
 "metadata": {
  "kernelspec": {
   "display_name": "Python 3",
   "language": "python",
   "name": "python3"
  },
  "language_info": {
   "codemirror_mode": {
    "name": "ipython",
    "version": 3
   },
   "file_extension": ".py",
   "mimetype": "text/x-python",
   "name": "python",
   "nbconvert_exporter": "python",
   "pygments_lexer": "ipython3",
   "version": "3.8.5"
  }
 },
 "nbformat": 4,
 "nbformat_minor": 4
}
