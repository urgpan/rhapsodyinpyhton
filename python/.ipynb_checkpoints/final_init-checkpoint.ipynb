{
 "cells": [
  {
   "cell_type": "code",
   "execution_count": 1178,
   "metadata": {},
   "outputs": [],
   "source": [
    "import librosa\n",
    "import json\n",
    "import math\n",
    "import scipy\n",
    "import statistics\n",
    "import librosa.display\n",
    "import scipy as sp\n",
    "import IPython.display as ipd\n",
    "import matplotlib.pyplot as plt\n",
    "import numpy as np\n",
    "import pandas as pd\n",
    "\n",
    "import seaborn as sns \n",
    "\n",
    "from sklearn.cluster import DBSCAN, KMeans\n",
    "\n",
    "from sklearn.preprocessing import StandardScaler\n",
    "from sklearn.mixture import GaussianMixture"
   ]
  },
  {
   "cell_type": "markdown",
   "metadata": {},
   "source": [
    "# LOAD SONG"
   ]
  },
  {
   "cell_type": "code",
   "execution_count": 1286,
   "metadata": {},
   "outputs": [],
   "source": [
    "file_dir = \"../resources/la_leyenda_del_tiempo.wav\"\n",
    "#ipd.Audio(file_dir)"
   ]
  },
  {
   "cell_type": "code",
   "execution_count": 1287,
   "metadata": {},
   "outputs": [],
   "source": [
    "signal, samplerate = librosa.load(file_dir)\n",
    "#print(signal, samplerate)"
   ]
  },
  {
   "cell_type": "markdown",
   "metadata": {},
   "source": [
    "# GET GENERAL SONG FEATURES"
   ]
  },
  {
   "cell_type": "markdown",
   "metadata": {},
   "source": [
    "PREDICT SONG TEMPO"
   ]
  },
  {
   "cell_type": "code",
   "execution_count": 1288,
   "metadata": {},
   "outputs": [
    {
     "name": "stderr",
     "output_type": "stream",
     "text": [
      "C:\\Users\\urgpa\\anaconda3\\lib\\site-packages\\librosa\\filters.py:238: UserWarning: Empty filters detected in mel frequency basis. Some channels will produce empty responses. Try increasing your sampling rate (and fmax) or reducing n_mels.\n",
      "  warnings.warn(\n"
     ]
    },
    {
     "data": {
      "text/plain": [
       "array([146.484375])"
      ]
     },
     "execution_count": 1288,
     "metadata": {},
     "output_type": "execute_result"
    }
   ],
   "source": [
    "signal_bpm, samplerate_bpm = librosa.load(file_dir, duration = 30, sr = 10000)\n",
    "onset_env = librosa.onset.onset_strength(signal_bpm, sr=samplerate_bpm)\n",
    "tempo = librosa.beat.tempo(onset_envelope=onset_env, sr=samplerate_bpm)\n",
    "tempo"
   ]
  },
  {
   "cell_type": "markdown",
   "metadata": {},
   "source": [
    "# DIVIDE SONG INTO COMPASES"
   ]
  },
  {
   "cell_type": "code",
   "execution_count": 1289,
   "metadata": {},
   "outputs": [],
   "source": [
    "song_duration= librosa.get_duration(y=signal, sr=samplerate) #duration of the song\n",
    "\n",
    "beat_num = 1\n",
    "bpm = tempo\n",
    "vcompas_time = beat_num * 60 / bpm #duration of a compas\n",
    "                                       \n",
    "vcompas_num  = song_duration / vcompas_time                  #number of compases \n",
    "compas_sample_num = vcompas_time * samplerate                #number of samples on each compas\n",
    "song_sample_num = compas_sample_num * vcompas_num            #total number of samples in the song\n",
    "\n",
    "\n",
    "vcompas_data = {} \n",
    "for vcompas_i in range(0,int(vcompas_num)):                                \n",
    "    start = math.floor(compas_sample_num * vcompas_i)          #start sample for the compas\n",
    "    end = math.floor(compas_sample_num * (vcompas_i + 1))      #end sample for the compas\n",
    "    selected_samples = signal[start:end]                       #array with all the compas samples\n",
    "    vcompas_data[vcompas_i] = ([selected_samples],vcompas_time * vcompas_i)\n",
    "\n",
    "df_compas = pd.DataFrame.from_dict(vcompas_data, orient = 'index', columns = ['wform','times'])"
   ]
  },
  {
   "cell_type": "code",
   "execution_count": 1290,
   "metadata": {},
   "outputs": [
    {
     "data": {
      "text/plain": [
       "10160"
      ]
     },
     "execution_count": 1290,
     "metadata": {},
     "output_type": "execute_result"
    }
   ],
   "source": [
    "len(ampl)"
   ]
  },
  {
   "cell_type": "markdown",
   "metadata": {},
   "source": [
    "# GET COMPAS BIGGEST FREQUENCIES"
   ]
  },
  {
   "cell_type": "code",
   "execution_count": 1291,
   "metadata": {},
   "outputs": [],
   "source": [
    "#CREATE A DATA FRAME WITH THE FREQUENCIES ARRAY\n",
    "df_freq = pd.DataFrame(columns = ['mag']) \n",
    "for csignal in df_compas['wform']:\n",
    "    csignal = csignal[0]\n",
    "    X = np.fft.fft(csignal)\n",
    "    X_mag = np.absolute(X)\n",
    "    #print(X_mag[0])\n",
    "    newdf = pd.DataFrame([[X_mag]], columns = ['mag'])\n",
    "    df_freq = pd.concat([df_freq, newdf], axis = 0)\n",
    "\n",
    "df_freq = df_freq.reset_index(drop = True)"
   ]
  },
  {
   "cell_type": "code",
   "execution_count": 1292,
   "metadata": {},
   "outputs": [],
   "source": [
    "#GET MAXIMUS OF THE FREQUENCIES\n",
    "instrument_division = [0,100,300,600,1000,2500,7000,15000]\n",
    "fixed_instrument_div = list(instrument_division)\n",
    "fixed_instrument_div.remove(0)\n",
    "\n",
    "f = np.linspace(0, samplerate, len(X_mag), endpoint = False)\n",
    "df_bin_freq = pd.DataFrame(columns = fixed_instrument_div)\n",
    "\n",
    "for ampl in df_freq.mag: #loop time domain compases\n",
    "    \n",
    "    freq_full = [] #list with al freq list\n",
    "\n",
    "    for i in range(1,len(instrument_division)): #loop through freq domain\n",
    "        \n",
    "        start = instrument_division[i - 1] * len(ampl) / f[len(ampl) - 2] #starting point of the frequency bin\n",
    "        end = instrument_division[i] * len(ampl) / f[len(ampl) - 2] #end point\n",
    "        \n",
    "        freq_bin = ampl[math.floor(start):math.floor(end)] #save magintudes bin\n",
    "        freq_full += [freq_bin]\n",
    "        #print(freq_bin)\n",
    "        #dat_tuple = (list(ampl).index(ampl[start:end].max()),signl[start:end].max())\n",
    "        #print(f[dat_tuple[0]], dat_tuple)\n",
    "\n",
    "    newdf_cluster_freq = pd.DataFrame([freq_full], columns = fixed_instrument_div)\n",
    "    df_bin_freq = pd.concat([df_bin_freq, newdf_cluster_freq])\n",
    "    \n",
    "df_bin_freq = df_bin_freq.reset_index()\n",
    "df_bin_freq.drop(['index'], inplace = True, axis = 1)"
   ]
  },
  {
   "cell_type": "markdown",
   "metadata": {},
   "source": [
    "# LOWER FREQS"
   ]
  },
  {
   "cell_type": "code",
   "execution_count": 1293,
   "metadata": {},
   "outputs": [],
   "source": [
    "df_lower = df_bin_freq.drop(columns = [600,1000,2500,7000,15000])\n",
    "df_lower.columns = list(map(lambda x: str(x), df_lower.columns))"
   ]
  },
  {
   "cell_type": "code",
   "execution_count": 1294,
   "metadata": {},
   "outputs": [],
   "source": [
    "df_lower['100_mean'] = df_lower['100'].apply(lambda x: x.mean())\n",
    "df_lower['100_median'] = df_lower['100'].apply(lambda x: statistics.median(x))\n",
    "df_lower['100_max'] = df_lower['100'].apply(lambda x: x.max())\n",
    "df_lower['300_mean'] = df_lower['300'].apply(lambda x: x.mean())\n",
    "df_lower['300_median'] = df_lower['300'].apply(lambda x: statistics.median(x))\n",
    "df_lower['300_max'] = df_lower['300'].apply(lambda x: x.max())"
   ]
  },
  {
   "cell_type": "code",
   "execution_count": 1295,
   "metadata": {},
   "outputs": [],
   "source": [
    "df_lower_model = df_lower.drop(['100','300'], axis = 1)"
   ]
  },
  {
   "cell_type": "code",
   "execution_count": 1296,
   "metadata": {},
   "outputs": [],
   "source": [
    "scaler = StandardScaler().fit(df_lower_model)\n",
    "X_prep = scaler.transform(df_lower_model)\n",
    "\n",
    "kmeans = GaussianMixture(n_components= 2, covariance_type='diag',max_iter =  100,n_init = 8, random_state = 1234)\n",
    "kmeans.fit(X_prep)\n",
    "\n",
    "yhat = kmeans.predict(X_prep)\n",
    "clusters = np.unique(yhat)"
   ]
  },
  {
   "cell_type": "code",
   "execution_count": 1297,
   "metadata": {},
   "outputs": [
    {
     "data": {
      "text/html": [
       "<div>\n",
       "<style scoped>\n",
       "    .dataframe tbody tr th:only-of-type {\n",
       "        vertical-align: middle;\n",
       "    }\n",
       "\n",
       "    .dataframe tbody tr th {\n",
       "        vertical-align: top;\n",
       "    }\n",
       "\n",
       "    .dataframe thead th {\n",
       "        text-align: right;\n",
       "    }\n",
       "</style>\n",
       "<table border=\"1\" class=\"dataframe\">\n",
       "  <thead>\n",
       "    <tr style=\"text-align: right;\">\n",
       "      <th></th>\n",
       "      <th>times</th>\n",
       "      <th>gnre</th>\n",
       "    </tr>\n",
       "  </thead>\n",
       "  <tbody>\n",
       "    <tr>\n",
       "      <th>0</th>\n",
       "      <td>0.0000</td>\n",
       "      <td>1</td>\n",
       "    </tr>\n",
       "    <tr>\n",
       "      <th>1</th>\n",
       "      <td>0.4096</td>\n",
       "      <td>1</td>\n",
       "    </tr>\n",
       "    <tr>\n",
       "      <th>2</th>\n",
       "      <td>0.8192</td>\n",
       "      <td>1</td>\n",
       "    </tr>\n",
       "    <tr>\n",
       "      <th>3</th>\n",
       "      <td>1.2288</td>\n",
       "      <td>1</td>\n",
       "    </tr>\n",
       "    <tr>\n",
       "      <th>4</th>\n",
       "      <td>1.6384</td>\n",
       "      <td>1</td>\n",
       "    </tr>\n",
       "    <tr>\n",
       "      <th>...</th>\n",
       "      <td>...</td>\n",
       "      <td>...</td>\n",
       "    </tr>\n",
       "    <tr>\n",
       "      <th>586</th>\n",
       "      <td>240.0256</td>\n",
       "      <td>1</td>\n",
       "    </tr>\n",
       "    <tr>\n",
       "      <th>587</th>\n",
       "      <td>240.4352</td>\n",
       "      <td>1</td>\n",
       "    </tr>\n",
       "    <tr>\n",
       "      <th>588</th>\n",
       "      <td>240.8448</td>\n",
       "      <td>1</td>\n",
       "    </tr>\n",
       "    <tr>\n",
       "      <th>589</th>\n",
       "      <td>241.2544</td>\n",
       "      <td>1</td>\n",
       "    </tr>\n",
       "    <tr>\n",
       "      <th>590</th>\n",
       "      <td>241.6640</td>\n",
       "      <td>1</td>\n",
       "    </tr>\n",
       "  </tbody>\n",
       "</table>\n",
       "<p>591 rows × 2 columns</p>\n",
       "</div>"
      ],
      "text/plain": [
       "        times  gnre\n",
       "0      0.0000     1\n",
       "1      0.4096     1\n",
       "2      0.8192     1\n",
       "3      1.2288     1\n",
       "4      1.6384     1\n",
       "..        ...   ...\n",
       "586  240.0256     1\n",
       "587  240.4352     1\n",
       "588  240.8448     1\n",
       "589  241.2544     1\n",
       "590  241.6640     1\n",
       "\n",
       "[591 rows x 2 columns]"
      ]
     },
     "execution_count": 1297,
     "metadata": {},
     "output_type": "execute_result"
    }
   ],
   "source": [
    "df_low_final = df_compas.drop(columns = ['wform'])\n",
    "df_low_final['times'] = df_low_final['times'].apply(lambda x: x[0])\n",
    "df_low_final['gnre'] = yhat\n",
    "df_low_final"
   ]
  },
  {
   "cell_type": "code",
   "execution_count": 1298,
   "metadata": {},
   "outputs": [
    {
     "data": {
      "image/png": "[encoded data removed]",
      "text/plain": [
       "<Figure size 432x288 with 1 Axes>"
      ]
     },
     "metadata": {
      "needs_background": "light"
     },
     "output_type": "display_data"
    }
   ],
   "source": [
    "# create scatter plot for samples from each cluster\n",
    "for cluster in np.unique(yhat):\n",
    "\t# get row indexes for samples with this cluster\n",
    "\trow_ix = np.where(yhat == cluster)\n",
    "\t# create scatter of these samples\n",
    "\tplt.scatter(X_prep[row_ix, 0], X_prep[row_ix, 1])\n",
    "\n",
    "# show the plot\n",
    "plt.title(\"Clusters detected by GMM with a 'full' covariance matrix\")\n",
    "plt.show()"
   ]
  },
  {
   "cell_type": "markdown",
   "metadata": {},
   "source": [
    "# MID FREQS"
   ]
  },
  {
   "cell_type": "code",
   "execution_count": 1299,
   "metadata": {},
   "outputs": [],
   "source": [
    "#get the specific bin frequencies\n",
    "df_mid = df_bin_freq.drop(columns = [100,300,2500,7000,15000])\n",
    "df_mid.columns = list(map(lambda x: str(x), df_mid.columns))"
   ]
  },
  {
   "cell_type": "code",
   "execution_count": 1300,
   "metadata": {},
   "outputs": [],
   "source": [
    "df_mid['600_mean'] = df_mid['600'].apply(lambda x: x.mean())\n",
    "df_mid['600_median'] = df_mid['600'].apply(lambda x: statistics.median(x))\n",
    "df_mid['600_max'] = df_mid['600'].apply(lambda x: x.max())\n",
    "df_mid['1000_mean'] = df_mid['1000'].apply(lambda x: x.mean())\n",
    "df_mid['1000_median'] = df_mid['1000'].apply(lambda x: statistics.median(x))\n",
    "df_mid['1000_max'] = df_mid['1000'].apply(lambda x: x.max())"
   ]
  },
  {
   "cell_type": "code",
   "execution_count": 1301,
   "metadata": {},
   "outputs": [],
   "source": [
    "df_mid_model = df_mid.drop(['600','1000'], axis = 1)"
   ]
  },
  {
   "cell_type": "code",
   "execution_count": 1302,
   "metadata": {},
   "outputs": [],
   "source": [
    "scaler = StandardScaler().fit(df_mid_model)\n",
    "X_prep = scaler.transform(df_mid_model)\n",
    "\n",
    "kmeans = GaussianMixture(n_components= 2, covariance_type='spherical',max_iter = 300,n_init = 8, random_state = 1234, init_params = 'random')\n",
    "#kmeans = KMeans(n_clusters= 2,\n",
    " #               init=\"random\",\n",
    "  #              n_init= 20,  # try with 1, 4, 8, 20, 30, 100...\n",
    "   ##             max_iter= 200,\n",
    "     #           tol= 1e-4,\n",
    "      ##          algorithm=\"auto\",\n",
    "        #        random_state=1234)\n",
    "\n",
    "kmeans.fit(X_prep)\n",
    "\n",
    "yhat = kmeans.predict(X_prep)\n",
    "clusters = np.unique(yhat)"
   ]
  },
  {
   "cell_type": "code",
   "execution_count": 1303,
   "metadata": {},
   "outputs": [
    {
     "data": {
      "image/png": "[encoded data removed]",
      "text/plain": [
       "<Figure size 432x288 with 1 Axes>"
      ]
     },
     "metadata": {
      "needs_background": "light"
     },
     "output_type": "display_data"
    }
   ],
   "source": [
    "# create scatter plot for samples from each cluster\n",
    "for cluster in np.unique(yhat):\n",
    "\t# get row indexes for samples with this cluster\n",
    "\trow_ix = np.where(yhat == cluster)\n",
    "\t# create scatter of these samples\n",
    "\tplt.scatter(X_prep[row_ix, 0], X_prep[row_ix, 1])\n",
    "\n",
    "# show the plot\n",
    "plt.title(\"Clusters detected by GMM with a 'full' covariance matrix\")\n",
    "plt.show()"
   ]
  },
  {
   "cell_type": "code",
   "execution_count": 1304,
   "metadata": {},
   "outputs": [
    {
     "data": {
      "text/html": [
       "<div>\n",
       "<style scoped>\n",
       "    .dataframe tbody tr th:only-of-type {\n",
       "        vertical-align: middle;\n",
       "    }\n",
       "\n",
       "    .dataframe tbody tr th {\n",
       "        vertical-align: top;\n",
       "    }\n",
       "\n",
       "    .dataframe thead th {\n",
       "        text-align: right;\n",
       "    }\n",
       "</style>\n",
       "<table border=\"1\" class=\"dataframe\">\n",
       "  <thead>\n",
       "    <tr style=\"text-align: right;\">\n",
       "      <th></th>\n",
       "      <th>times</th>\n",
       "      <th>gnre</th>\n",
       "    </tr>\n",
       "  </thead>\n",
       "  <tbody>\n",
       "    <tr>\n",
       "      <th>0</th>\n",
       "      <td>0.0000</td>\n",
       "      <td>0</td>\n",
       "    </tr>\n",
       "    <tr>\n",
       "      <th>1</th>\n",
       "      <td>0.4096</td>\n",
       "      <td>0</td>\n",
       "    </tr>\n",
       "    <tr>\n",
       "      <th>2</th>\n",
       "      <td>0.8192</td>\n",
       "      <td>0</td>\n",
       "    </tr>\n",
       "    <tr>\n",
       "      <th>3</th>\n",
       "      <td>1.2288</td>\n",
       "      <td>0</td>\n",
       "    </tr>\n",
       "    <tr>\n",
       "      <th>4</th>\n",
       "      <td>1.6384</td>\n",
       "      <td>1</td>\n",
       "    </tr>\n",
       "    <tr>\n",
       "      <th>...</th>\n",
       "      <td>...</td>\n",
       "      <td>...</td>\n",
       "    </tr>\n",
       "    <tr>\n",
       "      <th>586</th>\n",
       "      <td>240.0256</td>\n",
       "      <td>1</td>\n",
       "    </tr>\n",
       "    <tr>\n",
       "      <th>587</th>\n",
       "      <td>240.4352</td>\n",
       "      <td>1</td>\n",
       "    </tr>\n",
       "    <tr>\n",
       "      <th>588</th>\n",
       "      <td>240.8448</td>\n",
       "      <td>1</td>\n",
       "    </tr>\n",
       "    <tr>\n",
       "      <th>589</th>\n",
       "      <td>241.2544</td>\n",
       "      <td>1</td>\n",
       "    </tr>\n",
       "    <tr>\n",
       "      <th>590</th>\n",
       "      <td>241.6640</td>\n",
       "      <td>1</td>\n",
       "    </tr>\n",
       "  </tbody>\n",
       "</table>\n",
       "<p>591 rows × 2 columns</p>\n",
       "</div>"
      ],
      "text/plain": [
       "        times  gnre\n",
       "0      0.0000     0\n",
       "1      0.4096     0\n",
       "2      0.8192     0\n",
       "3      1.2288     0\n",
       "4      1.6384     1\n",
       "..        ...   ...\n",
       "586  240.0256     1\n",
       "587  240.4352     1\n",
       "588  240.8448     1\n",
       "589  241.2544     1\n",
       "590  241.6640     1\n",
       "\n",
       "[591 rows x 2 columns]"
      ]
     },
     "execution_count": 1304,
     "metadata": {},
     "output_type": "execute_result"
    }
   ],
   "source": [
    "df_mid_final = df_compas.drop(columns = ['wform'])\n",
    "df_mid_final['times'] = df_mid_final['times'].apply(lambda x: x[0])\n",
    "df_mid_final['gnre'] = yhat\n",
    "df_mid_final"
   ]
  },
  {
   "cell_type": "markdown",
   "metadata": {},
   "source": [
    "# HIGH FREQUENCIES"
   ]
  },
  {
   "cell_type": "code",
   "execution_count": 1305,
   "metadata": {},
   "outputs": [],
   "source": [
    "#get the specific bin frequencies\n",
    "df_high = df_bin_freq.drop(columns = [100,300,600,1000])\n",
    "df_high.columns = list(map(lambda x: str(x), df_high.columns))"
   ]
  },
  {
   "cell_type": "code",
   "execution_count": 1306,
   "metadata": {},
   "outputs": [],
   "source": [
    "df_high['2500_mean'] = df_high['2500'].apply(lambda x: x.mean())\n",
    "df_high['2500_median'] = df_high['2500'].apply(lambda x: statistics.median(x))\n",
    "df_high['2500_max'] = df_high['2500'].apply(lambda x: x.max())\n",
    "df_high['7000_mean'] = df_high['7000'].apply(lambda x: x.mean())\n",
    "df_high['7000_median'] = df_high['7000'].apply(lambda x: statistics.median(x))\n",
    "df_high['7000_max'] = df_high['7000'].apply(lambda x: x.max())\n",
    "df_high['15000_mean'] = df_high['15000'].apply(lambda x: x.mean())\n",
    "df_high['15000_median'] = df_high['15000'].apply(lambda x: statistics.median(x))\n",
    "df_high['15000_max'] = df_high['15000'].apply(lambda x: x.max())"
   ]
  },
  {
   "cell_type": "code",
   "execution_count": 1307,
   "metadata": {},
   "outputs": [],
   "source": [
    "df_high_model = df_high.drop(['2500','7000','15000'], axis = 1)"
   ]
  },
  {
   "cell_type": "code",
   "execution_count": 1308,
   "metadata": {},
   "outputs": [],
   "source": [
    "scaler = StandardScaler().fit(df_mid_model)\n",
    "X_prep = scaler.transform(df_mid_model)\n",
    "\n",
    "kmeans = GaussianMixture(n_components= 4, covariance_type='spherical',max_iter = 100,n_init = 20, random_state = 1234, init_params = 'kmeans')\n",
    "\n",
    "#kmeans = KMeans(n_clusters= 2,\n",
    "#               init=\"random\",\n",
    "#               n_init= 1,  # try with 1, 4, 8, 20, 30, 100...\n",
    "#               max_iter= 300,\n",
    "#               tol= 1e-4,\n",
    "#               algorithm=\"elkan\",\n",
    "#               random_state=1234)\n",
    "\n",
    "kmeans.fit(X_prep)\n",
    "\n",
    "yhat = kmeans.predict(X_prep)\n",
    "clusters = np.unique(yhat)"
   ]
  },
  {
   "cell_type": "code",
   "execution_count": 1309,
   "metadata": {},
   "outputs": [
    {
     "data": {
      "image/png": "[encoded data removed]",
      "text/plain": [
       "<Figure size 432x288 with 1 Axes>"
      ]
     },
     "metadata": {
      "needs_background": "light"
     },
     "output_type": "display_data"
    }
   ],
   "source": [
    "for cluster in np.unique(yhat):\n",
    "\t# get row indexes for samples with this cluster\n",
    "\trow_ix = np.where(yhat == cluster)\n",
    "\t# create scatter of these samples\n",
    "\tplt.scatter(X_prep[row_ix, 0], X_prep[row_ix, 1])\n",
    "\n",
    "# show the plot\n",
    "plt.title(\"Clusters detected by GMM with a 'full' covariance matrix\")\n",
    "plt.show()"
   ]
  },
  {
   "cell_type": "code",
   "execution_count": 1310,
   "metadata": {},
   "outputs": [
    {
     "data": {
      "text/html": [
       "<div>\n",
       "<style scoped>\n",
       "    .dataframe tbody tr th:only-of-type {\n",
       "        vertical-align: middle;\n",
       "    }\n",
       "\n",
       "    .dataframe tbody tr th {\n",
       "        vertical-align: top;\n",
       "    }\n",
       "\n",
       "    .dataframe thead th {\n",
       "        text-align: right;\n",
       "    }\n",
       "</style>\n",
       "<table border=\"1\" class=\"dataframe\">\n",
       "  <thead>\n",
       "    <tr style=\"text-align: right;\">\n",
       "      <th></th>\n",
       "      <th>times</th>\n",
       "      <th>gnre</th>\n",
       "    </tr>\n",
       "  </thead>\n",
       "  <tbody>\n",
       "    <tr>\n",
       "      <th>0</th>\n",
       "      <td>0.0000</td>\n",
       "      <td>0</td>\n",
       "    </tr>\n",
       "    <tr>\n",
       "      <th>1</th>\n",
       "      <td>0.4096</td>\n",
       "      <td>0</td>\n",
       "    </tr>\n",
       "    <tr>\n",
       "      <th>2</th>\n",
       "      <td>0.8192</td>\n",
       "      <td>0</td>\n",
       "    </tr>\n",
       "    <tr>\n",
       "      <th>3</th>\n",
       "      <td>1.2288</td>\n",
       "      <td>0</td>\n",
       "    </tr>\n",
       "    <tr>\n",
       "      <th>4</th>\n",
       "      <td>1.6384</td>\n",
       "      <td>1</td>\n",
       "    </tr>\n",
       "    <tr>\n",
       "      <th>...</th>\n",
       "      <td>...</td>\n",
       "      <td>...</td>\n",
       "    </tr>\n",
       "    <tr>\n",
       "      <th>586</th>\n",
       "      <td>240.0256</td>\n",
       "      <td>1</td>\n",
       "    </tr>\n",
       "    <tr>\n",
       "      <th>587</th>\n",
       "      <td>240.4352</td>\n",
       "      <td>1</td>\n",
       "    </tr>\n",
       "    <tr>\n",
       "      <th>588</th>\n",
       "      <td>240.8448</td>\n",
       "      <td>1</td>\n",
       "    </tr>\n",
       "    <tr>\n",
       "      <th>589</th>\n",
       "      <td>241.2544</td>\n",
       "      <td>1</td>\n",
       "    </tr>\n",
       "    <tr>\n",
       "      <th>590</th>\n",
       "      <td>241.6640</td>\n",
       "      <td>1</td>\n",
       "    </tr>\n",
       "  </tbody>\n",
       "</table>\n",
       "<p>591 rows × 2 columns</p>\n",
       "</div>"
      ],
      "text/plain": [
       "        times  gnre\n",
       "0      0.0000     0\n",
       "1      0.4096     0\n",
       "2      0.8192     0\n",
       "3      1.2288     0\n",
       "4      1.6384     1\n",
       "..        ...   ...\n",
       "586  240.0256     1\n",
       "587  240.4352     1\n",
       "588  240.8448     1\n",
       "589  241.2544     1\n",
       "590  241.6640     1\n",
       "\n",
       "[591 rows x 2 columns]"
      ]
     },
     "execution_count": 1310,
     "metadata": {},
     "output_type": "execute_result"
    }
   ],
   "source": [
    "df_high_final = df_compas.drop(columns = ['wform'])\n",
    "df_high_final['times'] = df_high_final['times'].apply(lambda x: x[0])\n",
    "df_high_final['gnre'] = yhat\n",
    "df_high_final"
   ]
  },
  {
   "cell_type": "markdown",
   "metadata": {},
   "source": [
    "# FULL SONG VALUES"
   ]
  },
  {
   "cell_type": "code",
   "execution_count": 1311,
   "metadata": {},
   "outputs": [],
   "source": [
    "full_freq = pd.concat([df_high_model, df_mid_model, df_lower_model], axis = 1)"
   ]
  },
  {
   "cell_type": "code",
   "execution_count": 1312,
   "metadata": {},
   "outputs": [],
   "source": [
    "scaler = StandardScaler().fit(full_freq)\n",
    "X_prep = scaler.transform(full_freq)\n",
    "\n",
    "#kmeans = GaussianMixture(n_components= 3, covariance_type='spherical',max_iter = 100,n_init = 10, random_state = 1234, init_params = 'random')\n",
    "\n",
    "kmeans = KMeans(n_clusters= 3,\n",
    "               init=\"random\",\n",
    "               n_init= 2,  # try with 1, 4, 8, 20, 30, 100...\n",
    "               max_iter= 300,\n",
    "               tol= 1e-4,\n",
    "               algorithm=\"auto\",\n",
    "               random_state=1234)\n",
    "\n",
    "kmeans.fit(X_prep)\n",
    "\n",
    "yhat = kmeans.predict(X_prep)\n",
    "clusters = np.unique(yhat)"
   ]
  },
  {
   "cell_type": "code",
   "execution_count": 1313,
   "metadata": {},
   "outputs": [
    {
     "data": {
      "image/png": "[encoded data removed]",
      "text/plain": [
       "<Figure size 432x288 with 1 Axes>"
      ]
     },
     "metadata": {
      "needs_background": "light"
     },
     "output_type": "display_data"
    }
   ],
   "source": [
    "for cluster in np.unique(yhat):\n",
    "\t# get row indexes for samples with this cluster\n",
    "\trow_ix = np.where(yhat == cluster)\n",
    "\t# create scatter of these samples\n",
    "\tplt.scatter(X_prep[row_ix, 0], X_prep[row_ix, 1])\n",
    "\n",
    "# show the plot\n",
    "plt.title(\"Clusters detected by GMM with a 'full' covariance matrix\")\n",
    "plt.show()"
   ]
  },
  {
   "cell_type": "code",
   "execution_count": 1314,
   "metadata": {},
   "outputs": [
    {
     "data": {
      "text/html": [
       "<div>\n",
       "<style scoped>\n",
       "    .dataframe tbody tr th:only-of-type {\n",
       "        vertical-align: middle;\n",
       "    }\n",
       "\n",
       "    .dataframe tbody tr th {\n",
       "        vertical-align: top;\n",
       "    }\n",
       "\n",
       "    .dataframe thead th {\n",
       "        text-align: right;\n",
       "    }\n",
       "</style>\n",
       "<table border=\"1\" class=\"dataframe\">\n",
       "  <thead>\n",
       "    <tr style=\"text-align: right;\">\n",
       "      <th></th>\n",
       "      <th>times</th>\n",
       "      <th>gnre</th>\n",
       "    </tr>\n",
       "  </thead>\n",
       "  <tbody>\n",
       "    <tr>\n",
       "      <th>0</th>\n",
       "      <td>0.0000</td>\n",
       "      <td>1</td>\n",
       "    </tr>\n",
       "    <tr>\n",
       "      <th>1</th>\n",
       "      <td>0.4096</td>\n",
       "      <td>0</td>\n",
       "    </tr>\n",
       "    <tr>\n",
       "      <th>2</th>\n",
       "      <td>0.8192</td>\n",
       "      <td>1</td>\n",
       "    </tr>\n",
       "    <tr>\n",
       "      <th>3</th>\n",
       "      <td>1.2288</td>\n",
       "      <td>1</td>\n",
       "    </tr>\n",
       "    <tr>\n",
       "      <th>4</th>\n",
       "      <td>1.6384</td>\n",
       "      <td>1</td>\n",
       "    </tr>\n",
       "    <tr>\n",
       "      <th>...</th>\n",
       "      <td>...</td>\n",
       "      <td>...</td>\n",
       "    </tr>\n",
       "    <tr>\n",
       "      <th>586</th>\n",
       "      <td>240.0256</td>\n",
       "      <td>1</td>\n",
       "    </tr>\n",
       "    <tr>\n",
       "      <th>587</th>\n",
       "      <td>240.4352</td>\n",
       "      <td>1</td>\n",
       "    </tr>\n",
       "    <tr>\n",
       "      <th>588</th>\n",
       "      <td>240.8448</td>\n",
       "      <td>1</td>\n",
       "    </tr>\n",
       "    <tr>\n",
       "      <th>589</th>\n",
       "      <td>241.2544</td>\n",
       "      <td>1</td>\n",
       "    </tr>\n",
       "    <tr>\n",
       "      <th>590</th>\n",
       "      <td>241.6640</td>\n",
       "      <td>1</td>\n",
       "    </tr>\n",
       "  </tbody>\n",
       "</table>\n",
       "<p>591 rows × 2 columns</p>\n",
       "</div>"
      ],
      "text/plain": [
       "        times  gnre\n",
       "0      0.0000     1\n",
       "1      0.4096     0\n",
       "2      0.8192     1\n",
       "3      1.2288     1\n",
       "4      1.6384     1\n",
       "..        ...   ...\n",
       "586  240.0256     1\n",
       "587  240.4352     1\n",
       "588  240.8448     1\n",
       "589  241.2544     1\n",
       "590  241.6640     1\n",
       "\n",
       "[591 rows x 2 columns]"
      ]
     },
     "execution_count": 1314,
     "metadata": {},
     "output_type": "execute_result"
    }
   ],
   "source": [
    "df_full_final = df_compas.drop(columns = ['wform'])\n",
    "df_full_final['times'] = df_full_final['times'].apply(lambda x: x[0])\n",
    "df_full_final['gnre'] = yhat\n",
    "df_full_final"
   ]
  },
  {
   "cell_type": "markdown",
   "metadata": {},
   "source": [
    "# SONG FEATURES"
   ]
  },
  {
   "cell_type": "code",
   "execution_count": 1315,
   "metadata": {},
   "outputs": [],
   "source": [
    "#menas = []\n",
    "#for index in range(len(df_compas.wform)):\n",
    "#    y_harm, y_perc = librosa.effects.hpss(df_compas.wform[index][0])\n",
    "#    if len(y_harm[y_perc > 0.1]) > 0:\n",
    "#        menas += [(y_harm[y_perc > 0.1].max() * len(y_harm[y_perc > 0.1]))]\n",
    "#df = pd.DataFrame(menas).dropna()"
   ]
  },
  {
   "cell_type": "code",
   "execution_count": 1316,
   "metadata": {},
   "outputs": [],
   "source": [
    "#mean_harm = df[0].mean()"
   ]
  },
  {
   "cell_type": "code",
   "execution_count": 1317,
   "metadata": {},
   "outputs": [],
   "source": [
    "step_freq = 1/(vcompas_time * 2)\n",
    "noise_freq = 1/(vcompas_time * 2)\n",
    "#constant_noise_rot = 0.16688923225825697\n",
    "#constant_noise_pos = 0.0018604045563215532\n",
    "\n",
    "#noise_pos = constant_noise_pos * mean_harm\n",
    "#noise_rot = constant_noise_rot * mean_harm\n",
    "#print(noise_pos,noise_rot)"
   ]
  },
  {
   "cell_type": "markdown",
   "metadata": {},
   "source": [
    "# SAVING DATA INTO JSON"
   ]
  },
  {
   "cell_type": "code",
   "execution_count": 1318,
   "metadata": {},
   "outputs": [],
   "source": [
    "dict_full = {}\n",
    "dict_low = {}\n",
    "dict_mid = {}\n",
    "dict_high = {}\n",
    "dict_legs = {}\n",
    "\n",
    "for i in range(0,len(df_low_final.times)):\n",
    "    dict_low[str(df_low_final.times[i])] = str(df_low_final.gnre[i])\n",
    "    dict_mid[str(df_mid_final.times[i])] = str(df_mid_final.gnre[i])\n",
    "    dict_high[str(df_high_final.times[i])] = str(df_high_final.gnre[i])\n",
    "    dict_legs[str(df_full_final.times[i])] = str(df_full_final.gnre[i])\n",
    "\n",
    "dict_full['low'] = str(dict_low)\n",
    "dict_full['mid'] = str(dict_mid)\n",
    "dict_full['high'] = str(dict_high)\n",
    "dict_full['legs'] = str(dict_legs)\n",
    "dict_full['freqs'] = str(step_freq[0])"
   ]
  },
  {
   "cell_type": "code",
   "execution_count": 1319,
   "metadata": {},
   "outputs": [
    {
     "name": "stdout",
     "output_type": "stream",
     "text": [
      "{\"low\": \"{'0.0': '1', '0.4096': '1', '0.8192': '1', '1.2288000000000001': '1', '1.6384': '1', '2.048': '1', '2.4576000000000002': '1', '2.8672': '1', '3.2768': '1', '3.6864000000000003': '1', '4.096': '1', '4.5056': '1', '4.9152000000000005': '1', '5.324800000000001': '1', '5.7344': '1', '6.144': '1', '6.5536': '1', '6.9632000000000005': '1', '7.372800000000001': '1', '7.7824': '1', '8.192': '1', '8.601600000000001': '1', '9.0112': '1', '9.4208': '1', '9.830400000000001': '1', '10.24': '1', '10.649600000000001': '1', '11.0592': '1', '11.4688': '1', '11.878400000000001': '1', '12.288': '1', '12.697600000000001': '1', '13.1072': '1', '13.5168': '1', '13.926400000000001': '1', '14.336': '1', '14.745600000000001': '1', '15.1552': '1', '15.5648': '1', '15.974400000000001': '1', '16.384': '1', '16.7936': '1', '17.203200000000002': '1', '17.6128': '1', '18.0224': '1', '18.432000000000002': '1', '18.8416': '1', '19.2512': '1', '19.660800000000002': '1', '20.0704': '1', '20.48': '1', '20.8896': '1', '21.299200000000003': '1', '21.7088': '1', '22.1184': '1', '22.528000000000002': '1', '22.9376': '1', '23.3472': '1', '23.756800000000002': '1', '24.1664': '1', '24.576': '1', '24.9856': '1', '25.395200000000003': '1', '25.8048': '1', '26.2144': '1', '26.624000000000002': '1', '27.0336': '1', '27.4432': '1', '27.852800000000002': '1', '28.262400000000003': '1', '28.672': '1', '29.0816': '1', '29.491200000000003': '1', '29.9008': '1', '30.3104': '1', '30.720000000000002': '1', '31.1296': '1', '31.5392': '1', '31.948800000000002': '1', '32.3584': '1', '32.768': '1', '33.1776': '1', '33.5872': '1', '33.9968': '1', '34.406400000000005': '1', '34.816': '0', '35.2256': '0', '35.635200000000005': '0', '36.0448': '0', '36.4544': '0', '36.864000000000004': '0', '37.2736': '0', '37.6832': '0', '38.092800000000004': '0', '38.5024': '0', '38.912': '0', '39.321600000000004': '0', '39.7312': '0', '40.1408': '0', '40.5504': '0', '40.96': '0', '41.369600000000005': '0', '41.7792': '0', '42.1888': '0', '42.598400000000005': '0', '43.008': '0', '43.4176': '0', '43.827200000000005': '0', '44.2368': '0', '44.6464': '0', '45.056000000000004': '0', '45.4656': '0', '45.8752': '0', '46.284800000000004': '0', '46.6944': '0', '47.104': '0', '47.513600000000004': '0', '47.9232': '0', '48.3328': '1', '48.7424': '0', '49.152': '0', '49.561600000000006': '0', '49.9712': '0', '50.3808': '0', '50.790400000000005': '0', '51.2': '0', '51.6096': '0', '52.019200000000005': '1', '52.4288': '1', '52.8384': '1', '53.248000000000005': '1', '53.6576': '1', '54.0672': '1', '54.476800000000004': '1', '54.8864': '1', '55.296': '1', '55.705600000000004': '0', '56.1152': '0', '56.524800000000006': '0', '56.934400000000004': '0', '57.344': '0', '57.753600000000006': '0', '58.1632': '0', '58.5728': '0', '58.982400000000005': '0', '59.392': '0', '59.8016': '0', '60.211200000000005': '0', '60.6208': '0', '61.0304': '0', '61.440000000000005': '0', '61.8496': '0', '62.2592': '0', '62.668800000000005': '0', '63.0784': '0', '63.488': '0', '63.897600000000004': '0', '64.30720000000001': '0', '64.7168': '0', '65.1264': '0', '65.536': '0', '65.9456': '0', '66.3552': '0', '66.76480000000001': '0', '67.1744': '0', '67.584': '0', '67.9936': '0', '68.4032': '0', '68.81280000000001': '0', '69.22240000000001': '1', '69.632': '0', '70.0416': '0', '70.4512': '0', '70.8608': '0', '71.27040000000001': '0', '71.68': '0', '72.0896': '0', '72.4992': '0', '72.9088': '0', '73.3184': '0', '73.72800000000001': '0', '74.1376': '0', '74.5472': '0', '74.9568': '0', '75.3664': '0', '75.77600000000001': '0', '76.18560000000001': '0', '76.5952': '0', '77.0048': '0', '77.4144': '0', '77.824': '0', '78.23360000000001': '0', '78.64320000000001': '0', '79.0528': '0', '79.4624': '0', '79.872': '0', '80.2816': '0', '80.69120000000001': '0', '81.1008': '0', '81.5104': '1', '81.92': '1', '82.3296': '0', '82.73920000000001': '1', '83.14880000000001': '1', '83.5584': '0', '83.968': '0', '84.3776': '0', '84.7872': '0', '85.19680000000001': '0', '85.60640000000001': '0', '86.016': '0', '86.4256': '0', '86.8352': '0', '87.2448': '0', '87.65440000000001': '0', '88.06400000000001': '0', '88.4736': '0', '88.8832': '0', '89.2928': '0', '89.7024': '1', '90.11200000000001': '1', '90.5216': '0', '90.9312': '0', '91.3408': '0', '91.7504': '0', '92.16000000000001': '0', '92.56960000000001': '0', '92.9792': '0', '93.3888': '0', '93.7984': '0', '94.208': '0', '94.61760000000001': '0', '95.02720000000001': '1', '95.4368': '1', '95.8464': '1', '96.256': '1', '96.6656': '1', '97.07520000000001': '0', '97.4848': '0', '97.8944': '0', '98.304': '0', '98.7136': '0', '99.12320000000001': '0', '99.53280000000001': '0', '99.9424': '0', '100.352': '0', '100.7616': '0', '101.1712': '0', '101.58080000000001': '0', '101.99040000000001': '0', '102.4': '0', '102.8096': '0', '103.2192': '0', '103.6288': '0', '104.03840000000001': '0', '104.44800000000001': '0', '104.8576': '0', '105.2672': '0', '105.6768': '0', '106.08640000000001': '0', '106.49600000000001': '0', '106.9056': '0', '107.3152': '0', '107.7248': '0', '108.1344': '0', '108.54400000000001': '0', '108.95360000000001': '0', '109.3632': '0', '109.7728': '0', '110.1824': '0', '110.592': '1', '111.00160000000001': '0', '111.41120000000001': '0', '111.8208': '0', '112.2304': '0', '112.64': '0', '113.04960000000001': '0', '113.45920000000001': '0', '113.86880000000001': '0', '114.2784': '0', '114.688': '0', '115.0976': '0', '115.50720000000001': '0', '115.91680000000001': '0', '116.3264': '0', '116.736': '0', '117.1456': '0', '117.5552': '0', '117.96480000000001': '0', '118.37440000000001': '0', '118.784': '0', '119.1936': '0', '119.6032': '0', '120.01280000000001': '0', '120.42240000000001': '0', '120.83200000000001': '0', '121.2416': '0', '121.6512': '0', '122.0608': '0', '122.47040000000001': '0', '122.88000000000001': '0', '123.28960000000001': '0', '123.6992': '0', '124.1088': '0', '124.5184': '1', '124.92800000000001': '0', '125.33760000000001': '0', '125.7472': '0', '126.1568': '0', '126.5664': '0', '126.976': '0', '127.38560000000001': '0', '127.79520000000001': '0', '128.2048': '0', '128.61440000000002': '0', '129.024': '0', '129.4336': '1', '129.8432': '1', '130.2528': '1', '130.66240000000002': '1', '131.072': '0', '131.48160000000001': '0', '131.8912': '0', '132.3008': '0', '132.7104': '0', '133.12': '0', '133.52960000000002': '0', '133.9392': '0', '134.3488': '0', '134.7584': '0', '135.168': '0', '135.57760000000002': '0', '135.9872': '0', '136.3968': '0', '136.8064': '0', '137.216': '0', '137.62560000000002': '0', '138.0352': '0', '138.44480000000001': '0', '138.8544': '0', '139.264': '0', '139.6736': '0', '140.0832': '0', '140.49280000000002': '0', '140.9024': '0', '141.312': '0', '141.7216': '0', '142.1312': '0', '142.54080000000002': '0', '142.9504': '0', '143.36': '1', '143.7696': '1', '144.1792': '1', '144.58880000000002': '1', '144.9984': '1', '145.40800000000002': '1', '145.8176': '1', '146.2272': '1', '146.6368': '1', '147.0464': '1', '147.45600000000002': '1', '147.8656': '1', '148.2752': '1', '148.6848': '1', '149.0944': '1', '149.50400000000002': '1', '149.9136': '1', '150.3232': '1', '150.7328': '1', '151.1424': '1', '151.55200000000002': '1', '151.9616': '1', '152.37120000000002': '1', '152.7808': '1', '153.1904': '1', '153.6': '1', '154.0096': '1', '154.41920000000002': '1', '154.8288': '1', '155.2384': '1', '155.648': '1', '156.0576': '1', '156.46720000000002': '1', '156.8768': '1', '157.28640000000001': '1', '157.696': '1', '158.1056': '1', '158.51520000000002': '1', '158.9248': '1', '159.33440000000002': '0', '159.744': '0', '160.1536': '0', '160.5632': '0', '160.9728': '0', '161.38240000000002': '0', '161.792': '0', '162.2016': '0', '162.6112': '0', '163.0208': '0', '163.43040000000002': '0', '163.84': '0', '164.24960000000002': '0', '164.6592': '0', '165.0688': '0', '165.47840000000002': '0', '165.888': '0', '166.29760000000002': '0', '166.7072': '0', '167.1168': '0', '167.5264': '0', '167.936': '0', '168.34560000000002': '0', '168.7552': '0', '169.1648': '0', '169.5744': '0', '169.984': '0', '170.39360000000002': '0', '170.8032': '0', '171.21280000000002': '0', '171.6224': '0', '172.032': '0', '172.44160000000002': '0', '172.8512': '1', '173.26080000000002': '0', '173.6704': '0', '174.08': '0', '174.4896': '0', '174.8992': '0', '175.30880000000002': '0', '175.7184': '0', '176.12800000000001': '0', '176.5376': '0', '176.9472': '0', '177.35680000000002': '0', '177.7664': '0', '178.17600000000002': '0', '178.5856': '0', '178.9952': '0', '179.4048': '0', '179.8144': '0', '180.22400000000002': '0', '180.6336': '0', '181.0432': '0', '181.4528': '0', '181.8624': '0', '182.27200000000002': '0', '182.6816': '0', '183.09120000000001': '0', '183.5008': '0', '183.9104': '0', '184.32000000000002': '0', '184.7296': '1', '185.13920000000002': '1', '185.5488': '1', '185.9584': '1', '186.368': '1', '186.7776': '0', '187.18720000000002': '0', '187.5968': '0', '188.0064': '0', '188.416': '0', '188.8256': '0', '189.23520000000002': '0', '189.6448': '0', '190.05440000000002': '0', '190.464': '0', '190.8736': '0', '191.28320000000002': '0', '191.6928': '0', '192.10240000000002': '0', '192.512': '0', '192.9216': '0', '193.3312': '1', '193.7408': '0', '194.15040000000002': '0', '194.56': '0', '194.9696': '0', '195.3792': '0', '195.7888': '0', '196.19840000000002': '0', '196.608': '0', '197.01760000000002': '0', '197.4272': '0', '197.8368': '0', '198.24640000000002': '0', '198.656': '0', '199.06560000000002': '0', '199.4752': '0', '199.8848': '0', '200.2944': '0', '200.704': '0', '201.11360000000002': '0', '201.5232': '0', '201.93280000000001': '0', '202.3424': '0', '202.752': '0', '203.16160000000002': '0', '203.5712': '0', '203.98080000000002': '0', '204.3904': '0', '204.8': '0', '205.20960000000002': '0', '205.6192': '1', '206.02880000000002': '1', '206.4384': '1', '206.848': '1', '207.2576': '0', '207.6672': '0', '208.07680000000002': '0', '208.4864': '0', '208.89600000000002': '0', '209.3056': '0', '209.7152': '0', '210.12480000000002': '0', '210.5344': '0', '210.94400000000002': '0', '211.3536': '0', '211.7632': '0', '212.17280000000002': '0', '212.5824': '0', '212.99200000000002': '0', '213.4016': '0', '213.8112': '0', '214.2208': '0', '214.6304': '0', '215.04000000000002': '0', '215.4496': '0', '215.85920000000002': '0', '216.2688': '0', '216.6784': '0', '217.08800000000002': '0', '217.4976': '0', '217.90720000000002': '0', '218.3168': '0', '218.7264': '0', '219.13600000000002': '0', '219.5456': '0', '219.95520000000002': '0', '220.3648': '0', '220.7744': '0', '221.184': '0', '221.5936': '0', '222.00320000000002': '0', '222.4128': '0', '222.82240000000002': '0', '223.232': '0', '223.6416': '0', '224.05120000000002': '0', '224.4608': '0', '224.87040000000002': '0', '225.28': '0', '225.6896': '0', '226.09920000000002': '0', '226.5088': '0', '226.91840000000002': '0', '227.328': '0', '227.73760000000001': '0', '228.1472': '0', '228.5568': '0', '228.96640000000002': '0', '229.376': '0', '229.78560000000002': '0', '230.1952': '0', '230.6048': '0', '231.01440000000002': '0', '231.424': '0', '231.83360000000002': '0', '232.2432': '0', '232.6528': '1', '233.06240000000003': '1', '233.472': '1', '233.88160000000002': '1', '234.2912': '1', '234.70080000000002': '1', '235.1104': '1', '235.52': '1', '235.92960000000002': '1', '236.3392': '1', '236.74880000000002': '1', '237.1584': '1', '237.568': '1', '237.97760000000002': '1', '238.3872': '1', '238.79680000000002': '1', '239.2064': '1', '239.616': '1', '240.02560000000003': '1', '240.4352': '1', '240.84480000000002': '1', '241.2544': '1', '241.66400000000002': '1'}\", \"mid\": \"{'0.0': '0', '0.4096': '0', '0.8192': '0', '1.2288000000000001': '0', '1.6384': '1', '2.048': '1', '2.4576000000000002': '1', '2.8672': '1', '3.2768': '1', '3.6864000000000003': '1', '4.096': '1', '4.5056': '1', '4.9152000000000005': '1', '5.324800000000001': '1', '5.7344': '1', '6.144': '1', '6.5536': '1', '6.9632000000000005': '1', '7.372800000000001': '1', '7.7824': '0', '8.192': '0', '8.601600000000001': '0', '9.0112': '0', '9.4208': '0', '9.830400000000001': '1', '10.24': '1', '10.649600000000001': '1', '11.0592': '1', '11.4688': '0', '11.878400000000001': '0', '12.288': '0', '12.697600000000001': '0', '13.1072': '1', '13.5168': '1', '13.926400000000001': '1', '14.336': '1', '14.745600000000001': '0', '15.1552': '0', '15.5648': '0', '15.974400000000001': '0', '16.384': '0', '16.7936': '1', '17.203200000000002': '1', '17.6128': '1', '18.0224': '0', '18.432000000000002': '0', '18.8416': '0', '19.2512': '0', '19.660800000000002': '0', '20.0704': '0', '20.48': '0', '20.8896': '0', '21.299200000000003': '0', '21.7088': '0', '22.1184': '0', '22.528000000000002': '0', '22.9376': '0', '23.3472': '0', '23.756800000000002': '0', '24.1664': '0', '24.576': '0', '24.9856': '0', '25.395200000000003': '0', '25.8048': '0', '26.2144': '0', '26.624000000000002': '0', '27.0336': '0', '27.4432': '0', '27.852800000000002': '0', '28.262400000000003': '0', '28.672': '0', '29.0816': '0', '29.491200000000003': '0', '29.9008': '0', '30.3104': '0', '30.720000000000002': '0', '31.1296': '0', '31.5392': '0', '31.948800000000002': '0', '32.3584': '0', '32.768': '0', '33.1776': '0', '33.5872': '0', '33.9968': '0', '34.406400000000005': '0', '34.816': '0', '35.2256': '0', '35.635200000000005': '0', '36.0448': '0', '36.4544': '0', '36.864000000000004': '0', '37.2736': '0', '37.6832': '0', '38.092800000000004': '0', '38.5024': '0', '38.912': '0', '39.321600000000004': '0', '39.7312': '0', '40.1408': '0', '40.5504': '0', '40.96': '0', '41.369600000000005': '0', '41.7792': '0', '42.1888': '0', '42.598400000000005': '0', '43.008': '0', '43.4176': '0', '43.827200000000005': '0', '44.2368': '0', '44.6464': '0', '45.056000000000004': '0', '45.4656': '0', '45.8752': '0', '46.284800000000004': '0', '46.6944': '0', '47.104': '0', '47.513600000000004': '0', '47.9232': '0', '48.3328': '0', '48.7424': '0', '49.152': '0', '49.561600000000006': '0', '49.9712': '0', '50.3808': '0', '50.790400000000005': '0', '51.2': '0', '51.6096': '0', '52.019200000000005': '0', '52.4288': '0', '52.8384': '0', '53.248000000000005': '0', '53.6576': '0', '54.0672': '0', '54.476800000000004': '0', '54.8864': '0', '55.296': '0', '55.705600000000004': '0', '56.1152': '0', '56.524800000000006': '0', '56.934400000000004': '0', '57.344': '0', '57.753600000000006': '0', '58.1632': '0', '58.5728': '0', '58.982400000000005': '0', '59.392': '0', '59.8016': '0', '60.211200000000005': '0', '60.6208': '0', '61.0304': '0', '61.440000000000005': '0', '61.8496': '0', '62.2592': '0', '62.668800000000005': '0', '63.0784': '0', '63.488': '0', '63.897600000000004': '0', '64.30720000000001': '0', '64.7168': '0', '65.1264': '0', '65.536': '0', '65.9456': '0', '66.3552': '0', '66.76480000000001': '0', '67.1744': '0', '67.584': '0', '67.9936': '0', '68.4032': '0', '68.81280000000001': '0', '69.22240000000001': '0', '69.632': '0', '70.0416': '0', '70.4512': '0', '70.8608': '0', '71.27040000000001': '0', '71.68': '0', '72.0896': '0', '72.4992': '0', '72.9088': '0', '73.3184': '0', '73.72800000000001': '0', '74.1376': '0', '74.5472': '0', '74.9568': '0', '75.3664': '0', '75.77600000000001': '0', '76.18560000000001': '0', '76.5952': '0', '77.0048': '0', '77.4144': '0', '77.824': '0', '78.23360000000001': '0', '78.64320000000001': '0', '79.0528': '0', '79.4624': '0', '79.872': '0', '80.2816': '0', '80.69120000000001': '0', '81.1008': '0', '81.5104': '0', '81.92': '0', '82.3296': '0', '82.73920000000001': '0', '83.14880000000001': '0', '83.5584': '0', '83.968': '0', '84.3776': '0', '84.7872': '0', '85.19680000000001': '0', '85.60640000000001': '0', '86.016': '0', '86.4256': '0', '86.8352': '0', '87.2448': '0', '87.65440000000001': '0', '88.06400000000001': '0', '88.4736': '0', '88.8832': '0', '89.2928': '0', '89.7024': '0', '90.11200000000001': '0', '90.5216': '0', '90.9312': '0', '91.3408': '0', '91.7504': '0', '92.16000000000001': '0', '92.56960000000001': '0', '92.9792': '0', '93.3888': '0', '93.7984': '0', '94.208': '0', '94.61760000000001': '0', '95.02720000000001': '0', '95.4368': '0', '95.8464': '0', '96.256': '0', '96.6656': '0', '97.07520000000001': '0', '97.4848': '0', '97.8944': '0', '98.304': '0', '98.7136': '0', '99.12320000000001': '0', '99.53280000000001': '0', '99.9424': '0', '100.352': '0', '100.7616': '0', '101.1712': '0', '101.58080000000001': '0', '101.99040000000001': '0', '102.4': '0', '102.8096': '0', '103.2192': '0', '103.6288': '0', '104.03840000000001': '0', '104.44800000000001': '0', '104.8576': '0', '105.2672': '0', '105.6768': '0', '106.08640000000001': '0', '106.49600000000001': '0', '106.9056': '0', '107.3152': '0', '107.7248': '0', '108.1344': '0', '108.54400000000001': '0', '108.95360000000001': '0', '109.3632': '0', '109.7728': '0', '110.1824': '0', '110.592': '0', '111.00160000000001': '0', '111.41120000000001': '0', '111.8208': '0', '112.2304': '0', '112.64': '0', '113.04960000000001': '0', '113.45920000000001': '0', '113.86880000000001': '0', '114.2784': '0', '114.688': '0', '115.0976': '0', '115.50720000000001': '0', '115.91680000000001': '0', '116.3264': '0', '116.736': '0', '117.1456': '0', '117.5552': '0', '117.96480000000001': '0', '118.37440000000001': '0', '118.784': '0', '119.1936': '0', '119.6032': '0', '120.01280000000001': '0', '120.42240000000001': '0', '120.83200000000001': '0', '121.2416': '0', '121.6512': '0', '122.0608': '0', '122.47040000000001': '0', '122.88000000000001': '0', '123.28960000000001': '0', '123.6992': '0', '124.1088': '0', '124.5184': '0', '124.92800000000001': '0', '125.33760000000001': '0', '125.7472': '0', '126.1568': '0', '126.5664': '0', '126.976': '0', '127.38560000000001': '0', '127.79520000000001': '0', '128.2048': '0', '128.61440000000002': '0', '129.024': '0', '129.4336': '0', '129.8432': '0', '130.2528': '0', '130.66240000000002': '0', '131.072': '0', '131.48160000000001': '0', '131.8912': '0', '132.3008': '0', '132.7104': '0', '133.12': '0', '133.52960000000002': '0', '133.9392': '0', '134.3488': '0', '134.7584': '0', '135.168': '0', '135.57760000000002': '0', '135.9872': '0', '136.3968': '0', '136.8064': '0', '137.216': '0', '137.62560000000002': '0', '138.0352': '0', '138.44480000000001': '0', '138.8544': '0', '139.264': '0', '139.6736': '0', '140.0832': '0', '140.49280000000002': '0', '140.9024': '0', '141.312': '0', '141.7216': '0', '142.1312': '0', '142.54080000000002': '0', '142.9504': '0', '143.36': '0', '143.7696': '0', '144.1792': '0', '144.58880000000002': '0', '144.9984': '0', '145.40800000000002': '0', '145.8176': '0', '146.2272': '0', '146.6368': '0', '147.0464': '0', '147.45600000000002': '0', '147.8656': '0', '148.2752': '0', '148.6848': '0', '149.0944': '0', '149.50400000000002': '0', '149.9136': '0', '150.3232': '0', '150.7328': '0', '151.1424': '0', '151.55200000000002': '0', '151.9616': '0', '152.37120000000002': '0', '152.7808': '0', '153.1904': '0', '153.6': '0', '154.0096': '0', '154.41920000000002': '0', '154.8288': '0', '155.2384': '0', '155.648': '0', '156.0576': '0', '156.46720000000002': '0', '156.8768': '0', '157.28640000000001': '0', '157.696': '0', '158.1056': '0', '158.51520000000002': '0', '158.9248': '0', '159.33440000000002': '0', '159.744': '0', '160.1536': '0', '160.5632': '0', '160.9728': '0', '161.38240000000002': '0', '161.792': '0', '162.2016': '0', '162.6112': '0', '163.0208': '0', '163.43040000000002': '0', '163.84': '0', '164.24960000000002': '0', '164.6592': '0', '165.0688': '0', '165.47840000000002': '0', '165.888': '0', '166.29760000000002': '0', '166.7072': '0', '167.1168': '0', '167.5264': '0', '167.936': '0', '168.34560000000002': '0', '168.7552': '0', '169.1648': '0', '169.5744': '0', '169.984': '0', '170.39360000000002': '0', '170.8032': '0', '171.21280000000002': '0', '171.6224': '0', '172.032': '0', '172.44160000000002': '0', '172.8512': '0', '173.26080000000002': '0', '173.6704': '0', '174.08': '0', '174.4896': '0', '174.8992': '0', '175.30880000000002': '0', '175.7184': '0', '176.12800000000001': '0', '176.5376': '0', '176.9472': '0', '177.35680000000002': '0', '177.7664': '0', '178.17600000000002': '0', '178.5856': '0', '178.9952': '0', '179.4048': '0', '179.8144': '0', '180.22400000000002': '0', '180.6336': '0', '181.0432': '0', '181.4528': '0', '181.8624': '0', '182.27200000000002': '0', '182.6816': '0', '183.09120000000001': '0', '183.5008': '0', '183.9104': '0', '184.32000000000002': '0', '184.7296': '0', '185.13920000000002': '0', '185.5488': '0', '185.9584': '0', '186.368': '0', '186.7776': '0', '187.18720000000002': '0', '187.5968': '0', '188.0064': '0', '188.416': '0', '188.8256': '0', '189.23520000000002': '0', '189.6448': '0', '190.05440000000002': '0', '190.464': '0', '190.8736': '0', '191.28320000000002': '0', '191.6928': '0', '192.10240000000002': '0', '192.512': '0', '192.9216': '0', '193.3312': '0', '193.7408': '0', '194.15040000000002': '0', '194.56': '0', '194.9696': '0', '195.3792': '0', '195.7888': '0', '196.19840000000002': '0', '196.608': '0', '197.01760000000002': '0', '197.4272': '0', '197.8368': '0', '198.24640000000002': '0', '198.656': '0', '199.06560000000002': '0', '199.4752': '0', '199.8848': '0', '200.2944': '0', '200.704': '0', '201.11360000000002': '0', '201.5232': '0', '201.93280000000001': '0', '202.3424': '0', '202.752': '0', '203.16160000000002': '0', '203.5712': '0', '203.98080000000002': '0', '204.3904': '0', '204.8': '0', '205.20960000000002': '0', '205.6192': '0', '206.02880000000002': '0', '206.4384': '0', '206.848': '0', '207.2576': '0', '207.6672': '0', '208.07680000000002': '0', '208.4864': '0', '208.89600000000002': '0', '209.3056': '0', '209.7152': '0', '210.12480000000002': '0', '210.5344': '0', '210.94400000000002': '0', '211.3536': '0', '211.7632': '0', '212.17280000000002': '0', '212.5824': '0', '212.99200000000002': '0', '213.4016': '0', '213.8112': '0', '214.2208': '0', '214.6304': '0', '215.04000000000002': '0', '215.4496': '0', '215.85920000000002': '0', '216.2688': '0', '216.6784': '0', '217.08800000000002': '0', '217.4976': '0', '217.90720000000002': '0', '218.3168': '0', '218.7264': '0', '219.13600000000002': '0', '219.5456': '0', '219.95520000000002': '0', '220.3648': '0', '220.7744': '0', '221.184': '0', '221.5936': '0', '222.00320000000002': '0', '222.4128': '0', '222.82240000000002': '0', '223.232': '0', '223.6416': '0', '224.05120000000002': '0', '224.4608': '0', '224.87040000000002': '0', '225.28': '0', '225.6896': '0', '226.09920000000002': '0', '226.5088': '0', '226.91840000000002': '0', '227.328': '0', '227.73760000000001': '0', '228.1472': '0', '228.5568': '0', '228.96640000000002': '0', '229.376': '0', '229.78560000000002': '0', '230.1952': '0', '230.6048': '0', '231.01440000000002': '0', '231.424': '0', '231.83360000000002': '0', '232.2432': '0', '232.6528': '0', '233.06240000000003': '0', '233.472': '0', '233.88160000000002': '0', '234.2912': '0', '234.70080000000002': '0', '235.1104': '0', '235.52': '1', '235.92960000000002': '1', '236.3392': '1', '236.74880000000002': '1', '237.1584': '1', '237.568': '1', '237.97760000000002': '1', '238.3872': '1', '238.79680000000002': '1', '239.2064': '1', '239.616': '1', '240.02560000000003': '1', '240.4352': '1', '240.84480000000002': '1', '241.2544': '1', '241.66400000000002': '1'}\", \"high\": \"{'0.0': '0', '0.4096': '0', '0.8192': '0', '1.2288000000000001': '0', '1.6384': '1', '2.048': '1', '2.4576000000000002': '1', '2.8672': '1', '3.2768': '1', '3.6864000000000003': '1', '4.096': '1', '4.5056': '1', '4.9152000000000005': '1', '5.324800000000001': '1', '5.7344': '1', '6.144': '1', '6.5536': '1', '6.9632000000000005': '1', '7.372800000000001': '1', '7.7824': '0', '8.192': '0', '8.601600000000001': '2', '9.0112': '0', '9.4208': '0', '9.830400000000001': '1', '10.24': '1', '10.649600000000001': '1', '11.0592': '1', '11.4688': '0', '11.878400000000001': '3', '12.288': '0', '12.697600000000001': '0', '13.1072': '1', '13.5168': '1', '13.926400000000001': '1', '14.336': '1', '14.745600000000001': '3', '15.1552': '2', '15.5648': '2', '15.974400000000001': '0', '16.384': '0', '16.7936': '1', '17.203200000000002': '1', '17.6128': '1', '18.0224': '0', '18.432000000000002': '0', '18.8416': '2', '19.2512': '0', '19.660800000000002': '3', '20.0704': '2', '20.48': '2', '20.8896': '2', '21.299200000000003': '0', '21.7088': '0', '22.1184': '3', '22.528000000000002': '3', '22.9376': '0', '23.3472': '0', '23.756800000000002': '0', '24.1664': '0', '24.576': '0', '24.9856': '0', '25.395200000000003': '0', '25.8048': '3', '26.2144': '0', '26.624000000000002': '2', '27.0336': '3', '27.4432': '2', '27.852800000000002': '3', '28.262400000000003': '0', '28.672': '2', '29.0816': '3', '29.491200000000003': '2', '29.9008': '0', '30.3104': '2', '30.720000000000002': '3', '31.1296': '2', '31.5392': '0', '31.948800000000002': '3', '32.3584': '2', '32.768': '2', '33.1776': '2', '33.5872': '2', '33.9968': '2', '34.406400000000005': '2', '34.816': '2', '35.2256': '3', '35.635200000000005': '2', '36.0448': '2', '36.4544': '2', '36.864000000000004': '0', '37.2736': '2', '37.6832': '2', '38.092800000000004': '2', '38.5024': '0', '38.912': '3', '39.321600000000004': '3', '39.7312': '2', '40.1408': '3', '40.5504': '3', '40.96': '2', '41.369600000000005': '2', '41.7792': '3', '42.1888': '3', '42.598400000000005': '3', '43.008': '2', '43.4176': '2', '43.827200000000005': '0', '44.2368': '2', '44.6464': '2', '45.056000000000004': '2', '45.4656': '0', '45.8752': '2', '46.284800000000004': '2', '46.6944': '2', '47.104': '2', '47.513600000000004': '2', '47.9232': '2', '48.3328': '2', '48.7424': '2', '49.152': '2', '49.561600000000006': '2', '49.9712': '2', '50.3808': '2', '50.790400000000005': '0', '51.2': '3', '51.6096': '2', '52.019200000000005': '2', '52.4288': '0', '52.8384': '2', '53.248000000000005': '2', '53.6576': '2', '54.0672': '2', '54.476800000000004': '2', '54.8864': '2', '55.296': '3', '55.705600000000004': '3', '56.1152': '3', '56.524800000000006': '3', '56.934400000000004': '2', '57.344': '0', '57.753600000000006': '3', '58.1632': '3', '58.5728': '2', '58.982400000000005': '0', '59.392': '2', '59.8016': '0', '60.211200000000005': '0', '60.6208': '3', '61.0304': '2', '61.440000000000005': '3', '61.8496': '2', '62.2592': '2', '62.668800000000005': '3', '63.0784': '2', '63.488': '3', '63.897600000000004': '3', '64.30720000000001': '3', '64.7168': '3', '65.1264': '2', '65.536': '2', '65.9456': '2', '66.3552': '3', '66.76480000000001': '3', '67.1744': '3', '67.584': '2', '67.9936': '2', '68.4032': '2', '68.81280000000001': '2', '69.22240000000001': '2', '69.632': '2', '70.0416': '3', '70.4512': '3', '70.8608': '3', '71.27040000000001': '3', '71.68': '2', '72.0896': '2', '72.4992': '2', '72.9088': '3', '73.3184': '3', '73.72800000000001': '3', '74.1376': '3', '74.5472': '3', '74.9568': '2', '75.3664': '2', '75.77600000000001': '2', '76.18560000000001': '2', '76.5952': '2', '77.0048': '2', '77.4144': '2', '77.824': '2', '78.23360000000001': '0', '78.64320000000001': '2', '79.0528': '3', '79.4624': '2', '79.872': '3', '80.2816': '3', '80.69120000000001': '3', '81.1008': '3', '81.5104': '3', '81.92': '3', '82.3296': '0', '82.73920000000001': '0', '83.14880000000001': '2', '83.5584': '2', '83.968': '2', '84.3776': '2', '84.7872': '3', '85.19680000000001': '3', '85.60640000000001': '2', '86.016': '2', '86.4256': '2', '86.8352': '3', '87.2448': '2', '87.65440000000001': '3', '88.06400000000001': '2', '88.4736': '2', '88.8832': '2', '89.2928': '2', '89.7024': '2', '90.11200000000001': '2', '90.5216': '3', '90.9312': '3', '91.3408': '2', '91.7504': '2', '92.16000000000001': '2', '92.56960000000001': '2', '92.9792': '2', '93.3888': '2', '93.7984': '2', '94.208': '2', '94.61760000000001': '3', '95.02720000000001': '3', '95.4368': '0', '95.8464': '2', '96.256': '3', '96.6656': '2', '97.07520000000001': '2', '97.4848': '3', '97.8944': '3', '98.304': '2', '98.7136': '2', '99.12320000000001': '2', '99.53280000000001': '0', '99.9424': '2', '100.352': '2', '100.7616': '3', '101.1712': '3', '101.58080000000001': '3', '101.99040000000001': '3', '102.4': '2', '102.8096': '3', '103.2192': '3', '103.6288': '2', '104.03840000000001': '3', '104.44800000000001': '3', '104.8576': '3', '105.2672': '2', '105.6768': '3', '106.08640000000001': '3', '106.49600000000001': '2', '106.9056': '2', '107.3152': '2', '107.7248': '2', '108.1344': '3', '108.54400000000001': '3', '108.95360000000001': '2', '109.3632': '3', '109.7728': '3', '110.1824': '3', '110.592': '2', '111.00160000000001': '2', '111.41120000000001': '2', '111.8208': '2', '112.2304': '0', '112.64': '0', '113.04960000000001': '0', '113.45920000000001': '0', '113.86880000000001': '0', '114.2784': '0', '114.688': '0', '115.0976': '0', '115.50720000000001': '0', '115.91680000000001': '2', '116.3264': '2', '116.736': '2', '117.1456': '2', '117.5552': '2', '117.96480000000001': '2', '118.37440000000001': '2', '118.784': '2', '119.1936': '2', '119.6032': '2', '120.01280000000001': '2', '120.42240000000001': '2', '120.83200000000001': '2', '121.2416': '2', '121.6512': '2', '122.0608': '2', '122.47040000000001': '3', '122.88000000000001': '3', '123.28960000000001': '3', '123.6992': '2', '124.1088': '2', '124.5184': '2', '124.92800000000001': '2', '125.33760000000001': '2', '125.7472': '2', '126.1568': '2', '126.5664': '2', '126.976': '2', '127.38560000000001': '2', '127.79520000000001': '2', '128.2048': '2', '128.61440000000002': '2', '129.024': '2', '129.4336': '2', '129.8432': '2', '130.2528': '2', '130.66240000000002': '2', '131.072': '2', '131.48160000000001': '2', '131.8912': '3', '132.3008': '2', '132.7104': '2', '133.12': '2', '133.52960000000002': '0', '133.9392': '3', '134.3488': '3', '134.7584': '2', '135.168': '3', '135.57760000000002': '3', '135.9872': '3', '136.3968': '2', '136.8064': '2', '137.216': '2', '137.62560000000002': '2', '138.0352': '2', '138.44480000000001': '3', '138.8544': '2', '139.264': '2', '139.6736': '2', '140.0832': '3', '140.49280000000002': '0', '140.9024': '3', '141.312': '2', '141.7216': '2', '142.1312': '3', '142.54080000000002': '2', '142.9504': '2', '143.36': '2', '143.7696': '2', '144.1792': '2', '144.58880000000002': '2', '144.9984': '2', '145.40800000000002': '2', '145.8176': '0', '146.2272': '3', '146.6368': '0', '147.0464': '0', '147.45600000000002': '0', '147.8656': '0', '148.2752': '0', '148.6848': '0', '149.0944': '0', '149.50400000000002': '0', '149.9136': '0', '150.3232': '2', '150.7328': '3', '151.1424': '2', '151.55200000000002': '3', '151.9616': '3', '152.37120000000002': '0', '152.7808': '0', '153.1904': '0', '153.6': '0', '154.0096': '0', '154.41920000000002': '0', '154.8288': '0', '155.2384': '0', '155.648': '3', '156.0576': '2', '156.46720000000002': '3', '156.8768': '2', '157.28640000000001': '2', '157.696': '2', '158.1056': '2', '158.51520000000002': '2', '158.9248': '2', '159.33440000000002': '3', '159.744': '3', '160.1536': '3', '160.5632': '3', '160.9728': '3', '161.38240000000002': '2', '161.792': '3', '162.2016': '3', '162.6112': '2', '163.0208': '3', '163.43040000000002': '3', '163.84': '3', '164.24960000000002': '2', '164.6592': '3', '165.0688': '3', '165.47840000000002': '3', '165.888': '3', '166.29760000000002': '3', '166.7072': '3', '167.1168': '3', '167.5264': '2', '167.936': '3', '168.34560000000002': '3', '168.7552': '3', '169.1648': '3', '169.5744': '3', '169.984': '3', '170.39360000000002': '3', '170.8032': '2', '171.21280000000002': '2', '171.6224': '3', '172.032': '2', '172.44160000000002': '3', '172.8512': '3', '173.26080000000002': '3', '173.6704': '3', '174.08': '3', '174.4896': '3', '174.8992': '2', '175.30880000000002': '2', '175.7184': '3', '176.12800000000001': '3', '176.5376': '2', '176.9472': '3', '177.35680000000002': '3', '177.7664': '3', '178.17600000000002': '3', '178.5856': '2', '178.9952': '3', '179.4048': '3', '179.8144': '3', '180.22400000000002': '3', '180.6336': '3', '181.0432': '3', '181.4528': '2', '181.8624': '3', '182.27200000000002': '3', '182.6816': '2', '183.09120000000001': '3', '183.5008': '3', '183.9104': '3', '184.32000000000002': '3', '184.7296': '3', '185.13920000000002': '0', '185.5488': '2', '185.9584': '3', '186.368': '3', '186.7776': '3', '187.18720000000002': '3', '187.5968': '3', '188.0064': '3', '188.416': '3', '188.8256': '3', '189.23520000000002': '3', '189.6448': '3', '190.05440000000002': '3', '190.464': '3', '190.8736': '3', '191.28320000000002': '3', '191.6928': '2', '192.10240000000002': '3', '192.512': '2', '192.9216': '3', '193.3312': '2', '193.7408': '2', '194.15040000000002': '2', '194.56': '3', '194.9696': '2', '195.3792': '3', '195.7888': '2', '196.19840000000002': '3', '196.608': '3', '197.01760000000002': '3', '197.4272': '3', '197.8368': '3', '198.24640000000002': '3', '198.656': '2', '199.06560000000002': '3', '199.4752': '3', '199.8848': '3', '200.2944': '3', '200.704': '3', '201.11360000000002': '3', '201.5232': '3', '201.93280000000001': '3', '202.3424': '3', '202.752': '3', '203.16160000000002': '3', '203.5712': '3', '203.98080000000002': '3', '204.3904': '3', '204.8': '3', '205.20960000000002': '3', '205.6192': '3', '206.02880000000002': '3', '206.4384': '3', '206.848': '3', '207.2576': '3', '207.6672': '3', '208.07680000000002': '2', '208.4864': '2', '208.89600000000002': '2', '209.3056': '3', '209.7152': '3', '210.12480000000002': '2', '210.5344': '2', '210.94400000000002': '3', '211.3536': '3', '211.7632': '2', '212.17280000000002': '2', '212.5824': '2', '212.99200000000002': '2', '213.4016': '2', '213.8112': '2', '214.2208': '2', '214.6304': '3', '215.04000000000002': '2', '215.4496': '2', '215.85920000000002': '2', '216.2688': '3', '216.6784': '3', '217.08800000000002': '3', '217.4976': '2', '217.90720000000002': '3', '218.3168': '3', '218.7264': '2', '219.13600000000002': '2', '219.5456': '2', '219.95520000000002': '2', '220.3648': '2', '220.7744': '2', '221.184': '2', '221.5936': '3', '222.00320000000002': '2', '222.4128': '2', '222.82240000000002': '2', '223.232': '3', '223.6416': '3', '224.05120000000002': '2', '224.4608': '2', '224.87040000000002': '3', '225.28': '2', '225.6896': '2', '226.09920000000002': '2', '226.5088': '2', '226.91840000000002': '2', '227.328': '2', '227.73760000000001': '2', '228.1472': '2', '228.5568': '3', '228.96640000000002': '2', '229.376': '2', '229.78560000000002': '2', '230.1952': '0', '230.6048': '3', '231.01440000000002': '2', '231.424': '2', '231.83360000000002': '2', '232.2432': '2', '232.6528': '2', '233.06240000000003': '2', '233.472': '0', '233.88160000000002': '0', '234.2912': '0', '234.70080000000002': '3', '235.1104': '0', '235.52': '1', '235.92960000000002': '1', '236.3392': '1', '236.74880000000002': '1', '237.1584': '1', '237.568': '1', '237.97760000000002': '1', '238.3872': '1', '238.79680000000002': '1', '239.2064': '1', '239.616': '1', '240.02560000000003': '1', '240.4352': '1', '240.84480000000002': '1', '241.2544': '1', '241.66400000000002': '1'}\", \"legs\": \"{'0.0': '1', '0.4096': '0', '0.8192': '1', '1.2288000000000001': '1', '1.6384': '1', '2.048': '1', '2.4576000000000002': '1', '2.8672': '1', '3.2768': '1', '3.6864000000000003': '1', '4.096': '1', '4.5056': '1', '4.9152000000000005': '1', '5.324800000000001': '1', '5.7344': '1', '6.144': '1', '6.5536': '1', '6.9632000000000005': '1', '7.372800000000001': '1', '7.7824': '0', '8.192': '0', '8.601600000000001': '0', '9.0112': '0', '9.4208': '1', '9.830400000000001': '1', '10.24': '1', '10.649600000000001': '1', '11.0592': '1', '11.4688': '0', '11.878400000000001': '0', '12.288': '0', '12.697600000000001': '1', '13.1072': '1', '13.5168': '1', '13.926400000000001': '1', '14.336': '1', '14.745600000000001': '0', '15.1552': '0', '15.5648': '0', '15.974400000000001': '1', '16.384': '1', '16.7936': '1', '17.203200000000002': '1', '17.6128': '1', '18.0224': '1', '18.432000000000002': '0', '18.8416': '0', '19.2512': '0', '19.660800000000002': '0', '20.0704': '0', '20.48': '0', '20.8896': '0', '21.299200000000003': '1', '21.7088': '0', '22.1184': '0', '22.528000000000002': '0', '22.9376': '1', '23.3472': '0', '23.756800000000002': '0', '24.1664': '0', '24.576': '1', '24.9856': '1', '25.395200000000003': '0', '25.8048': '0', '26.2144': '0', '26.624000000000002': '0', '27.0336': '0', '27.4432': '0', '27.852800000000002': '0', '28.262400000000003': '1', '28.672': '0', '29.0816': '0', '29.491200000000003': '0', '29.9008': '1', '30.3104': '0', '30.720000000000002': '0', '31.1296': '0', '31.5392': '0', '31.948800000000002': '0', '32.3584': '0', '32.768': '0', '33.1776': '0', '33.5872': '0', '33.9968': '0', '34.406400000000005': '2', '34.816': '2', '35.2256': '2', '35.635200000000005': '2', '36.0448': '2', '36.4544': '2', '36.864000000000004': '2', '37.2736': '2', '37.6832': '2', '38.092800000000004': '2', '38.5024': '2', '38.912': '2', '39.321600000000004': '2', '39.7312': '2', '40.1408': '2', '40.5504': '2', '40.96': '2', '41.369600000000005': '2', '41.7792': '2', '42.1888': '2', '42.598400000000005': '2', '43.008': '2', '43.4176': '2', '43.827200000000005': '2', '44.2368': '2', '44.6464': '2', '45.056000000000004': '2', '45.4656': '2', '45.8752': '2', '46.284800000000004': '2', '46.6944': '2', '47.104': '2', '47.513600000000004': '2', '47.9232': '2', '48.3328': '2', '48.7424': '2', '49.152': '2', '49.561600000000006': '2', '49.9712': '2', '50.3808': '2', '50.790400000000005': '2', '51.2': '2', '51.6096': '2', '52.019200000000005': '0', '52.4288': '0', '52.8384': '0', '53.248000000000005': '0', '53.6576': '0', '54.0672': '0', '54.476800000000004': '0', '54.8864': '0', '55.296': '0', '55.705600000000004': '2', '56.1152': '2', '56.524800000000006': '2', '56.934400000000004': '2', '57.344': '2', '57.753600000000006': '2', '58.1632': '2', '58.5728': '2', '58.982400000000005': '2', '59.392': '2', '59.8016': '2', '60.211200000000005': '2', '60.6208': '2', '61.0304': '2', '61.440000000000005': '2', '61.8496': '2', '62.2592': '2', '62.668800000000005': '2', '63.0784': '2', '63.488': '2', '63.897600000000004': '2', '64.30720000000001': '2', '64.7168': '2', '65.1264': '2', '65.536': '2', '65.9456': '2', '66.3552': '2', '66.76480000000001': '2', '67.1744': '2', '67.584': '2', '67.9936': '2', '68.4032': '2', '68.81280000000001': '2', '69.22240000000001': '2', '69.632': '2', '70.0416': '2', '70.4512': '2', '70.8608': '2', '71.27040000000001': '2', '71.68': '2', '72.0896': '2', '72.4992': '2', '72.9088': '2', '73.3184': '2', '73.72800000000001': '2', '74.1376': '2', '74.5472': '2', '74.9568': '2', '75.3664': '2', '75.77600000000001': '2', '76.18560000000001': '2', '76.5952': '2', '77.0048': '2', '77.4144': '2', '77.824': '2', '78.23360000000001': '2', '78.64320000000001': '2', '79.0528': '2', '79.4624': '2', '79.872': '2', '80.2816': '2', '80.69120000000001': '2', '81.1008': '2', '81.5104': '0', '81.92': '2', '82.3296': '0', '82.73920000000001': '0', '83.14880000000001': '2', '83.5584': '2', '83.968': '2', '84.3776': '2', '84.7872': '2', '85.19680000000001': '2', '85.60640000000001': '2', '86.016': '2', '86.4256': '2', '86.8352': '2', '87.2448': '2', '87.65440000000001': '2', '88.06400000000001': '2', '88.4736': '2', '88.8832': '2', '89.2928': '2', '89.7024': '2', '90.11200000000001': '2', '90.5216': '2', '90.9312': '2', '91.3408': '2', '91.7504': '2', '92.16000000000001': '2', '92.56960000000001': '2', '92.9792': '2', '93.3888': '2', '93.7984': '2', '94.208': '2', '94.61760000000001': '2', '95.02720000000001': '0', '95.4368': '0', '95.8464': '0', '96.256': '0', '96.6656': '0', '97.07520000000001': '2', '97.4848': '2', '97.8944': '2', '98.304': '2', '98.7136': '2', '99.12320000000001': '2', '99.53280000000001': '2', '99.9424': '2', '100.352': '2', '100.7616': '2', '101.1712': '2', '101.58080000000001': '2', '101.99040000000001': '2', '102.4': '2', '102.8096': '2', '103.2192': '2', '103.6288': '2', '104.03840000000001': '2', '104.44800000000001': '2', '104.8576': '2', '105.2672': '2', '105.6768': '2', '106.08640000000001': '2', '106.49600000000001': '2', '106.9056': '2', '107.3152': '2', '107.7248': '2', '108.1344': '2', '108.54400000000001': '2', '108.95360000000001': '2', '109.3632': '2', '109.7728': '2', '110.1824': '2', '110.592': '2', '111.00160000000001': '2', '111.41120000000001': '2', '111.8208': '2', '112.2304': '2', '112.64': '2', '113.04960000000001': '2', '113.45920000000001': '2', '113.86880000000001': '2', '114.2784': '2', '114.688': '2', '115.0976': '2', '115.50720000000001': '2', '115.91680000000001': '2', '116.3264': '2', '116.736': '2', '117.1456': '2', '117.5552': '2', '117.96480000000001': '2', '118.37440000000001': '2', '118.784': '2', '119.1936': '2', '119.6032': '2', '120.01280000000001': '2', '120.42240000000001': '2', '120.83200000000001': '2', '121.2416': '2', '121.6512': '2', '122.0608': '2', '122.47040000000001': '2', '122.88000000000001': '2', '123.28960000000001': '2', '123.6992': '2', '124.1088': '2', '124.5184': '2', '124.92800000000001': '2', '125.33760000000001': '2', '125.7472': '2', '126.1568': '2', '126.5664': '2', '126.976': '2', '127.38560000000001': '2', '127.79520000000001': '2', '128.2048': '2', '128.61440000000002': '2', '129.024': '2', '129.4336': '2', '129.8432': '2', '130.2528': '2', '130.66240000000002': '2', '131.072': '2', '131.48160000000001': '2', '131.8912': '2', '132.3008': '2', '132.7104': '2', '133.12': '2', '133.52960000000002': '2', '133.9392': '2', '134.3488': '2', '134.7584': '2', '135.168': '2', '135.57760000000002': '2', '135.9872': '2', '136.3968': '2', '136.8064': '2', '137.216': '2', '137.62560000000002': '2', '138.0352': '2', '138.44480000000001': '2', '138.8544': '2', '139.264': '2', '139.6736': '2', '140.0832': '2', '140.49280000000002': '2', '140.9024': '2', '141.312': '2', '141.7216': '2', '142.1312': '2', '142.54080000000002': '2', '142.9504': '2', '143.36': '2', '143.7696': '0', '144.1792': '0', '144.58880000000002': '2', '144.9984': '2', '145.40800000000002': '0', '145.8176': '0', '146.2272': '0', '146.6368': '0', '147.0464': '0', '147.45600000000002': '0', '147.8656': '0', '148.2752': '0', '148.6848': '1', '149.0944': '0', '149.50400000000002': '0', '149.9136': '0', '150.3232': '0', '150.7328': '0', '151.1424': '0', '151.55200000000002': '0', '151.9616': '0', '152.37120000000002': '0', '152.7808': '0', '153.1904': '0', '153.6': '0', '154.0096': '0', '154.41920000000002': '1', '154.8288': '0', '155.2384': '0', '155.648': '0', '156.0576': '0', '156.46720000000002': '0', '156.8768': '0', '157.28640000000001': '0', '157.696': '0', '158.1056': '0', '158.51520000000002': '0', '158.9248': '0', '159.33440000000002': '2', '159.744': '2', '160.1536': '2', '160.5632': '2', '160.9728': '2', '161.38240000000002': '2', '161.792': '2', '162.2016': '2', '162.6112': '2', '163.0208': '2', '163.43040000000002': '2', '163.84': '0', '164.24960000000002': '2', '164.6592': '2', '165.0688': '2', '165.47840000000002': '2', '165.888': '2', '166.29760000000002': '2', '166.7072': '2', '167.1168': '2', '167.5264': '2', '167.936': '2', '168.34560000000002': '2', '168.7552': '2', '169.1648': '2', '169.5744': '2', '169.984': '2', '170.39360000000002': '2', '170.8032': '2', '171.21280000000002': '2', '171.6224': '2', '172.032': '2', '172.44160000000002': '2', '172.8512': '2', '173.26080000000002': '2', '173.6704': '2', '174.08': '2', '174.4896': '2', '174.8992': '2', '175.30880000000002': '2', '175.7184': '2', '176.12800000000001': '2', '176.5376': '2', '176.9472': '2', '177.35680000000002': '2', '177.7664': '2', '178.17600000000002': '2', '178.5856': '2', '178.9952': '2', '179.4048': '2', '179.8144': '2', '180.22400000000002': '2', '180.6336': '2', '181.0432': '2', '181.4528': '2', '181.8624': '2', '182.27200000000002': '2', '182.6816': '2', '183.09120000000001': '2', '183.5008': '2', '183.9104': '2', '184.32000000000002': '2', '184.7296': '0', '185.13920000000002': '0', '185.5488': '0', '185.9584': '0', '186.368': '0', '186.7776': '2', '187.18720000000002': '2', '187.5968': '2', '188.0064': '2', '188.416': '2', '188.8256': '2', '189.23520000000002': '2', '189.6448': '2', '190.05440000000002': '2', '190.464': '2', '190.8736': '2', '191.28320000000002': '2', '191.6928': '2', '192.10240000000002': '2', '192.512': '2', '192.9216': '2', '193.3312': '2', '193.7408': '2', '194.15040000000002': '2', '194.56': '2', '194.9696': '2', '195.3792': '2', '195.7888': '2', '196.19840000000002': '2', '196.608': '2', '197.01760000000002': '2', '197.4272': '2', '197.8368': '2', '198.24640000000002': '2', '198.656': '2', '199.06560000000002': '2', '199.4752': '2', '199.8848': '2', '200.2944': '2', '200.704': '2', '201.11360000000002': '2', '201.5232': '2', '201.93280000000001': '2', '202.3424': '2', '202.752': '2', '203.16160000000002': '2', '203.5712': '2', '203.98080000000002': '2', '204.3904': '2', '204.8': '2', '205.20960000000002': '2', '205.6192': '0', '206.02880000000002': '0', '206.4384': '0', '206.848': '0', '207.2576': '2', '207.6672': '2', '208.07680000000002': '2', '208.4864': '2', '208.89600000000002': '2', '209.3056': '2', '209.7152': '2', '210.12480000000002': '2', '210.5344': '2', '210.94400000000002': '2', '211.3536': '2', '211.7632': '2', '212.17280000000002': '2', '212.5824': '2', '212.99200000000002': '2', '213.4016': '2', '213.8112': '2', '214.2208': '2', '214.6304': '2', '215.04000000000002': '2', '215.4496': '2', '215.85920000000002': '2', '216.2688': '2', '216.6784': '2', '217.08800000000002': '2', '217.4976': '2', '217.90720000000002': '2', '218.3168': '2', '218.7264': '2', '219.13600000000002': '2', '219.5456': '2', '219.95520000000002': '2', '220.3648': '2', '220.7744': '2', '221.184': '2', '221.5936': '2', '222.00320000000002': '2', '222.4128': '2', '222.82240000000002': '2', '223.232': '2', '223.6416': '2', '224.05120000000002': '2', '224.4608': '2', '224.87040000000002': '2', '225.28': '2', '225.6896': '2', '226.09920000000002': '2', '226.5088': '2', '226.91840000000002': '2', '227.328': '2', '227.73760000000001': '2', '228.1472': '2', '228.5568': '2', '228.96640000000002': '2', '229.376': '2', '229.78560000000002': '2', '230.1952': '2', '230.6048': '2', '231.01440000000002': '2', '231.424': '2', '231.83360000000002': '2', '232.2432': '2', '232.6528': '2', '233.06240000000003': '2', '233.472': '0', '233.88160000000002': '0', '234.2912': '0', '234.70080000000002': '0', '235.1104': '1', '235.52': '1', '235.92960000000002': '1', '236.3392': '1', '236.74880000000002': '1', '237.1584': '1', '237.568': '1', '237.97760000000002': '1', '238.3872': '1', '238.79680000000002': '1', '239.2064': '1', '239.616': '1', '240.02560000000003': '1', '240.4352': '1', '240.84480000000002': '1', '241.2544': '1', '241.66400000000002': '1'}\", \"freqs\": \"1.220703125\"}\n"
     ]
    }
   ],
   "source": [
    "json_dump = json.dumps(dict_full)\n",
    "\n",
    "print(json_dump)"
   ]
  },
  {
   "cell_type": "code",
   "execution_count": 1320,
   "metadata": {},
   "outputs": [],
   "source": [
    "with open('../json/poses.json', 'w') as f:\n",
    "    f.write(json_dump)\n",
    "with open(r'C:\\Users\\urgpa\\OneDrive\\Escritorio\\Unity\\PuppetTest\\Assets\\_Scripts\\Poses\\poses.json', 'w') as f:\n",
    "    f.write(json_dump)"
   ]
  },
  {
   "cell_type": "markdown",
   "metadata": {},
   "source": [
    "# PLOTTING"
   ]
  },
  {
   "cell_type": "code",
   "execution_count": 860,
   "metadata": {},
   "outputs": [
    {
     "name": "stdout",
     "output_type": "stream",
     "text": [
      "90\n",
      "28.155658304691315\n"
     ]
    },
    {
     "data": {
      "image/png": "[encoded data removed]",
      "text/plain": [
       "<Figure size 432x288 with 2 Axes>"
      ]
     },
     "metadata": {
      "needs_background": "light"
     },
     "output_type": "display_data"
    }
   ],
   "source": [
    "def plot_mono_ham_perc():\n",
    "    inp = int(input())\n",
    "    index = inp / int(vcompas_time)\n",
    "    \n",
    "    fig, ax = plt.subplots(nrows=2, sharex=True, sharey=True)\n",
    "\n",
    "    librosa.display.waveplot(df_compas.wform[index][0], sr=samplerate, ax=ax[0])\n",
    "    ax[0].set(title='Monophonic')\n",
    "    ax[0].label_outer()\n",
    "\n",
    "    y_harm, y_perc = librosa.effects.hpss(df_compas.wform[index][0])\n",
    "    print(y_harm[y_perc > 0.1].mean() * len(y_harm[y_perc > 0.1]))\n",
    "    librosa.display.waveplot(y_harm, sr=samplerate, alpha=0.25, ax=ax[1])\n",
    "    librosa.display.waveplot(y_perc, sr=samplerate, color='r', alpha=0.5, ax=ax[1])\n",
    "    ax[1].set(title='Harmonic + Percussive')\n",
    "\n",
    "plot_mono_ham_perc()"
   ]
  },
  {
   "cell_type": "code",
   "execution_count": 16,
   "metadata": {},
   "outputs": [
    {
     "name": "stdout",
     "output_type": "stream",
     "text": [
      "10\n"
     ]
    },
    {
     "data": {
      "image/png": "[encoded data removed]",
      "text/plain": [
       "<Figure size 1296x360 with 1 Axes>"
      ]
     },
     "metadata": {
      "needs_background": "light"
     },
     "output_type": "display_data"
    }
   ],
   "source": [
    "def plot_magnitude_spectrum(sr, title, f_ratio=0.5):\n",
    "    index = int(input())\n",
    "    #index = inp / vcompas_time\n",
    "    signal = df_compas.wform[index][0]\n",
    "    \n",
    "    y_harm, y_perc = librosa.effects.hpss(signal)\n",
    "    \n",
    "    psignal = np.array(0)\n",
    "    if title[0].lower() == 'h':\n",
    "        psignal = y_harm\n",
    "    elif title[0].lower() == 'p':\n",
    "        psignal = y_perc\n",
    "    else:\n",
    "        psignal = signal\n",
    "    \n",
    "    X = np.fft.fft(psignal)\n",
    "    X_mag = np.absolute(X)\n",
    "    \n",
    "    plt.figure(figsize=(18, 5))\n",
    "    \n",
    "    f = np.linspace(0, samplerate, len(X_mag), endpoint = False)\n",
    "    f_bins = int(len(X_mag)*f_ratio)  \n",
    "    \n",
    "    plt.plot(f[:f_bins], X_mag[:f_bins])\n",
    "    plt.xlabel('Frequency (Hz)')\n",
    "    plt.title(title)\n",
    "\n",
    "plot_magnitude_spectrum(samplerate, 'p', 0.5)"
   ]
  },
  {
   "cell_type": "code",
   "execution_count": 22,
   "metadata": {},
   "outputs": [],
   "source": [
    "f = np.linspace(0, samplerate, len(X_mag), endpoint = False)"
   ]
  },
  {
   "cell_type": "code",
   "execution_count": 28,
   "metadata": {},
   "outputs": [
    {
     "data": {
      "text/plain": [
       "30000"
      ]
     },
     "execution_count": 28,
     "metadata": {},
     "output_type": "execute_result"
    }
   ],
   "source": [
    "list(f).index(1000)"
   ]
  },
  {
   "cell_type": "code",
   "execution_count": 24,
   "metadata": {},
   "outputs": [
    {
     "data": {
      "text/plain": [
       "44100"
      ]
     },
     "execution_count": 24,
     "metadata": {},
     "output_type": "execute_result"
    }
   ],
   "source": [
    "len(f)"
   ]
  },
  {
   "cell_type": "code",
   "execution_count": 34,
   "metadata": {},
   "outputs": [
    {
     "ename": "ValueError",
     "evalue": "22050 is not in list",
     "output_type": "error",
     "traceback": [
      "\u001b[1;31m---------------------------------------------------------------------------\u001b[0m",
      "\u001b[1;31mValueError\u001b[0m                                Traceback (most recent call last)",
      "\u001b[1;32m<ipython-input-34-31bb45008b40>\u001b[0m in \u001b[0;36m<module>\u001b[1;34m\u001b[0m\n\u001b[1;32m----> 1\u001b[1;33m \u001b[0mlist\u001b[0m\u001b[1;33m(\u001b[0m\u001b[0mf\u001b[0m\u001b[1;33m)\u001b[0m\u001b[1;33m.\u001b[0m\u001b[0mindex\u001b[0m\u001b[1;33m(\u001b[0m\u001b[0msamplerate\u001b[0m\u001b[1;33m)\u001b[0m\u001b[1;33m\u001b[0m\u001b[1;33m\u001b[0m\u001b[0m\n\u001b[0m",
      "\u001b[1;31mValueError\u001b[0m: 22050 is not in list"
     ]
    }
   ],
   "source": [
    "list(f).index(samplerate)"
   ]
  },
  {
   "cell_type": "code",
   "execution_count": 35,
   "metadata": {},
   "outputs": [
    {
     "ename": "IndexError",
     "evalue": "index 44100 is out of bounds for axis 0 with size 44100",
     "output_type": "error",
     "traceback": [
      "\u001b[1;31m---------------------------------------------------------------------------\u001b[0m",
      "\u001b[1;31mIndexError\u001b[0m                                Traceback (most recent call last)",
      "\u001b[1;32m<ipython-input-35-41fe3913e365>\u001b[0m in \u001b[0;36m<module>\u001b[1;34m\u001b[0m\n\u001b[1;32m----> 1\u001b[1;33m \u001b[0mf\u001b[0m\u001b[1;33m[\u001b[0m\u001b[0mlen\u001b[0m\u001b[1;33m(\u001b[0m\u001b[0msignl\u001b[0m\u001b[1;33m)\u001b[0m\u001b[1;33m]\u001b[0m\u001b[1;33m\u001b[0m\u001b[1;33m\u001b[0m\u001b[0m\n\u001b[0m",
      "\u001b[1;31mIndexError\u001b[0m: index 44100 is out of bounds for axis 0 with size 44100"
     ]
    }
   ],
   "source": [
    "f[len(signl)]"
   ]
  },
  {
   "cell_type": "code",
   "execution_count": null,
   "metadata": {},
   "outputs": [],
   "source": []
  }
 ],
 "metadata": {
  "kernelspec": {
   "display_name": "Python 3",
   "language": "python",
   "name": "python3"
  },
  "language_info": {
   "codemirror_mode": {
    "name": "ipython",
    "version": 3
   },
   "file_extension": ".py",
   "mimetype": "text/x-python",
   "name": "python",
   "nbconvert_exporter": "python",
   "pygments_lexer": "ipython3",
   "version": "3.8.5"
  }
 },
 "nbformat": 4,
 "nbformat_minor": 4
}
