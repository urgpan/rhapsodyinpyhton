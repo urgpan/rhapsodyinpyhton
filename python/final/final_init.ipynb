{
 "cells": [
  {
   "cell_type": "code",
   "execution_count": 1,
   "metadata": {},
   "outputs": [],
   "source": [
    "import librosa\n",
    "import json\n",
    "import math\n",
    "import scipy\n",
    "import statistics\n",
    "import librosa.display\n",
    "import scipy as sp\n",
    "import IPython.display as ipd\n",
    "import matplotlib.pyplot as plt\n",
    "import numpy as np\n",
    "import pandas as pd\n",
    "\n",
    "import seaborn as sns \n",
    "\n",
    "from sklearn.cluster import DBSCAN, KMeans\n",
    "\n",
    "from sklearn.preprocessing import StandardScaler\n",
    "from sklearn.mixture import GaussianMixture"
   ]
  },
  {
   "cell_type": "code",
   "execution_count": 2,
   "metadata": {},
   "outputs": [],
   "source": [
    "from tkinter import Tk     # from tkinter import Tk for Python 3.x\n",
    "from tkinter.filedialog import askopenfilename"
   ]
  },
  {
   "cell_type": "code",
   "execution_count": 3,
   "metadata": {},
   "outputs": [
    {
     "name": "stdout",
     "output_type": "stream",
     "text": [
      "C:/Users/urgpa/OneDrive/Escritorio/Unity/PuppetTest/Assets/_Sonidos/agostino.wav\n"
     ]
    }
   ],
   "source": [
    "Tk().withdraw() # we don't want a full GUI, so keep the root window from appearing\n",
    "filename = askopenfilename() # show an \"Open\" dialog box and return the path to the selected file\n",
    "print(filename)"
   ]
  },
  {
   "cell_type": "markdown",
   "metadata": {},
   "source": [
    "# LOAD SONG"
   ]
  },
  {
   "cell_type": "code",
   "execution_count": 4,
   "metadata": {},
   "outputs": [],
   "source": [
    "file_dir = filename\n",
    "#ipd.Audio(file_dir)"
   ]
  },
  {
   "cell_type": "code",
   "execution_count": 5,
   "metadata": {},
   "outputs": [],
   "source": [
    "signal, samplerate = librosa.load(file_dir)\n",
    "#print(signal, samplerate)"
   ]
  },
  {
   "cell_type": "markdown",
   "metadata": {},
   "source": [
    "# GET GENERAL SONG FEATURES"
   ]
  },
  {
   "cell_type": "markdown",
   "metadata": {},
   "source": [
    "PREDICT SONG TEMPO"
   ]
  },
  {
   "cell_type": "code",
   "execution_count": 6,
   "metadata": {},
   "outputs": [
    {
     "name": "stderr",
     "output_type": "stream",
     "text": [
      "C:\\Users\\urgpa\\anaconda3\\lib\\site-packages\\librosa\\filters.py:238: UserWarning: Empty filters detected in mel frequency basis. Some channels will produce empty responses. Try increasing your sampling rate (and fmax) or reducing n_mels.\n",
      "  warnings.warn(\n"
     ]
    },
    {
     "data": {
      "text/plain": [
       "array([146.484375])"
      ]
     },
     "execution_count": 6,
     "metadata": {},
     "output_type": "execute_result"
    }
   ],
   "source": [
    "signal_bpm, samplerate_bpm = librosa.load(file_dir, duration = 60, sr = 10000)\n",
    "onset_env = librosa.onset.onset_strength(signal_bpm, sr=samplerate_bpm)\n",
    "tempo = librosa.beat.tempo(onset_envelope=onset_env, sr=samplerate_bpm)\n",
    "tempo"
   ]
  },
  {
   "cell_type": "markdown",
   "metadata": {},
   "source": [
    "# DIVIDE SONG INTO COMPASES"
   ]
  },
  {
   "cell_type": "code",
   "execution_count": 7,
   "metadata": {},
   "outputs": [],
   "source": [
    "song_duration= librosa.get_duration(y=signal, sr=samplerate) #duration of the song\n",
    "\n",
    "beat_num = 1\n",
    "bpm = tempo\n",
    "vcompas_time = beat_num * 60 / bpm #duration of a compas\n",
    "                                       \n",
    "vcompas_num  = song_duration / vcompas_time                  #number of compases \n",
    "compas_sample_num = vcompas_time * samplerate                #number of samples on each compas\n",
    "song_sample_num = compas_sample_num * vcompas_num            #total number of samples in the song\n",
    "\n",
    "\n",
    "vcompas_data = {} \n",
    "for vcompas_i in range(0,int(vcompas_num)):                                \n",
    "    start = math.floor(compas_sample_num * vcompas_i)          #start sample for the compas\n",
    "    end = math.floor(compas_sample_num * (vcompas_i + 1))      #end sample for the compas\n",
    "    selected_samples = signal[start:end]                       #array with all the compas samples\n",
    "    vcompas_data[vcompas_i] = ([selected_samples],vcompas_time * vcompas_i)\n",
    "\n",
    "df_compas = pd.DataFrame.from_dict(vcompas_data, orient = 'index', columns = ['wform','times'])"
   ]
  },
  {
   "cell_type": "markdown",
   "metadata": {},
   "source": [
    "# GET SIGNAL MAX MEAN COMPAS VALUE"
   ]
  },
  {
   "cell_type": "code",
   "execution_count": 8,
   "metadata": {},
   "outputs": [],
   "source": [
    "def clamp(num, min_value, max_value):\n",
    "   return max(min(num, max_value), min_value)"
   ]
  },
  {
   "cell_type": "code",
   "execution_count": 9,
   "metadata": {},
   "outputs": [
    {
     "name": "stderr",
     "output_type": "stream",
     "text": [
      "<ipython-input-9-93303c79b756>:15: SettingWithCopyWarning: \n",
      "A value is trying to be set on a copy of a slice from a DataFrame.\n",
      "Try using .loc[row_indexer,col_indexer] = value instead\n",
      "\n",
      "See the caveats in the documentation: https://pandas.pydata.org/pandas-docs/stable/user_guide/indexing.html#returning-a-view-versus-a-copy\n",
      "  df_noises['times'] = df_noises['times'].apply(lambda x: x[0])\n"
     ]
    }
   ],
   "source": [
    "df_means = df_compas\n",
    "df_means['max'] = df_means.wform.apply(lambda x: x[0].max())\n",
    "\n",
    "max_signal = max(list(df_means['max']))\n",
    "min_signal = min(list(df_means['max']))\n",
    "signal_umbral = max_signal - min_signal\n",
    "\n",
    "max_noise = 0.8\n",
    "min_noise = 0.35\n",
    "noise_umbral = max_noise - min_noise\n",
    "\n",
    "df_means['gnre'] = df_means['max'].apply(lambda x: (x * noise_umbral / signal_umbral) + min_noise)\n",
    "\n",
    "df_noises = df_means[['times','gnre']]\n",
    "df_noises['times'] = df_noises['times'].apply(lambda x: x[0])\n"
   ]
  },
  {
   "cell_type": "code",
   "execution_count": 10,
   "metadata": {},
   "outputs": [
    {
     "name": "stderr",
     "output_type": "stream",
     "text": [
      "<ipython-input-10-2ff333e6c774>:15: SettingWithCopyWarning: \n",
      "A value is trying to be set on a copy of a slice from a DataFrame.\n",
      "Try using .loc[row_indexer,col_indexer] = value instead\n",
      "\n",
      "See the caveats in the documentation: https://pandas.pydata.org/pandas-docs/stable/user_guide/indexing.html#returning-a-view-versus-a-copy\n",
      "  df_noises_hip_rot['times'] = df_noises['times'].apply(lambda x: x)\n"
     ]
    }
   ],
   "source": [
    "df_means = df_compas\n",
    "df_means['max'] = df_means.wform.apply(lambda x: x[0].max())\n",
    "\n",
    "max_signal = max(list(df_means['max']))\n",
    "min_signal = min(list(df_means['max']))\n",
    "signal_umbral = max_signal - min_signal\n",
    "\n",
    "max_noise = 1.2\n",
    "min_noise = 0\n",
    "noise_umbral = max_noise - min_noise\n",
    "\n",
    "df_means['gnre'] = df_means['max'].apply(lambda x: round(((x * noise_umbral / signal_umbral) + min_noise), 4))\n",
    "\n",
    "df_noises_hip_rot = df_means[['times','gnre']]\n",
    "df_noises_hip_rot['times'] = df_noises['times'].apply(lambda x: x)"
   ]
  },
  {
   "cell_type": "code",
   "execution_count": 11,
   "metadata": {},
   "outputs": [
    {
     "data": {
      "text/html": [
       "<div>\n",
       "<style scoped>\n",
       "    .dataframe tbody tr th:only-of-type {\n",
       "        vertical-align: middle;\n",
       "    }\n",
       "\n",
       "    .dataframe tbody tr th {\n",
       "        vertical-align: top;\n",
       "    }\n",
       "\n",
       "    .dataframe thead th {\n",
       "        text-align: right;\n",
       "    }\n",
       "</style>\n",
       "<table border=\"1\" class=\"dataframe\">\n",
       "  <thead>\n",
       "    <tr style=\"text-align: right;\">\n",
       "      <th></th>\n",
       "      <th>times</th>\n",
       "      <th>gnre</th>\n",
       "    </tr>\n",
       "  </thead>\n",
       "  <tbody>\n",
       "    <tr>\n",
       "      <th>0</th>\n",
       "      <td>0.0000</td>\n",
       "      <td>0.8100</td>\n",
       "    </tr>\n",
       "    <tr>\n",
       "      <th>1</th>\n",
       "      <td>0.4096</td>\n",
       "      <td>0.4541</td>\n",
       "    </tr>\n",
       "    <tr>\n",
       "      <th>2</th>\n",
       "      <td>0.8192</td>\n",
       "      <td>0.4831</td>\n",
       "    </tr>\n",
       "    <tr>\n",
       "      <th>3</th>\n",
       "      <td>1.2288</td>\n",
       "      <td>0.2433</td>\n",
       "    </tr>\n",
       "    <tr>\n",
       "      <th>4</th>\n",
       "      <td>1.6384</td>\n",
       "      <td>0.1703</td>\n",
       "    </tr>\n",
       "    <tr>\n",
       "      <th>...</th>\n",
       "      <td>...</td>\n",
       "      <td>...</td>\n",
       "    </tr>\n",
       "    <tr>\n",
       "      <th>586</th>\n",
       "      <td>240.0256</td>\n",
       "      <td>0.0037</td>\n",
       "    </tr>\n",
       "    <tr>\n",
       "      <th>587</th>\n",
       "      <td>240.4352</td>\n",
       "      <td>0.0032</td>\n",
       "    </tr>\n",
       "    <tr>\n",
       "      <th>588</th>\n",
       "      <td>240.8448</td>\n",
       "      <td>0.0029</td>\n",
       "    </tr>\n",
       "    <tr>\n",
       "      <th>589</th>\n",
       "      <td>241.2544</td>\n",
       "      <td>0.0027</td>\n",
       "    </tr>\n",
       "    <tr>\n",
       "      <th>590</th>\n",
       "      <td>241.6640</td>\n",
       "      <td>0.0030</td>\n",
       "    </tr>\n",
       "  </tbody>\n",
       "</table>\n",
       "<p>591 rows × 2 columns</p>\n",
       "</div>"
      ],
      "text/plain": [
       "        times    gnre\n",
       "0      0.0000  0.8100\n",
       "1      0.4096  0.4541\n",
       "2      0.8192  0.4831\n",
       "3      1.2288  0.2433\n",
       "4      1.6384  0.1703\n",
       "..        ...     ...\n",
       "586  240.0256  0.0037\n",
       "587  240.4352  0.0032\n",
       "588  240.8448  0.0029\n",
       "589  241.2544  0.0027\n",
       "590  241.6640  0.0030\n",
       "\n",
       "[591 rows x 2 columns]"
      ]
     },
     "execution_count": 11,
     "metadata": {},
     "output_type": "execute_result"
    }
   ],
   "source": [
    "df_noises_hip_rot"
   ]
  },
  {
   "cell_type": "code",
   "execution_count": 48,
   "metadata": {},
   "outputs": [
    {
     "data": {
      "text/html": [
       "<div>\n",
       "<style scoped>\n",
       "    .dataframe tbody tr th:only-of-type {\n",
       "        vertical-align: middle;\n",
       "    }\n",
       "\n",
       "    .dataframe tbody tr th {\n",
       "        vertical-align: top;\n",
       "    }\n",
       "\n",
       "    .dataframe thead th {\n",
       "        text-align: right;\n",
       "    }\n",
       "</style>\n",
       "<table border=\"1\" class=\"dataframe\">\n",
       "  <thead>\n",
       "    <tr style=\"text-align: right;\">\n",
       "      <th></th>\n",
       "      <th>wform</th>\n",
       "      <th>times</th>\n",
       "      <th>max</th>\n",
       "      <th>gnre</th>\n",
       "    </tr>\n",
       "  </thead>\n",
       "  <tbody>\n",
       "    <tr>\n",
       "      <th>0</th>\n",
       "      <td>[[0.0, 0.0, 0.0, 0.0, 0.0, 0.0, 0.0, 0.0, 0.0,...</td>\n",
       "      <td>[0.0]</td>\n",
       "      <td>0.704225</td>\n",
       "      <td>0.8100</td>\n",
       "    </tr>\n",
       "    <tr>\n",
       "      <th>1</th>\n",
       "      <td>[[0.36646295, 0.30638272, 0.22705294, 0.369531...</td>\n",
       "      <td>[0.4096]</td>\n",
       "      <td>0.394767</td>\n",
       "      <td>0.4541</td>\n",
       "    </tr>\n",
       "    <tr>\n",
       "      <th>2</th>\n",
       "      <td>[[-0.047857173, -0.03137268, -0.0774297, -0.14...</td>\n",
       "      <td>[0.8192]</td>\n",
       "      <td>0.420036</td>\n",
       "      <td>0.4831</td>\n",
       "    </tr>\n",
       "    <tr>\n",
       "      <th>3</th>\n",
       "      <td>[[0.078329995, 0.06362065, 0.056778725, 0.0565...</td>\n",
       "      <td>[1.2288000000000001]</td>\n",
       "      <td>0.211524</td>\n",
       "      <td>0.2433</td>\n",
       "    </tr>\n",
       "    <tr>\n",
       "      <th>4</th>\n",
       "      <td>[[0.0362006, 0.032677546, 0.033442467, 0.03280...</td>\n",
       "      <td>[1.6384]</td>\n",
       "      <td>0.148095</td>\n",
       "      <td>0.1703</td>\n",
       "    </tr>\n",
       "    <tr>\n",
       "      <th>...</th>\n",
       "      <td>...</td>\n",
       "      <td>...</td>\n",
       "      <td>...</td>\n",
       "      <td>...</td>\n",
       "    </tr>\n",
       "    <tr>\n",
       "      <th>586</th>\n",
       "      <td>[[-3.8672373e-05, 0.000103972074, 0.0002317200...</td>\n",
       "      <td>[240.02560000000003]</td>\n",
       "      <td>0.003229</td>\n",
       "      <td>0.0037</td>\n",
       "    </tr>\n",
       "    <tr>\n",
       "      <th>587</th>\n",
       "      <td>[[-0.0008466401, -0.00065666146, -0.0003813584...</td>\n",
       "      <td>[240.4352]</td>\n",
       "      <td>0.002803</td>\n",
       "      <td>0.0032</td>\n",
       "    </tr>\n",
       "    <tr>\n",
       "      <th>588</th>\n",
       "      <td>[[0.0008926846, 0.00043707623, 0.00048351174, ...</td>\n",
       "      <td>[240.84480000000002]</td>\n",
       "      <td>0.002519</td>\n",
       "      <td>0.0029</td>\n",
       "    </tr>\n",
       "    <tr>\n",
       "      <th>589</th>\n",
       "      <td>[[0.00096926873, 0.0009958508, 0.0006201805, 0...</td>\n",
       "      <td>[241.2544]</td>\n",
       "      <td>0.002368</td>\n",
       "      <td>0.0027</td>\n",
       "    </tr>\n",
       "    <tr>\n",
       "      <th>590</th>\n",
       "      <td>[[0.0013462148, 0.0014609254, 0.0015146035, 0....</td>\n",
       "      <td>[241.66400000000002]</td>\n",
       "      <td>0.002625</td>\n",
       "      <td>0.0030</td>\n",
       "    </tr>\n",
       "  </tbody>\n",
       "</table>\n",
       "<p>591 rows × 4 columns</p>\n",
       "</div>"
      ],
      "text/plain": [
       "                                                 wform                 times  \\\n",
       "0    [[0.0, 0.0, 0.0, 0.0, 0.0, 0.0, 0.0, 0.0, 0.0,...                 [0.0]   \n",
       "1    [[0.36646295, 0.30638272, 0.22705294, 0.369531...              [0.4096]   \n",
       "2    [[-0.047857173, -0.03137268, -0.0774297, -0.14...              [0.8192]   \n",
       "3    [[0.078329995, 0.06362065, 0.056778725, 0.0565...  [1.2288000000000001]   \n",
       "4    [[0.0362006, 0.032677546, 0.033442467, 0.03280...              [1.6384]   \n",
       "..                                                 ...                   ...   \n",
       "586  [[-3.8672373e-05, 0.000103972074, 0.0002317200...  [240.02560000000003]   \n",
       "587  [[-0.0008466401, -0.00065666146, -0.0003813584...            [240.4352]   \n",
       "588  [[0.0008926846, 0.00043707623, 0.00048351174, ...  [240.84480000000002]   \n",
       "589  [[0.00096926873, 0.0009958508, 0.0006201805, 0...            [241.2544]   \n",
       "590  [[0.0013462148, 0.0014609254, 0.0015146035, 0....  [241.66400000000002]   \n",
       "\n",
       "          max    gnre  \n",
       "0    0.704225  0.8100  \n",
       "1    0.394767  0.4541  \n",
       "2    0.420036  0.4831  \n",
       "3    0.211524  0.2433  \n",
       "4    0.148095  0.1703  \n",
       "..        ...     ...  \n",
       "586  0.003229  0.0037  \n",
       "587  0.002803  0.0032  \n",
       "588  0.002519  0.0029  \n",
       "589  0.002368  0.0027  \n",
       "590  0.002625  0.0030  \n",
       "\n",
       "[591 rows x 4 columns]"
      ]
     },
     "execution_count": 48,
     "metadata": {},
     "output_type": "execute_result"
    }
   ],
   "source": [
    "df_means"
   ]
  },
  {
   "cell_type": "code",
   "execution_count": null,
   "metadata": {
    "hideCode": true
   },
   "outputs": [],
   "source": []
  },
  {
   "cell_type": "markdown",
   "metadata": {},
   "source": [
    "# GET COMPAS BIGGEST FREQUENCIES"
   ]
  },
  {
   "cell_type": "code",
   "execution_count": 12,
   "metadata": {},
   "outputs": [],
   "source": [
    "#CREATE A DATA FRAME WITH THE FREQUENCIES ARRAY\n",
    "df_freq = pd.DataFrame(columns = ['mag']) \n",
    "for csignal in df_compas['wform']:\n",
    "    csignal = csignal[0]\n",
    "    X = np.fft.fft(csignal)\n",
    "    X_mag = np.absolute(X)\n",
    "    #print(X_mag[0])\n",
    "    newdf = pd.DataFrame([[X_mag]], columns = ['mag'])\n",
    "    df_freq = pd.concat([df_freq, newdf], axis = 0)\n",
    "\n",
    "df_freq = df_freq.reset_index(drop = True)"
   ]
  },
  {
   "cell_type": "code",
   "execution_count": 13,
   "metadata": {},
   "outputs": [],
   "source": [
    "#GET MAXIMUS OF THE FREQUENCIES\n",
    "instrument_division = [0,100,300,600,1000,2500,7000,15000]\n",
    "fixed_instrument_div = list(instrument_division)\n",
    "fixed_instrument_div.remove(0)\n",
    "\n",
    "f = np.linspace(0, samplerate, len(X_mag), endpoint = False)\n",
    "df_bin_freq = pd.DataFrame(columns = fixed_instrument_div)\n",
    "\n",
    "for ampl in df_freq.mag: #loop time domain compases\n",
    "    \n",
    "    freq_full = [] #list with al freq list\n",
    "\n",
    "    for i in range(1,len(instrument_division)): #loop through freq domain\n",
    "        \n",
    "        start = instrument_division[i - 1] * len(ampl) / f[len(ampl) - 2] #starting point of the frequency bin\n",
    "        end = instrument_division[i] * len(ampl) / f[len(ampl) - 2] #end point\n",
    "        \n",
    "        freq_bin = ampl[math.floor(start):math.floor(end)] #save magintudes bin\n",
    "        freq_full += [freq_bin]\n",
    "        #print(freq_bin)\n",
    "        #dat_tuple = (list(ampl).index(ampl[start:end].max()),signl[start:end].max())\n",
    "        #print(f[dat_tuple[0]], dat_tuple)\n",
    "\n",
    "    newdf_cluster_freq = pd.DataFrame([freq_full], columns = fixed_instrument_div)\n",
    "    df_bin_freq = pd.concat([df_bin_freq, newdf_cluster_freq])\n",
    "    \n",
    "df_bin_freq = df_bin_freq.reset_index()\n",
    "df_bin_freq.drop(['index'], inplace = True, axis = 1)"
   ]
  },
  {
   "cell_type": "markdown",
   "metadata": {},
   "source": [
    "# LOWER FREQS"
   ]
  },
  {
   "cell_type": "code",
   "execution_count": 49,
   "metadata": {},
   "outputs": [],
   "source": [
    "df_lower = df_bin_freq.drop(columns = [600,1000,2500,7000,15000])\n",
    "df_lower.columns = list(map(lambda x: str(x), df_lower.columns))"
   ]
  },
  {
   "cell_type": "code",
   "execution_count": 50,
   "metadata": {},
   "outputs": [],
   "source": [
    "df_lower['100_mean'] = df_lower['100'].apply(lambda x: x.mean())\n",
    "df_lower['100_median'] = df_lower['100'].apply(lambda x: statistics.median(x))\n",
    "df_lower['100_max'] = df_lower['100'].apply(lambda x: x.max())\n",
    "df_lower['300_mean'] = df_lower['300'].apply(lambda x: x.mean())\n",
    "df_lower['300_median'] = df_lower['300'].apply(lambda x: statistics.median(x))\n",
    "df_lower['300_max'] = df_lower['300'].apply(lambda x: x.max())\n",
    "df_lower['noise'] = df_means['gnre']"
   ]
  },
  {
   "cell_type": "code",
   "execution_count": 51,
   "metadata": {},
   "outputs": [],
   "source": [
    "df_lower_model = df_lower.drop(['100','300'], axis = 1)"
   ]
  },
  {
   "cell_type": "code",
   "execution_count": 52,
   "metadata": {},
   "outputs": [],
   "source": [
    "scaler = StandardScaler().fit(df_lower_model)\n",
    "X_prep = scaler.transform(df_lower_model)\n",
    "\n",
    "kmeans = GaussianMixture(n_components= 2, covariance_type='diag',max_iter =  100,n_init = 8, random_state = 1234)\n",
    "kmeans.fit(X_prep)\n",
    "\n",
    "yhat = kmeans.predict(X_prep)\n",
    "clusters = np.unique(yhat)"
   ]
  },
  {
   "cell_type": "code",
   "execution_count": 53,
   "metadata": {},
   "outputs": [
    {
     "data": {
      "text/html": [
       "<div>\n",
       "<style scoped>\n",
       "    .dataframe tbody tr th:only-of-type {\n",
       "        vertical-align: middle;\n",
       "    }\n",
       "\n",
       "    .dataframe tbody tr th {\n",
       "        vertical-align: top;\n",
       "    }\n",
       "\n",
       "    .dataframe thead th {\n",
       "        text-align: right;\n",
       "    }\n",
       "</style>\n",
       "<table border=\"1\" class=\"dataframe\">\n",
       "  <thead>\n",
       "    <tr style=\"text-align: right;\">\n",
       "      <th></th>\n",
       "      <th>times</th>\n",
       "      <th>max</th>\n",
       "      <th>gnre</th>\n",
       "    </tr>\n",
       "  </thead>\n",
       "  <tbody>\n",
       "    <tr>\n",
       "      <th>0</th>\n",
       "      <td>0.0000</td>\n",
       "      <td>0.704225</td>\n",
       "      <td>1</td>\n",
       "    </tr>\n",
       "    <tr>\n",
       "      <th>1</th>\n",
       "      <td>0.4096</td>\n",
       "      <td>0.394767</td>\n",
       "      <td>1</td>\n",
       "    </tr>\n",
       "    <tr>\n",
       "      <th>2</th>\n",
       "      <td>0.8192</td>\n",
       "      <td>0.420036</td>\n",
       "      <td>1</td>\n",
       "    </tr>\n",
       "    <tr>\n",
       "      <th>3</th>\n",
       "      <td>1.2288</td>\n",
       "      <td>0.211524</td>\n",
       "      <td>1</td>\n",
       "    </tr>\n",
       "    <tr>\n",
       "      <th>4</th>\n",
       "      <td>1.6384</td>\n",
       "      <td>0.148095</td>\n",
       "      <td>1</td>\n",
       "    </tr>\n",
       "    <tr>\n",
       "      <th>...</th>\n",
       "      <td>...</td>\n",
       "      <td>...</td>\n",
       "      <td>...</td>\n",
       "    </tr>\n",
       "    <tr>\n",
       "      <th>586</th>\n",
       "      <td>240.0256</td>\n",
       "      <td>0.003229</td>\n",
       "      <td>1</td>\n",
       "    </tr>\n",
       "    <tr>\n",
       "      <th>587</th>\n",
       "      <td>240.4352</td>\n",
       "      <td>0.002803</td>\n",
       "      <td>1</td>\n",
       "    </tr>\n",
       "    <tr>\n",
       "      <th>588</th>\n",
       "      <td>240.8448</td>\n",
       "      <td>0.002519</td>\n",
       "      <td>1</td>\n",
       "    </tr>\n",
       "    <tr>\n",
       "      <th>589</th>\n",
       "      <td>241.2544</td>\n",
       "      <td>0.002368</td>\n",
       "      <td>1</td>\n",
       "    </tr>\n",
       "    <tr>\n",
       "      <th>590</th>\n",
       "      <td>241.6640</td>\n",
       "      <td>0.002625</td>\n",
       "      <td>1</td>\n",
       "    </tr>\n",
       "  </tbody>\n",
       "</table>\n",
       "<p>591 rows × 3 columns</p>\n",
       "</div>"
      ],
      "text/plain": [
       "        times       max  gnre\n",
       "0      0.0000  0.704225     1\n",
       "1      0.4096  0.394767     1\n",
       "2      0.8192  0.420036     1\n",
       "3      1.2288  0.211524     1\n",
       "4      1.6384  0.148095     1\n",
       "..        ...       ...   ...\n",
       "586  240.0256  0.003229     1\n",
       "587  240.4352  0.002803     1\n",
       "588  240.8448  0.002519     1\n",
       "589  241.2544  0.002368     1\n",
       "590  241.6640  0.002625     1\n",
       "\n",
       "[591 rows x 3 columns]"
      ]
     },
     "execution_count": 53,
     "metadata": {},
     "output_type": "execute_result"
    }
   ],
   "source": [
    "df_low_final = df_compas.drop(columns = ['wform'])\n",
    "df_low_final['times'] = df_low_final['times'].apply(lambda x: x[0])\n",
    "df_low_final['gnre'] = yhat\n",
    "df_low_final"
   ]
  },
  {
   "cell_type": "code",
   "execution_count": 54,
   "metadata": {},
   "outputs": [
    {
     "data": {
      "image/png": "[encoded data removed]",
      "text/plain": [
       "<Figure size 432x288 with 1 Axes>"
      ]
     },
     "metadata": {
      "needs_background": "light"
     },
     "output_type": "display_data"
    }
   ],
   "source": [
    "# create scatter plot for samples from each cluster\n",
    "for cluster in np.unique(yhat):\n",
    "\t# get row indexes for samples with this cluster\n",
    "\trow_ix = np.where(yhat == cluster)\n",
    "\t# create scatter of these samples\n",
    "\tplt.scatter(X_prep[row_ix, 0], X_prep[row_ix, 1])\n",
    "\n",
    "# show the plot\n",
    "plt.title(\"Clusters detected by GMM with a 'full' covariance matrix\")\n",
    "plt.show()"
   ]
  },
  {
   "cell_type": "markdown",
   "metadata": {},
   "source": [
    "# MID FREQS"
   ]
  },
  {
   "cell_type": "code",
   "execution_count": 56,
   "metadata": {},
   "outputs": [],
   "source": [
    "#get the specific bin frequencies\n",
    "df_mid = df_bin_freq.drop(columns = [100,300,2500,7000,15000])\n",
    "df_mid.columns = list(map(lambda x: str(x), df_mid.columns))"
   ]
  },
  {
   "cell_type": "code",
   "execution_count": 57,
   "metadata": {},
   "outputs": [],
   "source": [
    "df_mid['600_mean'] = df_mid['600'].apply(lambda x: x.mean())\n",
    "df_mid['600_median'] = df_mid['600'].apply(lambda x: statistics.median(x))\n",
    "df_mid['600_max'] = df_mid['600'].apply(lambda x: x.max())\n",
    "df_mid['1000_mean'] = df_mid['1000'].apply(lambda x: x.mean())\n",
    "df_mid['1000_median'] = df_mid['1000'].apply(lambda x: statistics.median(x))\n",
    "df_mid['1000_max'] = df_mid['1000'].apply(lambda x: x.max())\n",
    "df_mid['noise'] = df_means['gnre']"
   ]
  },
  {
   "cell_type": "code",
   "execution_count": 58,
   "metadata": {},
   "outputs": [],
   "source": [
    "df_mid_model = df_mid.drop(['600','1000'], axis = 1)"
   ]
  },
  {
   "cell_type": "code",
   "execution_count": 59,
   "metadata": {},
   "outputs": [],
   "source": [
    "scaler = StandardScaler().fit(df_mid_model)\n",
    "X_prep = scaler.transform(df_mid_model)\n",
    "\n",
    "kmeans = GaussianMixture(n_components= 2, covariance_type='spherical',max_iter = 300,n_init = 8, random_state = 1234, init_params = 'random')\n",
    "#kmeans = KMeans(n_clusters= 2,\n",
    " #               init=\"random\",\n",
    "  #              n_init= 20,  # try with 1, 4, 8, 20, 30, 100...\n",
    "   ##             max_iter= 200,\n",
    "     #           tol= 1e-4,\n",
    "      ##          algorithm=\"auto\",\n",
    "        #        random_state=1234)\n",
    "\n",
    "kmeans.fit(X_prep)\n",
    "\n",
    "yhat = kmeans.predict(X_prep)\n",
    "clusters = np.unique(yhat)"
   ]
  },
  {
   "cell_type": "code",
   "execution_count": 60,
   "metadata": {},
   "outputs": [
    {
     "data": {
      "image/png": "[encoded data removed]",
      "text/plain": [
       "<Figure size 432x288 with 1 Axes>"
      ]
     },
     "metadata": {
      "needs_background": "light"
     },
     "output_type": "display_data"
    }
   ],
   "source": [
    "# create scatter plot for samples from each cluster\n",
    "for cluster in np.unique(yhat):\n",
    "\t# get row indexes for samples with this cluster\n",
    "\trow_ix = np.where(yhat == cluster)\n",
    "\t# create scatter of these samples\n",
    "\tplt.scatter(X_prep[row_ix, 0], X_prep[row_ix, 1])\n",
    "\n",
    "# show the plot\n",
    "plt.title(\"Clusters detected by GMM with a 'full' covariance matrix\")\n",
    "plt.show()"
   ]
  },
  {
   "cell_type": "code",
   "execution_count": 61,
   "metadata": {},
   "outputs": [
    {
     "data": {
      "text/html": [
       "<div>\n",
       "<style scoped>\n",
       "    .dataframe tbody tr th:only-of-type {\n",
       "        vertical-align: middle;\n",
       "    }\n",
       "\n",
       "    .dataframe tbody tr th {\n",
       "        vertical-align: top;\n",
       "    }\n",
       "\n",
       "    .dataframe thead th {\n",
       "        text-align: right;\n",
       "    }\n",
       "</style>\n",
       "<table border=\"1\" class=\"dataframe\">\n",
       "  <thead>\n",
       "    <tr style=\"text-align: right;\">\n",
       "      <th></th>\n",
       "      <th>times</th>\n",
       "      <th>max</th>\n",
       "      <th>gnre</th>\n",
       "    </tr>\n",
       "  </thead>\n",
       "  <tbody>\n",
       "    <tr>\n",
       "      <th>0</th>\n",
       "      <td>0.0000</td>\n",
       "      <td>0.704225</td>\n",
       "      <td>1</td>\n",
       "    </tr>\n",
       "    <tr>\n",
       "      <th>1</th>\n",
       "      <td>0.4096</td>\n",
       "      <td>0.394767</td>\n",
       "      <td>1</td>\n",
       "    </tr>\n",
       "    <tr>\n",
       "      <th>2</th>\n",
       "      <td>0.8192</td>\n",
       "      <td>0.420036</td>\n",
       "      <td>1</td>\n",
       "    </tr>\n",
       "    <tr>\n",
       "      <th>3</th>\n",
       "      <td>1.2288</td>\n",
       "      <td>0.211524</td>\n",
       "      <td>0</td>\n",
       "    </tr>\n",
       "    <tr>\n",
       "      <th>4</th>\n",
       "      <td>1.6384</td>\n",
       "      <td>0.148095</td>\n",
       "      <td>0</td>\n",
       "    </tr>\n",
       "    <tr>\n",
       "      <th>...</th>\n",
       "      <td>...</td>\n",
       "      <td>...</td>\n",
       "      <td>...</td>\n",
       "    </tr>\n",
       "    <tr>\n",
       "      <th>586</th>\n",
       "      <td>240.0256</td>\n",
       "      <td>0.003229</td>\n",
       "      <td>0</td>\n",
       "    </tr>\n",
       "    <tr>\n",
       "      <th>587</th>\n",
       "      <td>240.4352</td>\n",
       "      <td>0.002803</td>\n",
       "      <td>0</td>\n",
       "    </tr>\n",
       "    <tr>\n",
       "      <th>588</th>\n",
       "      <td>240.8448</td>\n",
       "      <td>0.002519</td>\n",
       "      <td>0</td>\n",
       "    </tr>\n",
       "    <tr>\n",
       "      <th>589</th>\n",
       "      <td>241.2544</td>\n",
       "      <td>0.002368</td>\n",
       "      <td>0</td>\n",
       "    </tr>\n",
       "    <tr>\n",
       "      <th>590</th>\n",
       "      <td>241.6640</td>\n",
       "      <td>0.002625</td>\n",
       "      <td>0</td>\n",
       "    </tr>\n",
       "  </tbody>\n",
       "</table>\n",
       "<p>591 rows × 3 columns</p>\n",
       "</div>"
      ],
      "text/plain": [
       "        times       max  gnre\n",
       "0      0.0000  0.704225     1\n",
       "1      0.4096  0.394767     1\n",
       "2      0.8192  0.420036     1\n",
       "3      1.2288  0.211524     0\n",
       "4      1.6384  0.148095     0\n",
       "..        ...       ...   ...\n",
       "586  240.0256  0.003229     0\n",
       "587  240.4352  0.002803     0\n",
       "588  240.8448  0.002519     0\n",
       "589  241.2544  0.002368     0\n",
       "590  241.6640  0.002625     0\n",
       "\n",
       "[591 rows x 3 columns]"
      ]
     },
     "execution_count": 61,
     "metadata": {},
     "output_type": "execute_result"
    }
   ],
   "source": [
    "df_mid_final = df_compas.drop(columns = ['wform'])\n",
    "df_mid_final['times'] = df_mid_final['times'].apply(lambda x: x[0])\n",
    "df_mid_final['gnre'] = yhat\n",
    "df_mid_final"
   ]
  },
  {
   "cell_type": "markdown",
   "metadata": {},
   "source": [
    "# HIGH FREQUENCIES"
   ]
  },
  {
   "cell_type": "code",
   "execution_count": 62,
   "metadata": {},
   "outputs": [],
   "source": [
    "#get the specific bin frequencies\n",
    "df_high = df_bin_freq.drop(columns = [100,300,600,1000])\n",
    "df_high.columns = list(map(lambda x: str(x), df_high.columns))"
   ]
  },
  {
   "cell_type": "code",
   "execution_count": 63,
   "metadata": {},
   "outputs": [],
   "source": [
    "df_high['2500_mean'] = df_high['2500'].apply(lambda x: x.mean())\n",
    "df_high['2500_median'] = df_high['2500'].apply(lambda x: statistics.median(x))\n",
    "df_high['2500_max'] = df_high['2500'].apply(lambda x: x.max())\n",
    "df_high['7000_mean'] = df_high['7000'].apply(lambda x: x.mean())\n",
    "df_high['7000_median'] = df_high['7000'].apply(lambda x: statistics.median(x))\n",
    "df_high['7000_max'] = df_high['7000'].apply(lambda x: x.max())\n",
    "df_high['15000_mean'] = df_high['15000'].apply(lambda x: x.mean())\n",
    "df_high['15000_median'] = df_high['15000'].apply(lambda x: statistics.median(x))\n",
    "df_high['15000_max'] = df_high['15000'].apply(lambda x: x.max())\n",
    "df_high['noise'] = df_means['gnre']"
   ]
  },
  {
   "cell_type": "code",
   "execution_count": 64,
   "metadata": {},
   "outputs": [],
   "source": [
    "df_high_model = df_high.drop(['2500','7000','15000'], axis = 1)"
   ]
  },
  {
   "cell_type": "code",
   "execution_count": 65,
   "metadata": {},
   "outputs": [],
   "source": [
    "scaler = StandardScaler().fit(df_mid_model)\n",
    "X_prep = scaler.transform(df_mid_model)\n",
    "\n",
    "kmeans = GaussianMixture(n_components= 4, covariance_type='spherical',max_iter = 100,n_init = 20, random_state = 1234, init_params = 'kmeans')\n",
    "\n",
    "#kmeans = KMeans(n_clusters= 2,\n",
    "#               init=\"random\",\n",
    "#               n_init= 1,  # try with 1, 4, 8, 20, 30, 100...\n",
    "#               max_iter= 300,\n",
    "#               tol= 1e-4,\n",
    "#               algorithm=\"elkan\",\n",
    "#               random_state=1234)\n",
    "\n",
    "kmeans.fit(X_prep)\n",
    "\n",
    "yhat = kmeans.predict(X_prep)\n",
    "clusters = np.unique(yhat)"
   ]
  },
  {
   "cell_type": "code",
   "execution_count": 66,
   "metadata": {},
   "outputs": [
    {
     "data": {
      "image/png": "[encoded data removed]",
      "text/plain": [
       "<Figure size 432x288 with 1 Axes>"
      ]
     },
     "metadata": {
      "needs_background": "light"
     },
     "output_type": "display_data"
    }
   ],
   "source": [
    "for cluster in np.unique(yhat):\n",
    "\t# get row indexes for samples with this cluster\n",
    "\trow_ix = np.where(yhat == cluster)\n",
    "\t# create scatter of these samples\n",
    "\tplt.scatter(X_prep[row_ix, 0], X_prep[row_ix, 1])\n",
    "\n",
    "# show the plot\n",
    "plt.title(\"Clusters detected by GMM with a 'full' covariance matrix\")\n",
    "plt.show()"
   ]
  },
  {
   "cell_type": "code",
   "execution_count": 67,
   "metadata": {},
   "outputs": [
    {
     "data": {
      "text/html": [
       "<div>\n",
       "<style scoped>\n",
       "    .dataframe tbody tr th:only-of-type {\n",
       "        vertical-align: middle;\n",
       "    }\n",
       "\n",
       "    .dataframe tbody tr th {\n",
       "        vertical-align: top;\n",
       "    }\n",
       "\n",
       "    .dataframe thead th {\n",
       "        text-align: right;\n",
       "    }\n",
       "</style>\n",
       "<table border=\"1\" class=\"dataframe\">\n",
       "  <thead>\n",
       "    <tr style=\"text-align: right;\">\n",
       "      <th></th>\n",
       "      <th>times</th>\n",
       "      <th>max</th>\n",
       "      <th>gnre</th>\n",
       "    </tr>\n",
       "  </thead>\n",
       "  <tbody>\n",
       "    <tr>\n",
       "      <th>0</th>\n",
       "      <td>0.0000</td>\n",
       "      <td>0.704225</td>\n",
       "      <td>1</td>\n",
       "    </tr>\n",
       "    <tr>\n",
       "      <th>1</th>\n",
       "      <td>0.4096</td>\n",
       "      <td>0.394767</td>\n",
       "      <td>1</td>\n",
       "    </tr>\n",
       "    <tr>\n",
       "      <th>2</th>\n",
       "      <td>0.8192</td>\n",
       "      <td>0.420036</td>\n",
       "      <td>1</td>\n",
       "    </tr>\n",
       "    <tr>\n",
       "      <th>3</th>\n",
       "      <td>1.2288</td>\n",
       "      <td>0.211524</td>\n",
       "      <td>1</td>\n",
       "    </tr>\n",
       "    <tr>\n",
       "      <th>4</th>\n",
       "      <td>1.6384</td>\n",
       "      <td>0.148095</td>\n",
       "      <td>2</td>\n",
       "    </tr>\n",
       "    <tr>\n",
       "      <th>...</th>\n",
       "      <td>...</td>\n",
       "      <td>...</td>\n",
       "      <td>...</td>\n",
       "    </tr>\n",
       "    <tr>\n",
       "      <th>586</th>\n",
       "      <td>240.0256</td>\n",
       "      <td>0.003229</td>\n",
       "      <td>2</td>\n",
       "    </tr>\n",
       "    <tr>\n",
       "      <th>587</th>\n",
       "      <td>240.4352</td>\n",
       "      <td>0.002803</td>\n",
       "      <td>2</td>\n",
       "    </tr>\n",
       "    <tr>\n",
       "      <th>588</th>\n",
       "      <td>240.8448</td>\n",
       "      <td>0.002519</td>\n",
       "      <td>2</td>\n",
       "    </tr>\n",
       "    <tr>\n",
       "      <th>589</th>\n",
       "      <td>241.2544</td>\n",
       "      <td>0.002368</td>\n",
       "      <td>2</td>\n",
       "    </tr>\n",
       "    <tr>\n",
       "      <th>590</th>\n",
       "      <td>241.6640</td>\n",
       "      <td>0.002625</td>\n",
       "      <td>2</td>\n",
       "    </tr>\n",
       "  </tbody>\n",
       "</table>\n",
       "<p>591 rows × 3 columns</p>\n",
       "</div>"
      ],
      "text/plain": [
       "        times       max  gnre\n",
       "0      0.0000  0.704225     1\n",
       "1      0.4096  0.394767     1\n",
       "2      0.8192  0.420036     1\n",
       "3      1.2288  0.211524     1\n",
       "4      1.6384  0.148095     2\n",
       "..        ...       ...   ...\n",
       "586  240.0256  0.003229     2\n",
       "587  240.4352  0.002803     2\n",
       "588  240.8448  0.002519     2\n",
       "589  241.2544  0.002368     2\n",
       "590  241.6640  0.002625     2\n",
       "\n",
       "[591 rows x 3 columns]"
      ]
     },
     "execution_count": 67,
     "metadata": {},
     "output_type": "execute_result"
    }
   ],
   "source": [
    "df_high_final = df_compas.drop(columns = ['wform'])\n",
    "df_high_final['times'] = df_high_final['times'].apply(lambda x: x[0])\n",
    "df_high_final['gnre'] = yhat\n",
    "df_high_final"
   ]
  },
  {
   "cell_type": "markdown",
   "metadata": {},
   "source": [
    "# FULL SONG VALUES"
   ]
  },
  {
   "cell_type": "code",
   "execution_count": 68,
   "metadata": {},
   "outputs": [],
   "source": [
    "full_freq = pd.concat([df_high_model, df_mid_model, df_lower_model], axis = 1)"
   ]
  },
  {
   "cell_type": "code",
   "execution_count": 69,
   "metadata": {},
   "outputs": [],
   "source": [
    "scaler = StandardScaler().fit(full_freq)\n",
    "X_prep = scaler.transform(full_freq)\n",
    "\n",
    "#kmeans = GaussianMixture(n_components= 3, covariance_type='spherical',max_iter = 100,n_init = 10, random_state = 1234, init_params = 'random')\n",
    "\n",
    "kmeans = KMeans(n_clusters= 3,\n",
    "               init=\"random\",\n",
    "               n_init= 2,  # try with 1, 4, 8, 20, 30, 100...\n",
    "               max_iter= 300,\n",
    "               tol= 1e-4,\n",
    "               algorithm=\"auto\",\n",
    "               random_state=1234)\n",
    "\n",
    "kmeans.fit(X_prep)\n",
    "\n",
    "yhat = kmeans.predict(X_prep)\n",
    "clusters = np.unique(yhat)"
   ]
  },
  {
   "cell_type": "code",
   "execution_count": 70,
   "metadata": {},
   "outputs": [
    {
     "data": {
      "image/png": "[encoded data removed]",
      "text/plain": [
       "<Figure size 432x288 with 1 Axes>"
      ]
     },
     "metadata": {
      "needs_background": "light"
     },
     "output_type": "display_data"
    }
   ],
   "source": [
    "for cluster in np.unique(yhat):\n",
    "\t# get row indexes for samples with this cluster\n",
    "\trow_ix = np.where(yhat == cluster)\n",
    "\t# create scatter of these samples\n",
    "\tplt.scatter(X_prep[row_ix, 0], X_prep[row_ix, 1])\n",
    "\n",
    "# show the plot\n",
    "plt.title(\"Clusters detected by GMM with a 'full' covariance matrix\")\n",
    "plt.show()"
   ]
  },
  {
   "cell_type": "code",
   "execution_count": 71,
   "metadata": {},
   "outputs": [
    {
     "data": {
      "text/html": [
       "<div>\n",
       "<style scoped>\n",
       "    .dataframe tbody tr th:only-of-type {\n",
       "        vertical-align: middle;\n",
       "    }\n",
       "\n",
       "    .dataframe tbody tr th {\n",
       "        vertical-align: top;\n",
       "    }\n",
       "\n",
       "    .dataframe thead th {\n",
       "        text-align: right;\n",
       "    }\n",
       "</style>\n",
       "<table border=\"1\" class=\"dataframe\">\n",
       "  <thead>\n",
       "    <tr style=\"text-align: right;\">\n",
       "      <th></th>\n",
       "      <th>times</th>\n",
       "      <th>max</th>\n",
       "      <th>gnre</th>\n",
       "    </tr>\n",
       "  </thead>\n",
       "  <tbody>\n",
       "    <tr>\n",
       "      <th>0</th>\n",
       "      <td>0.0000</td>\n",
       "      <td>0.704225</td>\n",
       "      <td>0</td>\n",
       "    </tr>\n",
       "    <tr>\n",
       "      <th>1</th>\n",
       "      <td>0.4096</td>\n",
       "      <td>0.394767</td>\n",
       "      <td>0</td>\n",
       "    </tr>\n",
       "    <tr>\n",
       "      <th>2</th>\n",
       "      <td>0.8192</td>\n",
       "      <td>0.420036</td>\n",
       "      <td>1</td>\n",
       "    </tr>\n",
       "    <tr>\n",
       "      <th>3</th>\n",
       "      <td>1.2288</td>\n",
       "      <td>0.211524</td>\n",
       "      <td>1</td>\n",
       "    </tr>\n",
       "    <tr>\n",
       "      <th>4</th>\n",
       "      <td>1.6384</td>\n",
       "      <td>0.148095</td>\n",
       "      <td>1</td>\n",
       "    </tr>\n",
       "    <tr>\n",
       "      <th>...</th>\n",
       "      <td>...</td>\n",
       "      <td>...</td>\n",
       "      <td>...</td>\n",
       "    </tr>\n",
       "    <tr>\n",
       "      <th>586</th>\n",
       "      <td>240.0256</td>\n",
       "      <td>0.003229</td>\n",
       "      <td>1</td>\n",
       "    </tr>\n",
       "    <tr>\n",
       "      <th>587</th>\n",
       "      <td>240.4352</td>\n",
       "      <td>0.002803</td>\n",
       "      <td>1</td>\n",
       "    </tr>\n",
       "    <tr>\n",
       "      <th>588</th>\n",
       "      <td>240.8448</td>\n",
       "      <td>0.002519</td>\n",
       "      <td>1</td>\n",
       "    </tr>\n",
       "    <tr>\n",
       "      <th>589</th>\n",
       "      <td>241.2544</td>\n",
       "      <td>0.002368</td>\n",
       "      <td>1</td>\n",
       "    </tr>\n",
       "    <tr>\n",
       "      <th>590</th>\n",
       "      <td>241.6640</td>\n",
       "      <td>0.002625</td>\n",
       "      <td>1</td>\n",
       "    </tr>\n",
       "  </tbody>\n",
       "</table>\n",
       "<p>591 rows × 3 columns</p>\n",
       "</div>"
      ],
      "text/plain": [
       "        times       max  gnre\n",
       "0      0.0000  0.704225     0\n",
       "1      0.4096  0.394767     0\n",
       "2      0.8192  0.420036     1\n",
       "3      1.2288  0.211524     1\n",
       "4      1.6384  0.148095     1\n",
       "..        ...       ...   ...\n",
       "586  240.0256  0.003229     1\n",
       "587  240.4352  0.002803     1\n",
       "588  240.8448  0.002519     1\n",
       "589  241.2544  0.002368     1\n",
       "590  241.6640  0.002625     1\n",
       "\n",
       "[591 rows x 3 columns]"
      ]
     },
     "execution_count": 71,
     "metadata": {},
     "output_type": "execute_result"
    }
   ],
   "source": [
    "df_full_final = df_compas.drop(columns = ['wform'])\n",
    "df_full_final['times'] = df_full_final['times'].apply(lambda x: x[0])\n",
    "df_full_final['gnre'] = yhat\n",
    "df_full_final"
   ]
  },
  {
   "cell_type": "markdown",
   "metadata": {},
   "source": [
    "# SONG FEATURES"
   ]
  },
  {
   "cell_type": "code",
   "execution_count": 72,
   "metadata": {},
   "outputs": [],
   "source": [
    "#menas = []\n",
    "#for index in range(len(df_compas.wform)):\n",
    "#    y_harm, y_perc = librosa.effects.hpss(df_compas.wform[index][0])\n",
    "#    if len(y_harm[y_perc > 0.1]) > 0:\n",
    "#        menas += [(y_harm[y_perc > 0.1].max() * len(y_harm[y_perc > 0.1]))]\n",
    "#df = pd.DataFrame(menas).dropna()"
   ]
  },
  {
   "cell_type": "code",
   "execution_count": 73,
   "metadata": {},
   "outputs": [],
   "source": [
    "#mean_harm = df[0].mean()"
   ]
  },
  {
   "cell_type": "code",
   "execution_count": 74,
   "metadata": {},
   "outputs": [],
   "source": [
    "step_freq = 1/(vcompas_time * 2)\n",
    "noise_freq = 1/(vcompas_time * 2)\n",
    "#constant_noise_rot = 0.16688923225825697\n",
    "#constant_noise_pos = 0.0018604045563215532\n",
    "\n",
    "#noise_pos = constant_noise_pos * mean_harm\n",
    "#noise_rot = constant_noise_rot * mean_harm\n",
    "#print(noise_pos,noise_rot)"
   ]
  },
  {
   "cell_type": "markdown",
   "metadata": {},
   "source": [
    "# SAVING DATA INTO JSON"
   ]
  },
  {
   "cell_type": "code",
   "execution_count": 75,
   "metadata": {},
   "outputs": [],
   "source": [
    "dict_full = {}\n",
    "dict_low = {}\n",
    "dict_mid = {}\n",
    "dict_high = {}\n",
    "dict_legs = {}\n",
    "dict_noises = {}\n",
    "dict_noises_hand = {} \n",
    "\n",
    "for i in range(0,len(df_low_final.times)):\n",
    "    dict_low[str(df_low_final.times[i])] = str(df_low_final.gnre[i])\n",
    "    dict_mid[str(df_mid_final.times[i])] = str(df_mid_final.gnre[i])\n",
    "    dict_high[str(df_high_final.times[i])] = str(df_high_final.gnre[i])\n",
    "    dict_legs[str(df_full_final.times[i])] = str(df_full_final.gnre[i])\n",
    "    dict_noises[str(df_noises.times[i])] = str(df_noises.gnre[i])\n",
    "    dict_noises_hand[str(df_noises_hip_rot.times[i])] = str(df_noises_hip_rot.gnre[i])\n",
    "    \n",
    "dict_full['low'] = str(dict_low)\n",
    "dict_full['mid'] = str(dict_mid)\n",
    "dict_full['high'] = str(dict_high)\n",
    "dict_full['legs'] = str(dict_legs)\n",
    "dict_full['noises'] = str(dict_noises)\n",
    "dict_full['hnoises'] = str(dict_noises_hand)\n",
    "dict_full['freqs'] = str(step_freq[0])"
   ]
  },
  {
   "cell_type": "code",
   "execution_count": 76,
   "metadata": {},
   "outputs": [
    {
     "name": "stdout",
     "output_type": "stream",
     "text": [
      "{\"low\": \"{'0.0': '1', '0.4096': '1', '0.8192': '1', '1.2288000000000001': '1', '1.6384': '1', '2.048': '1', '2.4576000000000002': '1', '2.8672': '1', '3.2768': '1', '3.6864000000000003': '1', '4.096': '1', '4.5056': '1', '4.9152000000000005': '1', '5.324800000000001': '1', '5.7344': '1', '6.144': '1', '6.5536': '1', '6.9632000000000005': '1', '7.372800000000001': '1', '7.7824': '1', '8.192': '1', '8.601600000000001': '1', '9.0112': '1', '9.4208': '1', '9.830400000000001': '1', '10.24': '1', '10.649600000000001': '1', '11.0592': '1', '11.4688': '1', '11.878400000000001': '1', '12.288': '1', '12.697600000000001': '1', '13.1072': '1', '13.5168': '1', '13.926400000000001': '1', '14.336': '1', '14.745600000000001': '1', '15.1552': '1', '15.5648': '1', '15.974400000000001': '1', '16.384': '1', '16.7936': '1', '17.203200000000002': '1', '17.6128': '1', '18.0224': '1', '18.432000000000002': '1', '18.8416': '1', '19.2512': '1', '19.660800000000002': '1', '20.0704': '1', '20.48': '1', '20.8896': '1', '21.299200000000003': '1', '21.7088': '1', '22.1184': '1', '22.528000000000002': '1', '22.9376': '1', '23.3472': '1', '23.756800000000002': '1', '24.1664': '1', '24.576': '1', '24.9856': '1', '25.395200000000003': '1', '25.8048': '1', '26.2144': '1', '26.624000000000002': '1', '27.0336': '1', '27.4432': '1', '27.852800000000002': '1', '28.262400000000003': '1', '28.672': '1', '29.0816': '1', '29.491200000000003': '1', '29.9008': '1', '30.3104': '1', '30.720000000000002': '1', '31.1296': '1', '31.5392': '1', '31.948800000000002': '1', '32.3584': '1', '32.768': '1', '33.1776': '1', '33.5872': '1', '33.9968': '1', '34.406400000000005': '1', '34.816': '0', '35.2256': '0', '35.635200000000005': '0', '36.0448': '0', '36.4544': '0', '36.864000000000004': '0', '37.2736': '0', '37.6832': '0', '38.092800000000004': '0', '38.5024': '0', '38.912': '0', '39.321600000000004': '0', '39.7312': '0', '40.1408': '0', '40.5504': '0', '40.96': '0', '41.369600000000005': '0', '41.7792': '0', '42.1888': '0', '42.598400000000005': '0', '43.008': '0', '43.4176': '0', '43.827200000000005': '0', '44.2368': '0', '44.6464': '0', '45.056000000000004': '0', '45.4656': '0', '45.8752': '0', '46.284800000000004': '0', '46.6944': '0', '47.104': '0', '47.513600000000004': '0', '47.9232': '0', '48.3328': '1', '48.7424': '0', '49.152': '0', '49.561600000000006': '0', '49.9712': '0', '50.3808': '0', '50.790400000000005': '0', '51.2': '0', '51.6096': '0', '52.019200000000005': '1', '52.4288': '1', '52.8384': '1', '53.248000000000005': '1', '53.6576': '1', '54.0672': '1', '54.476800000000004': '1', '54.8864': '1', '55.296': '1', '55.705600000000004': '0', '56.1152': '0', '56.524800000000006': '0', '56.934400000000004': '0', '57.344': '0', '57.753600000000006': '0', '58.1632': '0', '58.5728': '0', '58.982400000000005': '0', '59.392': '0', '59.8016': '0', '60.211200000000005': '0', '60.6208': '0', '61.0304': '0', '61.440000000000005': '0', '61.8496': '0', '62.2592': '0', '62.668800000000005': '0', '63.0784': '0', '63.488': '0', '63.897600000000004': '0', '64.30720000000001': '0', '64.7168': '0', '65.1264': '0', '65.536': '0', '65.9456': '0', '66.3552': '0', '66.76480000000001': '0', '67.1744': '0', '67.584': '0', '67.9936': '0', '68.4032': '0', '68.81280000000001': '0', '69.22240000000001': '1', '69.632': '0', '70.0416': '0', '70.4512': '0', '70.8608': '0', '71.27040000000001': '0', '71.68': '0', '72.0896': '0', '72.4992': '0', '72.9088': '0', '73.3184': '0', '73.72800000000001': '0', '74.1376': '0', '74.5472': '0', '74.9568': '0', '75.3664': '0', '75.77600000000001': '0', '76.18560000000001': '0', '76.5952': '0', '77.0048': '0', '77.4144': '0', '77.824': '0', '78.23360000000001': '0', '78.64320000000001': '0', '79.0528': '0', '79.4624': '0', '79.872': '0', '80.2816': '0', '80.69120000000001': '0', '81.1008': '0', '81.5104': '1', '81.92': '1', '82.3296': '0', '82.73920000000001': '1', '83.14880000000001': '1', '83.5584': '0', '83.968': '0', '84.3776': '0', '84.7872': '0', '85.19680000000001': '0', '85.60640000000001': '0', '86.016': '0', '86.4256': '0', '86.8352': '0', '87.2448': '0', '87.65440000000001': '0', '88.06400000000001': '0', '88.4736': '0', '88.8832': '0', '89.2928': '0', '89.7024': '1', '90.11200000000001': '1', '90.5216': '0', '90.9312': '0', '91.3408': '0', '91.7504': '0', '92.16000000000001': '0', '92.56960000000001': '0', '92.9792': '0', '93.3888': '0', '93.7984': '0', '94.208': '0', '94.61760000000001': '0', '95.02720000000001': '1', '95.4368': '1', '95.8464': '1', '96.256': '1', '96.6656': '1', '97.07520000000001': '0', '97.4848': '0', '97.8944': '0', '98.304': '0', '98.7136': '0', '99.12320000000001': '0', '99.53280000000001': '0', '99.9424': '0', '100.352': '0', '100.7616': '0', '101.1712': '0', '101.58080000000001': '0', '101.99040000000001': '0', '102.4': '0', '102.8096': '0', '103.2192': '0', '103.6288': '0', '104.03840000000001': '0', '104.44800000000001': '0', '104.8576': '0', '105.2672': '0', '105.6768': '0', '106.08640000000001': '0', '106.49600000000001': '0', '106.9056': '0', '107.3152': '0', '107.7248': '0', '108.1344': '0', '108.54400000000001': '0', '108.95360000000001': '0', '109.3632': '0', '109.7728': '0', '110.1824': '0', '110.592': '1', '111.00160000000001': '0', '111.41120000000001': '0', '111.8208': '0', '112.2304': '0', '112.64': '0', '113.04960000000001': '0', '113.45920000000001': '0', '113.86880000000001': '0', '114.2784': '0', '114.688': '0', '115.0976': '0', '115.50720000000001': '0', '115.91680000000001': '0', '116.3264': '0', '116.736': '0', '117.1456': '0', '117.5552': '0', '117.96480000000001': '0', '118.37440000000001': '0', '118.784': '0', '119.1936': '0', '119.6032': '0', '120.01280000000001': '0', '120.42240000000001': '0', '120.83200000000001': '0', '121.2416': '0', '121.6512': '0', '122.0608': '0', '122.47040000000001': '0', '122.88000000000001': '0', '123.28960000000001': '0', '123.6992': '0', '124.1088': '0', '124.5184': '1', '124.92800000000001': '0', '125.33760000000001': '0', '125.7472': '0', '126.1568': '0', '126.5664': '0', '126.976': '0', '127.38560000000001': '0', '127.79520000000001': '0', '128.2048': '0', '128.61440000000002': '0', '129.024': '0', '129.4336': '1', '129.8432': '1', '130.2528': '1', '130.66240000000002': '1', '131.072': '0', '131.48160000000001': '0', '131.8912': '0', '132.3008': '0', '132.7104': '0', '133.12': '0', '133.52960000000002': '0', '133.9392': '0', '134.3488': '0', '134.7584': '0', '135.168': '0', '135.57760000000002': '0', '135.9872': '0', '136.3968': '0', '136.8064': '0', '137.216': '0', '137.62560000000002': '0', '138.0352': '0', '138.44480000000001': '0', '138.8544': '0', '139.264': '0', '139.6736': '0', '140.0832': '0', '140.49280000000002': '0', '140.9024': '0', '141.312': '0', '141.7216': '0', '142.1312': '0', '142.54080000000002': '0', '142.9504': '0', '143.36': '1', '143.7696': '1', '144.1792': '1', '144.58880000000002': '1', '144.9984': '1', '145.40800000000002': '1', '145.8176': '1', '146.2272': '1', '146.6368': '1', '147.0464': '1', '147.45600000000002': '1', '147.8656': '1', '148.2752': '1', '148.6848': '1', '149.0944': '1', '149.50400000000002': '1', '149.9136': '1', '150.3232': '1', '150.7328': '1', '151.1424': '1', '151.55200000000002': '1', '151.9616': '1', '152.37120000000002': '1', '152.7808': '1', '153.1904': '1', '153.6': '1', '154.0096': '1', '154.41920000000002': '1', '154.8288': '1', '155.2384': '1', '155.648': '1', '156.0576': '1', '156.46720000000002': '1', '156.8768': '1', '157.28640000000001': '1', '157.696': '1', '158.1056': '1', '158.51520000000002': '1', '158.9248': '1', '159.33440000000002': '0', '159.744': '0', '160.1536': '0', '160.5632': '0', '160.9728': '0', '161.38240000000002': '0', '161.792': '0', '162.2016': '0', '162.6112': '0', '163.0208': '0', '163.43040000000002': '0', '163.84': '0', '164.24960000000002': '0', '164.6592': '0', '165.0688': '0', '165.47840000000002': '0', '165.888': '0', '166.29760000000002': '0', '166.7072': '0', '167.1168': '0', '167.5264': '0', '167.936': '0', '168.34560000000002': '0', '168.7552': '0', '169.1648': '0', '169.5744': '0', '169.984': '0', '170.39360000000002': '0', '170.8032': '0', '171.21280000000002': '0', '171.6224': '0', '172.032': '0', '172.44160000000002': '0', '172.8512': '1', '173.26080000000002': '0', '173.6704': '0', '174.08': '0', '174.4896': '0', '174.8992': '0', '175.30880000000002': '0', '175.7184': '0', '176.12800000000001': '0', '176.5376': '0', '176.9472': '0', '177.35680000000002': '0', '177.7664': '0', '178.17600000000002': '0', '178.5856': '0', '178.9952': '0', '179.4048': '0', '179.8144': '0', '180.22400000000002': '0', '180.6336': '0', '181.0432': '0', '181.4528': '0', '181.8624': '0', '182.27200000000002': '0', '182.6816': '0', '183.09120000000001': '0', '183.5008': '0', '183.9104': '0', '184.32000000000002': '0', '184.7296': '1', '185.13920000000002': '1', '185.5488': '1', '185.9584': '1', '186.368': '1', '186.7776': '0', '187.18720000000002': '0', '187.5968': '0', '188.0064': '0', '188.416': '0', '188.8256': '0', '189.23520000000002': '0', '189.6448': '0', '190.05440000000002': '0', '190.464': '0', '190.8736': '0', '191.28320000000002': '0', '191.6928': '0', '192.10240000000002': '0', '192.512': '0', '192.9216': '0', '193.3312': '1', '193.7408': '0', '194.15040000000002': '0', '194.56': '0', '194.9696': '0', '195.3792': '0', '195.7888': '0', '196.19840000000002': '0', '196.608': '0', '197.01760000000002': '0', '197.4272': '0', '197.8368': '0', '198.24640000000002': '0', '198.656': '0', '199.06560000000002': '0', '199.4752': '0', '199.8848': '0', '200.2944': '0', '200.704': '0', '201.11360000000002': '0', '201.5232': '0', '201.93280000000001': '0', '202.3424': '0', '202.752': '0', '203.16160000000002': '0', '203.5712': '0', '203.98080000000002': '0', '204.3904': '0', '204.8': '0', '205.20960000000002': '0', '205.6192': '1', '206.02880000000002': '1', '206.4384': '1', '206.848': '1', '207.2576': '0', '207.6672': '0', '208.07680000000002': '0', '208.4864': '0', '208.89600000000002': '0', '209.3056': '0', '209.7152': '0', '210.12480000000002': '0', '210.5344': '0', '210.94400000000002': '0', '211.3536': '0', '211.7632': '0', '212.17280000000002': '0', '212.5824': '0', '212.99200000000002': '0', '213.4016': '0', '213.8112': '0', '214.2208': '0', '214.6304': '0', '215.04000000000002': '0', '215.4496': '0', '215.85920000000002': '0', '216.2688': '0', '216.6784': '0', '217.08800000000002': '0', '217.4976': '0', '217.90720000000002': '0', '218.3168': '0', '218.7264': '0', '219.13600000000002': '0', '219.5456': '0', '219.95520000000002': '0', '220.3648': '0', '220.7744': '0', '221.184': '0', '221.5936': '0', '222.00320000000002': '0', '222.4128': '0', '222.82240000000002': '0', '223.232': '0', '223.6416': '0', '224.05120000000002': '0', '224.4608': '0', '224.87040000000002': '0', '225.28': '0', '225.6896': '0', '226.09920000000002': '0', '226.5088': '0', '226.91840000000002': '0', '227.328': '0', '227.73760000000001': '0', '228.1472': '0', '228.5568': '0', '228.96640000000002': '0', '229.376': '0', '229.78560000000002': '0', '230.1952': '0', '230.6048': '0', '231.01440000000002': '0', '231.424': '0', '231.83360000000002': '0', '232.2432': '1', '232.6528': '1', '233.06240000000003': '1', '233.472': '1', '233.88160000000002': '1', '234.2912': '1', '234.70080000000002': '1', '235.1104': '1', '235.52': '1', '235.92960000000002': '1', '236.3392': '1', '236.74880000000002': '1', '237.1584': '1', '237.568': '1', '237.97760000000002': '1', '238.3872': '1', '238.79680000000002': '1', '239.2064': '1', '239.616': '1', '240.02560000000003': '1', '240.4352': '1', '240.84480000000002': '1', '241.2544': '1', '241.66400000000002': '1'}\", \"mid\": \"{'0.0': '1', '0.4096': '1', '0.8192': '1', '1.2288000000000001': '0', '1.6384': '0', '2.048': '0', '2.4576000000000002': '0', '2.8672': '0', '3.2768': '0', '3.6864000000000003': '0', '4.096': '0', '4.5056': '0', '4.9152000000000005': '0', '5.324800000000001': '0', '5.7344': '0', '6.144': '0', '6.5536': '0', '6.9632000000000005': '0', '7.372800000000001': '0', '7.7824': '1', '8.192': '1', '8.601600000000001': '1', '9.0112': '1', '9.4208': '0', '9.830400000000001': '0', '10.24': '0', '10.649600000000001': '0', '11.0592': '0', '11.4688': '1', '11.878400000000001': '1', '12.288': '1', '12.697600000000001': '0', '13.1072': '0', '13.5168': '0', '13.926400000000001': '0', '14.336': '0', '14.745600000000001': '1', '15.1552': '1', '15.5648': '1', '15.974400000000001': '1', '16.384': '0', '16.7936': '0', '17.203200000000002': '0', '17.6128': '0', '18.0224': '1', '18.432000000000002': '1', '18.8416': '1', '19.2512': '1', '19.660800000000002': '1', '20.0704': '1', '20.48': '1', '20.8896': '1', '21.299200000000003': '1', '21.7088': '1', '22.1184': '1', '22.528000000000002': '1', '22.9376': '1', '23.3472': '1', '23.756800000000002': '1', '24.1664': '1', '24.576': '1', '24.9856': '1', '25.395200000000003': '1', '25.8048': '1', '26.2144': '1', '26.624000000000002': '1', '27.0336': '1', '27.4432': '1', '27.852800000000002': '1', '28.262400000000003': '1', '28.672': '1', '29.0816': '1', '29.491200000000003': '1', '29.9008': '1', '30.3104': '1', '30.720000000000002': '1', '31.1296': '1', '31.5392': '1', '31.948800000000002': '1', '32.3584': '1', '32.768': '1', '33.1776': '1', '33.5872': '1', '33.9968': '1', '34.406400000000005': '1', '34.816': '1', '35.2256': '1', '35.635200000000005': '1', '36.0448': '1', '36.4544': '1', '36.864000000000004': '1', '37.2736': '1', '37.6832': '1', '38.092800000000004': '1', '38.5024': '1', '38.912': '1', '39.321600000000004': '1', '39.7312': '1', '40.1408': '1', '40.5504': '1', '40.96': '1', '41.369600000000005': '1', '41.7792': '1', '42.1888': '1', '42.598400000000005': '1', '43.008': '1', '43.4176': '1', '43.827200000000005': '1', '44.2368': '1', '44.6464': '1', '45.056000000000004': '1', '45.4656': '1', '45.8752': '1', '46.284800000000004': '1', '46.6944': '1', '47.104': '1', '47.513600000000004': '1', '47.9232': '1', '48.3328': '1', '48.7424': '1', '49.152': '1', '49.561600000000006': '1', '49.9712': '1', '50.3808': '1', '50.790400000000005': '1', '51.2': '1', '51.6096': '1', '52.019200000000005': '1', '52.4288': '1', '52.8384': '1', '53.248000000000005': '1', '53.6576': '1', '54.0672': '1', '54.476800000000004': '1', '54.8864': '1', '55.296': '1', '55.705600000000004': '1', '56.1152': '1', '56.524800000000006': '1', '56.934400000000004': '1', '57.344': '1', '57.753600000000006': '1', '58.1632': '1', '58.5728': '1', '58.982400000000005': '1', '59.392': '1', '59.8016': '1', '60.211200000000005': '1', '60.6208': '1', '61.0304': '1', '61.440000000000005': '1', '61.8496': '1', '62.2592': '1', '62.668800000000005': '1', '63.0784': '1', '63.488': '1', '63.897600000000004': '1', '64.30720000000001': '1', '64.7168': '1', '65.1264': '1', '65.536': '1', '65.9456': '1', '66.3552': '1', '66.76480000000001': '1', '67.1744': '1', '67.584': '1', '67.9936': '1', '68.4032': '1', '68.81280000000001': '1', '69.22240000000001': '1', '69.632': '1', '70.0416': '1', '70.4512': '1', '70.8608': '1', '71.27040000000001': '1', '71.68': '1', '72.0896': '1', '72.4992': '1', '72.9088': '1', '73.3184': '1', '73.72800000000001': '1', '74.1376': '1', '74.5472': '1', '74.9568': '1', '75.3664': '1', '75.77600000000001': '1', '76.18560000000001': '1', '76.5952': '1', '77.0048': '1', '77.4144': '1', '77.824': '1', '78.23360000000001': '1', '78.64320000000001': '1', '79.0528': '1', '79.4624': '1', '79.872': '1', '80.2816': '1', '80.69120000000001': '1', '81.1008': '1', '81.5104': '1', '81.92': '1', '82.3296': '1', '82.73920000000001': '1', '83.14880000000001': '1', '83.5584': '1', '83.968': '1', '84.3776': '1', '84.7872': '1', '85.19680000000001': '1', '85.60640000000001': '1', '86.016': '1', '86.4256': '1', '86.8352': '1', '87.2448': '1', '87.65440000000001': '1', '88.06400000000001': '1', '88.4736': '1', '88.8832': '1', '89.2928': '1', '89.7024': '1', '90.11200000000001': '1', '90.5216': '1', '90.9312': '1', '91.3408': '1', '91.7504': '1', '92.16000000000001': '1', '92.56960000000001': '1', '92.9792': '1', '93.3888': '1', '93.7984': '1', '94.208': '1', '94.61760000000001': '1', '95.02720000000001': '1', '95.4368': '1', '95.8464': '1', '96.256': '1', '96.6656': '1', '97.07520000000001': '1', '97.4848': '1', '97.8944': '1', '98.304': '1', '98.7136': '1', '99.12320000000001': '1', '99.53280000000001': '1', '99.9424': '1', '100.352': '1', '100.7616': '1', '101.1712': '1', '101.58080000000001': '1', '101.99040000000001': '1', '102.4': '1', '102.8096': '1', '103.2192': '1', '103.6288': '1', '104.03840000000001': '1', '104.44800000000001': '1', '104.8576': '1', '105.2672': '1', '105.6768': '1', '106.08640000000001': '1', '106.49600000000001': '1', '106.9056': '1', '107.3152': '1', '107.7248': '1', '108.1344': '1', '108.54400000000001': '1', '108.95360000000001': '1', '109.3632': '1', '109.7728': '1', '110.1824': '1', '110.592': '1', '111.00160000000001': '1', '111.41120000000001': '1', '111.8208': '1', '112.2304': '1', '112.64': '1', '113.04960000000001': '1', '113.45920000000001': '1', '113.86880000000001': '1', '114.2784': '1', '114.688': '1', '115.0976': '1', '115.50720000000001': '1', '115.91680000000001': '1', '116.3264': '1', '116.736': '1', '117.1456': '1', '117.5552': '1', '117.96480000000001': '1', '118.37440000000001': '1', '118.784': '1', '119.1936': '1', '119.6032': '1', '120.01280000000001': '1', '120.42240000000001': '1', '120.83200000000001': '1', '121.2416': '1', '121.6512': '1', '122.0608': '1', '122.47040000000001': '1', '122.88000000000001': '1', '123.28960000000001': '1', '123.6992': '1', '124.1088': '1', '124.5184': '1', '124.92800000000001': '1', '125.33760000000001': '1', '125.7472': '1', '126.1568': '1', '126.5664': '1', '126.976': '1', '127.38560000000001': '1', '127.79520000000001': '1', '128.2048': '1', '128.61440000000002': '1', '129.024': '1', '129.4336': '1', '129.8432': '1', '130.2528': '1', '130.66240000000002': '1', '131.072': '1', '131.48160000000001': '1', '131.8912': '1', '132.3008': '1', '132.7104': '1', '133.12': '1', '133.52960000000002': '1', '133.9392': '1', '134.3488': '1', '134.7584': '1', '135.168': '1', '135.57760000000002': '1', '135.9872': '1', '136.3968': '1', '136.8064': '1', '137.216': '1', '137.62560000000002': '1', '138.0352': '1', '138.44480000000001': '1', '138.8544': '1', '139.264': '1', '139.6736': '1', '140.0832': '1', '140.49280000000002': '1', '140.9024': '1', '141.312': '1', '141.7216': '1', '142.1312': '1', '142.54080000000002': '1', '142.9504': '1', '143.36': '1', '143.7696': '1', '144.1792': '1', '144.58880000000002': '1', '144.9984': '1', '145.40800000000002': '1', '145.8176': '1', '146.2272': '1', '146.6368': '1', '147.0464': '1', '147.45600000000002': '1', '147.8656': '1', '148.2752': '1', '148.6848': '1', '149.0944': '1', '149.50400000000002': '1', '149.9136': '1', '150.3232': '1', '150.7328': '1', '151.1424': '1', '151.55200000000002': '1', '151.9616': '1', '152.37120000000002': '1', '152.7808': '1', '153.1904': '1', '153.6': '1', '154.0096': '1', '154.41920000000002': '1', '154.8288': '1', '155.2384': '1', '155.648': '1', '156.0576': '1', '156.46720000000002': '1', '156.8768': '1', '157.28640000000001': '1', '157.696': '1', '158.1056': '1', '158.51520000000002': '1', '158.9248': '1', '159.33440000000002': '1', '159.744': '1', '160.1536': '1', '160.5632': '1', '160.9728': '1', '161.38240000000002': '1', '161.792': '1', '162.2016': '1', '162.6112': '1', '163.0208': '1', '163.43040000000002': '1', '163.84': '1', '164.24960000000002': '1', '164.6592': '1', '165.0688': '1', '165.47840000000002': '1', '165.888': '1', '166.29760000000002': '1', '166.7072': '1', '167.1168': '1', '167.5264': '1', '167.936': '1', '168.34560000000002': '1', '168.7552': '1', '169.1648': '1', '169.5744': '1', '169.984': '1', '170.39360000000002': '1', '170.8032': '1', '171.21280000000002': '1', '171.6224': '1', '172.032': '1', '172.44160000000002': '1', '172.8512': '1', '173.26080000000002': '1', '173.6704': '1', '174.08': '1', '174.4896': '1', '174.8992': '1', '175.30880000000002': '1', '175.7184': '1', '176.12800000000001': '1', '176.5376': '1', '176.9472': '1', '177.35680000000002': '1', '177.7664': '1', '178.17600000000002': '1', '178.5856': '1', '178.9952': '1', '179.4048': '1', '179.8144': '1', '180.22400000000002': '1', '180.6336': '1', '181.0432': '1', '181.4528': '1', '181.8624': '1', '182.27200000000002': '1', '182.6816': '1', '183.09120000000001': '1', '183.5008': '1', '183.9104': '1', '184.32000000000002': '1', '184.7296': '1', '185.13920000000002': '1', '185.5488': '1', '185.9584': '1', '186.368': '1', '186.7776': '1', '187.18720000000002': '1', '187.5968': '1', '188.0064': '1', '188.416': '1', '188.8256': '1', '189.23520000000002': '1', '189.6448': '1', '190.05440000000002': '1', '190.464': '1', '190.8736': '1', '191.28320000000002': '1', '191.6928': '1', '192.10240000000002': '1', '192.512': '1', '192.9216': '1', '193.3312': '1', '193.7408': '1', '194.15040000000002': '1', '194.56': '1', '194.9696': '1', '195.3792': '1', '195.7888': '1', '196.19840000000002': '1', '196.608': '1', '197.01760000000002': '1', '197.4272': '1', '197.8368': '1', '198.24640000000002': '1', '198.656': '1', '199.06560000000002': '1', '199.4752': '1', '199.8848': '1', '200.2944': '1', '200.704': '1', '201.11360000000002': '1', '201.5232': '1', '201.93280000000001': '1', '202.3424': '1', '202.752': '1', '203.16160000000002': '1', '203.5712': '1', '203.98080000000002': '1', '204.3904': '1', '204.8': '1', '205.20960000000002': '1', '205.6192': '1', '206.02880000000002': '1', '206.4384': '1', '206.848': '1', '207.2576': '1', '207.6672': '1', '208.07680000000002': '1', '208.4864': '1', '208.89600000000002': '1', '209.3056': '1', '209.7152': '1', '210.12480000000002': '1', '210.5344': '1', '210.94400000000002': '1', '211.3536': '1', '211.7632': '1', '212.17280000000002': '1', '212.5824': '1', '212.99200000000002': '1', '213.4016': '1', '213.8112': '1', '214.2208': '1', '214.6304': '1', '215.04000000000002': '1', '215.4496': '1', '215.85920000000002': '1', '216.2688': '1', '216.6784': '1', '217.08800000000002': '1', '217.4976': '1', '217.90720000000002': '1', '218.3168': '1', '218.7264': '1', '219.13600000000002': '1', '219.5456': '1', '219.95520000000002': '1', '220.3648': '1', '220.7744': '1', '221.184': '1', '221.5936': '1', '222.00320000000002': '1', '222.4128': '1', '222.82240000000002': '1', '223.232': '1', '223.6416': '1', '224.05120000000002': '1', '224.4608': '1', '224.87040000000002': '1', '225.28': '1', '225.6896': '1', '226.09920000000002': '1', '226.5088': '1', '226.91840000000002': '1', '227.328': '1', '227.73760000000001': '1', '228.1472': '1', '228.5568': '1', '228.96640000000002': '1', '229.376': '1', '229.78560000000002': '1', '230.1952': '1', '230.6048': '1', '231.01440000000002': '1', '231.424': '1', '231.83360000000002': '1', '232.2432': '1', '232.6528': '1', '233.06240000000003': '1', '233.472': '1', '233.88160000000002': '1', '234.2912': '1', '234.70080000000002': '1', '235.1104': '1', '235.52': '0', '235.92960000000002': '0', '236.3392': '0', '236.74880000000002': '0', '237.1584': '0', '237.568': '0', '237.97760000000002': '0', '238.3872': '0', '238.79680000000002': '0', '239.2064': '0', '239.616': '0', '240.02560000000003': '0', '240.4352': '0', '240.84480000000002': '0', '241.2544': '0', '241.66400000000002': '0'}\", \"high\": \"{'0.0': '1', '0.4096': '1', '0.8192': '1', '1.2288000000000001': '1', '1.6384': '2', '2.048': '2', '2.4576000000000002': '2', '2.8672': '2', '3.2768': '2', '3.6864000000000003': '2', '4.096': '2', '4.5056': '2', '4.9152000000000005': '2', '5.324800000000001': '2', '5.7344': '2', '6.144': '2', '6.5536': '2', '6.9632000000000005': '2', '7.372800000000001': '2', '7.7824': '1', '8.192': '1', '8.601600000000001': '3', '9.0112': '1', '9.4208': '1', '9.830400000000001': '2', '10.24': '2', '10.649600000000001': '2', '11.0592': '2', '11.4688': '1', '11.878400000000001': '1', '12.288': '1', '12.697600000000001': '1', '13.1072': '2', '13.5168': '2', '13.926400000000001': '2', '14.336': '2', '14.745600000000001': '1', '15.1552': '3', '15.5648': '3', '15.974400000000001': '1', '16.384': '1', '16.7936': '2', '17.203200000000002': '2', '17.6128': '2', '18.0224': '1', '18.432000000000002': '1', '18.8416': '3', '19.2512': '1', '19.660800000000002': '0', '20.0704': '3', '20.48': '3', '20.8896': '3', '21.299200000000003': '1', '21.7088': '1', '22.1184': '1', '22.528000000000002': '1', '22.9376': '1', '23.3472': '1', '23.756800000000002': '1', '24.1664': '1', '24.576': '1', '24.9856': '1', '25.395200000000003': '1', '25.8048': '1', '26.2144': '1', '26.624000000000002': '3', '27.0336': '3', '27.4432': '3', '27.852800000000002': '0', '28.262400000000003': '1', '28.672': '3', '29.0816': '1', '29.491200000000003': '3', '29.9008': '1', '30.3104': '3', '30.720000000000002': '1', '31.1296': '3', '31.5392': '1', '31.948800000000002': '0', '32.3584': '3', '32.768': '3', '33.1776': '3', '33.5872': '3', '33.9968': '3', '34.406400000000005': '3', '34.816': '3', '35.2256': '0', '35.635200000000005': '3', '36.0448': '3', '36.4544': '3', '36.864000000000004': '1', '37.2736': '3', '37.6832': '3', '38.092800000000004': '3', '38.5024': '1', '38.912': '0', '39.321600000000004': '0', '39.7312': '3', '40.1408': '0', '40.5504': '0', '40.96': '3', '41.369600000000005': '3', '41.7792': '0', '42.1888': '0', '42.598400000000005': '0', '43.008': '3', '43.4176': '3', '43.827200000000005': '1', '44.2368': '3', '44.6464': '3', '45.056000000000004': '3', '45.4656': '0', '45.8752': '3', '46.284800000000004': '3', '46.6944': '3', '47.104': '3', '47.513600000000004': '3', '47.9232': '3', '48.3328': '3', '48.7424': '3', '49.152': '3', '49.561600000000006': '3', '49.9712': '3', '50.3808': '3', '50.790400000000005': '0', '51.2': '0', '51.6096': '3', '52.019200000000005': '3', '52.4288': '1', '52.8384': '3', '53.248000000000005': '3', '53.6576': '3', '54.0672': '3', '54.476800000000004': '3', '54.8864': '3', '55.296': '0', '55.705600000000004': '0', '56.1152': '0', '56.524800000000006': '0', '56.934400000000004': '0', '57.344': '0', '57.753600000000006': '0', '58.1632': '0', '58.5728': '3', '58.982400000000005': '0', '59.392': '3', '59.8016': '0', '60.211200000000005': '0', '60.6208': '0', '61.0304': '3', '61.440000000000005': '0', '61.8496': '3', '62.2592': '3', '62.668800000000005': '0', '63.0784': '3', '63.488': '0', '63.897600000000004': '0', '64.30720000000001': '0', '64.7168': '0', '65.1264': '3', '65.536': '3', '65.9456': '3', '66.3552': '0', '66.76480000000001': '0', '67.1744': '0', '67.584': '3', '67.9936': '3', '68.4032': '3', '68.81280000000001': '3', '69.22240000000001': '3', '69.632': '3', '70.0416': '0', '70.4512': '0', '70.8608': '0', '71.27040000000001': '0', '71.68': '3', '72.0896': '3', '72.4992': '3', '72.9088': '0', '73.3184': '0', '73.72800000000001': '0', '74.1376': '0', '74.5472': '0', '74.9568': '3', '75.3664': '3', '75.77600000000001': '3', '76.18560000000001': '3', '76.5952': '3', '77.0048': '3', '77.4144': '3', '77.824': '3', '78.23360000000001': '0', '78.64320000000001': '3', '79.0528': '0', '79.4624': '3', '79.872': '0', '80.2816': '0', '80.69120000000001': '0', '81.1008': '0', '81.5104': '0', '81.92': '0', '82.3296': '1', '82.73920000000001': '1', '83.14880000000001': '3', '83.5584': '3', '83.968': '3', '84.3776': '3', '84.7872': '0', '85.19680000000001': '0', '85.60640000000001': '3', '86.016': '3', '86.4256': '3', '86.8352': '0', '87.2448': '3', '87.65440000000001': '0', '88.06400000000001': '3', '88.4736': '3', '88.8832': '3', '89.2928': '3', '89.7024': '3', '90.11200000000001': '3', '90.5216': '0', '90.9312': '0', '91.3408': '3', '91.7504': '3', '92.16000000000001': '3', '92.56960000000001': '3', '92.9792': '3', '93.3888': '3', '93.7984': '3', '94.208': '3', '94.61760000000001': '0', '95.02720000000001': '1', '95.4368': '1', '95.8464': '3', '96.256': '3', '96.6656': '3', '97.07520000000001': '3', '97.4848': '0', '97.8944': '0', '98.304': '3', '98.7136': '3', '99.12320000000001': '3', '99.53280000000001': '0', '99.9424': '3', '100.352': '3', '100.7616': '0', '101.1712': '0', '101.58080000000001': '0', '101.99040000000001': '0', '102.4': '3', '102.8096': '0', '103.2192': '0', '103.6288': '3', '104.03840000000001': '0', '104.44800000000001': '0', '104.8576': '0', '105.2672': '3', '105.6768': '0', '106.08640000000001': '0', '106.49600000000001': '3', '106.9056': '3', '107.3152': '3', '107.7248': '3', '108.1344': '0', '108.54400000000001': '0', '108.95360000000001': '3', '109.3632': '0', '109.7728': '0', '110.1824': '0', '110.592': '3', '111.00160000000001': '3', '111.41120000000001': '3', '111.8208': '3', '112.2304': '0', '112.64': '1', '113.04960000000001': '1', '113.45920000000001': '0', '113.86880000000001': '1', '114.2784': '1', '114.688': '0', '115.0976': '1', '115.50720000000001': '0', '115.91680000000001': '3', '116.3264': '3', '116.736': '3', '117.1456': '3', '117.5552': '3', '117.96480000000001': '3', '118.37440000000001': '3', '118.784': '3', '119.1936': '3', '119.6032': '3', '120.01280000000001': '3', '120.42240000000001': '0', '120.83200000000001': '3', '121.2416': '3', '121.6512': '3', '122.0608': '3', '122.47040000000001': '0', '122.88000000000001': '0', '123.28960000000001': '0', '123.6992': '3', '124.1088': '3', '124.5184': '3', '124.92800000000001': '3', '125.33760000000001': '3', '125.7472': '3', '126.1568': '3', '126.5664': '3', '126.976': '3', '127.38560000000001': '3', '127.79520000000001': '3', '128.2048': '3', '128.61440000000002': '3', '129.024': '3', '129.4336': '3', '129.8432': '3', '130.2528': '3', '130.66240000000002': '3', '131.072': '3', '131.48160000000001': '3', '131.8912': '0', '132.3008': '3', '132.7104': '3', '133.12': '3', '133.52960000000002': '0', '133.9392': '0', '134.3488': '0', '134.7584': '3', '135.168': '0', '135.57760000000002': '0', '135.9872': '0', '136.3968': '3', '136.8064': '3', '137.216': '3', '137.62560000000002': '3', '138.0352': '3', '138.44480000000001': '0', '138.8544': '3', '139.264': '3', '139.6736': '3', '140.0832': '0', '140.49280000000002': '0', '140.9024': '0', '141.312': '3', '141.7216': '3', '142.1312': '0', '142.54080000000002': '0', '142.9504': '3', '143.36': '3', '143.7696': '3', '144.1792': '3', '144.58880000000002': '3', '144.9984': '3', '145.40800000000002': '3', '145.8176': '1', '146.2272': '0', '146.6368': '1', '147.0464': '1', '147.45600000000002': '1', '147.8656': '1', '148.2752': '1', '148.6848': '1', '149.0944': '1', '149.50400000000002': '1', '149.9136': '1', '150.3232': '3', '150.7328': '0', '151.1424': '3', '151.55200000000002': '0', '151.9616': '1', '152.37120000000002': '1', '152.7808': '1', '153.1904': '1', '153.6': '1', '154.0096': '1', '154.41920000000002': '1', '154.8288': '1', '155.2384': '1', '155.648': '0', '156.0576': '3', '156.46720000000002': '0', '156.8768': '3', '157.28640000000001': '3', '157.696': '3', '158.1056': '3', '158.51520000000002': '3', '158.9248': '3', '159.33440000000002': '0', '159.744': '0', '160.1536': '0', '160.5632': '0', '160.9728': '0', '161.38240000000002': '3', '161.792': '0', '162.2016': '0', '162.6112': '3', '163.0208': '0', '163.43040000000002': '0', '163.84': '0', '164.24960000000002': '3', '164.6592': '0', '165.0688': '0', '165.47840000000002': '0', '165.888': '0', '166.29760000000002': '0', '166.7072': '0', '167.1168': '0', '167.5264': '3', '167.936': '0', '168.34560000000002': '0', '168.7552': '0', '169.1648': '0', '169.5744': '0', '169.984': '0', '170.39360000000002': '0', '170.8032': '3', '171.21280000000002': '3', '171.6224': '0', '172.032': '3', '172.44160000000002': '0', '172.8512': '0', '173.26080000000002': '0', '173.6704': '0', '174.08': '0', '174.4896': '0', '174.8992': '3', '175.30880000000002': '3', '175.7184': '0', '176.12800000000001': '0', '176.5376': '3', '176.9472': '0', '177.35680000000002': '0', '177.7664': '0', '178.17600000000002': '0', '178.5856': '3', '178.9952': '0', '179.4048': '0', '179.8144': '0', '180.22400000000002': '0', '180.6336': '0', '181.0432': '0', '181.4528': '3', '181.8624': '0', '182.27200000000002': '0', '182.6816': '3', '183.09120000000001': '0', '183.5008': '0', '183.9104': '0', '184.32000000000002': '0', '184.7296': '0', '185.13920000000002': '1', '185.5488': '3', '185.9584': '0', '186.368': '0', '186.7776': '0', '187.18720000000002': '0', '187.5968': '0', '188.0064': '0', '188.416': '0', '188.8256': '0', '189.23520000000002': '0', '189.6448': '0', '190.05440000000002': '0', '190.464': '0', '190.8736': '0', '191.28320000000002': '0', '191.6928': '3', '192.10240000000002': '0', '192.512': '3', '192.9216': '0', '193.3312': '3', '193.7408': '3', '194.15040000000002': '0', '194.56': '0', '194.9696': '3', '195.3792': '0', '195.7888': '3', '196.19840000000002': '0', '196.608': '0', '197.01760000000002': '0', '197.4272': '0', '197.8368': '0', '198.24640000000002': '0', '198.656': '3', '199.06560000000002': '0', '199.4752': '0', '199.8848': '0', '200.2944': '0', '200.704': '0', '201.11360000000002': '0', '201.5232': '0', '201.93280000000001': '0', '202.3424': '0', '202.752': '0', '203.16160000000002': '0', '203.5712': '0', '203.98080000000002': '0', '204.3904': '0', '204.8': '0', '205.20960000000002': '0', '205.6192': '0', '206.02880000000002': '0', '206.4384': '0', '206.848': '0', '207.2576': '0', '207.6672': '0', '208.07680000000002': '3', '208.4864': '3', '208.89600000000002': '3', '209.3056': '0', '209.7152': '0', '210.12480000000002': '3', '210.5344': '3', '210.94400000000002': '0', '211.3536': '0', '211.7632': '3', '212.17280000000002': '3', '212.5824': '3', '212.99200000000002': '3', '213.4016': '3', '213.8112': '3', '214.2208': '3', '214.6304': '0', '215.04000000000002': '3', '215.4496': '3', '215.85920000000002': '3', '216.2688': '0', '216.6784': '0', '217.08800000000002': '0', '217.4976': '3', '217.90720000000002': '0', '218.3168': '0', '218.7264': '3', '219.13600000000002': '3', '219.5456': '3', '219.95520000000002': '3', '220.3648': '3', '220.7744': '3', '221.184': '0', '221.5936': '0', '222.00320000000002': '3', '222.4128': '3', '222.82240000000002': '3', '223.232': '0', '223.6416': '0', '224.05120000000002': '3', '224.4608': '3', '224.87040000000002': '0', '225.28': '3', '225.6896': '3', '226.09920000000002': '3', '226.5088': '3', '226.91840000000002': '3', '227.328': '3', '227.73760000000001': '3', '228.1472': '3', '228.5568': '0', '228.96640000000002': '3', '229.376': '3', '229.78560000000002': '3', '230.1952': '0', '230.6048': '0', '231.01440000000002': '3', '231.424': '3', '231.83360000000002': '3', '232.2432': '3', '232.6528': '3', '233.06240000000003': '3', '233.472': '1', '233.88160000000002': '1', '234.2912': '1', '234.70080000000002': '0', '235.1104': '1', '235.52': '2', '235.92960000000002': '2', '236.3392': '2', '236.74880000000002': '2', '237.1584': '2', '237.568': '2', '237.97760000000002': '2', '238.3872': '2', '238.79680000000002': '2', '239.2064': '2', '239.616': '2', '240.02560000000003': '2', '240.4352': '2', '240.84480000000002': '2', '241.2544': '2', '241.66400000000002': '2'}\", \"legs\": \"{'0.0': '0', '0.4096': '0', '0.8192': '1', '1.2288000000000001': '1', '1.6384': '1', '2.048': '1', '2.4576000000000002': '1', '2.8672': '1', '3.2768': '1', '3.6864000000000003': '1', '4.096': '1', '4.5056': '1', '4.9152000000000005': '1', '5.324800000000001': '1', '5.7344': '1', '6.144': '1', '6.5536': '1', '6.9632000000000005': '1', '7.372800000000001': '1', '7.7824': '0', '8.192': '0', '8.601600000000001': '0', '9.0112': '0', '9.4208': '1', '9.830400000000001': '1', '10.24': '1', '10.649600000000001': '1', '11.0592': '1', '11.4688': '0', '11.878400000000001': '0', '12.288': '0', '12.697600000000001': '1', '13.1072': '1', '13.5168': '1', '13.926400000000001': '1', '14.336': '1', '14.745600000000001': '0', '15.1552': '0', '15.5648': '0', '15.974400000000001': '1', '16.384': '1', '16.7936': '1', '17.203200000000002': '1', '17.6128': '1', '18.0224': '1', '18.432000000000002': '0', '18.8416': '0', '19.2512': '0', '19.660800000000002': '0', '20.0704': '0', '20.48': '0', '20.8896': '0', '21.299200000000003': '1', '21.7088': '0', '22.1184': '0', '22.528000000000002': '0', '22.9376': '1', '23.3472': '0', '23.756800000000002': '0', '24.1664': '0', '24.576': '1', '24.9856': '1', '25.395200000000003': '0', '25.8048': '0', '26.2144': '0', '26.624000000000002': '0', '27.0336': '0', '27.4432': '0', '27.852800000000002': '0', '28.262400000000003': '1', '28.672': '0', '29.0816': '0', '29.491200000000003': '0', '29.9008': '1', '30.3104': '0', '30.720000000000002': '0', '31.1296': '0', '31.5392': '0', '31.948800000000002': '0', '32.3584': '0', '32.768': '0', '33.1776': '0', '33.5872': '0', '33.9968': '0', '34.406400000000005': '2', '34.816': '2', '35.2256': '2', '35.635200000000005': '2', '36.0448': '2', '36.4544': '2', '36.864000000000004': '2', '37.2736': '2', '37.6832': '2', '38.092800000000004': '2', '38.5024': '2', '38.912': '2', '39.321600000000004': '2', '39.7312': '2', '40.1408': '2', '40.5504': '2', '40.96': '2', '41.369600000000005': '2', '41.7792': '2', '42.1888': '2', '42.598400000000005': '2', '43.008': '2', '43.4176': '2', '43.827200000000005': '2', '44.2368': '2', '44.6464': '2', '45.056000000000004': '2', '45.4656': '2', '45.8752': '2', '46.284800000000004': '2', '46.6944': '2', '47.104': '2', '47.513600000000004': '2', '47.9232': '2', '48.3328': '2', '48.7424': '2', '49.152': '2', '49.561600000000006': '2', '49.9712': '2', '50.3808': '2', '50.790400000000005': '2', '51.2': '2', '51.6096': '2', '52.019200000000005': '0', '52.4288': '0', '52.8384': '0', '53.248000000000005': '0', '53.6576': '0', '54.0672': '0', '54.476800000000004': '0', '54.8864': '0', '55.296': '2', '55.705600000000004': '2', '56.1152': '2', '56.524800000000006': '2', '56.934400000000004': '2', '57.344': '2', '57.753600000000006': '2', '58.1632': '2', '58.5728': '2', '58.982400000000005': '2', '59.392': '2', '59.8016': '2', '60.211200000000005': '2', '60.6208': '2', '61.0304': '2', '61.440000000000005': '2', '61.8496': '2', '62.2592': '2', '62.668800000000005': '2', '63.0784': '2', '63.488': '2', '63.897600000000004': '2', '64.30720000000001': '2', '64.7168': '2', '65.1264': '2', '65.536': '2', '65.9456': '2', '66.3552': '2', '66.76480000000001': '2', '67.1744': '2', '67.584': '2', '67.9936': '2', '68.4032': '2', '68.81280000000001': '2', '69.22240000000001': '2', '69.632': '2', '70.0416': '2', '70.4512': '2', '70.8608': '2', '71.27040000000001': '2', '71.68': '2', '72.0896': '2', '72.4992': '2', '72.9088': '2', '73.3184': '2', '73.72800000000001': '2', '74.1376': '2', '74.5472': '2', '74.9568': '2', '75.3664': '2', '75.77600000000001': '2', '76.18560000000001': '2', '76.5952': '2', '77.0048': '2', '77.4144': '2', '77.824': '2', '78.23360000000001': '2', '78.64320000000001': '2', '79.0528': '2', '79.4624': '2', '79.872': '2', '80.2816': '2', '80.69120000000001': '2', '81.1008': '2', '81.5104': '0', '81.92': '2', '82.3296': '0', '82.73920000000001': '0', '83.14880000000001': '2', '83.5584': '2', '83.968': '2', '84.3776': '2', '84.7872': '2', '85.19680000000001': '2', '85.60640000000001': '2', '86.016': '2', '86.4256': '2', '86.8352': '2', '87.2448': '2', '87.65440000000001': '2', '88.06400000000001': '2', '88.4736': '2', '88.8832': '2', '89.2928': '2', '89.7024': '2', '90.11200000000001': '2', '90.5216': '2', '90.9312': '2', '91.3408': '2', '91.7504': '2', '92.16000000000001': '2', '92.56960000000001': '2', '92.9792': '2', '93.3888': '2', '93.7984': '2', '94.208': '2', '94.61760000000001': '2', '95.02720000000001': '0', '95.4368': '0', '95.8464': '0', '96.256': '0', '96.6656': '0', '97.07520000000001': '2', '97.4848': '2', '97.8944': '2', '98.304': '2', '98.7136': '2', '99.12320000000001': '2', '99.53280000000001': '2', '99.9424': '2', '100.352': '2', '100.7616': '2', '101.1712': '2', '101.58080000000001': '2', '101.99040000000001': '2', '102.4': '2', '102.8096': '2', '103.2192': '2', '103.6288': '2', '104.03840000000001': '2', '104.44800000000001': '2', '104.8576': '2', '105.2672': '2', '105.6768': '2', '106.08640000000001': '2', '106.49600000000001': '2', '106.9056': '2', '107.3152': '2', '107.7248': '2', '108.1344': '2', '108.54400000000001': '2', '108.95360000000001': '2', '109.3632': '2', '109.7728': '2', '110.1824': '2', '110.592': '0', '111.00160000000001': '2', '111.41120000000001': '2', '111.8208': '2', '112.2304': '2', '112.64': '2', '113.04960000000001': '2', '113.45920000000001': '2', '113.86880000000001': '2', '114.2784': '2', '114.688': '2', '115.0976': '2', '115.50720000000001': '2', '115.91680000000001': '2', '116.3264': '2', '116.736': '2', '117.1456': '2', '117.5552': '2', '117.96480000000001': '2', '118.37440000000001': '2', '118.784': '2', '119.1936': '2', '119.6032': '2', '120.01280000000001': '2', '120.42240000000001': '2', '120.83200000000001': '2', '121.2416': '2', '121.6512': '2', '122.0608': '2', '122.47040000000001': '2', '122.88000000000001': '2', '123.28960000000001': '2', '123.6992': '2', '124.1088': '2', '124.5184': '2', '124.92800000000001': '2', '125.33760000000001': '2', '125.7472': '2', '126.1568': '2', '126.5664': '2', '126.976': '2', '127.38560000000001': '2', '127.79520000000001': '2', '128.2048': '2', '128.61440000000002': '2', '129.024': '2', '129.4336': '2', '129.8432': '2', '130.2528': '2', '130.66240000000002': '2', '131.072': '2', '131.48160000000001': '2', '131.8912': '2', '132.3008': '2', '132.7104': '2', '133.12': '2', '133.52960000000002': '2', '133.9392': '2', '134.3488': '2', '134.7584': '2', '135.168': '2', '135.57760000000002': '2', '135.9872': '2', '136.3968': '2', '136.8064': '2', '137.216': '2', '137.62560000000002': '2', '138.0352': '2', '138.44480000000001': '2', '138.8544': '2', '139.264': '2', '139.6736': '2', '140.0832': '2', '140.49280000000002': '2', '140.9024': '2', '141.312': '2', '141.7216': '2', '142.1312': '2', '142.54080000000002': '2', '142.9504': '2', '143.36': '2', '143.7696': '0', '144.1792': '0', '144.58880000000002': '2', '144.9984': '2', '145.40800000000002': '0', '145.8176': '0', '146.2272': '0', '146.6368': '0', '147.0464': '0', '147.45600000000002': '0', '147.8656': '0', '148.2752': '0', '148.6848': '0', '149.0944': '0', '149.50400000000002': '0', '149.9136': '0', '150.3232': '0', '150.7328': '0', '151.1424': '0', '151.55200000000002': '0', '151.9616': '0', '152.37120000000002': '0', '152.7808': '0', '153.1904': '0', '153.6': '0', '154.0096': '0', '154.41920000000002': '0', '154.8288': '0', '155.2384': '0', '155.648': '0', '156.0576': '0', '156.46720000000002': '0', '156.8768': '0', '157.28640000000001': '0', '157.696': '0', '158.1056': '0', '158.51520000000002': '0', '158.9248': '0', '159.33440000000002': '2', '159.744': '2', '160.1536': '2', '160.5632': '2', '160.9728': '2', '161.38240000000002': '2', '161.792': '2', '162.2016': '2', '162.6112': '2', '163.0208': '2', '163.43040000000002': '2', '163.84': '2', '164.24960000000002': '2', '164.6592': '2', '165.0688': '2', '165.47840000000002': '2', '165.888': '2', '166.29760000000002': '2', '166.7072': '2', '167.1168': '2', '167.5264': '2', '167.936': '2', '168.34560000000002': '2', '168.7552': '2', '169.1648': '2', '169.5744': '2', '169.984': '2', '170.39360000000002': '2', '170.8032': '2', '171.21280000000002': '2', '171.6224': '2', '172.032': '2', '172.44160000000002': '2', '172.8512': '2', '173.26080000000002': '2', '173.6704': '2', '174.08': '2', '174.4896': '2', '174.8992': '2', '175.30880000000002': '2', '175.7184': '2', '176.12800000000001': '2', '176.5376': '2', '176.9472': '2', '177.35680000000002': '2', '177.7664': '2', '178.17600000000002': '2', '178.5856': '2', '178.9952': '2', '179.4048': '2', '179.8144': '2', '180.22400000000002': '2', '180.6336': '2', '181.0432': '2', '181.4528': '2', '181.8624': '2', '182.27200000000002': '2', '182.6816': '2', '183.09120000000001': '2', '183.5008': '2', '183.9104': '2', '184.32000000000002': '2', '184.7296': '0', '185.13920000000002': '0', '185.5488': '0', '185.9584': '0', '186.368': '0', '186.7776': '2', '187.18720000000002': '2', '187.5968': '2', '188.0064': '2', '188.416': '2', '188.8256': '2', '189.23520000000002': '2', '189.6448': '2', '190.05440000000002': '2', '190.464': '2', '190.8736': '2', '191.28320000000002': '2', '191.6928': '2', '192.10240000000002': '2', '192.512': '2', '192.9216': '2', '193.3312': '2', '193.7408': '2', '194.15040000000002': '2', '194.56': '2', '194.9696': '2', '195.3792': '2', '195.7888': '2', '196.19840000000002': '2', '196.608': '2', '197.01760000000002': '2', '197.4272': '2', '197.8368': '2', '198.24640000000002': '2', '198.656': '2', '199.06560000000002': '2', '199.4752': '2', '199.8848': '2', '200.2944': '2', '200.704': '2', '201.11360000000002': '2', '201.5232': '2', '201.93280000000001': '2', '202.3424': '2', '202.752': '2', '203.16160000000002': '2', '203.5712': '2', '203.98080000000002': '2', '204.3904': '2', '204.8': '2', '205.20960000000002': '2', '205.6192': '2', '206.02880000000002': '0', '206.4384': '0', '206.848': '2', '207.2576': '2', '207.6672': '2', '208.07680000000002': '2', '208.4864': '2', '208.89600000000002': '2', '209.3056': '2', '209.7152': '2', '210.12480000000002': '2', '210.5344': '2', '210.94400000000002': '2', '211.3536': '2', '211.7632': '2', '212.17280000000002': '2', '212.5824': '2', '212.99200000000002': '2', '213.4016': '2', '213.8112': '2', '214.2208': '2', '214.6304': '2', '215.04000000000002': '2', '215.4496': '2', '215.85920000000002': '2', '216.2688': '2', '216.6784': '2', '217.08800000000002': '2', '217.4976': '2', '217.90720000000002': '2', '218.3168': '2', '218.7264': '2', '219.13600000000002': '2', '219.5456': '2', '219.95520000000002': '2', '220.3648': '2', '220.7744': '2', '221.184': '2', '221.5936': '2', '222.00320000000002': '2', '222.4128': '2', '222.82240000000002': '2', '223.232': '2', '223.6416': '2', '224.05120000000002': '2', '224.4608': '2', '224.87040000000002': '2', '225.28': '2', '225.6896': '2', '226.09920000000002': '2', '226.5088': '2', '226.91840000000002': '2', '227.328': '2', '227.73760000000001': '2', '228.1472': '2', '228.5568': '2', '228.96640000000002': '2', '229.376': '2', '229.78560000000002': '2', '230.1952': '2', '230.6048': '2', '231.01440000000002': '2', '231.424': '2', '231.83360000000002': '2', '232.2432': '2', '232.6528': '2', '233.06240000000003': '2', '233.472': '0', '233.88160000000002': '0', '234.2912': '0', '234.70080000000002': '0', '235.1104': '1', '235.52': '1', '235.92960000000002': '1', '236.3392': '1', '236.74880000000002': '1', '237.1584': '1', '237.568': '1', '237.97760000000002': '1', '238.3872': '1', '238.79680000000002': '1', '239.2064': '1', '239.616': '1', '240.02560000000003': '1', '240.4352': '1', '240.84480000000002': '1', '241.2544': '1', '241.66400000000002': '1'}\", \"noises\": \"{'0.0': '0.6537476309701533', '0.4096': '0.520271706868334', '0.8192': '0.5311706784325122', '1.2288000000000001': '0.441234987484325', '1.6384': '0.413876740834727', '2.048': '0.40379248082460023', '2.4576000000000002': '0.382276762365303', '2.8672': '0.37374360845504306', '3.2768': '0.3777534614505619', '3.6864000000000003': '0.3742586406784471', '4.096': '0.3748943130055703', '4.5056': '0.3662343151392124', '4.9152000000000005': '0.3684225364720393', '5.324800000000001': '0.37410346402900624', '5.7344': '0.375571694630816', '6.144': '0.3750622267536404', '6.5536': '0.3718713722529001', '6.9632000000000005': '0.380850737562622', '7.372800000000001': '0.3831082521184066', '7.7824': '0.5190185833189767', '8.192': '0.5376008452894817', '8.601600000000001': '0.5524778921779803', '9.0112': '0.5706802939223292', '9.4208': '0.43270599357764167', '9.830400000000001': '0.41156759660149134', '10.24': '0.38889664081063585', '10.649600000000001': '0.38011833269964956', '11.0592': '0.3884260767598777', '11.4688': '0.5403451043657099', '11.878400000000001': '0.5405746581513244', '12.288': '0.5499711566122564', '12.697600000000001': '0.4423829428011251', '13.1072': '0.4204181624802783', '13.5168': '0.38893217999916635', '13.926400000000001': '0.3867829123035374', '14.336': '0.3933576718224783', '14.745600000000001': '0.5505368656810834', '15.1552': '0.5420417302507864', '15.5648': '0.5285440756335675', '15.974400000000001': '0.5110218384909784', '16.384': '0.41806900251545914', '16.7936': '0.39648607806558966', '17.203200000000002': '0.3942147514623953', '17.6128': '0.38204305339651', '18.0224': '0.5118599964614796', '18.432000000000002': '0.5026110664549578', '18.8416': '0.5742555382166579', '19.2512': '0.5361805374789697', '19.660800000000002': '0.5799839450882955', '20.0704': '0.612648530977447', '20.48': '0.6086110426395132', '20.8896': '0.543694021327565', '21.299200000000003': '0.44949634003305783', '21.7088': '0.5465559238266817', '22.1184': '0.5189978877430533', '22.528000000000002': '0.5743474214319997', '22.9376': '0.502311828994138', '23.3472': '0.5442854263319639', '23.756800000000002': '0.5630801200339655', '24.1664': '0.5474915695287376', '24.576': '0.5284868221583112', '24.9856': '0.5228376369229566', '25.395200000000003': '0.5157870912552955', '25.8048': '0.5621427518429818', '26.2144': '0.5652872839245999', '26.624000000000002': '0.6214286740533171', '27.0336': '0.5815612307703457', '27.4432': '0.5846896562950494', '27.852800000000002': '0.5942097497637473', '28.262400000000003': '0.4697737046428338', '28.672': '0.6258193240390264', '29.0816': '0.5335397819911483', '29.491200000000003': '0.7014919647022974', '29.9008': '0.49210240574005726', '30.3104': '0.63694338891376', '30.720000000000002': '0.6143070821445824', '31.1296': '0.6515227151600467', '31.5392': '0.6028534562912631', '31.948800000000002': '0.6349514975759136', '32.3584': '0.6580406903891483', '32.768': '0.6928655858992194', '33.1776': '0.6702062697630213', '33.5872': '0.7441531050646033', '33.9968': '0.6789849474378634', '34.406400000000005': '0.7507973618700223', '34.816': '0.7538882011437946', '35.2256': '0.7206075041030862', '35.635200000000005': '0.7634544933080629', '36.0448': '0.746422214284663', '36.4544': '0.7680475743059718', '36.864000000000004': '0.6909828797923623', '37.2736': '0.7612554148318731', '37.6832': '0.7448380900644819', '38.092800000000004': '0.7742858636090233', '38.5024': '0.6909022056094463', '38.912': '0.7572939988034514', '39.321600000000004': '0.7319452861488146', '39.7312': '0.7489982350393478', '40.1408': '0.7540961338370469', '40.5504': '0.7268237866819258', '40.96': '0.7395421050400877', '41.369600000000005': '0.7565910433593861', '41.7792': '0.7448264954002068', '42.1888': '0.7371473312546697', '42.598400000000005': '0.7730738998324029', '43.008': '0.7513260888444819', '43.4176': '0.7439229599768196', '43.827200000000005': '0.7052425943617804', '44.2368': '0.7578806990992863', '44.6464': '0.7453338583702038', '45.056000000000004': '0.7634914111304554', '45.4656': '0.7296282814530466', '45.8752': '0.7223739293529228', '46.284800000000004': '0.7512041777624588', '46.6944': '0.7680889140402385', '47.104': '0.7634693015710838', '47.513600000000004': '0.7586708587589194', '47.9232': '0.7461382606994785', '48.3328': '0.7808843330595111', '48.7424': '0.7611190811186785', '49.152': '0.7610384840621323', '49.561600000000006': '0.7164276147775255', '49.9712': '0.7569875243182558', '50.3808': '0.7822175651984052', '50.790400000000005': '0.7315116302796527', '51.2': '0.748525733188546', '51.6096': '0.7642661712248984', '52.019200000000005': '0.7044112235118303', '52.4288': '0.6663425985540539', '52.8384': '0.7198527968648174', '53.248000000000005': '0.7435393848305132', '53.6576': '0.7416100429786563', '54.0672': '0.636949636149722', '54.476800000000004': '0.6850520933261051', '54.8864': '0.6706262228471309', '55.296': '0.7423529498823302', '55.705600000000004': '0.771613897650182', '56.1152': '0.7574588178559293', '56.524800000000006': '0.7712701454195343', '56.934400000000004': '0.7338546522708673', '57.344': '0.7373248761581812', '57.753600000000006': '0.6958365450853758', '58.1632': '0.7186819414433543', '58.5728': '0.7248103256692972', '58.982400000000005': '0.7682395418406547', '59.392': '0.730094150436037', '59.8016': '0.72271012319932', '60.211200000000005': '0.6944613562012556', '60.6208': '0.7108644125902153', '61.0304': '0.7805971144580008', '61.440000000000005': '0.7766157226997747', '61.8496': '0.709515755177341', '62.2592': '0.7450832490856063', '62.668800000000005': '0.7380403517829603', '63.0784': '0.7559734410980109', '63.488': '0.7552065993108779', '63.897600000000004': '0.7710945800928504', '64.30720000000001': '0.7079151259140009', '64.7168': '0.7762510178053041', '65.1264': '0.7536173333327032', '65.536': '0.714789296428094', '65.9456': '0.7562688608035206', '66.3552': '0.7059530824813061', '66.76480000000001': '0.713792386679547', '67.1744': '0.6903762551843031', '67.584': '0.7227613351089341', '67.9936': '0.7170336737922055', '68.4032': '0.7341560107068594', '68.81280000000001': '0.7225237858896398', '69.22240000000001': '0.6511481895078087', '69.632': '0.7318945112886299', '70.0416': '0.7122607855172681', '70.4512': '0.7497661565956595', '70.8608': '0.7084197123346815', '71.27040000000001': '0.7048237724644295', '71.68': '0.7357945090178207', '72.0896': '0.7652612813581476', '72.4992': '0.7413076818998554', '72.9088': '0.7612281892232982', '73.3184': '0.7286159207217294', '73.72800000000001': '0.7408181094125155', '74.1376': '0.7186920964153911', '74.5472': '0.741410517059723', '74.9568': '0.7211985748932155', '75.3664': '0.7696894147596287', '75.77600000000001': '0.7356214374437635', '76.18560000000001': '0.7768876445712547', '76.5952': '0.7568628366869163', '77.0048': '0.7589907532324777', '77.4144': '0.7677628494570882', '77.824': '0.7192717010851952', '78.23360000000001': '0.7566263929455905', '78.64320000000001': '0.752359505074782', '79.0528': '0.7322795518359644', '79.4624': '0.7301892729589146', '79.872': '0.7464125477796355', '80.2816': '0.7286386215832702', '80.69120000000001': '0.7585225447496002', '81.1008': '0.751159752973396', '81.5104': '0.6684730859786119', '81.92': '0.7196088975744013', '82.3296': '0.7284019464628348', '82.73920000000001': '0.6511059499658931', '83.14880000000001': '0.7003745321463855', '83.5584': '0.7597211913730176', '83.968': '0.7508317602309982', '84.3776': '0.779383993785832', '84.7872': '0.7618319858644611', '85.19680000000001': '0.7297521464031071', '85.60640000000001': '0.7539926816662201', '86.016': '0.7387857010216812', '86.4256': '0.7472578270849577', '86.8352': '0.7687781152816715', '87.2448': '0.7294785791690692', '87.65440000000001': '0.7234167807091405', '88.06400000000001': '0.7345717218406245', '88.4736': '0.7659152872661159', '88.8832': '0.7154788318837966', '89.2928': '0.7840312174954112', '89.7024': '0.7149428550305663', '90.11200000000001': '0.755316015920977', '90.5216': '0.7891612008629889', '90.9312': '0.7365420177948987', '91.3408': '0.7832241671607698', '91.7504': '0.753234452323726', '92.16000000000001': '0.7073606901495745', '92.56960000000001': '0.7683820199546514', '92.9792': '0.7797296998845171', '93.3888': '0.7492962513326443', '93.7984': '0.7481801556338107', '94.208': '0.7356573526233472', '94.61760000000001': '0.7576414273910642', '95.02720000000001': '0.6312559361445396', '95.4368': '0.6519432338375355', '95.8464': '0.7225972101937854', '96.256': '0.6833110940695457', '96.6656': '0.6233783772668279', '97.07520000000001': '0.7684844437738795', '97.4848': '0.7442564029826905', '97.8944': '0.7512232279758243', '98.304': '0.7436295198481373', '98.7136': '0.7568426295780022', '99.12320000000001': '0.7379788820661495', '99.53280000000001': '0.7070139299905007', '99.9424': '0.7586156362780705', '100.352': '0.7310021848976683', '100.7616': '0.7700503661707642', '101.1712': '0.7399081467916366', '101.58080000000001': '0.7264350183600462', '101.99040000000001': '0.7185082528583377', '102.4': '0.7408249479506467', '102.8096': '0.734522386672678', '103.2192': '0.7784316373702977', '103.6288': '0.7464210830979046', '104.03840000000001': '0.7528359660792387', '104.44800000000001': '0.7486742528681848', '104.8576': '0.7446602109467008', '105.2672': '0.7627607673195957', '105.6768': '0.7786213425314635', '106.08640000000001': '0.7260556851640844', '106.49600000000001': '0.7656159084069513', '106.9056': '0.7279043271242353', '107.3152': '0.7686459463924517', '107.7248': '0.7534197869905974', '108.1344': '0.7388167315311711', '108.54400000000001': '0.7460048834971302', '108.95360000000001': '0.7602128976899247', '109.3632': '0.6998694829674854', '109.7728': '0.7255465225787896', '110.1824': '0.7525061480127533', '110.592': '0.6443740004778971', '111.00160000000001': '0.7460661475436214', '111.41120000000001': '0.6946117269137722', '111.8208': '0.7324647065413061', '112.2304': '0.7311981630035862', '112.64': '0.6916035928173234', '113.04960000000001': '0.709478451723099', '113.45920000000001': '0.7221521910394582', '113.86880000000001': '0.7288763250553043', '114.2784': '0.7106706968578145', '114.688': '0.759823486648296', '115.0976': '0.6812740838053073', '115.50720000000001': '0.7261221680949388', '115.91680000000001': '0.7462954956589162', '116.3264': '0.7680690668543841', '116.736': '0.7638977899734625', '117.1456': '0.7631399205540278', '117.5552': '0.7586485435292281', '117.96480000000001': '0.7485425724459742', '118.37440000000001': '0.7683964682946127', '118.784': '0.7132962070331856', '119.1936': '0.6865890933342771', '119.6032': '0.7457272285654876', '120.01280000000001': '0.7547706039418289', '120.42240000000001': '0.7578247310635283', '120.83200000000001': '0.718929285711626', '121.2416': '0.7442842970198046', '121.6512': '0.685956657101091', '122.0608': '0.7334380156206635', '122.47040000000001': '0.7761063287353702', '122.88000000000001': '0.7551750803343784', '123.28960000000001': '0.7164545318806208', '123.6992': '0.7520288643270174', '124.1088': '0.7638426189101934', '124.5184': '0.7179219639031423', '124.92800000000001': '0.7406550128489654', '125.33760000000001': '0.7804569758438911', '125.7472': '0.7558064625071759', '126.1568': '0.7370232349254995', '126.5664': '0.7647261528949864', '126.976': '0.7291527716738185', '127.38560000000001': '0.7419567517201501', '127.79520000000001': '0.7522784195512263', '128.2048': '0.7799104583867744', '128.61440000000002': '0.7217455551085514', '129.024': '0.8010214369384251', '129.4336': '0.7325939703372597', '129.8432': '0.74533681488105', '130.2528': '0.7618084880304313', '130.66240000000002': '0.7299840139798187', '131.072': '0.7645589943426214', '131.48160000000001': '0.761511088748094', '131.8912': '0.75287388654444', '132.3008': '0.7560241645406156', '132.7104': '0.7454013439438669', '133.12': '0.7302290444569934', '133.52960000000002': '0.6963432396268336', '133.9392': '0.7480970391158477', '134.3488': '0.7414139877463686', '134.7584': '0.7502747792963649', '135.168': '0.717375986330615', '135.57760000000002': '0.7239305708766294', '135.9872': '0.7395345209470474', '136.3968': '0.7609528995003325', '136.8064': '0.7609103257441472', '137.216': '0.7794373395250134', '137.62560000000002': '0.7576505797202925', '138.0352': '0.7506569147504332', '138.44480000000001': '0.7418603437577742', '138.8544': '0.7632704183718999', '139.264': '0.7560496933690528', '139.6736': '0.7703074797792233', '140.0832': '0.7421613936882867', '140.49280000000002': '0.7276452596477386', '140.9024': '0.7512857260442338', '141.312': '0.7667588955000902', '141.7216': '0.7614918071556189', '142.1312': '0.7284070110944583', '142.54080000000002': '0.7424641146901472', '142.9504': '0.7666303772590457', '143.36': '0.7446780785557278', '143.7696': '0.7390016291486132', '144.1792': '0.7084402536578651', '144.58880000000002': '0.7564814467877571', '144.9984': '0.7211450491925042', '145.40800000000002': '0.714215938994252', '145.8176': '0.5811704571628485', '146.2272': '0.7208289082022812', '146.6368': '0.6721547389546138', '147.0464': '0.6358782223278509', '147.45600000000002': '0.621401551279902', '147.8656': '0.6056571540898947', '148.2752': '0.6549721920538574', '148.6848': '0.5596854028627843', '149.0944': '0.6582309097261134', '149.50400000000002': '0.5872173445245964', '149.9136': '0.610359420318793', '150.3232': '0.6975834316548375', '150.7328': '0.6769550327996559', '151.1424': '0.6275007046116525', '151.55200000000002': '0.658156585614319', '151.9616': '0.5996160254970995', '152.37120000000002': '0.7154072586125286', '152.7808': '0.6188620884245503', '153.1904': '0.6326813342954651', '153.6': '0.62374192526575', '154.0096': '0.65332276750716', '154.41920000000002': '0.6043858287172409', '154.8288': '0.6437844207975858', '155.2384': '0.6657333516494179', '155.648': '0.642366169690271', '156.0576': '0.6817720630669665', '156.46720000000002': '0.6576573723307415', '156.8768': '0.692914741105636', '157.28640000000001': '0.6847254117319956', '157.696': '0.6837497888615411', '158.1056': '0.6328544058695225', '158.51520000000002': '0.7292523675261504', '158.9248': '0.7344507619838301', '159.33440000000002': '0.7592526486758706', '159.744': '0.7388659381551679', '160.1536': '0.7811483880412613', '160.5632': '0.7018911707929036', '160.9728': '0.7830044084241325', '161.38240000000002': '0.7499007164023463', '161.792': '0.7379293155190934', '162.2016': '0.7222547434026361', '162.6112': '0.7269462119397483', '163.0208': '0.7016531331065999', '163.43040000000002': '0.7454653845396746', '163.84': '0.7350995747162251', '164.24960000000002': '0.766128927310741', '164.6592': '0.7303493358852486', '165.0688': '0.7451505289889497', '165.47840000000002': '0.7609673221315039', '165.888': '0.7387712269729297', '166.29760000000002': '0.772025675339082', '166.7072': '0.7444963688282416', '167.1168': '0.7558961604753703', '167.5264': '0.759473872813536', '167.936': '0.7280299659808035', '168.34560000000002': '0.743645227918807', '168.7552': '0.7390995025120173', '169.1648': '0.7615214236816608', '169.5744': '0.7427852174768339', '169.984': '0.752509413029079', '170.39360000000002': '0.7393401110773177', '170.8032': '0.7772747675305766', '171.21280000000002': '0.7425567691691879', '171.6224': '0.706869960766686', '172.032': '0.7671548365743707', '172.44160000000002': '0.7342975118868373', '172.8512': '0.6723754489164797', '173.26080000000002': '0.7706268857857722', '173.6704': '0.7509581703512654', '174.08': '0.7693518583473631', '174.4896': '0.7665395738128824', '174.8992': '0.7201738225251342', '175.30880000000002': '0.7728715716553634', '175.7184': '0.7501096260296175', '176.12800000000001': '0.7325161241212399', '176.5376': '0.7664341677740181', '176.9472': '0.7474780742886042', '177.35680000000002': '0.7439178953451961', '177.7664': '0.736144020017421', '178.17600000000002': '0.7361915041524898', '178.5856': '0.7463337760471769', '178.9952': '0.7383767770084675', '179.4048': '0.7263346255352254', '179.8144': '0.7623654689650645', '180.22400000000002': '0.7624346513188655', '180.6336': '0.7438838569072799', '181.0432': '0.7429440206724595', '181.4528': '0.7708837937239116', '181.8624': '0.7779112914613673', '182.27200000000002': '0.7437199119536608', '182.6816': '0.7249754018096747', '183.09120000000001': '0.7463101496691973', '183.5008': '0.7325198004782052', '183.9104': '0.702566026529535', '184.32000000000002': '0.7058316341575024', '184.7296': '0.7234296093953341', '185.13920000000002': '0.5705058340736138', '185.5488': '0.5313704742937401', '185.9584': '0.6358123821167456', '186.368': '0.6607170525510738', '186.7776': '0.7376499638073128', '187.18720000000002': '0.7730242561589769', '187.5968': '0.7658898355640487', '188.0064': '0.7362081891571783', '188.416': '0.7386619131979905', '188.8256': '0.726427434267006', '189.23520000000002': '0.7640295218132529', '189.6448': '0.7590888579749915', '190.05440000000002': '0.7562574718095654', '190.464': '0.7362720755002461', '190.8736': '0.7175671311840189', '191.28320000000002': '0.74228304768241', '191.6928': '0.7026092944230494', '192.10240000000002': '0.7619095492837913', '192.512': '0.7283441788117792', '192.9216': '0.7572325033778504', '193.3312': '0.7185330875494458', '193.7408': '0.7682493111808422', '194.15040000000002': '0.7548149516045218', '194.56': '0.7473265466805392', '194.9696': '0.7333363116475544', '195.3792': '0.7264945856263996', '195.7888': '0.7487085741027906', '196.19840000000002': '0.7304806306756095', '196.608': '0.7621182789495327', '197.01760000000002': '0.7400654588774441', '197.4272': '0.7197825090330479', '197.8368': '0.7617154222107512', '198.24640000000002': '0.7372624037985616', '198.656': '0.722726473989739', '199.06560000000002': '0.773257280631237', '199.4752': '0.730586705143013', '199.8848': '0.7413558601722534', '200.2944': '0.7526335093582492', '200.704': '0.7807850457126588', '201.11360000000002': '0.7534349294678879', '201.5232': '0.7788059573522159', '201.93280000000001': '0.7634137962935452', '202.3424': '0.7201541295920195', '202.752': '0.7561947166532561', '203.16160000000002': '0.7696422648388295', '203.5712': '0.740521687064197', '203.98080000000002': '0.7363640358419578', '204.3904': '0.7227781743663624', '204.8': '0.7660388694194868', '205.20960000000002': '0.7376904808603006', '205.6192': '0.7191241840483651', '206.02880000000002': '0.6885305697349984', '206.4384': '0.6617157876237084', '206.848': '0.68783771784539', '207.2576': '0.75135866188137', '207.6672': '0.7288978433125066', '208.07680000000002': '0.7388447798210251', '208.4864': '0.7656633925420202', '208.89600000000002': '0.7692095601948963', '209.3056': '0.7499812620413127', '209.7152': '0.7199568146290235', '210.12480000000002': '0.7820077814722752', '210.5344': '0.744319698023589', '210.94400000000002': '0.7668035773770527', '211.3536': '0.7726844887907741', '211.7632': '0.7590008310781446', '212.17280000000002': '0.7508769819925499', '212.5824': '0.7481055230165368', '212.99200000000002': '0.7595043891472266', '213.4016': '0.7518200318261162', '213.8112': '0.7895672969093064', '214.2208': '0.7463544716231003', '214.6304': '0.7430517405024208', '215.04000000000002': '0.7389465609205041', '215.4496': '0.776952739227451', '215.85920000000002': '0.7545058548227497', '216.2688': '0.7185951485684259', '216.6784': '0.7670255213608371', '217.08800000000002': '0.769573416699298', '217.4976': '0.7615094948031161', '217.90720000000002': '0.7471724481934776', '218.3168': '0.7305251325910422', '218.7264': '0.7437017615479443', '219.13600000000002': '0.7759305320295766', '219.5456': '0.7627472959136531', '219.95520000000002': '0.7682381278572066', '220.3648': '0.7881324379236729', '220.7744': '0.7663015361265788', '221.184': '0.7608013204746875', '221.5936': '0.7523127150770421', '222.00320000000002': '0.7622637392831655', '222.4128': '0.7788028980062098', '222.82240000000002': '0.7873401444344726', '223.232': '0.7439758172489916', '223.6416': '0.7371873084230682', '224.05120000000002': '0.7701845660543915', '224.4608': '0.7414871806714044', '224.87040000000002': '0.7368192870946919', '225.28': '0.7492703625811477', '225.6896': '0.78181763926168', '226.09920000000002': '0.7745111497355033', '226.5088': '0.7658528663240762', '226.91840000000002': '0.7252065238314772', '227.328': '0.7645513331232113', '227.73760000000001': '0.7821606973549985', '228.1472': '0.7799549345934171', '228.5568': '0.7581111012749697', '228.96640000000002': '0.7257562548873397', '229.376': '0.7826329164091107', '229.78560000000002': '0.7714718822944047', '230.1952': '0.7628209773056982', '230.6048': '0.7103844294815329', '231.01440000000002': '0.7556514127948853', '231.424': '0.707669427008287', '231.83360000000002': '0.7411764642358643', '232.2432': '0.6687486327894774', '232.6528': '0.7549955044364595', '233.06240000000003': '0.7726590627974969', '233.472': '0.6259092019687508', '233.88160000000002': '0.6241847848817201', '234.2912': '0.6787657028770255', '234.70080000000002': '0.635157065060489', '235.1104': '0.529100092488577', '235.52': '0.45818775564755465', '235.92960000000002': '0.40561245105674043', '236.3392': '0.37502568331550185', '236.74880000000002': '0.3705106734855251', '237.1584': '0.3644009377731044', '237.568': '0.3649048396972521', '237.97760000000002': '0.36003341364737', '238.3872': '0.3592257736173588', '238.79680000000002': '0.3559421585888191', '239.2064': '0.35424912671224', '239.616': '0.3517298565046079', '240.02560000000003': '0.35139293246832054', '240.4352': '0.3512089193939333', '240.84480000000002': '0.35108631146310715', '241.2544': '0.351021436938425', '241.66400000000002': '0.35113205613742987'}\", \"hnoises\": \"{'0.0': '0.81', '0.4096': '0.4541', '0.8192': '0.4831', '1.2288000000000001': '0.2433', '1.6384': '0.1703', '2.048': '0.1434', '2.4576000000000002': '0.0861', '2.8672': '0.0633', '3.2768': '0.074', '3.6864000000000003': '0.0647', '4.096': '0.0664', '4.5056': '0.0433', '4.9152000000000005': '0.0491', '5.324800000000001': '0.0643', '5.7344': '0.0682', '6.144': '0.0668', '6.5536': '0.0583', '6.9632000000000005': '0.0823', '7.372800000000001': '0.0883', '7.7824': '0.4507', '8.192': '0.5003', '8.601600000000001': '0.5399', '9.0112': '0.5885', '9.4208': '0.2205', '9.830400000000001': '0.1642', '10.24': '0.1037', '10.649600000000001': '0.0803', '11.0592': '0.1025', '11.4688': '0.5076', '11.878400000000001': '0.5082', '12.288': '0.5333', '12.697600000000001': '0.2464', '13.1072': '0.1878', '13.5168': '0.1038', '13.926400000000001': '0.0981', '14.336': '0.1156', '14.745600000000001': '0.5348', '15.1552': '0.5121', '15.5648': '0.4761', '15.974400000000001': '0.4294', '16.384': '0.1815', '16.7936': '0.124', '17.203200000000002': '0.1179', '17.6128': '0.0854', '18.0224': '0.4316', '18.432000000000002': '0.407', '18.8416': '0.598', '19.2512': '0.4965', '19.660800000000002': '0.6133', '20.0704': '0.7004', '20.48': '0.6896', '20.8896': '0.5165', '21.299200000000003': '0.2653', '21.7088': '0.5241', '22.1184': '0.4507', '22.528000000000002': '0.5983', '22.9376': '0.4062', '23.3472': '0.5181', '23.756800000000002': '0.5682', '24.1664': '0.5266', '24.576': '0.476', '24.9856': '0.4609', '25.395200000000003': '0.4421', '25.8048': '0.5657', '26.2144': '0.5741', '26.624000000000002': '0.7238', '27.0336': '0.6175', '27.4432': '0.6258', '27.852800000000002': '0.6512', '28.262400000000003': '0.3194', '28.672': '0.7355', '29.0816': '0.4894', '29.491200000000003': '0.9373', '29.9008': '0.3789', '30.3104': '0.7652', '30.720000000000002': '0.7048', '31.1296': '0.8041', '31.5392': '0.6743', '31.948800000000002': '0.7599', '32.3584': '0.8214', '32.768': '0.9143', '33.1776': '0.8539', '33.5872': '1.0511', '33.9968': '0.8773', '34.406400000000005': '1.0688', '34.816': '1.077', '35.2256': '0.9883', '35.635200000000005': '1.1025', '36.0448': '1.0571', '36.4544': '1.1148', '36.864000000000004': '0.9093', '37.2736': '1.0967', '37.6832': '1.0529', '38.092800000000004': '1.1314', '38.5024': '0.9091', '38.912': '1.0861', '39.321600000000004': '1.0185', '39.7312': '1.064', '40.1408': '1.0776', '40.5504': '1.0049', '40.96': '1.0388', '41.369600000000005': '1.0842', '41.7792': '1.0529', '42.1888': '1.0324', '42.598400000000005': '1.1282', '43.008': '1.0702', '43.4176': '1.0505', '43.827200000000005': '0.9473', '44.2368': '1.0877', '44.6464': '1.0542', '45.056000000000004': '1.1026', '45.4656': '1.0123', '45.8752': '0.993', '46.284800000000004': '1.0699', '46.6944': '1.1149', '47.104': '1.1026', '47.513600000000004': '1.0898', '47.9232': '1.0564', '48.3328': '1.149', '48.7424': '1.0963', '49.152': '1.0961', '49.561600000000006': '0.9771', '49.9712': '1.0853', '50.3808': '1.1526', '50.790400000000005': '1.0174', '51.2': '1.0627', '51.6096': '1.1047', '52.019200000000005': '0.9451', '52.4288': '0.8436', '52.8384': '0.9863', '53.248000000000005': '1.0494', '53.6576': '1.0443', '54.0672': '0.7652', '54.476800000000004': '0.8935', '54.8864': '0.855', '55.296': '1.0463', '55.705600000000004': '1.1243', '56.1152': '1.0866', '56.524800000000006': '1.1234', '56.934400000000004': '1.0236', '57.344': '1.0329', '57.753600000000006': '0.9222', '58.1632': '0.9832', '58.5728': '0.9995', '58.982400000000005': '1.1153', '59.392': '1.0136', '59.8016': '0.9939', '60.211200000000005': '0.9186', '60.6208': '0.9623', '61.0304': '1.1483', '61.440000000000005': '1.1376', '61.8496': '0.9587', '62.2592': '1.0536', '62.668800000000005': '1.0348', '63.0784': '1.0826', '63.488': '1.0806', '63.897600000000004': '1.1229', '64.30720000000001': '0.9544', '64.7168': '1.1367', '65.1264': '1.0763', '65.536': '0.9728', '65.9456': '1.0834', '66.3552': '0.9492', '66.76480000000001': '0.9701', '67.1744': '0.9077', '67.584': '0.994', '67.9936': '0.9788', '68.4032': '1.0244', '68.81280000000001': '0.9934', '69.22240000000001': '0.8031', '69.632': '1.0184', '70.0416': '0.966', '70.4512': '1.066', '70.8608': '0.9558', '71.27040000000001': '0.9462', '71.68': '1.0288', '72.0896': '1.1074', '72.4992': '1.0435', '72.9088': '1.0966', '73.3184': '1.0096', '73.72800000000001': '1.0422', '74.1376': '0.9832', '74.5472': '1.0438', '74.9568': '0.9899', '75.3664': '1.1192', '75.77600000000001': '1.0283', '76.18560000000001': '1.1384', '76.5952': '1.085', '77.0048': '1.0906', '77.4144': '1.114', '77.824': '0.9847', '78.23360000000001': '1.0843', '78.64320000000001': '1.073', '79.0528': '1.0194', '79.4624': '1.0138', '79.872': '1.0571', '80.2816': '1.0097', '80.69120000000001': '1.0894', '81.1008': '1.0698', '81.5104': '0.8493', '81.92': '0.9856', '82.3296': '1.0091', '82.73920000000001': '0.8029', '83.14880000000001': '0.9343', '83.5584': '1.0926', '83.968': '1.0689', '84.3776': '1.145', '84.7872': '1.0982', '85.19680000000001': '1.0127', '85.60640000000001': '1.0773', '86.016': '1.0368', '86.4256': '1.0594', '86.8352': '1.1167', '87.2448': '1.0119', '87.65440000000001': '0.9958', '88.06400000000001': '1.0255', '88.4736': '1.1091', '88.8832': '0.9746', '89.2928': '1.1574', '89.7024': '0.9732', '90.11200000000001': '1.0808', '90.5216': '1.1711', '90.9312': '1.0308', '91.3408': '1.1553', '91.7504': '1.0753', '92.16000000000001': '0.953', '92.56960000000001': '1.1157', '92.9792': '1.1459', '93.3888': '1.0648', '93.7984': '1.0618', '94.208': '1.0284', '94.61760000000001': '1.087', '95.02720000000001': '0.75', '95.4368': '0.8052', '95.8464': '0.9936', '96.256': '0.8888', '96.6656': '0.729', '97.07520000000001': '1.116', '97.4848': '1.0514', '97.8944': '1.0699', '98.304': '1.0497', '98.7136': '1.0849', '99.12320000000001': '1.0346', '99.53280000000001': '0.952', '99.9424': '1.0896', '100.352': '1.016', '100.7616': '1.1201', '101.1712': '1.0398', '101.58080000000001': '1.0038', '101.99040000000001': '0.9827', '102.4': '1.0422', '102.8096': '1.0254', '103.2192': '1.1425', '103.6288': '1.0571', '104.03840000000001': '1.0742', '104.44800000000001': '1.0631', '104.8576': '1.0524', '105.2672': '1.1007', '105.6768': '1.143', '106.08640000000001': '1.0028', '106.49600000000001': '1.1083', '106.9056': '1.0077', '107.3152': '1.1164', '107.7248': '1.0758', '108.1344': '1.0368', '108.54400000000001': '1.056', '108.95360000000001': '1.0939', '109.3632': '0.933', '109.7728': '1.0015', '110.1824': '1.0733', '110.592': '0.785', '111.00160000000001': '1.0562', '111.41120000000001': '0.919', '111.8208': '1.0199', '112.2304': '1.0165', '112.64': '0.9109', '113.04960000000001': '0.9586', '113.45920000000001': '0.9924', '113.86880000000001': '1.0103', '114.2784': '0.9618', '114.688': '1.0929', '115.0976': '0.8834', '115.50720000000001': '1.003', '115.91680000000001': '1.0568', '116.3264': '1.1149', '116.736': '1.1037', '117.1456': '1.1017', '117.5552': '1.0897', '117.96480000000001': '1.0628', '118.37440000000001': '1.1157', '118.784': '0.9688', '119.1936': '0.8976', '119.6032': '1.0553', '120.01280000000001': '1.0794', '120.42240000000001': '1.0875', '120.83200000000001': '0.9838', '121.2416': '1.0514', '121.6512': '0.8959', '122.0608': '1.0225', '122.47040000000001': '1.1363', '122.88000000000001': '1.0805', '123.28960000000001': '0.9772', '123.6992': '1.0721', '124.1088': '1.1036', '124.5184': '0.9811', '124.92800000000001': '1.0417', '125.33760000000001': '1.1479', '125.7472': '1.0822', '126.1568': '1.0321', '126.5664': '1.1059', '126.976': '1.0111', '127.38560000000001': '1.0452', '127.79520000000001': '1.0727', '128.2048': '1.1464', '128.61440000000002': '0.9913', '129.024': '1.2027', '129.4336': '1.0203', '129.8432': '1.0542', '130.2528': '1.0982', '130.66240000000002': '1.0133', '131.072': '1.1055', '131.48160000000001': '1.0974', '131.8912': '1.0743', '132.3008': '1.0827', '132.7104': '1.0544', '133.12': '1.0139', '133.52960000000002': '0.9236', '133.9392': '1.0616', '134.3488': '1.0438', '134.7584': '1.0674', '135.168': '0.9797', '135.57760000000002': '0.9971', '135.9872': '1.0388', '136.3968': '1.0959', '136.8064': '1.0958', '137.216': '1.1452', '137.62560000000002': '1.0871', '138.0352': '1.0684', '138.44480000000001': '1.045', '138.8544': '1.1021', '139.264': '1.0828', '139.6736': '1.1208', '140.0832': '1.0458', '140.49280000000002': '1.0071', '140.9024': '1.0701', '141.312': '1.1114', '141.7216': '1.0973', '142.1312': '1.0091', '142.54080000000002': '1.0466', '142.9504': '1.111', '143.36': '1.0525', '143.7696': '1.0373', '144.1792': '0.9558', '144.58880000000002': '1.084', '144.9984': '0.9897', '145.40800000000002': '0.9712', '145.8176': '0.6165', '146.2272': '0.9889', '146.6368': '0.8591', '147.0464': '0.7623', '147.45600000000002': '0.7237', '147.8656': '0.6818', '148.2752': '0.8133', '148.6848': '0.5592', '149.0944': '0.8219', '149.50400000000002': '0.6326', '149.9136': '0.6943', '150.3232': '0.9269', '150.7328': '0.8719', '151.1424': '0.74', '151.55200000000002': '0.8218', '151.9616': '0.6656', '152.37120000000002': '0.9744', '152.7808': '0.717', '153.1904': '0.7538', '153.6': '0.73', '154.0096': '0.8089', '154.41920000000002': '0.6784', '154.8288': '0.7834', '155.2384': '0.842', '155.648': '0.7796', '156.0576': '0.8847', '156.46720000000002': '0.8204', '156.8768': '0.9144', '157.28640000000001': '0.8926', '157.696': '0.89', '158.1056': '0.7543', '158.51520000000002': '1.0113', '158.9248': '1.0252', '159.33440000000002': '1.0913', '159.744': '1.037', '160.1536': '1.1497', '160.5632': '0.9384', '160.9728': '1.1547', '161.38240000000002': '1.0664', '161.792': '1.0345', '162.2016': '0.9927', '162.6112': '1.0052', '163.0208': '0.9377', '163.43040000000002': '1.0546', '163.84': '1.0269', '164.24960000000002': '1.1097', '164.6592': '1.0143', '165.0688': '1.0537', '165.47840000000002': '1.0959', '165.888': '1.0367', '166.29760000000002': '1.1254', '166.7072': '1.052', '167.1168': '1.0824', '167.5264': '1.0919', '167.936': '1.0081', '168.34560000000002': '1.0497', '168.7552': '1.0376', '169.1648': '1.0974', '169.5744': '1.0474', '169.984': '1.0734', '170.39360000000002': '1.0382', '170.8032': '1.1394', '171.21280000000002': '1.0468', '171.6224': '0.9517', '172.032': '1.1124', '172.44160000000002': '1.0248', '172.8512': '0.8597', '173.26080000000002': '1.1217', '173.6704': '1.0692', '174.08': '1.1183', '174.4896': '1.1108', '174.8992': '0.9871', '175.30880000000002': '1.1277', '175.7184': '1.067', '176.12800000000001': '1.02', '176.5376': '1.1105', '176.9472': '1.0599', '177.35680000000002': '1.0504', '177.7664': '1.0297', '178.17600000000002': '1.0298', '178.5856': '1.0569', '178.9952': '1.0357', '179.4048': '1.0036', '179.8144': '1.0996', '180.22400000000002': '1.0998', '180.6336': '1.0504', '181.0432': '1.0479', '181.4528': '1.1224', '181.8624': '1.1411', '182.27200000000002': '1.0499', '182.6816': '0.9999', '183.09120000000001': '1.0568', '183.5008': '1.0201', '183.9104': '0.9402', '184.32000000000002': '0.9489', '184.7296': '0.9958', '185.13920000000002': '0.588', '185.5488': '0.4837', '185.9584': '0.7622', '186.368': '0.8286', '186.7776': '1.0337', '187.18720000000002': '1.1281', '187.5968': '1.109', '188.0064': '1.0299', '188.416': '1.0364', '188.8256': '1.0038', '189.23520000000002': '1.1041', '189.6448': '1.0909', '190.05440000000002': '1.0834', '190.464': '1.0301', '190.8736': '0.9802', '191.28320000000002': '1.0461', '191.6928': '0.9403', '192.10240000000002': '1.0984', '192.512': '1.0089', '192.9216': '1.086', '193.3312': '0.9828', '193.7408': '1.1153', '194.15040000000002': '1.0795', '194.56': '1.0595', '194.9696': '1.0222', '195.3792': '1.004', '195.7888': '1.0632', '196.19840000000002': '1.0146', '196.608': '1.099', '197.01760000000002': '1.0402', '197.4272': '0.9861', '197.8368': '1.0979', '198.24640000000002': '1.0327', '198.656': '0.9939', '199.06560000000002': '1.1287', '199.4752': '1.0149', '199.8848': '1.0436', '200.2944': '1.0737', '200.704': '1.1488', '201.11360000000002': '1.0758', '201.5232': '1.1435', '201.93280000000001': '1.1024', '202.3424': '0.9871', '202.752': '1.0832', '203.16160000000002': '1.119', '203.5712': '1.0414', '203.98080000000002': '1.0303', '204.3904': '0.9941', '204.8': '1.1094', '205.20960000000002': '1.0338', '205.6192': '0.9843', '206.02880000000002': '0.9027', '206.4384': '0.8312', '206.848': '0.9009', '207.2576': '1.0703', '207.6672': '1.0104', '208.07680000000002': '1.0369', '208.4864': '1.1084', '208.89600000000002': '1.1179', '209.3056': '1.0666', '209.7152': '0.9866', '210.12480000000002': '1.152', '210.5344': '1.0515', '210.94400000000002': '1.1115', '211.3536': '1.1272', '211.7632': '1.0907', '212.17280000000002': '1.069', '212.5824': '1.0616', '212.99200000000002': '1.092', '213.4016': '1.0715', '213.8112': '1.1722', '214.2208': '1.0569', '214.6304': '1.0481', '215.04000000000002': '1.0372', '215.4496': '1.1385', '215.85920000000002': '1.0787', '216.2688': '0.9829', '216.6784': '1.1121', '217.08800000000002': '1.1189', '217.4976': '1.0974', '217.90720000000002': '1.0591', '218.3168': '1.0147', '218.7264': '1.0499', '219.13600000000002': '1.1358', '219.5456': '1.1007', '219.95520000000002': '1.1153', '220.3648': '1.1684', '220.7744': '1.1101', '221.184': '1.0955', '221.5936': '1.0728', '222.00320000000002': '1.0994', '222.4128': '1.1435', '222.82240000000002': '1.1662', '223.232': '1.0506', '223.6416': '1.0325', '224.05120000000002': '1.1205', '224.4608': '1.044', '224.87040000000002': '1.0315', '225.28': '1.0647', '225.6896': '1.1515', '226.09920000000002': '1.132', '226.5088': '1.1089', '226.91840000000002': '1.0006', '227.328': '1.1055', '227.73760000000001': '1.1524', '228.1472': '1.1465', '228.5568': '1.0883', '228.96640000000002': '1.002', '229.376': '1.1537', '229.78560000000002': '1.1239', '230.1952': '1.1009', '230.6048': '0.961', '231.01440000000002': '1.0817', '231.424': '0.9538', '231.83360000000002': '1.0431', '232.2432': '0.85', '232.6528': '1.08', '233.06240000000003': '1.1271', '233.472': '0.7358', '233.88160000000002': '0.7312', '234.2912': '0.8767', '234.70080000000002': '0.7604', '235.1104': '0.4776', '235.52': '0.2885', '235.92960000000002': '0.1483', '236.3392': '0.0667', '236.74880000000002': '0.0547', '237.1584': '0.0384', '237.568': '0.0397', '237.97760000000002': '0.0268', '238.3872': '0.0246', '238.79680000000002': '0.0158', '239.2064': '0.0113', '239.616': '0.0046', '240.02560000000003': '0.0037', '240.4352': '0.0032', '240.84480000000002': '0.0029', '241.2544': '0.0027', '241.66400000000002': '0.003'}\", \"freqs\": \"1.220703125\"}\n"
     ]
    }
   ],
   "source": [
    "json_dump = json.dumps(dict_full)\n",
    "\n",
    "print(json_dump)"
   ]
  },
  {
   "cell_type": "code",
   "execution_count": 77,
   "metadata": {},
   "outputs": [],
   "source": [
    "with open('../json/poses.json', 'w') as f:\n",
    "    f.write(json_dump)\n",
    "with open(r'C:\\Users\\urgpa\\OneDrive\\Escritorio\\Unity\\PuppetTest\\Assets\\_Scripts\\Poses\\poses.json', 'w') as f:\n",
    "    f.write(json_dump)"
   ]
  },
  {
   "cell_type": "markdown",
   "metadata": {},
   "source": [
    "# PLOTTING"
   ]
  },
  {
   "cell_type": "code",
   "execution_count": 45,
   "metadata": {},
   "outputs": [
    {
     "name": "stdout",
     "output_type": "stream",
     "text": [
      "10\n",
      "nan\n"
     ]
    },
    {
     "name": "stderr",
     "output_type": "stream",
     "text": [
      "<ipython-input-45-e48f6da045ef>:12: RuntimeWarning: Mean of empty slice.\n",
      "  print(y_harm[y_perc > 0.1].mean() * len(y_harm[y_perc > 0.1]))\n",
      "C:\\Users\\urgpa\\anaconda3\\lib\\site-packages\\numpy\\core\\_methods.py:170: RuntimeWarning: invalid value encountered in true_divide\n",
      "  ret = ret.dtype.type(ret / rcount)\n"
     ]
    },
    {
     "data": {
      "image/png": "[encoded data removed]",
      "text/plain": [
       "<Figure size 432x288 with 2 Axes>"
      ]
     },
     "metadata": {
      "needs_background": "light"
     },
     "output_type": "display_data"
    }
   ],
   "source": [
    "def plot_mono_ham_perc():\n",
    "    inp = int(input())\n",
    "    index = inp \n",
    "    \n",
    "    fig, ax = plt.subplots(nrows=2, sharex=True, sharey=True)\n",
    "\n",
    "    librosa.display.waveplot(df_compas.wform[index][0], sr=samplerate, ax=ax[0])\n",
    "    ax[0].set(title='Monophonic')\n",
    "    ax[0].label_outer()\n",
    "\n",
    "    y_harm, y_perc = librosa.effects.hpss(df_compas.wform[index][0])\n",
    "    print(y_harm[y_perc > 0.1].mean() * len(y_harm[y_perc > 0.1]))\n",
    "    librosa.display.waveplot(y_harm, sr=samplerate, alpha=0.25, ax=ax[1])\n",
    "    librosa.display.waveplot(y_perc, sr=samplerate, color='r', alpha=0.5, ax=ax[1])\n",
    "    ax[1].set(title='Harmonic + Percussive')\n",
    "\n",
    "plot_mono_ham_perc()"
   ]
  },
  {
   "cell_type": "code",
   "execution_count": 43,
   "metadata": {},
   "outputs": [
    {
     "data": {
      "text/plain": [
       "array([0.4096])"
      ]
     },
     "execution_count": 43,
     "metadata": {},
     "output_type": "execute_result"
    }
   ],
   "source": [
    "vcompas_time"
   ]
  },
  {
   "cell_type": "code",
   "execution_count": 47,
   "metadata": {},
   "outputs": [
    {
     "name": "stdout",
     "output_type": "stream",
     "text": [
      "10\n"
     ]
    },
    {
     "data": {
      "image/png": "[encoded data removed]",
      "text/plain": [
       "<Figure size 1296x360 with 1 Axes>"
      ]
     },
     "metadata": {
      "needs_background": "light"
     },
     "output_type": "display_data"
    }
   ],
   "source": [
    "def plot_magnitude_spectrum(sr, title, f_ratio=0.5):\n",
    "    index = int(input())\n",
    "    #index = inp / vcompas_time\n",
    "    signal = df_compas.wform[index][0]\n",
    "    \n",
    "    y_harm, y_perc = librosa.effects.hpss(signal)\n",
    "    \n",
    "    psignal = np.array(0)\n",
    "    if title[0].lower() == 'h':\n",
    "        psignal = y_harm\n",
    "    elif title[0].lower() == 'p':\n",
    "        psignal = y_perc\n",
    "    else:\n",
    "        psignal = signal\n",
    "    \n",
    "    X = np.fft.fft(psignal)\n",
    "    X_mag = np.absolute(X)\n",
    "    \n",
    "    plt.figure(figsize=(18, 5))\n",
    "    \n",
    "    f = np.linspace(0, samplerate, len(X_mag), endpoint = False)\n",
    "    f_bins = int(len(X_mag)*f_ratio)  \n",
    "    \n",
    "    plt.plot(f[:f_bins], X_mag[:f_bins])\n",
    "    plt.xlabel('Frequency (Hz)')\n",
    "    plt.title(title)\n",
    "\n",
    "plot_magnitude_spectrum(samplerate, 'p', 0.5)"
   ]
  },
  {
   "cell_type": "code",
   "execution_count": null,
   "metadata": {},
   "outputs": [],
   "source": [
    "f = np.linspace(0, samplerate, len(X_mag), endpoint = False)"
   ]
  },
  {
   "cell_type": "code",
   "execution_count": 28,
   "metadata": {},
   "outputs": [
    {
     "data": {
      "text/plain": [
       "30000"
      ]
     },
     "execution_count": 28,
     "metadata": {},
     "output_type": "execute_result"
    }
   ],
   "source": [
    "list(f).index(1000)"
   ]
  },
  {
   "cell_type": "code",
   "execution_count": 24,
   "metadata": {},
   "outputs": [
    {
     "data": {
      "text/plain": [
       "44100"
      ]
     },
     "execution_count": 24,
     "metadata": {},
     "output_type": "execute_result"
    }
   ],
   "source": [
    "len(f)"
   ]
  },
  {
   "cell_type": "code",
   "execution_count": 34,
   "metadata": {},
   "outputs": [
    {
     "ename": "ValueError",
     "evalue": "22050 is not in list",
     "output_type": "error",
     "traceback": [
      "\u001b[1;31m---------------------------------------------------------------------------\u001b[0m",
      "\u001b[1;31mValueError\u001b[0m                                Traceback (most recent call last)",
      "\u001b[1;32m<ipython-input-34-31bb45008b40>\u001b[0m in \u001b[0;36m<module>\u001b[1;34m\u001b[0m\n\u001b[1;32m----> 1\u001b[1;33m \u001b[0mlist\u001b[0m\u001b[1;33m(\u001b[0m\u001b[0mf\u001b[0m\u001b[1;33m)\u001b[0m\u001b[1;33m.\u001b[0m\u001b[0mindex\u001b[0m\u001b[1;33m(\u001b[0m\u001b[0msamplerate\u001b[0m\u001b[1;33m)\u001b[0m\u001b[1;33m\u001b[0m\u001b[1;33m\u001b[0m\u001b[0m\n\u001b[0m",
      "\u001b[1;31mValueError\u001b[0m: 22050 is not in list"
     ]
    }
   ],
   "source": [
    "list(f).index(samplerate)"
   ]
  },
  {
   "cell_type": "code",
   "execution_count": 35,
   "metadata": {},
   "outputs": [
    {
     "ename": "IndexError",
     "evalue": "index 44100 is out of bounds for axis 0 with size 44100",
     "output_type": "error",
     "traceback": [
      "\u001b[1;31m---------------------------------------------------------------------------\u001b[0m",
      "\u001b[1;31mIndexError\u001b[0m                                Traceback (most recent call last)",
      "\u001b[1;32m<ipython-input-35-41fe3913e365>\u001b[0m in \u001b[0;36m<module>\u001b[1;34m\u001b[0m\n\u001b[1;32m----> 1\u001b[1;33m \u001b[0mf\u001b[0m\u001b[1;33m[\u001b[0m\u001b[0mlen\u001b[0m\u001b[1;33m(\u001b[0m\u001b[0msignl\u001b[0m\u001b[1;33m)\u001b[0m\u001b[1;33m]\u001b[0m\u001b[1;33m\u001b[0m\u001b[1;33m\u001b[0m\u001b[0m\n\u001b[0m",
      "\u001b[1;31mIndexError\u001b[0m: index 44100 is out of bounds for axis 0 with size 44100"
     ]
    }
   ],
   "source": [
    "f[len(signl)]"
   ]
  },
  {
   "cell_type": "code",
   "execution_count": null,
   "metadata": {},
   "outputs": [],
   "source": []
  }
 ],
 "metadata": {
  "kernelspec": {
   "display_name": "Python 3",
   "language": "python",
   "name": "python3"
  },
  "language_info": {
   "codemirror_mode": {
    "name": "ipython",
    "version": 3
   },
   "file_extension": ".py",
   "mimetype": "text/x-python",
   "name": "python",
   "nbconvert_exporter": "python",
   "pygments_lexer": "ipython3",
   "version": "3.8.5"
  }
 },
 "nbformat": 4,
 "nbformat_minor": 4
}
